{
 "cells": [
  {
   "cell_type": "markdown",
   "metadata": {},
   "source": [
    "# Introduction"
   ]
  },
  {
   "cell_type": "markdown",
   "metadata": {},
   "source": [
    "## What is programming? Why learn it?"
   ]
  },
  {
   "cell_type": "markdown",
   "metadata": {},
   "source": [
    "* A process is a series of subtasks that transforms some **inputs** into some **outputs** to accomplish a high-level task.\n",
    "* Process is kind of vague - \"How do I do this thing?\"\n",
    "* An algorithm (in a general sense) is a series of precise steps to accomplish a computation.\n",
    "* Algorithm is super precise - \"What is the list of steps (with cases, subcases etc) to do this thing?\"\n",
    "* A program is an algorithm written in a programming language for input to a computer.\n",
    "* **As a programmer, your job will be to convert** a \n",
    "> high-level task -> process (vague idea) -> algorithm (precise ideas) -> program (in Python/Java/your favourite PL)\n",
    "\n",
    "**So what kind of tasks can you write programs for? If you can describe it precisely enough - then you can code it.**\n",
    "\n",
    "Let's look at a few examples.\n",
    "\n",
    "\n",
    "<hr style=\"border:1px solid black\"><hr style=\"border:1px solid black\">\n",
    "\n",
    "The MSc admission process at XYZ College is currently being handled by the Student Affairs department. But it is too much workload - so it is decided that the college will have to hire 4 new employees to purely handle admissions. But Rama, the head of SA, suggests that why don't we automate this process to reduce the workload instead? Can this be done? Let's take a look. \n",
    "\n",
    "\n",
    "**Task** : Conduct MSc admissions to XYZ College.\\\n",
    "**Inputs**: Student Applications\\\n",
    "**Outputs**: Results\n",
    "\n",
    "There is already a process in place, let's look at it.\n",
    "\n",
    "* Students fill up a form with questions about biodata, previous education etc.\n",
    "* Students mail the form to Student Affairs department.\n",
    "* Student Affairs (SA) filters out the ineligible candidates based on minimum grades, compatibility of previous degreee with applied program etc.\n",
    "* Sorts the remaining applications based on Department.\n",
    "* Sends the bundles to each department.\n",
    "* The department professors evaluate each application and send back a list of application numbers which are accepted and another which are rejected.\n",
    "* SA crosschecks to see that no student has been missed out.\n",
    "* SA sends mails to each of the students informing them of the result.\n",
    "* This is just step 1... after this students will send back their acceptances and based on that, there will be second round of counselling etc.\n",
    "\n",
    "This is a task with a very **precise** process already existing for it. Rama is right - it is a perfect candidate for automation. \n",
    "\n",
    "<hr style=\"border:1px solid black\"><hr style=\"border:1px solid black\">\n",
    "\n",
    "The ABC school always faces trouble during exams, due to high volume of exam papers to correct. Typically, they hire about 4 teachers part-time each year during exam season. Inspired by Rama, her brother Ravi who works at the ABC school suggests that instead of hiring external teachers why don't they hire a software developer to write code to automatically correct the papers. Is this possible? Let's take a look. Let's start with one subject - English.\n",
    "\n",
    "**Task** : Automatically assign marks out of 10 for an English essay. \\\n",
    "**Inputs** : .txt file with English essay.\\\n",
    "**Outputs**: Marks between 0 to 10.\n",
    "\n",
    "To figure this out, Ravi asked Raktim who has been teaching English for 10 years how he corrects his papers. This is what Raktim says\n",
    "\n",
    "* Cut 1/2 marks for every spelling mistake. But cut a maximum of 3 marks for spelling mistakes.\n",
    "* Cut 1/2 marks for every grammatical mistakes. But cut a maximum of 3 marks for grammar mistakes. But don't cut more than 5 marks in total for spelling and grammar.\n",
    "* Assign 4 marks based on how well the student has covered the topic. Take into account whether they have given pros/cons if applicable.\n",
    "* Assign 2 marks if the student has managed to add some personal view or narrative to the topic.\n",
    "* Assign 4 marks for structuring and fluency of the essay.\n",
    "\n",
    "Raktim has a really good process - it is very precise for an English teacher. But it is still very difficult to convert to a program. Consider the following issues-\n",
    "\n",
    "* How do you assess how well the student has covered the topic? \n",
    "* How do you judge the structure and fluency?\n",
    "* How do you know if a personal view has been reflected?\n",
    "\n",
    "All these things are possible to do for Raktim because of either human being's innate ability to understand language, or Raktim's experience as an English teacher. But since it can't be put in **exact** instructions - this is not a good candidate for converting to a program. \n",
    "\n",
    "But in 10 years time, Ravi might be right - as AI and ML is trying to come up with precise answers to these vague problem!\n",
    "\n",
    "<hr style=\"border:1px solid black\"><hr style=\"border:1px solid black\">"
   ]
  },
  {
   "cell_type": "markdown",
   "metadata": {},
   "source": [
    "Now let's take a simple example of a task and try to write a program for it. \n",
    "\n",
    "**Situation**: \n",
    "\n",
    "* You work for a very old fashioned Data analysis company that doesn't like to use computers. \n",
    "* Your job is to solve **2 linear equations in 2 variables**, which you do with pen and paper. \n",
    "* Your boss says he wants to promote you to solving **3 linear equations in 3 variables** (yay!). \n",
    "* But you also have to handle your old job, because they are very cheap and won't hire anyone to do your old job.\n",
    "* This year, they have finally bought a few computers. \n",
    "* You have an idea, how about you write a Python program to do your old job?\n",
    "\n",
    "First what is the task?\n",
    "\n",
    "**Task** : Solve 2 linear equations in 2 variables.\\\n",
    "**Inputs** : 2 equations in x and y.\\\n",
    "**Outputs** : Values/answers for x and y. \n",
    "\n",
    "\n",
    "Okay, good. Now for the most important part - what is a process to solve it? \n",
    "\n",
    "* If you're confused about how to get the process, let's start with a small example - and see how you would solve it.\n",
    "\n",
    "**Example Input**:\n",
    "\n",
    "```\n",
    "x+2y=10\n",
    "2x+y=8\n",
    "```\n",
    "  \n",
    "  \n",
    "* Can we solve using elimination? Let's try\n",
    "\n",
    "    ```\n",
    "    First eliminate x by matching coefficients\n",
    "\n",
    "    2*(x+2y)-(2x+y)=2*10-8\n",
    "    => 3y=12\n",
    "    => y=4\n",
    "\n",
    "    Now substiting y in eqn 1,\n",
    "\n",
    "    x+8=10\n",
    "    => x=2\n",
    "\n",
    "    ```\n",
    "    \n",
    "Excellent! You have solved the equation successfully. \\\n",
    "\n",
    "Now can we make this more general ?\n",
    "\n",
    "**General Input**:\n",
    "\n",
    "```\n",
    "ax+by=c\n",
    "ux+vy=w\n",
    "```\n",
    "\n",
    "Now a,b,c,u,v,w can be any numbers! Can we generalize the previous logic?\n",
    "\n",
    "    ```\n",
    "    First eliminate x by matching coefficients\n",
    "\n",
    "    u*(ax+by) - a*(ux+vy) = u*c -a*w\n",
    "    => (ub-av)*y  = uc-aw\n",
    "    => y= (uc-aw)/(ub-av)\n",
    "\n",
    "    Now substiting y in eqn 1,\n",
    "\n",
    "    ax+by=c\n",
    "    => x = c/a - b/a *y\n",
    "    => x = c/a - b/a * (uc-aw)/(ub-av)\n",
    "\n",
    "    ```\n",
    "\n",
    "Now we have successfully got a general **algorithm** for solving the task!\n",
    "\n",
    "* Just one note : Do you need the entire equations as input?"
   ]
  },
  {
   "cell_type": "markdown",
   "metadata": {},
   "source": [
    "**Program**\n",
    "\n",
    "* Now let's convert that into code"
   ]
  },
  {
   "cell_type": "code",
   "execution_count": 1,
   "metadata": {
    "ExecuteTime": {
     "end_time": "2020-05-11T07:08:54.320893Z",
     "start_time": "2020-05-11T07:08:54.317175Z"
    }
   },
   "outputs": [],
   "source": [
    "def solve_equations(a,b,c,u,v,w):\n",
    "    # solve system of linear equations\n",
    "    # ax + by = c\n",
    "    # ux + vy = w\n",
    "    \n",
    "    ## First eliminate x, how?\n",
    "    \n",
    "    # Multiply eqn 1 by \"u\", and eqn 2 by \"a\" and subtract them\n",
    "    # Then y = (c*u - w*a)/(b-v)\n",
    "    y=(c*u-w*a)/(b*u-v*a)\n",
    "    \n",
    "    # Now get x from eqn 1\n",
    "    \n",
    "    x = (c - b*y)/a\n",
    "    \n",
    "    # return the values\n",
    "    \n",
    "    return x,y"
   ]
  },
  {
   "cell_type": "code",
   "execution_count": 2,
   "metadata": {
    "ExecuteTime": {
     "end_time": "2020-05-11T07:08:54.559863Z",
     "start_time": "2020-05-11T07:08:54.550293Z"
    }
   },
   "outputs": [
    {
     "data": {
      "text/plain": [
       "(2.0, 4.0)"
      ]
     },
     "execution_count": 2,
     "metadata": {},
     "output_type": "execute_result"
    }
   ],
   "source": [
    "solve_equations(1,2,10,2,1,8)"
   ]
  },
  {
   "cell_type": "code",
   "execution_count": 3,
   "metadata": {
    "ExecuteTime": {
     "end_time": "2020-05-11T07:08:54.842039Z",
     "start_time": "2020-05-11T07:08:54.838234Z"
    },
    "scrolled": false
   },
   "outputs": [
    {
     "data": {
      "text/plain": [
       "(6.0, -4.0)"
      ]
     },
     "execution_count": 3,
     "metadata": {},
     "output_type": "execute_result"
    }
   ],
   "source": [
    "solve_equations(5,2,22,2,1,8)"
   ]
  },
  {
   "cell_type": "markdown",
   "metadata": {},
   "source": [
    "This code is super easy to understand, its just like how you would write the calculations for your boss! \n",
    "\n",
    "But now you can run it for any inputs your boss gives you! Also you have used the following Pythonic concepts!\n",
    "\n",
    "* Variables\n",
    "* Expressions\n",
    "* Comments\n",
    "* Functions"
   ]
  },
  {
   "cell_type": "markdown",
   "metadata": {},
   "source": [
    "## Brief Intro to Python"
   ]
  },
  {
   "cell_type": "markdown",
   "metadata": {},
   "source": [
    "Quickly here are a few points about Python\n",
    "\n",
    "* Python is designed to read like English. \"Maximum readability\" is the mantra to follow while writing Python.\n",
    "* Python has few keywords and is simple to learn.\n",
    "* Python is an interpreted language. This means every line is executed one by one when you run the code. Which means that there are no \"compile time errors\".\n",
    "* You can use the Python interpreter for an interactive programming experience.\n",
    "* Python has a very large ecosystem of Machine Learning libraries making it a go-to for ML and DS practitioners.\n",
    "* Python is also a popular choice for writing backends for web-applications, especially with the Django framework.\n"
   ]
  },
  {
   "cell_type": "markdown",
   "metadata": {},
   "source": [
    "If this tutorial is not enough, you might want to browse the following tutorials\n",
    "* [THE Python Tutorial](https://docs.python.org/3/tutorial/)\n",
    "* [TutorialsPoint](https://www.tutorialspoint.com/python/index.htm)"
   ]
  },
  {
   "cell_type": "markdown",
   "metadata": {},
   "source": [
    "#### Installing Python"
   ]
  },
  {
   "cell_type": "markdown",
   "metadata": {},
   "source": [
    "* If you are on Linux or MacOS, you already have python installed.\n",
    "* Open up a terminal and type ``python`` to start the interpreter."
   ]
  },
  {
   "cell_type": "markdown",
   "metadata": {},
   "source": [
    "* You can install [Miniconda](https://docs.conda.io/en/latest/miniconda.html) to manage environments and packages. \n",
    "* Alternatively, you can also install [Anaconda](https://docs.anaconda.com/anaconda/install/) which is Miniconda + a bunch of other software and packages. It also has a GUI interface. \n",
    "* Anaconda comes fully equipped with all the popular data science packages and Jupyter Notebook, the software we are using right now. \n",
    "* For Miniconda you have to install everything by yourself, but that's easy.\n",
    "* I highly recommend **Miniconda** - this way you know exactly what you're putting into your computer. \n",
    "\n",
    "What is Jupyter?\n",
    "\n",
    "* Jupyter is just a way to mix text and python code. Just imagine that everytime you run a code block -> you just send that code to the interpreter running behind this website -> exactly like if you typed it out."
   ]
  },
  {
   "cell_type": "markdown",
   "metadata": {},
   "source": [
    "If you have installed Miniconda, you just need the following commands\n",
    "\n",
    "First create your environment\n",
    "\n",
    "```\n",
    "conda create --name eict python=3.6\n",
    "```\n",
    "\n",
    "Then, enter your environment\n",
    "\n",
    "```\n",
    "conda activate eict\n",
    "```\n",
    "\n",
    "You can install packages like this\n",
    "\n",
    "```\n",
    "conda install jupyter\n",
    "```"
   ]
  },
  {
   "cell_type": "markdown",
   "metadata": {},
   "source": [
    "* If you have installed Anaconda, you can open Jupyter Notebook from the Anacoda Navigator.\n",
    "* You can manage environments and packages from the navigator as well as by using conda with the above commands."
   ]
  },
  {
   "cell_type": "markdown",
   "metadata": {},
   "source": [
    "> [Installing Miniconda on Windows Youtube](https://www.youtube.com/watch?v=q04RsYo0f1w)"
   ]
  },
  {
   "cell_type": "markdown",
   "metadata": {},
   "source": [
    "# Datatypes and Operators"
   ]
  },
  {
   "cell_type": "markdown",
   "metadata": {},
   "source": [
    "* What are the simplest types of data in Python? \n",
    "* How do you represent them?\n",
    "* What can you do with them?"
   ]
  },
  {
   "cell_type": "markdown",
   "metadata": {},
   "source": [
    "## Numbers "
   ]
  },
  {
   "cell_type": "markdown",
   "metadata": {
    "ExecuteTime": {
     "end_time": "2020-05-04T15:45:55.670035Z",
     "start_time": "2020-05-04T15:45:55.666624Z"
    }
   },
   "source": [
    "* Two basic types of numbers in Python you should be concerned about for now\n",
    "    * Integers\n",
    "    * Floats"
   ]
  },
  {
   "cell_type": "code",
   "execution_count": 4,
   "metadata": {
    "ExecuteTime": {
     "end_time": "2020-05-11T07:09:01.439337Z",
     "start_time": "2020-05-11T07:09:01.436147Z"
    }
   },
   "outputs": [
    {
     "name": "stdout",
     "output_type": "stream",
     "text": [
      "53\n",
      "2.003\n"
     ]
    }
   ],
   "source": [
    "# integer : no decimal\n",
    "print(53)\n",
    "\n",
    "# float : decimal\n",
    "print(2.003)"
   ]
  },
  {
   "cell_type": "markdown",
   "metadata": {},
   "source": [
    "* The ``print`` **function** is a convenient way to print to the **console** (or actually stdout). \n",
    "* Don't worry about what functions are now. Just remember it prints out whatever is in between the brackets"
   ]
  },
  {
   "cell_type": "markdown",
   "metadata": {
    "ExecuteTime": {
     "end_time": "2020-05-04T15:47:29.948667Z",
     "start_time": "2020-05-04T15:47:29.944664Z"
    }
   },
   "source": [
    "#### Operators"
   ]
  },
  {
   "cell_type": "markdown",
   "metadata": {},
   "source": [
    "* Arithmetic Operators : <span style=\"font-size:22px\">+ - / \\* % \\** //</span>\n",
    "    * Takes two numbers and returns a number\n",
    "    * 3 / 2  ---> 1.5\n",
    "    * If one of the numbers is a float, the result is a float.\n",
    "    * If both are integers, the result is an integer.\n",
    "        * Exception : /\n",
    "* Comparison Operators : <span style=\"font-size:22px\"> > < \\<= \\>= == != </span>\n",
    "    * Return a boolean - True, False"
   ]
  },
  {
   "cell_type": "markdown",
   "metadata": {},
   "source": [
    "Notes : \n",
    "* Bitwise operators\n",
    "* Operator precedence : BODMAS rule or just use brackets!"
   ]
  },
  {
   "cell_type": "markdown",
   "metadata": {},
   "source": [
    "## Booleans"
   ]
  },
  {
   "cell_type": "code",
   "execution_count": 5,
   "metadata": {
    "ExecuteTime": {
     "end_time": "2020-05-11T07:09:02.619971Z",
     "start_time": "2020-05-11T07:09:02.616812Z"
    }
   },
   "outputs": [
    {
     "name": "stdout",
     "output_type": "stream",
     "text": [
      "True\n",
      "False\n"
     ]
    }
   ],
   "source": [
    "# booleans\n",
    "print(True)\n",
    "print(False)"
   ]
  },
  {
   "cell_type": "markdown",
   "metadata": {},
   "source": [
    "Boolean operators : **and** , **or** , **not**\n",
    "\n",
    "```\n",
    "True and False\n",
    "True or False\n",
    "not True\n",
    "```"
   ]
  },
  {
   "cell_type": "markdown",
   "metadata": {
    "ExecuteTime": {
     "end_time": "2020-05-04T16:11:07.083402Z",
     "start_time": "2020-05-04T16:11:07.077531Z"
    }
   },
   "source": [
    "## Strings"
   ]
  },
  {
   "cell_type": "code",
   "execution_count": 6,
   "metadata": {
    "ExecuteTime": {
     "end_time": "2020-05-11T07:09:03.472545Z",
     "start_time": "2020-05-11T07:09:03.469403Z"
    }
   },
   "outputs": [
    {
     "name": "stdout",
     "output_type": "stream",
     "text": [
      "this is a string\n",
      "you can also use single quotes\n"
     ]
    }
   ],
   "source": [
    "print(\"this is a string\")\n",
    "print('you can also use single quotes')"
   ]
  },
  {
   "cell_type": "markdown",
   "metadata": {},
   "source": [
    "* Indexing and Slicing\n",
    "    ```\n",
    "    \"My name is\"[1]\n",
    "    \"My name is\"[-1]\n",
    "    \"My name is\"[1:5]\n",
    "    \"My name is\"[1:]\n",
    "    \"My name is\"[1:-5]\n",
    "    ```\n",
    "* Concatenation\n",
    "    ```\n",
    "    \"My name \" + \" is \" +\" Aneesh\"\n",
    "    ```\n",
    "* Repitition \n",
    "    ```\n",
    "    \"Repeating\"*3\n",
    "    ```\n",
    "* Membership operators\n",
    "\n",
    "    ```\n",
    "    \"M\" in \"America\"\n",
    "    \"M\" not in \"America\"\n",
    "    ```\n",
    "    * Returns a boolean - True or False\n",
    "    * In this case second one is true, because \"M\" is NOT in \"America\". Remember that in coding letters are just symbols, so M and m are different. "
   ]
  },
  {
   "cell_type": "markdown",
   "metadata": {
    "ExecuteTime": {
     "end_time": "2020-05-04T16:18:10.986889Z",
     "start_time": "2020-05-04T16:18:10.983335Z"
    }
   },
   "source": [
    "* Escaping quotes in strings\n",
    "    ```\n",
    "    \"A single quote ' inside a double quote\"\n",
    "\n",
    "    'Or a double quote \" inside a single quote\"\n",
    "\n",
    "    \"Or just use \\\\ to escape \\\"\"\n",
    "    ```\n",
    "\n",
    "* Newlines in strings\n",
    "\n",
    "    ```\n",
    "    \"A newline is written like this - \\n\"\n",
    "    ```"
   ]
  },
  {
   "cell_type": "markdown",
   "metadata": {},
   "source": [
    "**Instructor Note** : Move to Python interpreter and demonstrate\n",
    "\n",
    "* All the binary operators for numbers, booleans and strings\n",
    "* Nested expressions with paranthesis\n",
    "* Implicit typecasting for numbers\n",
    "* Mixing comparison operators and boolean operators"
   ]
  },
  {
   "cell_type": "markdown",
   "metadata": {},
   "source": [
    "## Converting between datatypes"
   ]
  },
  {
   "cell_type": "markdown",
   "metadata": {},
   "source": [
    "* Python provides a bunch of very simple functions, that does the job of type conversion for you."
   ]
  },
  {
   "cell_type": "markdown",
   "metadata": {},
   "source": [
    "* Between float and int"
   ]
  },
  {
   "cell_type": "code",
   "execution_count": 7,
   "metadata": {
    "ExecuteTime": {
     "end_time": "2020-05-11T07:09:04.811582Z",
     "start_time": "2020-05-11T07:09:04.808521Z"
    }
   },
   "outputs": [
    {
     "name": "stdout",
     "output_type": "stream",
     "text": [
      "22\n",
      "33.0\n"
     ]
    }
   ],
   "source": [
    "# Converting float to integer, takes the floor of the float\n",
    "print(int(22.9))\n",
    "print(float(33))"
   ]
  },
  {
   "cell_type": "markdown",
   "metadata": {},
   "source": [
    "* Boolean to number"
   ]
  },
  {
   "cell_type": "code",
   "execution_count": 8,
   "metadata": {
    "ExecuteTime": {
     "end_time": "2020-05-11T07:09:05.189212Z",
     "start_time": "2020-05-11T07:09:05.185485Z"
    }
   },
   "outputs": [
    {
     "name": "stdout",
     "output_type": "stream",
     "text": [
      "1\n",
      "0\n"
     ]
    }
   ],
   "source": [
    "print(int(True))\n",
    "print(int(False))"
   ]
  },
  {
   "cell_type": "markdown",
   "metadata": {},
   "source": [
    "* Numbers and Booleans to Stringa"
   ]
  },
  {
   "cell_type": "code",
   "execution_count": 9,
   "metadata": {
    "ExecuteTime": {
     "end_time": "2020-05-11T07:09:05.579583Z",
     "start_time": "2020-05-11T07:09:05.576139Z"
    }
   },
   "outputs": [
    {
     "name": "stdout",
     "output_type": "stream",
     "text": [
      "13\n",
      "49.99\n",
      "True\n"
     ]
    }
   ],
   "source": [
    "print(str(13))\n",
    "print(str(49.99))\n",
    "print(str(True))"
   ]
  },
  {
   "cell_type": "markdown",
   "metadata": {},
   "source": [
    "* String to numbers"
   ]
  },
  {
   "cell_type": "code",
   "execution_count": 10,
   "metadata": {
    "ExecuteTime": {
     "end_time": "2020-05-11T07:09:05.969089Z",
     "start_time": "2020-05-11T07:09:05.966011Z"
    }
   },
   "outputs": [
    {
     "name": "stdout",
     "output_type": "stream",
     "text": [
      "22\n",
      "33.3333\n"
     ]
    }
   ],
   "source": [
    "print(int(\"22\"))\n",
    "print(float(\"33.3333\"))"
   ]
  },
  {
   "cell_type": "markdown",
   "metadata": {},
   "source": [
    "* Other datatypes to boolean\n",
    "    * Everything is true except for some special values - 0, 0.0, \"\", None"
   ]
  },
  {
   "cell_type": "code",
   "execution_count": 11,
   "metadata": {
    "ExecuteTime": {
     "end_time": "2020-05-11T07:09:06.350288Z",
     "start_time": "2020-05-11T07:09:06.346175Z"
    }
   },
   "outputs": [
    {
     "name": "stdout",
     "output_type": "stream",
     "text": [
      "True\n",
      "True\n",
      "True\n",
      "True\n",
      "True\n"
     ]
    }
   ],
   "source": [
    "print(bool(2))\n",
    "print(bool(-3))\n",
    "print(bool(43.1))\n",
    "print(bool(\"hello\"))\n",
    "print(bool(\"\\n\"))"
   ]
  },
  {
   "cell_type": "code",
   "execution_count": 12,
   "metadata": {
    "ExecuteTime": {
     "end_time": "2020-05-11T07:09:06.538684Z",
     "start_time": "2020-05-11T07:09:06.534664Z"
    }
   },
   "outputs": [
    {
     "name": "stdout",
     "output_type": "stream",
     "text": [
      "False\n",
      "False\n",
      "False\n",
      "False\n"
     ]
    }
   ],
   "source": [
    "print(bool(0))\n",
    "print(bool(0.0))\n",
    "print(bool(\"\"))\n",
    "print(bool(None))"
   ]
  },
  {
   "cell_type": "markdown",
   "metadata": {},
   "source": [
    "# Variables"
   ]
  },
  {
   "cell_type": "markdown",
   "metadata": {},
   "source": [
    "* A variable is a name for a piece of data. \n",
    "* It is not that piece of data itself, it is just the name. \n",
    "* To create a variable, you just assign some data to the name."
   ]
  },
  {
   "cell_type": "code",
   "execution_count": 13,
   "metadata": {
    "ExecuteTime": {
     "end_time": "2020-05-11T07:09:07.123602Z",
     "start_time": "2020-05-11T07:09:07.121228Z"
    }
   },
   "outputs": [],
   "source": [
    "just_a_name=0"
   ]
  },
  {
   "cell_type": "markdown",
   "metadata": {},
   "source": [
    "So now this name now refers to an integer, but you can replace it with any sort of data."
   ]
  },
  {
   "cell_type": "code",
   "execution_count": 14,
   "metadata": {
    "ExecuteTime": {
     "end_time": "2020-05-11T07:09:07.689830Z",
     "start_time": "2020-05-11T07:09:07.686656Z"
    }
   },
   "outputs": [
    {
     "name": "stdout",
     "output_type": "stream",
     "text": [
      "This is a string\n",
      "22.9\n",
      "True\n"
     ]
    }
   ],
   "source": [
    "just_a_name=\"This is a string\"\n",
    "print(just_a_name)\n",
    "just_a_name=22.9\n",
    "print(just_a_name)\n",
    "just_a_name=True\n",
    "print(just_a_name)"
   ]
  },
  {
   "cell_type": "markdown",
   "metadata": {},
   "source": [
    "When you put something in the box using the syntax\n",
    "\n",
    "```\n",
    "x = \"my value\"\n",
    "```\n",
    "\n",
    "this is called an **assignment**."
   ]
  },
  {
   "cell_type": "markdown",
   "metadata": {},
   "source": [
    "#### What happens if the RHS contains a variable?\n",
    "\n",
    "```\n",
    "x=y\n",
    "```\n",
    "\n",
    "* Well then, now x refers to the same data as y. \n",
    "\n",
    "> See this [blog post](https://medium.com/broken-window/many-names-one-memory-address-122f78734cb6) for a great explanations on assignments in python and how they relate to memory addresses, immutability and \"interning\"."
   ]
  },
  {
   "cell_type": "markdown",
   "metadata": {},
   "source": [
    "#### Note : Assignment + Operator short syntax\n",
    "\n",
    "In python code you will often see code like this\n",
    "\n",
    "```\n",
    "x+=2\n",
    "x*=44+22\n",
    "```\n",
    "\n",
    "This is just a short syntax for when the RHS is an expression with the first operand as x. It is exactly the same as\n",
    "\n",
    "```\n",
    "x=x+2\n",
    "x=x*(44+22)\n",
    "\n",
    "```\n",
    "\n",
    "* People who know C might recognize that these are there in C as well. \n",
    "* They might be wondering if the ++ operator is there in python too. \n",
    "* The answer is NO. \n",
    "* Reason : The BDFL hates the ++ operator :P"
   ]
  },
  {
   "cell_type": "markdown",
   "metadata": {},
   "source": [
    "# Conditional Statements"
   ]
  },
  {
   "cell_type": "markdown",
   "metadata": {},
   "source": [
    "Core idea : Based on the value of a variable, you want to do different actions/computations."
   ]
  },
  {
   "cell_type": "markdown",
   "metadata": {},
   "source": [
    "## The basic if statement"
   ]
  },
  {
   "cell_type": "markdown",
   "metadata": {},
   "source": [
    "* Your boss tells you to design personalized greeting messages for users coming to your website.\n",
    "* You don't have time, so you come up with a simple rule to fake personalization depending on her/his name. "
   ]
  },
  {
   "cell_type": "code",
   "execution_count": 15,
   "metadata": {
    "ExecuteTime": {
     "end_time": "2020-05-11T07:09:09.250126Z",
     "start_time": "2020-05-11T07:09:09.246727Z"
    }
   },
   "outputs": [
    {
     "name": "stdout",
     "output_type": "stream",
     "text": [
      "Namaste Ravina! XYZ corp is very happy to see you!\n"
     ]
    }
   ],
   "source": [
    "student_name=\"Ravina\"\n",
    "if student_name[0] in \"ABCDEFGHIJKLMN\":\n",
    "    print(\"Hello \"+student_name+\" welcome to XYZ corp!\")\n",
    "else:\n",
    "    print(\"Namaste \"+student_name+\"! XYZ corp is very happy to see you!\")"
   ]
  },
  {
   "cell_type": "markdown",
   "metadata": {},
   "source": [
    "The generic syntax of an if statement is \n",
    "\n",
    "```\n",
    "if condition :\n",
    "    x=22\n",
    "    y=x*z\n",
    "    ...\n",
    "    #body\n",
    "    ...\n",
    "```\n",
    "\n",
    "* Indentation of 4 spaces\n",
    "* Condition is any expression that evaluates to a boolean\n",
    "    * Otherwise it will be converted to a boolean automatically, but beware!"
   ]
  },
  {
   "cell_type": "markdown",
   "metadata": {},
   "source": [
    "#### A note on indentation, whitespace and code blocks in Python"
   ]
  },
  {
   "cell_type": "markdown",
   "metadata": {},
   "source": [
    "* if statements are the first time some of you might be encountering code blocks.\n",
    "* Code blocks are a chunk of code, that is guaranteed to run from top to bottom sequentially.\n",
    "* Python uses indentation(spaces) to differentiate code blocks.\n",
    "* Code blocks are used inside conditional statements and loops only in Python."
   ]
  },
  {
   "cell_type": "code",
   "execution_count": 16,
   "metadata": {
    "ExecuteTime": {
     "end_time": "2020-05-11T07:09:10.051967Z",
     "start_time": "2020-05-11T07:09:10.049505Z"
    }
   },
   "outputs": [],
   "source": [
    "x=20"
   ]
  },
  {
   "cell_type": "code",
   "execution_count": 17,
   "metadata": {
    "ExecuteTime": {
     "end_time": "2020-05-11T07:09:10.267171Z",
     "start_time": "2020-05-11T07:09:10.264318Z"
    }
   },
   "outputs": [
    {
     "name": "stdout",
     "output_type": "stream",
     "text": [
      "This is inside the block and so will only print if x==20\n",
      "This is outside, so will always print\n"
     ]
    }
   ],
   "source": [
    "if x==20:\n",
    "    print(\"This is inside the block and so will only print if x==20\")\n",
    "print(\"This is outside, so will always print\")"
   ]
  },
  {
   "cell_type": "code",
   "execution_count": 18,
   "metadata": {
    "ExecuteTime": {
     "end_time": "2020-05-11T07:09:10.460738Z",
     "start_time": "2020-05-11T07:09:10.457000Z"
    },
    "scrolled": true
   },
   "outputs": [
    {
     "ename": "IndentationError",
     "evalue": "unexpected indent (<ipython-input-18-5e82ebcdc697>, line 2)",
     "output_type": "error",
     "traceback": [
      "\u001b[0;36m  File \u001b[0;32m\"<ipython-input-18-5e82ebcdc697>\"\u001b[0;36m, line \u001b[0;32m2\u001b[0m\n\u001b[0;31m    will_this=\"work\"\u001b[0m\n\u001b[0m    ^\u001b[0m\n\u001b[0;31mIndentationError\u001b[0m\u001b[0;31m:\u001b[0m unexpected indent\n"
     ]
    }
   ],
   "source": [
    "this_is=20\n",
    "    will_this=\"work\""
   ]
  },
  {
   "cell_type": "code",
   "execution_count": 19,
   "metadata": {
    "ExecuteTime": {
     "end_time": "2020-05-11T07:09:10.669582Z",
     "start_time": "2020-05-11T07:09:10.667076Z"
    }
   },
   "outputs": [],
   "source": [
    "this_is=20\n",
    "will_this=\"work\""
   ]
  },
  {
   "cell_type": "code",
   "execution_count": 20,
   "metadata": {
    "ExecuteTime": {
     "end_time": "2020-05-11T07:09:10.866228Z",
     "start_time": "2020-05-11T07:09:10.862906Z"
    }
   },
   "outputs": [
    {
     "ename": "IndentationError",
     "evalue": "expected an indented block (<ipython-input-20-c1b345444c33>, line 2)",
     "output_type": "error",
     "traceback": [
      "\u001b[0;36m  File \u001b[0;32m\"<ipython-input-20-c1b345444c33>\"\u001b[0;36m, line \u001b[0;32m2\u001b[0m\n\u001b[0;31m    x=21\u001b[0m\n\u001b[0m    ^\u001b[0m\n\u001b[0;31mIndentationError\u001b[0m\u001b[0;31m:\u001b[0m expected an indented block\n"
     ]
    }
   ],
   "source": [
    "if 21<33:\n",
    "x=21"
   ]
  },
  {
   "cell_type": "code",
   "execution_count": 21,
   "metadata": {
    "ExecuteTime": {
     "end_time": "2020-05-11T07:09:11.076871Z",
     "start_time": "2020-05-11T07:09:11.074318Z"
    }
   },
   "outputs": [],
   "source": [
    "if 21<33:\n",
    "    x=21"
   ]
  },
  {
   "cell_type": "markdown",
   "metadata": {},
   "source": [
    "#### Differences with code blocks in languages like C"
   ]
  },
  {
   "cell_type": "markdown",
   "metadata": {},
   "source": [
    "* In C, whitespace doesn't matter. \n",
    "    * In Python, whitespace at the beginning of a line are very important.\n",
    "* In C, Code blocks are marked by { curly brackets }. \n",
    "    * In Python, whitespace at the beginning of the line mark a code block. \n",
    "* You can create interior code blocks anywhere.\n",
    "    * In Python, an interior level of code can only be created inside a conditional statements body or a loop's body.\n",
    "* In C, variables defined within an interior code block are deleted/released once you leave that block.\n",
    "    * In Python, variables defined in an inner block are still available to the outer block.\n",
    "    * Read about [scope](https://en.wikipedia.org/wiki/Scope_(computer_science)) in programming languages."
   ]
  },
  {
   "cell_type": "code",
   "execution_count": 22,
   "metadata": {
    "ExecuteTime": {
     "end_time": "2020-05-11T07:09:12.074818Z",
     "start_time": "2020-05-11T07:09:12.071703Z"
    }
   },
   "outputs": [
    {
     "name": "stdout",
     "output_type": "stream",
     "text": [
      "secret value\n"
     ]
    }
   ],
   "source": [
    "if 21 < 25 :\n",
    "    a_totally_new_variable=\"secret value\"\n",
    "print(a_totally_new_variable)"
   ]
  },
  {
   "cell_type": "markdown",
   "metadata": {
    "ExecuteTime": {
     "end_time": "2020-05-05T06:41:02.655718Z",
     "start_time": "2020-05-05T06:41:02.634682Z"
    }
   },
   "source": [
    "## else statements and nesting"
   ]
  },
  {
   "cell_type": "code",
   "execution_count": 23,
   "metadata": {
    "ExecuteTime": {
     "end_time": "2020-05-11T07:09:12.526860Z",
     "start_time": "2020-05-11T07:09:12.524410Z"
    }
   },
   "outputs": [],
   "source": [
    "x=22"
   ]
  },
  {
   "cell_type": "code",
   "execution_count": 24,
   "metadata": {
    "ExecuteTime": {
     "end_time": "2020-05-11T07:09:12.752949Z",
     "start_time": "2020-05-11T07:09:12.749724Z"
    }
   },
   "outputs": [
    {
     "name": "stdout",
     "output_type": "stream",
     "text": [
      "from -inf to 99\n"
     ]
    }
   ],
   "source": [
    "if x < 100 :\n",
    "    print(\"from -inf to 99\")\n",
    "else :\n",
    "    print(\"from 100 to +inf\")"
   ]
  },
  {
   "cell_type": "markdown",
   "metadata": {},
   "source": [
    "* The else statement takes care of the exclusionary case. Everything that is not part of the if, goes to the else.\n",
    "* Let's look at something slightly more complicated."
   ]
  },
  {
   "cell_type": "code",
   "execution_count": 25,
   "metadata": {
    "ExecuteTime": {
     "end_time": "2020-05-11T07:09:13.159678Z",
     "start_time": "2020-05-11T07:09:13.156377Z"
    }
   },
   "outputs": [
    {
     "name": "stdout",
     "output_type": "stream",
     "text": [
      "A number from 1 to 100\n"
     ]
    }
   ],
   "source": [
    "if x <=0 or x>100:\n",
    "    print(\"Not a number from 1 to 100\")\n",
    "else:\n",
    "    print(\"A number from 1 to 100\")"
   ]
  },
  {
   "cell_type": "markdown",
   "metadata": {},
   "source": [
    "Tip : Practice calculating the **opposite** of a condition.\n",
    "* Opposite of >? Opposite of ==?\n",
    "* Opposite of **x and y**? Opposite of x?"
   ]
  },
  {
   "cell_type": "markdown",
   "metadata": {},
   "source": [
    "* Suppose you want to break up the **if case** or the **else case**. \n",
    "* You can put another if...else statement inside the **if code block** or the **else code block**."
   ]
  },
  {
   "cell_type": "code",
   "execution_count": 26,
   "metadata": {
    "ExecuteTime": {
     "end_time": "2020-05-11T07:09:13.764309Z",
     "start_time": "2020-05-11T07:09:13.760652Z"
    }
   },
   "outputs": [
    {
     "name": "stdout",
     "output_type": "stream",
     "text": [
      "A number from 1 to 100\n"
     ]
    }
   ],
   "source": [
    "if x <=0 or x>100:\n",
    "    if x <=0:\n",
    "        print(\"Negative number!\")\n",
    "    else:\n",
    "        print(\"Positive number from 101 to inf\")\n",
    "else:\n",
    "    print(\"A number from 1 to 100\")"
   ]
  },
  {
   "cell_type": "code",
   "execution_count": 27,
   "metadata": {
    "ExecuteTime": {
     "end_time": "2020-05-11T07:09:13.916723Z",
     "start_time": "2020-05-11T07:09:13.913191Z"
    }
   },
   "outputs": [
    {
     "name": "stdout",
     "output_type": "stream",
     "text": [
      "Number from 1 to 50\n"
     ]
    }
   ],
   "source": [
    "if x <=0 or x>100:\n",
    "    print(\"Not a number from 1 to 100\")\n",
    "else:\n",
    "    if x <50:\n",
    "        print(\"Number from 1 to 50\")\n",
    "    else:\n",
    "        print(\"Number from 51 to 100\")"
   ]
  },
  {
   "cell_type": "markdown",
   "metadata": {},
   "source": [
    "Tip : \n",
    "\n",
    "* Practice drawing simple branching diagrams, to explain how to divide a problem into multiple subcases and sub sub cases. Visualizing it really helps - you can visualize it however you want, branching diagrams are just one example.\n",
    "* Even for experienced programmers, if...else statements are the place where they make the most mistakes!"
   ]
  },
  {
   "cell_type": "markdown",
   "metadata": {
    "ExecuteTime": {
     "end_time": "2020-05-05T07:16:45.550815Z",
     "start_time": "2020-05-05T07:16:45.547092Z"
    }
   },
   "source": [
    "* Conditions are confusing, so always try to write it in a readable way that is very simple to understand. \n",
    "* For example, we can rewrite the first code by switching the if...else conditions to make it more readable."
   ]
  },
  {
   "cell_type": "code",
   "execution_count": 28,
   "metadata": {
    "ExecuteTime": {
     "end_time": "2020-05-11T07:09:14.560649Z",
     "start_time": "2020-05-11T07:09:14.557411Z"
    }
   },
   "outputs": [
    {
     "name": "stdout",
     "output_type": "stream",
     "text": [
      "A number from 1 to 100\n"
     ]
    }
   ],
   "source": [
    "if x > 0 and  x<=100:\n",
    "    print(\"A number from 1 to 100\")\n",
    "else:\n",
    "    print(\"Not a number from 1 to 100\")"
   ]
  },
  {
   "cell_type": "markdown",
   "metadata": {},
   "source": [
    "## elif statements"
   ]
  },
  {
   "cell_type": "code",
   "execution_count": 29,
   "metadata": {
    "ExecuteTime": {
     "end_time": "2020-05-11T07:09:14.964646Z",
     "start_time": "2020-05-11T07:09:14.960581Z"
    }
   },
   "outputs": [
    {
     "name": "stdout",
     "output_type": "stream",
     "text": [
      "Number from 1 to 50\n"
     ]
    }
   ],
   "source": [
    "if x <=0 or x>100:\n",
    "    print(\"Not a number from 1 to 100\")\n",
    "else:\n",
    "    if x <50:\n",
    "        print(\"Number from 1 to 50\")\n",
    "    else:\n",
    "        if x <=75 :\n",
    "            print(\"Number from 51 to 75\")\n",
    "        else:\n",
    "            print(\"Number from 76 to 100\")"
   ]
  },
  {
   "cell_type": "markdown",
   "metadata": {},
   "source": [
    "Now this is getting confusing... We can simplify this using the **elif** statement."
   ]
  },
  {
   "cell_type": "code",
   "execution_count": 30,
   "metadata": {
    "ExecuteTime": {
     "end_time": "2020-05-11T07:09:15.396629Z",
     "start_time": "2020-05-11T07:09:15.392972Z"
    }
   },
   "outputs": [
    {
     "name": "stdout",
     "output_type": "stream",
     "text": [
      "Number from 1 to 50\n"
     ]
    }
   ],
   "source": [
    "if x <=0 or x>100:\n",
    "    print(\"Not a number from 1 to 100\")\n",
    "elif x <50:\n",
    "    print(\"Number from 1 to 50\")\n",
    "elif x <=75 :\n",
    "    print(\"Number from 51 to 75\")\n",
    "else:\n",
    "    print(\"Number from 76 to 100\")"
   ]
  },
  {
   "cell_type": "markdown",
   "metadata": {},
   "source": [
    "* The above two blocks of code are exactly the same. \n",
    "\n",
    "The logic behind if...elif...else blocks is like this.\n",
    "\n",
    "\n",
    "1. Look at the **if statement**\n",
    "    1. If it matches, execute interior code. Then **SKIP ALL the elif and else blocks**.\n",
    "    2. If it doesn't match go to next elif.\n",
    "2. Look at the **elif statement**\n",
    "    1. If it matches, execute interior code. Then SKIP ALL the **remaining** elif and else blocks**.\n",
    "    2. If it doesn't match go to next elif.\n",
    "```\n",
    "....\n",
    "....\n",
    "....\n",
    "```\n",
    "3. You have reached the **else statement**.\n",
    "    1. This can only happpen if none of the above if or elif statements matched!"
   ]
  },
  {
   "cell_type": "markdown",
   "metadata": {},
   "source": [
    "* Thus, if...elif...else is a prioritized list of cases. \n",
    "* Therefore **order** matters. \n",
    "* The below two codes have different meanings"
   ]
  },
  {
   "cell_type": "code",
   "execution_count": 31,
   "metadata": {
    "ExecuteTime": {
     "end_time": "2020-05-11T07:09:16.052961Z",
     "start_time": "2020-05-11T07:09:16.049689Z"
    }
   },
   "outputs": [
    {
     "name": "stdout",
     "output_type": "stream",
     "text": [
      "Less than 100\n"
     ]
    }
   ],
   "source": [
    "if x <100 :\n",
    "    print(\"Less than 100\")\n",
    "elif x <200 :\n",
    "    print(\"Between 100-200\")"
   ]
  },
  {
   "cell_type": "code",
   "execution_count": 32,
   "metadata": {
    "ExecuteTime": {
     "end_time": "2020-05-11T07:09:16.270320Z",
     "start_time": "2020-05-11T07:09:16.267086Z"
    }
   },
   "outputs": [
    {
     "name": "stdout",
     "output_type": "stream",
     "text": [
      "Less than 200\n"
     ]
    }
   ],
   "source": [
    "if x <200 :\n",
    "    print(\"Less than 200\")\n",
    "elif x <100 :\n",
    "    print(\"Unreachable code\")"
   ]
  },
  {
   "cell_type": "markdown",
   "metadata": {},
   "source": [
    "## pass statement"
   ]
  },
  {
   "cell_type": "markdown",
   "metadata": {},
   "source": [
    "* The ``pass`` statement is another special statement. \n",
    "* It does ... nothing.\n",
    "* So why do we need it?\n",
    "* Although ``pass`` statement can be put anywhere..."
   ]
  },
  {
   "cell_type": "code",
   "execution_count": 33,
   "metadata": {
    "ExecuteTime": {
     "end_time": "2020-05-11T07:09:16.919407Z",
     "start_time": "2020-05-11T07:09:16.917089Z"
    }
   },
   "outputs": [],
   "source": [
    "pass"
   ]
  },
  {
   "cell_type": "markdown",
   "metadata": {},
   "source": [
    "* It's most (only?) valid use case is in an if....else statement.\n",
    "* This is when you want to write down a case very clearly, but you don't actually need to do anything for it. Or you want to specifically ignore it."
   ]
  },
  {
   "cell_type": "code",
   "execution_count": 34,
   "metadata": {
    "ExecuteTime": {
     "end_time": "2020-05-11T07:09:17.380522Z",
     "start_time": "2020-05-11T07:09:17.377733Z"
    }
   },
   "outputs": [],
   "source": [
    "if x < 0 :\n",
    "    print(\"Negative\")\n",
    "elif x <100:\n",
    "    pass\n",
    "else:\n",
    "    print(\"Large positive number\")"
   ]
  },
  {
   "cell_type": "markdown",
   "metadata": {},
   "source": [
    "# Loops"
   ]
  },
  {
   "cell_type": "markdown",
   "metadata": {},
   "source": [
    "## The basic while loop"
   ]
  },
  {
   "cell_type": "code",
   "execution_count": 35,
   "metadata": {
    "ExecuteTime": {
     "end_time": "2020-05-11T07:09:18.001405Z",
     "start_time": "2020-05-11T07:09:17.997748Z"
    }
   },
   "outputs": [
    {
     "name": "stdout",
     "output_type": "stream",
     "text": [
      "0\n",
      "2\n",
      "4\n",
      "6\n",
      "8\n"
     ]
    }
   ],
   "source": [
    "i=0\n",
    "while i < 10:\n",
    "    print(i)\n",
    "    i+=2"
   ]
  },
  {
   "cell_type": "markdown",
   "metadata": {},
   "source": [
    "The syntax for the basic while loop is \n",
    "\n",
    "```\n",
    "while condition :\n",
    "    x+=1\n",
    "    y=x+42\n",
    "    ...\n",
    "    ...\n",
    "    # body\n",
    "    ...\n",
    "print(\"outside the loop\")\n",
    "```\n",
    "\n",
    "* Uses indentation to mark inside code block just like if...else\n",
    "* Conditions are expressions which must evaluate to a boolean i.e. True or False statements"
   ]
  },
  {
   "cell_type": "markdown",
   "metadata": {},
   "source": [
    "### Example 1 : Calculating n factorial"
   ]
  },
  {
   "cell_type": "markdown",
   "metadata": {},
   "source": [
    "n! = n * (n-1) * (n-2) ....  * 2 * 1\n",
    "\n",
    "For example,\n",
    "\n",
    "5! = 5 * 4 * 3 * 2 * 1"
   ]
  },
  {
   "cell_type": "code",
   "execution_count": 36,
   "metadata": {
    "ExecuteTime": {
     "end_time": "2020-05-11T07:09:18.911369Z",
     "start_time": "2020-05-11T07:09:18.907196Z"
    }
   },
   "outputs": [
    {
     "name": "stdout",
     "output_type": "stream",
     "text": [
      "1\n",
      "2\n",
      "6\n",
      "24\n",
      "120\n"
     ]
    }
   ],
   "source": [
    "n=5\n",
    "product=1\n",
    "current=1\n",
    "while current <= n:\n",
    "    product*=current\n",
    "    print(product)\n",
    "    current+=1"
   ]
  },
  {
   "cell_type": "markdown",
   "metadata": {},
   "source": [
    "Notice \n",
    "* ``current`` is the loop variable. It's what is changing as the loop changes. \n",
    "* More importantly it is what causes the loop to **terminate**.\n"
   ]
  },
  {
   "cell_type": "markdown",
   "metadata": {},
   "source": [
    "What happens if we forget to add the line ``current+=1``?"
   ]
  },
  {
   "cell_type": "code",
   "execution_count": null,
   "metadata": {
    "ExecuteTime": {
     "end_time": "2020-05-11T07:09:34.069714Z",
     "start_time": "2020-05-11T07:09:19.552732Z"
    }
   },
   "outputs": [],
   "source": [
    "n=5\n",
    "product=1\n",
    "current=1\n",
    "while current <= n:\n",
    "    product*=current\n",
    "    print(product)"
   ]
  },
  {
   "cell_type": "markdown",
   "metadata": {},
   "source": [
    "**BEWARE OF INFINITE LOOPS!!!** \n",
    "\n",
    "* Infinite loops happen because the condition at the top of the while loop is never reached. \n",
    "* Even experienced programmers regularly make mistakes that lead to infinite loops. \n",
    "* Code is all about conditions, since if...else and while are enough to write practically any sort of computation.\n",
    "* So if the conditions are wrong, you can run into issues like infinite loops."
   ]
  },
  {
   "cell_type": "markdown",
   "metadata": {},
   "source": [
    "### Example 2 : Printing cool ascii art X"
   ]
  },
  {
   "cell_type": "code",
   "execution_count": 38,
   "metadata": {
    "ExecuteTime": {
     "end_time": "2020-05-11T07:09:37.463754Z",
     "start_time": "2020-05-11T07:09:37.457871Z"
    }
   },
   "outputs": [
    {
     "name": "stdout",
     "output_type": "stream",
     "text": [
      "\\--------/\n",
      "-\\------/-\n",
      "--\\----/--\n",
      "---\\--/---\n",
      "----\\/----\n",
      "----/\\----\n",
      "---/--\\---\n",
      "--/----\\--\n",
      "-/------\\-\n",
      "/--------\\\n"
     ]
    }
   ],
   "source": [
    "size=10\n",
    "i=0\n",
    "while i <size:\n",
    "    string=\"\"\n",
    "    j=0\n",
    "    while j < size:\n",
    "        if j==i:\n",
    "            string=string+\"\\\\\"\n",
    "        elif j==size-i-1:\n",
    "            string=string+\"/\"\n",
    "        else:\n",
    "            string=string+\"-\"\n",
    "        j+=1\n",
    "    print(string)\n",
    "    i+=1"
   ]
  },
  {
   "cell_type": "markdown",
   "metadata": {},
   "source": [
    "Notice :\n",
    "* You can nest loops\n",
    "* You can mix loops with \n",
    "* You might notice two variables ``i`` and ``j``. \n",
    "* Both are loop variables for each loop.\n",
    "* Can you use the same variable for both loops?\n",
    "    * In principle you can, and in some cases it might even make the code more readable. \n",
    "    * But that's a dangerous idea! \n",
    "    * Make KISS - Keep It Simple Silly - your mantra.\n",
    "    * If you keep your coding style as simple and easy to understand as possible, you can tackle more and more complex problems."
   ]
  },
  {
   "cell_type": "markdown",
   "metadata": {},
   "source": [
    "## A brief intro to Lists"
   ]
  },
  {
   "cell_type": "markdown",
   "metadata": {},
   "source": [
    "* So far you have seen simple datatypes such as numbers, strings and booleans.\n",
    "* And, actually data comes in these \"basic\" forms only (well, more or less).\n",
    "* But what if you have lots of these small data chunks? How do you arrange them? "
   ]
  },
  {
   "cell_type": "markdown",
   "metadata": {},
   "source": [
    "* One of the simplest ways to arrange data is in a list. Take a real life list for example\n",
    "\n",
    "**My courses for this year**\n",
    "* Artificial Intelligence\n",
    "* Computer Vision\n",
    "* Data Mining\n",
    "* Randomized Algorithms\n",
    "* Data Structures\n",
    "* English\n",
    "\n",
    "* Lists are an **ordered** collection of objects. \n",
    "\n",
    "**In Python you define lists like this**"
   ]
  },
  {
   "cell_type": "code",
   "execution_count": 39,
   "metadata": {
    "ExecuteTime": {
     "end_time": "2020-05-11T07:09:38.992930Z",
     "start_time": "2020-05-11T07:09:38.989671Z"
    }
   },
   "outputs": [
    {
     "name": "stdout",
     "output_type": "stream",
     "text": [
      "A list of strings : ['Artificial Intelligence', 'Computer Vision', 'Data Mining', 'Randomized Algorithms', 'Data Structures', 'English']\n"
     ]
    }
   ],
   "source": [
    "# a list with some elements\n",
    "my_courses = [\"Artificial Intelligence\",\"Computer Vision\",\n",
    "              \"Data Mining\",\"Randomized Algorithms\",\n",
    "              \"Data Structures\",\"English\"]\n",
    "\n",
    "# btw, str() works to get a string representation of most things in Python!\n",
    "print(\"A list of strings : \" + str(my_courses))"
   ]
  },
  {
   "cell_type": "markdown",
   "metadata": {},
   "source": [
    "**Side Note** :\n",
    "\n",
    "* By the way, do you notice I split the definition into multiple lines for neatness?\n",
    "* In general, Python does not allow a statement to continue to the next line by itself.\n",
    "* You have to use \"\\\" to split a statement like this\n",
    "    ```\n",
    "    x = 22 + \\\n",
    "        33 + \\\n",
    "        44\n",
    "    ```\n",
    "* But exceptions to this rule is for list/dictionary/tuple/set definitions and function/constructor/method calls and definitions."
   ]
  },
  {
   "cell_type": "code",
   "execution_count": 40,
   "metadata": {
    "ExecuteTime": {
     "end_time": "2020-05-11T07:09:39.430320Z",
     "start_time": "2020-05-11T07:09:39.427078Z"
    }
   },
   "outputs": [
    {
     "name": "stdout",
     "output_type": "stream",
     "text": [
      "An empty list : []\n"
     ]
    }
   ],
   "source": [
    "# an empty list\n",
    "empty_list = []\n",
    "print(\"An empty list : \"+str(empty_list))"
   ]
  },
  {
   "cell_type": "code",
   "execution_count": 41,
   "metadata": {
    "ExecuteTime": {
     "end_time": "2020-05-11T07:09:39.651181Z",
     "start_time": "2020-05-11T07:09:39.647709Z"
    }
   },
   "outputs": [
    {
     "name": "stdout",
     "output_type": "stream",
     "text": [
      "A mixed list : [1, True, 100.0, 'HEllo']\n"
     ]
    }
   ],
   "source": [
    "# lists can have mixed values\n",
    "mixed_values_list = [1, True, 100.0, \"HEllo\"]\n",
    "print(\"A mixed list : \"+str(mixed_values_list))"
   ]
  },
  {
   "cell_type": "code",
   "execution_count": 42,
   "metadata": {
    "ExecuteTime": {
     "end_time": "2020-05-11T07:09:39.869117Z",
     "start_time": "2020-05-11T07:09:39.865574Z"
    }
   },
   "outputs": [
    {
     "name": "stdout",
     "output_type": "stream",
     "text": [
      "A mixed list with list elements : [22, 33, [100, 22], [11, 444, 0]]\n"
     ]
    }
   ],
   "source": [
    "# lists can even contain lists! Actually lists can contain any object!(More later)\n",
    "list_of_lists=[22,33,[100,22],[11,444,0]]\n",
    "print(\"A mixed list with list elements : \"+str(list_of_lists))"
   ]
  },
  {
   "cell_type": "markdown",
   "metadata": {},
   "source": [
    "**Reading values from the list**\n",
    "\n",
    "You can do it by indexing and slicing, very similar to strings."
   ]
  },
  {
   "cell_type": "code",
   "execution_count": 43,
   "metadata": {
    "ExecuteTime": {
     "end_time": "2020-05-11T07:09:40.295584Z",
     "start_time": "2020-05-11T07:09:40.290692Z"
    }
   },
   "outputs": [
    {
     "name": "stdout",
     "output_type": "stream",
     "text": [
      "Artificial Intelligence\n",
      "English\n",
      "['Computer Vision', 'Data Mining', 'Randomized Algorithms', 'Data Structures', 'English']\n",
      "['Randomized Algorithms', 'Data Structures']\n",
      "['Data Mining']\n",
      "['English']\n"
     ]
    }
   ],
   "source": [
    "print(my_courses[0]) \n",
    "print(my_courses[-1])\n",
    "print(my_courses[1:])\n",
    "print(my_courses[3:5])\n",
    "print(my_courses[-4:-3])\n",
    "print(my_courses[-1:])"
   ]
  },
  {
   "cell_type": "markdown",
   "metadata": {},
   "source": [
    "If you try to index outside the list, you will get an IndexError."
   ]
  },
  {
   "cell_type": "code",
   "execution_count": 44,
   "metadata": {
    "ExecuteTime": {
     "end_time": "2020-05-11T07:09:40.732157Z",
     "start_time": "2020-05-11T07:09:40.724963Z"
    }
   },
   "outputs": [
    {
     "name": "stdout",
     "output_type": "stream",
     "text": [
      "['only', 'three', 'elements']\n"
     ]
    },
    {
     "ename": "IndexError",
     "evalue": "list index out of range",
     "output_type": "error",
     "traceback": [
      "\u001b[0;31m---------------------------------------------------------------------------\u001b[0m",
      "\u001b[0;31mIndexError\u001b[0m                                Traceback (most recent call last)",
      "\u001b[0;32m<ipython-input-44-c840bfe012c4>\u001b[0m in \u001b[0;36m<module>\u001b[0;34m\u001b[0m\n\u001b[1;32m      1\u001b[0m \u001b[0mmylist\u001b[0m\u001b[0;34m=\u001b[0m\u001b[0;34m[\u001b[0m\u001b[0;34m\"only\"\u001b[0m\u001b[0;34m,\u001b[0m\u001b[0;34m\"three\"\u001b[0m\u001b[0;34m,\u001b[0m\u001b[0;34m\"elements\"\u001b[0m\u001b[0;34m]\u001b[0m\u001b[0;34m\u001b[0m\u001b[0;34m\u001b[0m\u001b[0m\n\u001b[1;32m      2\u001b[0m \u001b[0mprint\u001b[0m\u001b[0;34m(\u001b[0m\u001b[0mmylist\u001b[0m\u001b[0;34m)\u001b[0m\u001b[0;34m\u001b[0m\u001b[0;34m\u001b[0m\u001b[0m\n\u001b[0;32m----> 3\u001b[0;31m \u001b[0mmylist\u001b[0m\u001b[0;34m[\u001b[0m\u001b[0;36m3\u001b[0m\u001b[0;34m]\u001b[0m\u001b[0;34m\u001b[0m\u001b[0;34m\u001b[0m\u001b[0m\n\u001b[0m",
      "\u001b[0;31mIndexError\u001b[0m: list index out of range"
     ]
    }
   ],
   "source": [
    "mylist=[\"only\",\"three\",\"elements\"]\n",
    "print(mylist)\n",
    "mylist[3]"
   ]
  },
  {
   "cell_type": "markdown",
   "metadata": {},
   "source": [
    "**Assigning new values to the list**\n",
    "\n",
    "You can do this by indexing the list like below"
   ]
  },
  {
   "cell_type": "code",
   "execution_count": 45,
   "metadata": {
    "ExecuteTime": {
     "end_time": "2020-05-11T07:09:41.218599Z",
     "start_time": "2020-05-11T07:09:41.215580Z"
    }
   },
   "outputs": [
    {
     "name": "stdout",
     "output_type": "stream",
     "text": [
      "[1, True, 100.0, 'HEllo']\n"
     ]
    }
   ],
   "source": [
    "print(mixed_values_list)"
   ]
  },
  {
   "cell_type": "code",
   "execution_count": 46,
   "metadata": {
    "ExecuteTime": {
     "end_time": "2020-05-11T07:09:41.435779Z",
     "start_time": "2020-05-11T07:09:41.432650Z"
    },
    "scrolled": true
   },
   "outputs": [
    {
     "name": "stdout",
     "output_type": "stream",
     "text": [
      "[1, 42, 100.0, 'HEllo']\n"
     ]
    }
   ],
   "source": [
    "mixed_values_list[1]=42\n",
    "print(mixed_values_list)"
   ]
  },
  {
   "cell_type": "markdown",
   "metadata": {},
   "source": [
    "Note : \n",
    "\n",
    "* Adding new elements to a list (and making it longer) is also possible. It will be discussed in a subsequent section.\n",
    "* Similarly for deleting elements."
   ]
  },
  {
   "cell_type": "markdown",
   "metadata": {},
   "source": [
    "## The basic for loop"
   ]
  },
  {
   "cell_type": "markdown",
   "metadata": {},
   "source": [
    "* One of the main reasons to write a loop is to work with lists!\n",
    "* Think about it, lists have a lot of usually similar elements, and you probably want to do the same operation for each of them.\n",
    "* Thus Python has a special syntax to work with lists and list-like objects called the **for loop**."
   ]
  },
  {
   "cell_type": "code",
   "execution_count": 47,
   "metadata": {
    "ExecuteTime": {
     "end_time": "2020-05-11T07:09:42.337668Z",
     "start_time": "2020-05-11T07:09:42.334009Z"
    }
   },
   "outputs": [
    {
     "name": "stdout",
     "output_type": "stream",
     "text": [
      "4\n",
      "16\n",
      "9\n",
      "25\n"
     ]
    }
   ],
   "source": [
    "numbers=[2,4,3,5]\n",
    "for num in numbers:\n",
    "    square=num*num\n",
    "    print(square)"
   ]
  },
  {
   "cell_type": "markdown",
   "metadata": {},
   "source": [
    "Thus the generic syntax for for loops is \n",
    "\n",
    "```\n",
    "for element in iterable:\n",
    "    # body of the loop\n",
    "    print(element)\n",
    "```\n",
    "\n",
    "* An \"iterable\" is something that you can \"iterate\" over - basically it has a bunch of smaller elements, which it can give to you one by one.\n",
    "* A list is an iterable.\n",
    "* A string is also an iterable!"
   ]
  },
  {
   "cell_type": "code",
   "execution_count": 48,
   "metadata": {
    "ExecuteTime": {
     "end_time": "2020-05-11T07:09:42.995661Z",
     "start_time": "2020-05-11T07:09:42.990784Z"
    }
   },
   "outputs": [
    {
     "name": "stdout",
     "output_type": "stream",
     "text": [
      "||    S    ||\n",
      "||    t    ||\n",
      "||    r    ||\n",
      "||    i    ||\n",
      "||    n    ||\n",
      "||    g    ||\n",
      "||    s    ||\n",
      "||         ||\n",
      "||    a    ||\n",
      "||    r    ||\n",
      "||    e    ||\n",
      "||         ||\n",
      "||    i    ||\n",
      "||    t    ||\n",
      "||    e    ||\n",
      "||    r    ||\n",
      "||    a    ||\n",
      "||    b    ||\n",
      "||    l    ||\n",
      "||    e    ||\n",
      "||    !    ||\n"
     ]
    }
   ],
   "source": [
    "for letter in \"Strings are iterable!\":\n",
    "    print(\"||    \" + letter + \"    ||\")"
   ]
  },
  {
   "cell_type": "markdown",
   "metadata": {},
   "source": [
    "But if you try with a number, obviously a number is not iterable..."
   ]
  },
  {
   "cell_type": "code",
   "execution_count": 49,
   "metadata": {
    "ExecuteTime": {
     "end_time": "2020-05-11T07:09:43.459014Z",
     "start_time": "2020-05-11T07:09:43.452741Z"
    }
   },
   "outputs": [
    {
     "ename": "TypeError",
     "evalue": "'int' object is not iterable",
     "output_type": "error",
     "traceback": [
      "\u001b[0;31m---------------------------------------------------------------------------\u001b[0m",
      "\u001b[0;31mTypeError\u001b[0m                                 Traceback (most recent call last)",
      "\u001b[0;32m<ipython-input-49-8fd43ad8c3b0>\u001b[0m in \u001b[0;36m<module>\u001b[0;34m\u001b[0m\n\u001b[0;32m----> 1\u001b[0;31m \u001b[0;32mfor\u001b[0m \u001b[0msomething\u001b[0m \u001b[0;32min\u001b[0m \u001b[0;36m22\u001b[0m\u001b[0;34m:\u001b[0m\u001b[0;34m\u001b[0m\u001b[0;34m\u001b[0m\u001b[0m\n\u001b[0m\u001b[1;32m      2\u001b[0m     \u001b[0mlets\u001b[0m\u001b[0;34m=\u001b[0m\u001b[0;34m\"try this\"\u001b[0m\u001b[0;34m\u001b[0m\u001b[0;34m\u001b[0m\u001b[0m\n",
      "\u001b[0;31mTypeError\u001b[0m: 'int' object is not iterable"
     ]
    }
   ],
   "source": [
    "for something in 22:\n",
    "    lets=\"try this\""
   ]
  },
  {
   "cell_type": "markdown",
   "metadata": {},
   "source": [
    "## break and continue statements"
   ]
  },
  {
   "cell_type": "markdown",
   "metadata": {},
   "source": [
    "* Think of ``break`` and ``continue`` as commands to use within a loop. \n",
    "* ``break`` tells the loop to stop.\n",
    "* ``continue`` tells the loop, okay just go to the next iteration, no need to finish this one.\n",
    "* ``break`` and ``continue`` can only be used inside a loop."
   ]
  },
  {
   "cell_type": "code",
   "execution_count": 50,
   "metadata": {
    "ExecuteTime": {
     "end_time": "2020-05-11T07:09:44.536153Z",
     "start_time": "2020-05-11T07:09:44.532211Z"
    }
   },
   "outputs": [
    {
     "ename": "SyntaxError",
     "evalue": "'break' outside loop (<ipython-input-50-6aaf1f276005>, line 4)",
     "output_type": "error",
     "traceback": [
      "\u001b[0;36m  File \u001b[0;32m\"<ipython-input-50-6aaf1f276005>\"\u001b[0;36m, line \u001b[0;32m4\u001b[0m\n\u001b[0;31mSyntaxError\u001b[0m\u001b[0;31m:\u001b[0m 'break' outside loop\n"
     ]
    }
   ],
   "source": [
    "break"
   ]
  },
  {
   "cell_type": "code",
   "execution_count": 51,
   "metadata": {
    "ExecuteTime": {
     "end_time": "2020-05-11T07:09:44.734572Z",
     "start_time": "2020-05-11T07:09:44.730906Z"
    }
   },
   "outputs": [
    {
     "name": "stdout",
     "output_type": "stream",
     "text": [
      "False\n"
     ]
    }
   ],
   "source": [
    "animals=[\"cat\",\"cat\",\"cat\",\"dog,\"\"cat\",\"cat\"]\n",
    "only_cats=True\n",
    "for animal in animals:\n",
    "    if animal!=\"cat\":\n",
    "        only_cats=False\n",
    "        break\n",
    "print(only_cats)"
   ]
  },
  {
   "cell_type": "code",
   "execution_count": 52,
   "metadata": {
    "ExecuteTime": {
     "end_time": "2020-05-11T07:09:44.947178Z",
     "start_time": "2020-05-11T07:09:44.942844Z"
    }
   },
   "outputs": [
    {
     "name": "stdout",
     "output_type": "stream",
     "text": [
      "67 found at index 3\n"
     ]
    }
   ],
   "source": [
    "numbers=[1,5,22,67,87,33,2,34]\n",
    "find_this=67\n",
    "i=0\n",
    "for num in numbers:\n",
    "    if num==find_this:\n",
    "        print(str(find_this)+\" found at index \"+str(i))\n",
    "        break\n",
    "    i+=1"
   ]
  },
  {
   "cell_type": "code",
   "execution_count": 53,
   "metadata": {
    "ExecuteTime": {
     "end_time": "2020-05-11T07:09:45.132384Z",
     "start_time": "2020-05-11T07:09:45.127829Z"
    },
    "scrolled": true
   },
   "outputs": [
    {
     "name": "stdout",
     "output_type": "stream",
     "text": [
      "Printing only odd numbers in list\n",
      "1\n",
      "5\n",
      "67\n",
      "87\n",
      "33\n"
     ]
    }
   ],
   "source": [
    "numbers=[1,5,22,67,87,33,2,34]\n",
    "print(\"Printing only odd numbers in list\")\n",
    "for num in numbers:\n",
    "    if num%2==0:\n",
    "        continue\n",
    "    print(num)"
   ]
  },
  {
   "cell_type": "markdown",
   "metadata": {},
   "source": [
    "* **You don't usually need break and continue** statements. But they are VERY useful.\n",
    "* They are just another tool for you.\n",
    "* Use them if it makes it easier for you to translate your ideas into code."
   ]
  },
  {
   "cell_type": "markdown",
   "metadata": {},
   "source": [
    "For example, the above example can be rewritten without ``continue``."
   ]
  },
  {
   "cell_type": "code",
   "execution_count": 54,
   "metadata": {
    "ExecuteTime": {
     "end_time": "2020-05-11T07:09:45.750876Z",
     "start_time": "2020-05-11T07:09:45.746663Z"
    }
   },
   "outputs": [
    {
     "name": "stdout",
     "output_type": "stream",
     "text": [
      "Printing only odd numbers in list\n",
      "1\n",
      "5\n",
      "67\n",
      "87\n",
      "33\n"
     ]
    }
   ],
   "source": [
    "numbers=[1,5,22,67,87,33,2,34]\n",
    "print(\"Printing only odd numbers in list\")\n",
    "for num in numbers:\n",
    "    if num%2!=0:\n",
    "        print(num)"
   ]
  },
  {
   "cell_type": "markdown",
   "metadata": {},
   "source": [
    "This is probably actually better this way :)"
   ]
  },
  {
   "cell_type": "markdown",
   "metadata": {},
   "source": [
    "# Functions"
   ]
  },
  {
   "cell_type": "markdown",
   "metadata": {},
   "source": [
    "* For code to be reusable, you have to \"pack it up\".\n",
    "* Think of it like a link to a webpage or a note - you don't want to keep writing the same thing over and over again - so you write it once and refer to it afterwards."
   ]
  },
  {
   "cell_type": "code",
   "execution_count": 55,
   "metadata": {
    "ExecuteTime": {
     "end_time": "2020-05-11T07:09:46.567797Z",
     "start_time": "2020-05-11T07:09:46.564709Z"
    }
   },
   "outputs": [],
   "source": [
    "# You define a function like this\n",
    "def print_fancy_name(firstname,lastname):\n",
    "    print(\"-\"*15)\n",
    "    print(firstname)\n",
    "    print(lastname)\n",
    "    print(\"*\"*15)"
   ]
  },
  {
   "cell_type": "markdown",
   "metadata": {},
   "source": [
    "* The ``def`` keyword is specially used to define functions.\n",
    "* These lines of code won't actually run, they'll just add this definition of the function to the interpreter's memory.\n",
    "* You can't use a function before you define it!"
   ]
  },
  {
   "cell_type": "code",
   "execution_count": 56,
   "metadata": {
    "ExecuteTime": {
     "end_time": "2020-05-11T07:09:46.965538Z",
     "start_time": "2020-05-11T07:09:46.959148Z"
    }
   },
   "outputs": [
    {
     "ename": "NameError",
     "evalue": "name 'my_greeting' is not defined",
     "output_type": "error",
     "traceback": [
      "\u001b[0;31m---------------------------------------------------------------------------\u001b[0m",
      "\u001b[0;31mNameError\u001b[0m                                 Traceback (most recent call last)",
      "\u001b[0;32m<ipython-input-56-58c9d602482c>\u001b[0m in \u001b[0;36m<module>\u001b[0;34m\u001b[0m\n\u001b[0;32m----> 1\u001b[0;31m \u001b[0mmy_greeting\u001b[0m\u001b[0;34m(\u001b[0m\u001b[0;34m\"Ram\"\u001b[0m\u001b[0;34m)\u001b[0m\u001b[0;34m\u001b[0m\u001b[0;34m\u001b[0m\u001b[0m\n\u001b[0m\u001b[1;32m      2\u001b[0m \u001b[0;34m\u001b[0m\u001b[0m\n\u001b[1;32m      3\u001b[0m \u001b[0;32mdef\u001b[0m \u001b[0mmy_greeting\u001b[0m\u001b[0;34m(\u001b[0m\u001b[0mname\u001b[0m\u001b[0;34m)\u001b[0m\u001b[0;34m:\u001b[0m\u001b[0;34m\u001b[0m\u001b[0;34m\u001b[0m\u001b[0m\n\u001b[1;32m      4\u001b[0m     \u001b[0mprint\u001b[0m\u001b[0;34m(\u001b[0m\u001b[0;34m\"Wassup \"\u001b[0m\u001b[0;34m+\u001b[0m\u001b[0mname\u001b[0m\u001b[0;34m+\u001b[0m\u001b[0;34m\"!\"\u001b[0m\u001b[0;34m)\u001b[0m\u001b[0;34m\u001b[0m\u001b[0;34m\u001b[0m\u001b[0m\n",
      "\u001b[0;31mNameError\u001b[0m: name 'my_greeting' is not defined"
     ]
    }
   ],
   "source": [
    "my_greeting(\"Ram\")\n",
    "\n",
    "def my_greeting(name):\n",
    "    print(\"Wassup \"+name+\"!\")"
   ]
  },
  {
   "cell_type": "markdown",
   "metadata": {},
   "source": [
    "## Arguments"
   ]
  },
  {
   "cell_type": "markdown",
   "metadata": {},
   "source": [
    "* Notice that this function has inputs - these are called arguments\n",
    "* You have to call the function with actual values for the arguments to run it."
   ]
  },
  {
   "cell_type": "code",
   "execution_count": 57,
   "metadata": {
    "ExecuteTime": {
     "end_time": "2020-05-11T07:09:47.590875Z",
     "start_time": "2020-05-11T07:09:47.587697Z"
    }
   },
   "outputs": [
    {
     "name": "stdout",
     "output_type": "stream",
     "text": [
      "---------------\n",
      "Hritik\n",
      "Roshan\n",
      "***************\n"
     ]
    }
   ],
   "source": [
    "# You call a function like this\n",
    "print_fancy_name(\"Hritik\",\"Roshan\")"
   ]
  },
  {
   "cell_type": "code",
   "execution_count": 58,
   "metadata": {
    "ExecuteTime": {
     "end_time": "2020-05-11T07:09:47.798204Z",
     "start_time": "2020-05-11T07:09:47.795029Z"
    }
   },
   "outputs": [
    {
     "name": "stdout",
     "output_type": "stream",
     "text": [
      "---------------\n",
      "Sunidhi\n",
      "Chauhan\n",
      "***************\n"
     ]
    }
   ],
   "source": [
    "# You can reuse this for someone else now\n",
    "print_fancy_name(\"Sunidhi\",\"Chauhan\")"
   ]
  },
  {
   "cell_type": "markdown",
   "metadata": {},
   "source": [
    "* As you can see, you can have multiple arguments to the function or even no arguments."
   ]
  },
  {
   "cell_type": "code",
   "execution_count": 59,
   "metadata": {
    "ExecuteTime": {
     "end_time": "2020-05-11T07:09:48.216326Z",
     "start_time": "2020-05-11T07:09:48.212981Z"
    }
   },
   "outputs": [
    {
     "name": "stdout",
     "output_type": "stream",
     "text": [
      "hello\n"
     ]
    }
   ],
   "source": [
    "def say_hello():\n",
    "    print(\"hello\")\n",
    "\n",
    "say_hello()"
   ]
  },
  {
   "cell_type": "markdown",
   "metadata": {},
   "source": [
    "* Arguments can be specified by position or name "
   ]
  },
  {
   "cell_type": "code",
   "execution_count": 60,
   "metadata": {
    "ExecuteTime": {
     "end_time": "2020-05-11T07:09:48.621554Z",
     "start_time": "2020-05-11T07:09:48.618328Z"
    }
   },
   "outputs": [],
   "source": [
    "def family_tree(first_name,last_name,father_name,mother_name):\n",
    "    print(\"-\"*15)\n",
    "    print(first_name)\n",
    "    print(last_name)\n",
    "    print(\"*\"*15)\n",
    "    print(\"Child of \"+mother_name+\" and \"+father_name)"
   ]
  },
  {
   "cell_type": "code",
   "execution_count": 61,
   "metadata": {
    "ExecuteTime": {
     "end_time": "2020-05-11T07:09:48.841396Z",
     "start_time": "2020-05-11T07:09:48.838189Z"
    }
   },
   "outputs": [
    {
     "name": "stdout",
     "output_type": "stream",
     "text": [
      "---------------\n",
      "Ravina\n",
      "Sharma\n",
      "***************\n",
      "Child of Kusum Sharma and Ram Sharma\n"
     ]
    }
   ],
   "source": [
    "# positional\n",
    "family_tree(\"Ravina\",\"Sharma\",\"Ram Sharma\",\"Kusum Sharma\")"
   ]
  },
  {
   "cell_type": "code",
   "execution_count": 62,
   "metadata": {
    "ExecuteTime": {
     "end_time": "2020-05-11T07:09:49.209051Z",
     "start_time": "2020-05-11T07:09:49.205387Z"
    }
   },
   "outputs": [
    {
     "name": "stdout",
     "output_type": "stream",
     "text": [
      "---------------\n",
      "Ravina\n",
      "Sharma\n",
      "***************\n",
      "Child of Kusum Sharma and Ram Sharma\n"
     ]
    }
   ],
   "source": [
    "# keyword -- order doesn't matter\n",
    "family_tree(father_name=\"Ram Sharma\",last_name=\"Sharma\",\n",
    "            first_name=\"Ravina\",mother_name=\"Kusum Sharma\")"
   ]
  },
  {
   "cell_type": "code",
   "execution_count": 63,
   "metadata": {
    "ExecuteTime": {
     "end_time": "2020-05-11T07:09:49.403508Z",
     "start_time": "2020-05-11T07:09:49.399751Z"
    }
   },
   "outputs": [
    {
     "name": "stdout",
     "output_type": "stream",
     "text": [
      "---------------\n",
      "Ravina\n",
      "Sharma\n",
      "***************\n",
      "Child of Kusum Sharma and Ram Sharma\n"
     ]
    }
   ],
   "source": [
    "# mixed positional + keyword\n",
    "# Obviously positional has to come first\n",
    "family_tree(\"Ravina\",\"Sharma\",mother_name=\"Kusum Sharma\",\n",
    "            father_name=\"Ram Sharma\")"
   ]
  },
  {
   "cell_type": "code",
   "execution_count": 64,
   "metadata": {
    "ExecuteTime": {
     "end_time": "2020-05-11T07:09:49.814390Z",
     "start_time": "2020-05-11T07:09:49.811018Z"
    }
   },
   "outputs": [
    {
     "ename": "SyntaxError",
     "evalue": "positional argument follows keyword argument (<ipython-input-64-a01a694b9521>, line 2)",
     "output_type": "error",
     "traceback": [
      "\u001b[0;36m  File \u001b[0;32m\"<ipython-input-64-a01a694b9521>\"\u001b[0;36m, line \u001b[0;32m2\u001b[0m\n\u001b[0;31m    family_tree(mother_name=\"Kusum Sharma\",\"Ravina\",\"Sharma\",father_name=\"Ram Sharma\")\u001b[0m\n\u001b[0m                                          ^\u001b[0m\n\u001b[0;31mSyntaxError\u001b[0m\u001b[0;31m:\u001b[0m positional argument follows keyword argument\n"
     ]
    }
   ],
   "source": [
    "# this will fail\n",
    "family_tree(mother_name=\"Kusum Sharma\",\"Ravina\",\"Sharma\",\n",
    "            father_name=\"Ram Sharma\")"
   ]
  },
  {
   "cell_type": "markdown",
   "metadata": {},
   "source": [
    "## Return Values"
   ]
  },
  {
   "cell_type": "markdown",
   "metadata": {},
   "source": [
    "Functions can also return values, for example suppose we want a function to calculate the square of the difference of two numbers"
   ]
  },
  {
   "cell_type": "code",
   "execution_count": 65,
   "metadata": {
    "ExecuteTime": {
     "end_time": "2020-05-11T07:09:50.496973Z",
     "start_time": "2020-05-11T07:09:50.494291Z"
    }
   },
   "outputs": [],
   "source": [
    "def square_difference(x,y):\n",
    "    diff=x-y\n",
    "    return diff*diff"
   ]
  },
  {
   "cell_type": "code",
   "execution_count": 66,
   "metadata": {
    "ExecuteTime": {
     "end_time": "2020-05-11T07:09:50.707532Z",
     "start_time": "2020-05-11T07:09:50.704318Z"
    }
   },
   "outputs": [
    {
     "name": "stdout",
     "output_type": "stream",
     "text": [
      "9\n"
     ]
    }
   ],
   "source": [
    "print(square_difference(5,2))"
   ]
  },
  {
   "cell_type": "markdown",
   "metadata": {},
   "source": [
    "So what is the return value of ``print_fancy_name``?"
   ]
  },
  {
   "cell_type": "code",
   "execution_count": 67,
   "metadata": {
    "ExecuteTime": {
     "end_time": "2020-05-11T07:09:51.169696Z",
     "start_time": "2020-05-11T07:09:51.166145Z"
    }
   },
   "outputs": [
    {
     "name": "stdout",
     "output_type": "stream",
     "text": [
      "---------------\n",
      "Priyanka\n",
      "Chopra\n",
      "***************\n",
      "None\n"
     ]
    }
   ],
   "source": [
    "print(print_fancy_name(\"Priyanka\",\"Chopra\"))"
   ]
  },
  {
   "cell_type": "markdown",
   "metadata": {},
   "source": [
    "* It is a special datatype called **None**. It signifies nothing. It is used whenever you want to say that there is nothing here."
   ]
  },
  {
   "cell_type": "code",
   "execution_count": 68,
   "metadata": {
    "ExecuteTime": {
     "end_time": "2020-05-11T07:09:52.186898Z",
     "start_time": "2020-05-11T07:09:52.183599Z"
    }
   },
   "outputs": [
    {
     "name": "stdout",
     "output_type": "stream",
     "text": [
      "None\n",
      "False\n"
     ]
    }
   ],
   "source": [
    "x=None\n",
    "print(x)\n",
    "print(bool(x))"
   ]
  },
  {
   "cell_type": "markdown",
   "metadata": {},
   "source": [
    "* If there is no return statement, like ``print_fancy_name`` None is automatically returned.\n",
    "* Its the same case for when due to the some reason, the return statement is not executed.\n",
    "* Also, if there is an empty return statement."
   ]
  },
  {
   "cell_type": "code",
   "execution_count": 69,
   "metadata": {
    "ExecuteTime": {
     "end_time": "2020-05-11T07:09:52.699979Z",
     "start_time": "2020-05-11T07:09:52.696496Z"
    }
   },
   "outputs": [
    {
     "name": "stdout",
     "output_type": "stream",
     "text": [
      "toffee\n",
      "None\n"
     ]
    }
   ],
   "source": [
    "def give_toffee_to_kids_only(age):\n",
    "    if age<13:\n",
    "        return \"toffee\"\n",
    "\n",
    "print(give_toffee_to_kids_only(5))\n",
    "print(give_toffee_to_kids_only(25))"
   ]
  },
  {
   "cell_type": "code",
   "execution_count": 70,
   "metadata": {
    "ExecuteTime": {
     "end_time": "2020-05-11T07:09:53.062030Z",
     "start_time": "2020-05-11T07:09:53.058257Z"
    }
   },
   "outputs": [
    {
     "name": "stdout",
     "output_type": "stream",
     "text": [
      "toffee\n",
      "None\n"
     ]
    }
   ],
   "source": [
    "def give_toffee_to_kids_only_2(age):\n",
    "    if age<13:\n",
    "        return \"toffee\"\n",
    "    return\n",
    "\n",
    "print(give_toffee_to_kids_only_2(5))\n",
    "print(give_toffee_to_kids_only_2(25))"
   ]
  },
  {
   "cell_type": "markdown",
   "metadata": {},
   "source": [
    "* Unlike languages like C,Java,C++, Python allows you to return multiple values"
   ]
  },
  {
   "cell_type": "code",
   "execution_count": 71,
   "metadata": {
    "ExecuteTime": {
     "end_time": "2020-05-11T07:09:53.616746Z",
     "start_time": "2020-05-11T07:09:53.612370Z"
    }
   },
   "outputs": [
    {
     "name": "stdout",
     "output_type": "stream",
     "text": [
      "('J', 'W', 'L')\n",
      "J P M\n"
     ]
    }
   ],
   "source": [
    "def return_initials(first_name,middle_name,last_name):\n",
    "    return first_name[0],middle_name[0],last_name[0]\n",
    "\n",
    "print(return_initials(\"John\",\"Winston\",\"Lennon\"))\n",
    "first,middle,last=return_initials(\"James\",\"Paul\",\"McCartney\")\n",
    "print(first+\" \"+middle+\" \"+last)"
   ]
  },
  {
   "cell_type": "markdown",
   "metadata": {},
   "source": [
    "Note : Why the brackets around the first output?\n",
    "* That's because Python packs them into tuples! More on that later."
   ]
  },
  {
   "cell_type": "markdown",
   "metadata": {},
   "source": [
    "## Example 1 : Return to control flow"
   ]
  },
  {
   "cell_type": "markdown",
   "metadata": {},
   "source": [
    "Let's look at a slightly longer example for functions now."
   ]
  },
  {
   "cell_type": "code",
   "execution_count": 72,
   "metadata": {
    "ExecuteTime": {
     "end_time": "2020-05-11T07:09:54.769452Z",
     "start_time": "2020-05-11T07:09:54.765629Z"
    }
   },
   "outputs": [],
   "source": [
    "def is_right_angled_triangle(a,b,c):\n",
    "    if a*a + b*b == c*c:\n",
    "        return True\n",
    "    elif a*a + c*c == b*b:\n",
    "        return True\n",
    "    elif b*b + c*c == a*a:\n",
    "        return True\n",
    "    else:\n",
    "        return False"
   ]
  },
  {
   "cell_type": "markdown",
   "metadata": {},
   "source": [
    "It should be noted, that once the interpreter sees the return statement, it will exit the function - even if there is more code afterwards."
   ]
  },
  {
   "cell_type": "code",
   "execution_count": 73,
   "metadata": {
    "ExecuteTime": {
     "end_time": "2020-05-11T07:09:55.284347Z",
     "start_time": "2020-05-11T07:09:55.281617Z"
    }
   },
   "outputs": [],
   "source": [
    "def print_hello(name):\n",
    "    print(\"Hello \"+name)\n",
    "    return\n",
    "    print(\"Now I can write whatever I want here\")\n",
    "    print(\"It will not execute\")"
   ]
  },
  {
   "cell_type": "code",
   "execution_count": 74,
   "metadata": {
    "ExecuteTime": {
     "end_time": "2020-05-11T07:09:55.608376Z",
     "start_time": "2020-05-11T07:09:55.605415Z"
    }
   },
   "outputs": [
    {
     "name": "stdout",
     "output_type": "stream",
     "text": [
      "Hello Ram\n"
     ]
    }
   ],
   "source": [
    "print_hello(\"Ram\")"
   ]
  },
  {
   "cell_type": "markdown",
   "metadata": {},
   "source": [
    "Exploiting this fact we can rewrite the above function by removing all the ``elif``s"
   ]
  },
  {
   "cell_type": "code",
   "execution_count": 75,
   "metadata": {
    "ExecuteTime": {
     "end_time": "2020-05-11T07:09:56.197160Z",
     "start_time": "2020-05-11T07:09:56.193677Z"
    }
   },
   "outputs": [],
   "source": [
    "def is_right_angled_triangle(a,b,c):\n",
    "    if a*a + b*b == c*c:\n",
    "        return True\n",
    "    if a*a + c*c == b*b:\n",
    "        return True\n",
    "    if b*b + c*c == a*a:\n",
    "        return True\n",
    "    return False"
   ]
  },
  {
   "cell_type": "markdown",
   "metadata": {},
   "source": [
    "* Remember there are many ways to write the same logic as code, just as there are many ways to communicate the same idea with words!\n",
    "* Always try to refactor your code for maximum readability."
   ]
  },
  {
   "cell_type": "markdown",
   "metadata": {},
   "source": [
    "## Example 2 : Recursion"
   ]
  },
  {
   "cell_type": "markdown",
   "metadata": {},
   "source": [
    "* Recursion is a common design pattern in functions.\n",
    "* Recursion is when a function calls itself. \n",
    "* Usually, you start with a \"big\" problem, and if you can break it up into a smaller problem where the same logic has to be applied you can call the same function on it.\n",
    "* Finally, you should end up with a small enough problem - whose answer you know - called the base case. "
   ]
  },
  {
   "cell_type": "markdown",
   "metadata": {},
   "source": [
    "The classic example of recursion is - calculating n!\n",
    "\n",
    "We know, \n",
    "\n",
    "```\n",
    "n! = n * (n-1) * ... * 1\n",
    "   = n * (n-1)!\n",
    "```\n",
    "\n",
    "Now you can see that we can represent n! in terms of (n-1)!.\\\n",
    "So maybe we can write a recursive function for it!"
   ]
  },
  {
   "cell_type": "code",
   "execution_count": 76,
   "metadata": {
    "ExecuteTime": {
     "end_time": "2020-05-11T07:09:57.513005Z",
     "start_time": "2020-05-11T07:09:57.510332Z"
    }
   },
   "outputs": [],
   "source": [
    "def factorial(n):\n",
    "    print(n)\n",
    "    return n * factorial(n-1)"
   ]
  },
  {
   "cell_type": "code",
   "execution_count": null,
   "metadata": {
    "ExecuteTime": {
     "end_time": "2020-05-11T07:10:00.027304Z",
     "start_time": "2020-05-11T07:09:58.104344Z"
    }
   },
   "outputs": [],
   "source": [
    "factorial(5)"
   ]
  },
  {
   "cell_type": "markdown",
   "metadata": {},
   "source": [
    "* Oops what just happened?\n",
    "* The danger of calling a function **recursively** is infinite recursion!\n",
    "* Infinite recursion usually happens when the base case does not apply correctly, in this case we totally forgot to write the base case.\n",
    "* Imagine it like falling through the floors of a building (like a cartoon!)... If someone forget's the floor - you'll fall forever!"
   ]
  },
  {
   "cell_type": "code",
   "execution_count": 78,
   "metadata": {
    "ExecuteTime": {
     "end_time": "2020-05-11T07:10:03.191804Z",
     "start_time": "2020-05-11T07:10:03.188830Z"
    }
   },
   "outputs": [],
   "source": [
    "# lets try again\n",
    "def factorial(n):\n",
    "    print(n)\n",
    "    if n==1:\n",
    "        return 1\n",
    "    return n * factorial(n-1)"
   ]
  },
  {
   "cell_type": "code",
   "execution_count": 79,
   "metadata": {
    "ExecuteTime": {
     "end_time": "2020-05-11T07:10:03.558505Z",
     "start_time": "2020-05-11T07:10:03.553998Z"
    }
   },
   "outputs": [
    {
     "name": "stdout",
     "output_type": "stream",
     "text": [
      "5\n",
      "4\n",
      "3\n",
      "2\n",
      "1\n"
     ]
    },
    {
     "data": {
      "text/plain": [
       "120"
      ]
     },
     "execution_count": 79,
     "metadata": {},
     "output_type": "execute_result"
    }
   ],
   "source": [
    "factorial(5)"
   ]
  },
  {
   "cell_type": "markdown",
   "metadata": {
    "ExecuteTime": {
     "end_time": "2020-05-06T20:25:30.385565Z",
     "start_time": "2020-05-06T20:25:30.381927Z"
    }
   },
   "source": [
    "* This time it works!"
   ]
  },
  {
   "cell_type": "markdown",
   "metadata": {},
   "source": [
    "Let's look at another example"
   ]
  },
  {
   "cell_type": "code",
   "execution_count": 80,
   "metadata": {
    "ExecuteTime": {
     "end_time": "2020-05-11T07:10:04.498111Z",
     "start_time": "2020-05-11T07:10:04.494830Z"
    }
   },
   "outputs": [],
   "source": [
    "def check_palindrome(string):\n",
    "    if len(string)<=1:\n",
    "        return True\n",
    "\n",
    "    if string[0]==string[-1]:\n",
    "        return check_palindrome(string[1:-1])\n",
    "    else:\n",
    "        return False"
   ]
  },
  {
   "cell_type": "code",
   "execution_count": 81,
   "metadata": {
    "ExecuteTime": {
     "end_time": "2020-05-11T07:10:04.715771Z",
     "start_time": "2020-05-11T07:10:04.711841Z"
    }
   },
   "outputs": [
    {
     "name": "stdout",
     "output_type": "stream",
     "text": [
      "True\n",
      "True\n",
      "False\n"
     ]
    }
   ],
   "source": [
    "print(check_palindrome(\"abcba\"))\n",
    "print(check_palindrome(\"abba\"))\n",
    "print(check_palindrome(\"abcbas\"))"
   ]
  },
  {
   "cell_type": "markdown",
   "metadata": {},
   "source": [
    "## Built-in functions"
   ]
  },
  {
   "cell_type": "markdown",
   "metadata": {},
   "source": [
    "Python provides many built in functions that are always available (as opposed to? Read about imports)."
   ]
  },
  {
   "cell_type": "markdown",
   "metadata": {},
   "source": [
    "The print function"
   ]
  },
  {
   "cell_type": "code",
   "execution_count": 82,
   "metadata": {
    "ExecuteTime": {
     "end_time": "2020-05-11T07:10:05.736824Z",
     "start_time": "2020-05-11T07:10:05.731746Z"
    }
   },
   "outputs": [
    {
     "name": "stdout",
     "output_type": "stream",
     "text": [
      "A single string\n",
      "Still a singlestring is passed\n",
      "Many strings are passed\n",
      "Some may not even be strings : 1 True <built-in function print>\n"
     ]
    }
   ],
   "source": [
    "print(\"A single string\")\n",
    "print(\"Still \"+\"a single\"+\"string is passed\")\n",
    "print(\"Many\",\"strings\",\"are\",\"passed\")\n",
    "print(\"Some may not even be strings :\",1,True,print)"
   ]
  },
  {
   "cell_type": "markdown",
   "metadata": {},
   "source": [
    "The input function (for taking console input)"
   ]
  },
  {
   "cell_type": "code",
   "execution_count": 83,
   "metadata": {
    "ExecuteTime": {
     "end_time": "2020-05-11T07:10:10.972868Z",
     "start_time": "2020-05-11T07:10:06.138722Z"
    }
   },
   "outputs": [
    {
     "name": "stdout",
     "output_type": "stream",
     "text": [
      "Enter your birth year\n",
      "1996\n",
      "You are now  24 years old!\n"
     ]
    }
   ],
   "source": [
    "year=input(\"Enter your birth year\\n\")\n",
    "print(\"You are now \",2020-int(year),\"years old!\")"
   ]
  },
  {
   "cell_type": "code",
   "execution_count": 84,
   "metadata": {
    "ExecuteTime": {
     "end_time": "2020-05-11T07:10:17.231290Z",
     "start_time": "2020-05-11T07:10:10.975055Z"
    }
   },
   "outputs": [
    {
     "name": "stdout",
     "output_type": "stream",
     "text": [
      "Enter your birth year or x to exit\n",
      "1992\n",
      "You are now  28 years old!\n",
      "Enter your birth year or x to exit\n",
      "2001\n",
      "You are now  19 years old!\n",
      "Enter your birth year or x to exit\n",
      "x\n"
     ]
    }
   ],
   "source": [
    "# REPL - Read Eval Print Loop \n",
    "# A common design pattern for interactive command line applications.\n",
    "# When you run the Python interpreter - that's an example of a REPL!\n",
    "# In fact the command line itself is a REPL!\n",
    "while True:\n",
    "    year=input(\"Enter your birth year or x to exit\\n\")\n",
    "    # A good example of break\n",
    "    if year==\"x\":\n",
    "        break\n",
    "    print(\"You are now \",2020-int(year),\"years old!\")"
   ]
  },
  {
   "cell_type": "markdown",
   "metadata": {},
   "source": [
    "Some math related functions"
   ]
  },
  {
   "cell_type": "code",
   "execution_count": 85,
   "metadata": {
    "ExecuteTime": {
     "end_time": "2020-05-11T07:10:17.236808Z",
     "start_time": "2020-05-11T07:10:17.233482Z"
    }
   },
   "outputs": [
    {
     "name": "stdout",
     "output_type": "stream",
     "text": [
      "22.44\n",
      "22.1\n"
     ]
    }
   ],
   "source": [
    "print(abs(-22.44))\n",
    "print(abs(22.1))"
   ]
  },
  {
   "cell_type": "code",
   "execution_count": 86,
   "metadata": {
    "ExecuteTime": {
     "end_time": "2020-05-11T07:10:21.377416Z",
     "start_time": "2020-05-11T07:10:21.373013Z"
    }
   },
   "outputs": [
    {
     "name": "stdout",
     "output_type": "stream",
     "text": [
      "5\n",
      "6\n",
      "1\n",
      "3\n"
     ]
    }
   ],
   "source": [
    "print(max([1,2,4,5]))\n",
    "print(max(6,3))\n",
    "print(min([1,2,4,5]))\n",
    "print(min(6,3))"
   ]
  },
  {
   "cell_type": "code",
   "execution_count": 87,
   "metadata": {
    "ExecuteTime": {
     "end_time": "2020-05-11T07:10:21.786866Z",
     "start_time": "2020-05-11T07:10:21.783727Z"
    }
   },
   "outputs": [
    {
     "name": "stdout",
     "output_type": "stream",
     "text": [
      "3.0\n",
      "15\n"
     ]
    }
   ],
   "source": [
    "print(pow(9,1/2))\n",
    "print(sum([2,5,8]))"
   ]
  },
  {
   "cell_type": "markdown",
   "metadata": {},
   "source": [
    "The len() function"
   ]
  },
  {
   "cell_type": "code",
   "execution_count": 88,
   "metadata": {
    "ExecuteTime": {
     "end_time": "2020-05-11T07:10:22.523572Z",
     "start_time": "2020-05-11T07:10:22.520327Z"
    }
   },
   "outputs": [
    {
     "name": "stdout",
     "output_type": "stream",
     "text": [
      "4\n",
      "9\n"
     ]
    }
   ],
   "source": [
    "print(len([1,2,3,4]))\n",
    "print(len(\"How long?\"))"
   ]
  },
  {
   "cell_type": "markdown",
   "metadata": {},
   "source": [
    "The id() function"
   ]
  },
  {
   "cell_type": "code",
   "execution_count": 89,
   "metadata": {
    "ExecuteTime": {
     "end_time": "2020-05-11T07:10:23.063721Z",
     "start_time": "2020-05-11T07:10:23.059858Z"
    }
   },
   "outputs": [
    {
     "name": "stdout",
     "output_type": "stream",
     "text": [
      "4398318344\n",
      "4398318344\n",
      "True\n"
     ]
    }
   ],
   "source": [
    "x=\"abcd\"\n",
    "y=x\n",
    "print(id(x))\n",
    "print(id(y))\n",
    "print(id(x)==id(y))"
   ]
  },
  {
   "cell_type": "code",
   "execution_count": 90,
   "metadata": {
    "ExecuteTime": {
     "end_time": "2020-05-11T07:10:32.608362Z",
     "start_time": "2020-05-11T07:10:23.346204Z"
    },
    "scrolled": true
   },
   "outputs": [
    {
     "name": "stdout",
     "output_type": "stream",
     "text": [
      "\n",
      "Welcome to Python 3.6's help utility!\n",
      "\n",
      "If this is your first time using Python, you should definitely check out\n",
      "the tutorial on the Internet at https://docs.python.org/3.6/tutorial/.\n",
      "\n",
      "Enter the name of any module, keyword, or topic to get help on writing\n",
      "Python programs and using Python modules.  To quit this help utility and\n",
      "return to the interpreter, just type \"quit\".\n",
      "\n",
      "To get a list of available modules, keywords, symbols, or topics, type\n",
      "\"modules\", \"keywords\", \"symbols\", or \"topics\".  Each module also comes\n",
      "with a one-line summary of what it does; to list the modules whose name\n",
      "or summary contain a given string such as \"spam\", type \"modules spam\".\n",
      "\n",
      "help> str\n",
      "Help on class str in module builtins:\n",
      "\n",
      "class str(object)\n",
      " |  str(object='') -> str\n",
      " |  str(bytes_or_buffer[, encoding[, errors]]) -> str\n",
      " |  \n",
      " |  Create a new string object from the given object. If encoding or\n",
      " |  errors is specified, then the object must expose a data buffer\n",
      " |  that will be decoded using the given encoding and error handler.\n",
      " |  Otherwise, returns the result of object.__str__() (if defined)\n",
      " |  or repr(object).\n",
      " |  encoding defaults to sys.getdefaultencoding().\n",
      " |  errors defaults to 'strict'.\n",
      " |  \n",
      " |  Methods defined here:\n",
      " |  \n",
      " |  __add__(self, value, /)\n",
      " |      Return self+value.\n",
      " |  \n",
      " |  __contains__(self, key, /)\n",
      " |      Return key in self.\n",
      " |  \n",
      " |  __eq__(self, value, /)\n",
      " |      Return self==value.\n",
      " |  \n",
      " |  __format__(...)\n",
      " |      S.__format__(format_spec) -> str\n",
      " |      \n",
      " |      Return a formatted version of S as described by format_spec.\n",
      " |  \n",
      " |  __ge__(self, value, /)\n",
      " |      Return self>=value.\n",
      " |  \n",
      " |  __getattribute__(self, name, /)\n",
      " |      Return getattr(self, name).\n",
      " |  \n",
      " |  __getitem__(self, key, /)\n",
      " |      Return self[key].\n",
      " |  \n",
      " |  __getnewargs__(...)\n",
      " |  \n",
      " |  __gt__(self, value, /)\n",
      " |      Return self>value.\n",
      " |  \n",
      " |  __hash__(self, /)\n",
      " |      Return hash(self).\n",
      " |  \n",
      " |  __iter__(self, /)\n",
      " |      Implement iter(self).\n",
      " |  \n",
      " |  __le__(self, value, /)\n",
      " |      Return self<=value.\n",
      " |  \n",
      " |  __len__(self, /)\n",
      " |      Return len(self).\n",
      " |  \n",
      " |  __lt__(self, value, /)\n",
      " |      Return self<value.\n",
      " |  \n",
      " |  __mod__(self, value, /)\n",
      " |      Return self%value.\n",
      " |  \n",
      " |  __mul__(self, value, /)\n",
      " |      Return self*value.\n",
      " |  \n",
      " |  __ne__(self, value, /)\n",
      " |      Return self!=value.\n",
      " |  \n",
      " |  __new__(*args, **kwargs) from builtins.type\n",
      " |      Create and return a new object.  See help(type) for accurate signature.\n",
      " |  \n",
      " |  __repr__(self, /)\n",
      " |      Return repr(self).\n",
      " |  \n",
      " |  __rmod__(self, value, /)\n",
      " |      Return value%self.\n",
      " |  \n",
      " |  __rmul__(self, value, /)\n",
      " |      Return value*self.\n",
      " |  \n",
      " |  __sizeof__(...)\n",
      " |      S.__sizeof__() -> size of S in memory, in bytes\n",
      " |  \n",
      " |  __str__(self, /)\n",
      " |      Return str(self).\n",
      " |  \n",
      " |  capitalize(...)\n",
      " |      S.capitalize() -> str\n",
      " |      \n",
      " |      Return a capitalized version of S, i.e. make the first character\n",
      " |      have upper case and the rest lower case.\n",
      " |  \n",
      " |  casefold(...)\n",
      " |      S.casefold() -> str\n",
      " |      \n",
      " |      Return a version of S suitable for caseless comparisons.\n",
      " |  \n",
      " |  center(...)\n",
      " |      S.center(width[, fillchar]) -> str\n",
      " |      \n",
      " |      Return S centered in a string of length width. Padding is\n",
      " |      done using the specified fill character (default is a space)\n",
      " |  \n",
      " |  count(...)\n",
      " |      S.count(sub[, start[, end]]) -> int\n",
      " |      \n",
      " |      Return the number of non-overlapping occurrences of substring sub in\n",
      " |      string S[start:end].  Optional arguments start and end are\n",
      " |      interpreted as in slice notation.\n",
      " |  \n",
      " |  encode(...)\n",
      " |      S.encode(encoding='utf-8', errors='strict') -> bytes\n",
      " |      \n",
      " |      Encode S using the codec registered for encoding. Default encoding\n",
      " |      is 'utf-8'. errors may be given to set a different error\n",
      " |      handling scheme. Default is 'strict' meaning that encoding errors raise\n",
      " |      a UnicodeEncodeError. Other possible values are 'ignore', 'replace' and\n",
      " |      'xmlcharrefreplace' as well as any other name registered with\n",
      " |      codecs.register_error that can handle UnicodeEncodeErrors.\n",
      " |  \n",
      " |  endswith(...)\n",
      " |      S.endswith(suffix[, start[, end]]) -> bool\n",
      " |      \n",
      " |      Return True if S ends with the specified suffix, False otherwise.\n",
      " |      With optional start, test S beginning at that position.\n",
      " |      With optional end, stop comparing S at that position.\n",
      " |      suffix can also be a tuple of strings to try.\n",
      " |  \n",
      " |  expandtabs(...)\n",
      " |      S.expandtabs(tabsize=8) -> str\n",
      " |      \n",
      " |      Return a copy of S where all tab characters are expanded using spaces.\n",
      " |      If tabsize is not given, a tab size of 8 characters is assumed.\n",
      " |  \n",
      " |  find(...)\n",
      " |      S.find(sub[, start[, end]]) -> int\n",
      " |      \n",
      " |      Return the lowest index in S where substring sub is found,\n",
      " |      such that sub is contained within S[start:end].  Optional\n",
      " |      arguments start and end are interpreted as in slice notation.\n",
      " |      \n",
      " |      Return -1 on failure.\n",
      " |  \n",
      " |  format(...)\n",
      " |      S.format(*args, **kwargs) -> str\n",
      " |      \n",
      " |      Return a formatted version of S, using substitutions from args and kwargs.\n",
      " |      The substitutions are identified by braces ('{' and '}').\n",
      " |  \n",
      " |  format_map(...)\n",
      " |      S.format_map(mapping) -> str\n",
      " |      \n",
      " |      Return a formatted version of S, using substitutions from mapping.\n",
      " |      The substitutions are identified by braces ('{' and '}').\n",
      " |  \n",
      " |  index(...)\n",
      " |      S.index(sub[, start[, end]]) -> int\n",
      " |      \n",
      " |      Return the lowest index in S where substring sub is found, \n",
      " |      such that sub is contained within S[start:end].  Optional\n",
      " |      arguments start and end are interpreted as in slice notation.\n",
      " |      \n",
      " |      Raises ValueError when the substring is not found.\n",
      " |  \n",
      " |  isalnum(...)\n",
      " |      S.isalnum() -> bool\n",
      " |      \n",
      " |      Return True if all characters in S are alphanumeric\n",
      " |      and there is at least one character in S, False otherwise.\n",
      " |  \n",
      " |  isalpha(...)\n",
      " |      S.isalpha() -> bool\n",
      " |      \n",
      " |      Return True if all characters in S are alphabetic\n",
      " |      and there is at least one character in S, False otherwise.\n",
      " |  \n",
      " |  isdecimal(...)\n",
      " |      S.isdecimal() -> bool\n",
      " |      \n",
      " |      Return True if there are only decimal characters in S,\n",
      " |      False otherwise.\n",
      " |  \n",
      " |  isdigit(...)\n",
      " |      S.isdigit() -> bool\n",
      " |      \n",
      " |      Return True if all characters in S are digits\n",
      " |      and there is at least one character in S, False otherwise.\n",
      " |  \n",
      " |  isidentifier(...)\n",
      " |      S.isidentifier() -> bool\n",
      " |      \n",
      " |      Return True if S is a valid identifier according\n",
      " |      to the language definition.\n",
      " |      \n",
      " |      Use keyword.iskeyword() to test for reserved identifiers\n",
      " |      such as \"def\" and \"class\".\n",
      " |  \n",
      " |  islower(...)\n",
      " |      S.islower() -> bool\n",
      " |      \n",
      " |      Return True if all cased characters in S are lowercase and there is\n",
      " |      at least one cased character in S, False otherwise.\n",
      " |  \n",
      " |  isnumeric(...)\n",
      " |      S.isnumeric() -> bool\n",
      " |      \n",
      " |      Return True if there are only numeric characters in S,\n",
      " |      False otherwise.\n",
      " |  \n",
      " |  isprintable(...)\n",
      " |      S.isprintable() -> bool\n",
      " |      \n",
      " |      Return True if all characters in S are considered\n",
      " |      printable in repr() or S is empty, False otherwise.\n",
      " |  \n",
      " |  isspace(...)\n",
      " |      S.isspace() -> bool\n",
      " |      \n",
      " |      Return True if all characters in S are whitespace\n",
      " |      and there is at least one character in S, False otherwise.\n",
      " |  \n",
      " |  istitle(...)\n",
      " |      S.istitle() -> bool\n",
      " |      \n",
      " |      Return True if S is a titlecased string and there is at least one\n",
      " |      character in S, i.e. upper- and titlecase characters may only\n",
      " |      follow uncased characters and lowercase characters only cased ones.\n",
      " |      Return False otherwise.\n",
      " |  \n",
      " |  isupper(...)\n",
      " |      S.isupper() -> bool\n",
      " |      \n",
      " |      Return True if all cased characters in S are uppercase and there is\n",
      " |      at least one cased character in S, False otherwise.\n",
      " |  \n",
      " |  join(...)\n",
      " |      S.join(iterable) -> str\n",
      " |      \n",
      " |      Return a string which is the concatenation of the strings in the\n",
      " |      iterable.  The separator between elements is S.\n",
      " |  \n",
      " |  ljust(...)\n",
      " |      S.ljust(width[, fillchar]) -> str\n",
      " |      \n",
      " |      Return S left-justified in a Unicode string of length width. Padding is\n",
      " |      done using the specified fill character (default is a space).\n",
      " |  \n",
      " |  lower(...)\n",
      " |      S.lower() -> str\n",
      " |      \n",
      " |      Return a copy of the string S converted to lowercase.\n",
      " |  \n",
      " |  lstrip(...)\n",
      " |      S.lstrip([chars]) -> str\n",
      " |      \n",
      " |      Return a copy of the string S with leading whitespace removed.\n",
      " |      If chars is given and not None, remove characters in chars instead.\n",
      " |  \n",
      " |  partition(...)\n",
      " |      S.partition(sep) -> (head, sep, tail)\n",
      " |      \n",
      " |      Search for the separator sep in S, and return the part before it,\n",
      " |      the separator itself, and the part after it.  If the separator is not\n",
      " |      found, return S and two empty strings.\n",
      " |  \n",
      " |  replace(...)\n",
      " |      S.replace(old, new[, count]) -> str\n",
      " |      \n",
      " |      Return a copy of S with all occurrences of substring\n",
      " |      old replaced by new.  If the optional argument count is\n",
      " |      given, only the first count occurrences are replaced.\n",
      " |  \n",
      " |  rfind(...)\n",
      " |      S.rfind(sub[, start[, end]]) -> int\n",
      " |      \n",
      " |      Return the highest index in S where substring sub is found,\n",
      " |      such that sub is contained within S[start:end].  Optional\n",
      " |      arguments start and end are interpreted as in slice notation.\n",
      " |      \n",
      " |      Return -1 on failure.\n",
      " |  \n",
      " |  rindex(...)\n",
      " |      S.rindex(sub[, start[, end]]) -> int\n",
      " |      \n",
      " |      Return the highest index in S where substring sub is found,\n",
      " |      such that sub is contained within S[start:end].  Optional\n",
      " |      arguments start and end are interpreted as in slice notation.\n",
      " |      \n",
      " |      Raises ValueError when the substring is not found.\n",
      " |  \n",
      " |  rjust(...)\n",
      " |      S.rjust(width[, fillchar]) -> str\n",
      " |      \n",
      " |      Return S right-justified in a string of length width. Padding is\n",
      " |      done using the specified fill character (default is a space).\n",
      " |  \n",
      " |  rpartition(...)\n",
      " |      S.rpartition(sep) -> (head, sep, tail)\n",
      " |      \n",
      " |      Search for the separator sep in S, starting at the end of S, and return\n",
      " |      the part before it, the separator itself, and the part after it.  If the\n",
      " |      separator is not found, return two empty strings and S.\n",
      " |  \n",
      " |  rsplit(...)\n",
      " |      S.rsplit(sep=None, maxsplit=-1) -> list of strings\n",
      " |      \n",
      " |      Return a list of the words in S, using sep as the\n",
      " |      delimiter string, starting at the end of the string and\n",
      " |      working to the front.  If maxsplit is given, at most maxsplit\n",
      " |      splits are done. If sep is not specified, any whitespace string\n",
      " |      is a separator.\n",
      " |  \n",
      " |  rstrip(...)\n",
      " |      S.rstrip([chars]) -> str\n",
      " |      \n",
      " |      Return a copy of the string S with trailing whitespace removed.\n",
      " |      If chars is given and not None, remove characters in chars instead.\n",
      " |  \n",
      " |  split(...)\n",
      " |      S.split(sep=None, maxsplit=-1) -> list of strings\n",
      " |      \n",
      " |      Return a list of the words in S, using sep as the\n",
      " |      delimiter string.  If maxsplit is given, at most maxsplit\n",
      " |      splits are done. If sep is not specified or is None, any\n",
      " |      whitespace string is a separator and empty strings are\n",
      " |      removed from the result.\n",
      " |  \n",
      " |  splitlines(...)\n",
      " |      S.splitlines([keepends]) -> list of strings\n",
      " |      \n",
      " |      Return a list of the lines in S, breaking at line boundaries.\n",
      " |      Line breaks are not included in the resulting list unless keepends\n",
      " |      is given and true.\n",
      " |  \n",
      " |  startswith(...)\n",
      " |      S.startswith(prefix[, start[, end]]) -> bool\n",
      " |      \n",
      " |      Return True if S starts with the specified prefix, False otherwise.\n",
      " |      With optional start, test S beginning at that position.\n",
      " |      With optional end, stop comparing S at that position.\n",
      " |      prefix can also be a tuple of strings to try.\n",
      " |  \n",
      " |  strip(...)\n",
      " |      S.strip([chars]) -> str\n",
      " |      \n",
      " |      Return a copy of the string S with leading and trailing\n",
      " |      whitespace removed.\n",
      " |      If chars is given and not None, remove characters in chars instead.\n",
      " |  \n",
      " |  swapcase(...)\n",
      " |      S.swapcase() -> str\n",
      " |      \n",
      " |      Return a copy of S with uppercase characters converted to lowercase\n",
      " |      and vice versa.\n",
      " |  \n",
      " |  title(...)\n",
      " |      S.title() -> str\n",
      " |      \n",
      " |      Return a titlecased version of S, i.e. words start with title case\n",
      " |      characters, all remaining cased characters have lower case.\n",
      " |  \n",
      " |  translate(...)\n",
      " |      S.translate(table) -> str\n",
      " |      \n",
      " |      Return a copy of the string S in which each character has been mapped\n",
      " |      through the given translation table. The table must implement\n",
      " |      lookup/indexing via __getitem__, for instance a dictionary or list,\n",
      " |      mapping Unicode ordinals to Unicode ordinals, strings, or None. If\n",
      " |      this operation raises LookupError, the character is left untouched.\n",
      " |      Characters mapped to None are deleted.\n",
      " |  \n",
      " |  upper(...)\n",
      " |      S.upper() -> str\n",
      " |      \n",
      " |      Return a copy of S converted to uppercase.\n",
      " |  \n",
      " |  zfill(...)\n",
      " |      S.zfill(width) -> str\n",
      " |      \n",
      " |      Pad a numeric string S with zeros on the left, to fill a field\n",
      " |      of the specified width. The string S is never truncated.\n",
      " |  \n",
      " |  ----------------------------------------------------------------------\n",
      " |  Static methods defined here:\n",
      " |  \n",
      " |  maketrans(x, y=None, z=None, /)\n",
      " |      Return a translation table usable for str.translate().\n",
      " |      \n",
      " |      If there is only one argument, it must be a dictionary mapping Unicode\n",
      " |      ordinals (integers) or characters to Unicode ordinals, strings or None.\n",
      " |      Character keys will be then converted to ordinals.\n",
      " |      If there are two arguments, they must be strings of equal length, and\n",
      " |      in the resulting dictionary, each character in x will be mapped to the\n",
      " |      character at the same position in y. If there is a third argument, it\n",
      " |      must be a string, whose characters will be mapped to None in the result.\n",
      "\n"
     ]
    },
    {
     "name": "stdout",
     "output_type": "stream",
     "text": [
      "\n",
      "You are now leaving help and returning to the Python interpreter.\n",
      "If you want to ask for help on a particular object directly from the\n",
      "interpreter, you can type \"help(object)\".  Executing \"help('string')\"\n",
      "has the same effect as typing a particular string at the help> prompt.\n"
     ]
    }
   ],
   "source": [
    "help()"
   ]
  },
  {
   "cell_type": "markdown",
   "metadata": {},
   "source": [
    "See this [link](https://docs.python.org/3/library/functions.html) for the full list of built-in functions."
   ]
  },
  {
   "cell_type": "markdown",
   "metadata": {},
   "source": [
    "# Classes, Objects, Attributes & Methods (15 min)"
   ]
  },
  {
   "cell_type": "markdown",
   "metadata": {},
   "source": [
    "* You saw that functions were a way to \"pack up\" some piece of logic.\n",
    "* What if you want to \"pack up\" both logic and data?\n",
    "* We won't be writing classes but we will be using them so it's important that you get a basic grasp of **classes, objects, constructors, attributes and methods**"
   ]
  },
  {
   "cell_type": "code",
   "execution_count": 113,
   "metadata": {
    "ExecuteTime": {
     "end_time": "2020-05-11T07:57:02.878968Z",
     "start_time": "2020-05-11T07:57:02.871697Z"
    }
   },
   "outputs": [],
   "source": [
    "# you define a class just like you define a function\n",
    "class Family:\n",
    "    \n",
    "    # the constructor of the class\n",
    "    # the constructor is where you do setup for the object\n",
    "    # usually this means to define attributes of the object\n",
    "    def __init__(self,father_name,mother_name,children_names,\n",
    "                 children_ages,home_address):\n",
    "        # self refers to the current object\n",
    "        # you can define new attributes inside the object just like you\n",
    "        # define variables in Python\n",
    "        self.father_name=father_name\n",
    "        self.mother_name=mother_name\n",
    "        self.children_names=children_names\n",
    "        self.children_ages=children_ages\n",
    "        self.home_address=home_address\n",
    "        \n",
    "    # this is a method - notice the first argument is always self\n",
    "    # self is an implicit argument which you don't have to pass\n",
    "    # when calling the method.\n",
    "    def print_diwali_invitation(self):\n",
    "        print(\"*\"*25)\n",
    "        print(\"Hello, please come for our Diwali celebration at \"+\n",
    "                self.home_address)\n",
    "        print(\"from\")\n",
    "        print(self.mother_name+\" and \"+self.father_name)\n",
    "        print(\"and our wonderful children\")\n",
    "        namestring=\"\"\n",
    "        for childname in self.children_names:\n",
    "            namestring+=childname+\",\"\n",
    "        namestring=namestring[:-1]\n",
    "        print(namestring)\n",
    "        print(\"*\"*25)\n",
    "        \n",
    "    def return_youngest_child(self):\n",
    "        min_index=0\n",
    "        min_age=1000\n",
    "        for i in range(0,len(self.children_names)):\n",
    "            if self.children_ages[i]<min_age:\n",
    "                min_age=self.children_ages[i]\n",
    "                min_index=i\n",
    "        return self.children_names[min_index], min_age\n",
    "    \n",
    "    def change_address(self, new_address):\n",
    "        self.home_address=new_address"
   ]
  },
  {
   "cell_type": "markdown",
   "metadata": {},
   "source": [
    "* A class is a template or blueprint to pack some data and logic.\n",
    "* Think of it as a blueprint for a box of \"subvariables\" called \"attributes\" and \"subfunctions\" called methods. \n",
    "* Generally methods will operate on the attributes - that's why we pack them together."
   ]
  },
  {
   "cell_type": "code",
   "execution_count": 92,
   "metadata": {
    "ExecuteTime": {
     "end_time": "2020-05-11T07:10:37.744727Z",
     "start_time": "2020-05-11T07:10:37.741873Z"
    }
   },
   "outputs": [],
   "source": [
    "sharmas=Family(\"Ram Sharma\",\"Kusum Sharma\",\n",
    "               [\"Ravi Sharma\",\"Rani Sharma\",\"Komal Sharma\"],\n",
    "               [21,15,9],\"Geetanjali Residency, Kondapur, Hyderabad\")"
   ]
  },
  {
   "cell_type": "markdown",
   "metadata": {},
   "source": [
    "* You instantiate a class using the following syntax\n",
    "\n",
    "```\n",
    "x=ClassName(arg1,arg2,arg3...)\n",
    "```\n",
    "\n",
    "* What you get is an \"object\" which is a particular instance of a class.\n",
    "* That is, you took the blueprint and made a real box and filled it with real data. "
   ]
  },
  {
   "cell_type": "code",
   "execution_count": 100,
   "metadata": {
    "ExecuteTime": {
     "end_time": "2020-05-11T07:14:08.942157Z",
     "start_time": "2020-05-11T07:14:08.939380Z"
    }
   },
   "outputs": [],
   "source": [
    "vijs=Family(\"Prateek Vij\",\"Kareena Vij\",\n",
    "            [\"Lucky Vij\",\"Ravi Vij\"],[13,5],\n",
    "            \"Geetanjali Residency, Kondapur, Hyderabad\")"
   ]
  },
  {
   "cell_type": "markdown",
   "metadata": {},
   "source": [
    "* You can create another box - i.e. another object - it has the same blueprint (same attributes, methods) but different values for data.\n",
    "* The functions (logic) however remains the same."
   ]
  },
  {
   "cell_type": "code",
   "execution_count": 101,
   "metadata": {
    "ExecuteTime": {
     "end_time": "2020-05-11T07:16:10.087933Z",
     "start_time": "2020-05-11T07:16:10.085039Z"
    }
   },
   "outputs": [
    {
     "name": "stdout",
     "output_type": "stream",
     "text": [
      "['Ravi Sharma', 'Rani Sharma', 'Komal Sharma']\n"
     ]
    }
   ],
   "source": [
    "# You can access the attributes/data in an object using \".\" notation\n",
    "print(sharmas.children_names)"
   ]
  },
  {
   "cell_type": "code",
   "execution_count": 102,
   "metadata": {
    "ExecuteTime": {
     "end_time": "2020-05-11T07:16:53.193604Z",
     "start_time": "2020-05-11T07:16:53.189836Z"
    }
   },
   "outputs": [
    {
     "name": "stdout",
     "output_type": "stream",
     "text": [
      "*************************\n",
      "Hello, please come for our Diwali celebration at Geetanjali Residency, Kondapur, Hyderabad\n",
      "from\n",
      "Kusum Sharma and Ram Sharma\n",
      "and our wonderful children\n",
      "Ravi Sharma,Rani Sharma,Komal Sharma\n",
      "*************************\n"
     ]
    }
   ],
   "source": [
    "# You can access the methods/logic in an object also using \".\" notation\n",
    "sharmas.print_diwali_invitation()"
   ]
  },
  {
   "cell_type": "code",
   "execution_count": 103,
   "metadata": {
    "ExecuteTime": {
     "end_time": "2020-05-11T07:18:40.043838Z",
     "start_time": "2020-05-11T07:18:40.039898Z"
    }
   },
   "outputs": [
    {
     "name": "stdout",
     "output_type": "stream",
     "text": [
      "*************************\n",
      "Hello, please come for our Diwali celebration at Geetanjali Residency, Kondapur, Hyderabad\n",
      "from\n",
      "Kusum Sharma and Ram Sharma\n",
      "and our wonderful children\n",
      "Ravi Sharma,Rani Sharma,Komal Sharma\n",
      "*************************\n",
      "*************************\n",
      "Hello, please come for our Diwali celebration at Geetanjali Residency, Kondapur, Hyderabad\n",
      "from\n",
      "Kareena Vij and Prateek Vij\n",
      "and our wonderful children\n",
      "Lucky Vij,Ravi Vij\n",
      "*************************\n"
     ]
    }
   ],
   "source": [
    "# We need classes and objects so we can have different values of attributes,\n",
    "# and then run the same logic on them.\n",
    "sharmas.print_diwali_invitation()\n",
    "vijs.print_diwali_invitation()"
   ]
  },
  {
   "cell_type": "markdown",
   "metadata": {},
   "source": [
    "* Let's look at how we created an object again.\n",
    "* This looks like a function call.\n",
    "* Actually you are calling the \"constructor\" of the class\n",
    "    * This is the \"subfunction\" ``__init__`` in the definition of the class.\n",
    "    * So you have to pass all the arguments of the constructor just like a function.\n",
    "    * Except the first argument - ``self``. You don't have to pass ``self``, Python does that automatically for you.\n",
    "* The constructor is where you do setup for the object.\n",
    "    * Usually this means just creating the attributes of the object\n",
    "    * You can create a new attribute for an object anytime by writing ``objectvariable.new_attr=\"some value\"``.\n",
    "    * Within the constructor of course the variable for the object is ``self`` so you write ``self.new_attr=\"some value\"``. \n",
    "    * Technically, you don't need to setup attributes in the constructor - you can do it later also. Like you can have a method like ``family.setup_attributes(\"...\"....)``. \n",
    "    * But obviously that doesn't make sense, when the constructor is meant for doing setup work."
   ]
  },
  {
   "cell_type": "code",
   "execution_count": 106,
   "metadata": {
    "ExecuteTime": {
     "end_time": "2020-05-11T07:33:34.776472Z",
     "start_time": "2020-05-11T07:33:34.773810Z"
    }
   },
   "outputs": [],
   "source": [
    "# notice : same arguments as __init__\n",
    "# notice : self was not passed\n",
    "vijs=Family(\"Prateek Vij\",\"Kareena Vij\",\n",
    "            [\"Lucky Vij\",\"Ravi Vij\"],[13,5],\n",
    "            \"Geetanjali Residency, Kondapur, Hyderabad\")"
   ]
  },
  {
   "cell_type": "code",
   "execution_count": 107,
   "metadata": {
    "ExecuteTime": {
     "end_time": "2020-05-11T07:33:43.724856Z",
     "start_time": "2020-05-11T07:33:43.721035Z"
    }
   },
   "outputs": [
    {
     "data": {
      "text/plain": [
       "['__class__',\n",
       " '__delattr__',\n",
       " '__dict__',\n",
       " '__dir__',\n",
       " '__doc__',\n",
       " '__eq__',\n",
       " '__format__',\n",
       " '__ge__',\n",
       " '__getattribute__',\n",
       " '__gt__',\n",
       " '__hash__',\n",
       " '__init__',\n",
       " '__init_subclass__',\n",
       " '__le__',\n",
       " '__lt__',\n",
       " '__module__',\n",
       " '__ne__',\n",
       " '__new__',\n",
       " '__reduce__',\n",
       " '__reduce_ex__',\n",
       " '__repr__',\n",
       " '__setattr__',\n",
       " '__sizeof__',\n",
       " '__str__',\n",
       " '__subclasshook__',\n",
       " '__weakref__',\n",
       " 'change_address',\n",
       " 'children_ages',\n",
       " 'children_names',\n",
       " 'father_name',\n",
       " 'home_address',\n",
       " 'mother_name',\n",
       " 'print_diwali_invitation',\n",
       " 'return_youngest_child']"
      ]
     },
     "execution_count": 107,
     "metadata": {},
     "output_type": "execute_result"
    }
   ],
   "source": [
    "# If you use the dir function, you can see all methods and attributes\n",
    "dir(vijs)"
   ]
  },
  {
   "cell_type": "code",
   "execution_count": 110,
   "metadata": {
    "ExecuteTime": {
     "end_time": "2020-05-11T07:36:08.985978Z",
     "start_time": "2020-05-11T07:36:08.982429Z"
    }
   },
   "outputs": [
    {
     "name": "stdout",
     "output_type": "stream",
     "text": [
      "True\n"
     ]
    }
   ],
   "source": [
    "# just like in the constructor we wrote self.father_name=father_name \n",
    "# we can add attributes here too\n",
    "# as long as we have a variable containing/pointing to the object\n",
    "vijs.has_dog=True\n",
    "print(vijs.has_dog)\n",
    "# will \"has_dog\" appear when we run dir(vijs) now?"
   ]
  },
  {
   "cell_type": "code",
   "execution_count": 112,
   "metadata": {
    "ExecuteTime": {
     "end_time": "2020-05-11T07:37:26.923792Z",
     "start_time": "2020-05-11T07:37:26.920170Z"
    }
   },
   "outputs": [
    {
     "name": "stdout",
     "output_type": "stream",
     "text": [
      "Lumbini Enclave, Whitefields, Hyderabad\n",
      "Geetanjali Residency, Kondapur, Hyderabad\n"
     ]
    }
   ],
   "source": [
    "# generally you'll have this sort of pattern to change attributes of an object\n",
    "sharmas.change_address(\"Lumbini Enclave, Whitefields, Hyderabad\")\n",
    "print(sharmas.home_address)\n",
    "# although we can even do it like this\n",
    "sharmas.home_address=\"Geetanjali Residency, Kondapur, Hyderabad\"\n",
    "print(sharmas.home_address)"
   ]
  },
  {
   "cell_type": "markdown",
   "metadata": {},
   "source": [
    "* Everything that was said about positional arguments, keyword arguments, return values etc for **functions** applies to methods and the constructor as well."
   ]
  },
  {
   "cell_type": "markdown",
   "metadata": {},
   "source": [
    "* Now you understand that a class is just a way **to pack some data with functions**.\n",
    "* So, now we can tell you a secret -- In Python everything is an object! We will deal with this in detail in the next section!"
   ]
  },
  {
   "cell_type": "markdown",
   "metadata": {},
   "source": [
    "# End of Module 1 !"
   ]
  },
  {
   "cell_type": "markdown",
   "metadata": {},
   "source": [
    "Congratulations, now you know a little bit about everything!\n",
    "\n",
    "* Datatypes (Numbers,Strings,Booleans)\n",
    "* Operators\n",
    "* Variables\n",
    "* Assignments\n",
    "* Conditional Statements (if...else)\n",
    "* Loops (while and for)\n",
    "* Data Structures (Lists)\n",
    "* Functions\n",
    "* Classes, Objects, Attributes and Methods\n",
    "\n",
    "But there were many things that are missing because they require a mix of all these concepts. So we will cover them in the next section!\n",
    "\n",
    "* Instructor Note : Now would be a good time to quickly revise Part 1."
   ]
  }
 ],
 "metadata": {
  "hide_input": false,
  "kernelspec": {
   "display_name": "Python 3",
   "language": "python",
   "name": "python3"
  },
  "language_info": {
   "codemirror_mode": {
    "name": "ipython",
    "version": 3
   },
   "file_extension": ".py",
   "mimetype": "text/x-python",
   "name": "python",
   "nbconvert_exporter": "python",
   "pygments_lexer": "ipython3",
   "version": "3.6.9"
  },
  "toc": {
   "base_numbering": 1,
   "nav_menu": {},
   "number_sections": true,
   "sideBar": true,
   "skip_h1_title": false,
   "title_cell": "Table of Contents",
   "title_sidebar": "Contents",
   "toc_cell": false,
   "toc_position": {},
   "toc_section_display": true,
   "toc_window_display": false
  }
 },
 "nbformat": 4,
 "nbformat_minor": 2
}
