{
 "cells": [
  {
   "cell_type": "code",
   "execution_count": 2,
   "metadata": {},
   "outputs": [],
   "source": [
    "import pandas as pd\n",
    "import numpy as np"
   ]
  },
  {
   "cell_type": "code",
   "execution_count": 3,
   "metadata": {},
   "outputs": [
    {
     "data": {
      "text/html": [
       "<div>\n",
       "<style scoped>\n",
       "    .dataframe tbody tr th:only-of-type {\n",
       "        vertical-align: middle;\n",
       "    }\n",
       "\n",
       "    .dataframe tbody tr th {\n",
       "        vertical-align: top;\n",
       "    }\n",
       "\n",
       "    .dataframe thead th {\n",
       "        text-align: right;\n",
       "    }\n",
       "</style>\n",
       "<table border=\"1\" class=\"dataframe\">\n",
       "  <thead>\n",
       "    <tr style=\"text-align: right;\">\n",
       "      <th></th>\n",
       "      <th>first_name</th>\n",
       "      <th>last_name</th>\n",
       "      <th>age</th>\n",
       "      <th>company</th>\n",
       "      <th>gender</th>\n",
       "      <th>car</th>\n",
       "      <th>car_purchase_data</th>\n",
       "    </tr>\n",
       "  </thead>\n",
       "  <tbody>\n",
       "    <tr>\n",
       "      <th>0</th>\n",
       "      <td>Bank</td>\n",
       "      <td>Benz</td>\n",
       "      <td>67</td>\n",
       "      <td>Flipkart</td>\n",
       "      <td>Male</td>\n",
       "      <td>Creta</td>\n",
       "      <td>7/7/2016</td>\n",
       "    </tr>\n",
       "    <tr>\n",
       "      <th>1</th>\n",
       "      <td>Livvy</td>\n",
       "      <td>McCrostie</td>\n",
       "      <td>53</td>\n",
       "      <td>Flipkart</td>\n",
       "      <td>Female</td>\n",
       "      <td>Creta</td>\n",
       "      <td>4/29/2019</td>\n",
       "    </tr>\n",
       "    <tr>\n",
       "      <th>2</th>\n",
       "      <td>Loydie</td>\n",
       "      <td>Charlet</td>\n",
       "      <td>61</td>\n",
       "      <td>Flipkart</td>\n",
       "      <td>Male</td>\n",
       "      <td>Swift Dzire</td>\n",
       "      <td>7/6/2018</td>\n",
       "    </tr>\n",
       "    <tr>\n",
       "      <th>3</th>\n",
       "      <td>Letti</td>\n",
       "      <td>De Clairmont</td>\n",
       "      <td>60</td>\n",
       "      <td>Microsoft</td>\n",
       "      <td>Female</td>\n",
       "      <td>i20</td>\n",
       "      <td>9/30/2017</td>\n",
       "    </tr>\n",
       "    <tr>\n",
       "      <th>4</th>\n",
       "      <td>Bili</td>\n",
       "      <td>Mebes</td>\n",
       "      <td>45</td>\n",
       "      <td>Flipkart</td>\n",
       "      <td>Female</td>\n",
       "      <td>Creta</td>\n",
       "      <td>6/7/2017</td>\n",
       "    </tr>\n",
       "  </tbody>\n",
       "</table>\n",
       "</div>"
      ],
      "text/plain": [
       "  first_name     last_name  age    company  gender          car  \\\n",
       "0       Bank          Benz   67   Flipkart    Male        Creta   \n",
       "1      Livvy     McCrostie   53   Flipkart  Female        Creta   \n",
       "2     Loydie       Charlet   61   Flipkart    Male  Swift Dzire   \n",
       "3      Letti  De Clairmont   60  Microsoft  Female          i20   \n",
       "4       Bili         Mebes   45   Flipkart  Female        Creta   \n",
       "\n",
       "  car_purchase_data  \n",
       "0          7/7/2016  \n",
       "1         4/29/2019  \n",
       "2          7/6/2018  \n",
       "3         9/30/2017  \n",
       "4          6/7/2017  "
      ]
     },
     "execution_count": 3,
     "metadata": {},
     "output_type": "execute_result"
    }
   ],
   "source": [
    "df = pd.read_csv('cardata.csv')\n",
    "df.head()"
   ]
  },
  {
   "cell_type": "code",
   "execution_count": 4,
   "metadata": {},
   "outputs": [
    {
     "name": "stdout",
     "output_type": "stream",
     "text": [
      "<class 'pandas.core.frame.DataFrame'>\n",
      "RangeIndex: 200 entries, 0 to 199\n",
      "Data columns (total 7 columns):\n",
      " #   Column             Non-Null Count  Dtype \n",
      "---  ------             --------------  ----- \n",
      " 0   first_name         200 non-null    object\n",
      " 1   last_name          200 non-null    object\n",
      " 2   age                200 non-null    int64 \n",
      " 3   company            200 non-null    object\n",
      " 4   gender             200 non-null    object\n",
      " 5   car                200 non-null    object\n",
      " 6   car_purchase_data  200 non-null    object\n",
      "dtypes: int64(1), object(6)\n",
      "memory usage: 11.1+ KB\n"
     ]
    }
   ],
   "source": [
    "df.info()"
   ]
  },
  {
   "cell_type": "code",
   "execution_count": 5,
   "metadata": {},
   "outputs": [
    {
     "data": {
      "text/html": [
       "<div>\n",
       "<style scoped>\n",
       "    .dataframe tbody tr th:only-of-type {\n",
       "        vertical-align: middle;\n",
       "    }\n",
       "\n",
       "    .dataframe tbody tr th {\n",
       "        vertical-align: top;\n",
       "    }\n",
       "\n",
       "    .dataframe thead th {\n",
       "        text-align: right;\n",
       "    }\n",
       "</style>\n",
       "<table border=\"1\" class=\"dataframe\">\n",
       "  <thead>\n",
       "    <tr style=\"text-align: right;\">\n",
       "      <th></th>\n",
       "      <th>age</th>\n",
       "    </tr>\n",
       "  </thead>\n",
       "  <tbody>\n",
       "    <tr>\n",
       "      <th>count</th>\n",
       "      <td>200.000000</td>\n",
       "    </tr>\n",
       "    <tr>\n",
       "      <th>mean</th>\n",
       "      <td>53.430000</td>\n",
       "    </tr>\n",
       "    <tr>\n",
       "      <th>std</th>\n",
       "      <td>10.373192</td>\n",
       "    </tr>\n",
       "    <tr>\n",
       "      <th>min</th>\n",
       "      <td>35.000000</td>\n",
       "    </tr>\n",
       "    <tr>\n",
       "      <th>25%</th>\n",
       "      <td>45.000000</td>\n",
       "    </tr>\n",
       "    <tr>\n",
       "      <th>50%</th>\n",
       "      <td>54.500000</td>\n",
       "    </tr>\n",
       "    <tr>\n",
       "      <th>75%</th>\n",
       "      <td>62.000000</td>\n",
       "    </tr>\n",
       "    <tr>\n",
       "      <th>max</th>\n",
       "      <td>70.000000</td>\n",
       "    </tr>\n",
       "  </tbody>\n",
       "</table>\n",
       "</div>"
      ],
      "text/plain": [
       "              age\n",
       "count  200.000000\n",
       "mean    53.430000\n",
       "std     10.373192\n",
       "min     35.000000\n",
       "25%     45.000000\n",
       "50%     54.500000\n",
       "75%     62.000000\n",
       "max     70.000000"
      ]
     },
     "execution_count": 5,
     "metadata": {},
     "output_type": "execute_result"
    }
   ],
   "source": [
    "df.describe()"
   ]
  },
  {
   "cell_type": "code",
   "execution_count": 6,
   "metadata": {},
   "outputs": [
    {
     "data": {
      "text/html": [
       "<div>\n",
       "<style scoped>\n",
       "    .dataframe tbody tr th:only-of-type {\n",
       "        vertical-align: middle;\n",
       "    }\n",
       "\n",
       "    .dataframe tbody tr th {\n",
       "        vertical-align: top;\n",
       "    }\n",
       "\n",
       "    .dataframe thead th {\n",
       "        text-align: right;\n",
       "    }\n",
       "</style>\n",
       "<table border=\"1\" class=\"dataframe\">\n",
       "  <thead>\n",
       "    <tr style=\"text-align: right;\">\n",
       "      <th></th>\n",
       "      <th>first_name</th>\n",
       "      <th>last_name</th>\n",
       "      <th>age</th>\n",
       "      <th>company</th>\n",
       "      <th>gender</th>\n",
       "      <th>car</th>\n",
       "      <th>car_purchase_data</th>\n",
       "    </tr>\n",
       "  </thead>\n",
       "  <tbody>\n",
       "    <tr>\n",
       "      <th>0</th>\n",
       "      <td>Bank</td>\n",
       "      <td>Benz</td>\n",
       "      <td>67</td>\n",
       "      <td>Flipkart</td>\n",
       "      <td>Male</td>\n",
       "      <td>Creta</td>\n",
       "      <td>7/7/2016</td>\n",
       "    </tr>\n",
       "    <tr>\n",
       "      <th>1</th>\n",
       "      <td>Livvy</td>\n",
       "      <td>McCrostie</td>\n",
       "      <td>53</td>\n",
       "      <td>Flipkart</td>\n",
       "      <td>Female</td>\n",
       "      <td>Creta</td>\n",
       "      <td>4/29/2019</td>\n",
       "    </tr>\n",
       "    <tr>\n",
       "      <th>2</th>\n",
       "      <td>Loydie</td>\n",
       "      <td>Charlet</td>\n",
       "      <td>61</td>\n",
       "      <td>Flipkart</td>\n",
       "      <td>Male</td>\n",
       "      <td>Swift Dzire</td>\n",
       "      <td>7/6/2018</td>\n",
       "    </tr>\n",
       "    <tr>\n",
       "      <th>3</th>\n",
       "      <td>Letti</td>\n",
       "      <td>De Clairmont</td>\n",
       "      <td>60</td>\n",
       "      <td>Microsoft</td>\n",
       "      <td>Female</td>\n",
       "      <td>i20</td>\n",
       "      <td>9/30/2017</td>\n",
       "    </tr>\n",
       "    <tr>\n",
       "      <th>4</th>\n",
       "      <td>Bili</td>\n",
       "      <td>Mebes</td>\n",
       "      <td>45</td>\n",
       "      <td>Flipkart</td>\n",
       "      <td>Female</td>\n",
       "      <td>Creta</td>\n",
       "      <td>6/7/2017</td>\n",
       "    </tr>\n",
       "  </tbody>\n",
       "</table>\n",
       "</div>"
      ],
      "text/plain": [
       "  first_name     last_name  age    company  gender          car  \\\n",
       "0       Bank          Benz   67   Flipkart    Male        Creta   \n",
       "1      Livvy     McCrostie   53   Flipkart  Female        Creta   \n",
       "2     Loydie       Charlet   61   Flipkart    Male  Swift Dzire   \n",
       "3      Letti  De Clairmont   60  Microsoft  Female          i20   \n",
       "4       Bili         Mebes   45   Flipkart  Female        Creta   \n",
       "\n",
       "  car_purchase_data  \n",
       "0          7/7/2016  \n",
       "1         4/29/2019  \n",
       "2          7/6/2018  \n",
       "3         9/30/2017  \n",
       "4          6/7/2017  "
      ]
     },
     "metadata": {},
     "output_type": "display_data"
    }
   ],
   "source": [
    "display(df.head())"
   ]
  },
  {
   "cell_type": "code",
   "execution_count": 7,
   "metadata": {},
   "outputs": [
    {
     "data": {
      "text/plain": [
       "0            Creta\n",
       "1            Creta\n",
       "2      Swift Dzire\n",
       "3              i20\n",
       "4            Creta\n",
       "          ...     \n",
       "195          Creta\n",
       "196         Baleno\n",
       "197          Creta\n",
       "198         Baleno\n",
       "199       Alto 800\n",
       "Name: car, Length: 200, dtype: object"
      ]
     },
     "execution_count": 7,
     "metadata": {},
     "output_type": "execute_result"
    }
   ],
   "source": [
    "df['car']"
   ]
  },
  {
   "cell_type": "code",
   "execution_count": 96,
   "metadata": {},
   "outputs": [
    {
     "data": {
      "text/plain": [
       "array(['Creta', 'Swift Dzire', 'i20', 'Alto 800', 'Baleno'], dtype=object)"
      ]
     },
     "execution_count": 96,
     "metadata": {},
     "output_type": "execute_result"
    }
   ],
   "source": [
    "df.loc[:, 'car'].unique()"
   ]
  },
  {
   "cell_type": "code",
   "execution_count": 11,
   "metadata": {},
   "outputs": [
    {
     "name": "stdout",
     "output_type": "stream",
     "text": [
      "['Creta', 'Swift Dzire', 'i20', 'Alto 800', 'Baleno']\n"
     ]
    }
   ],
   "source": [
    "c= []\n",
    "for x in df['car']:\n",
    "    if x not in c:\n",
    "        c.append(x)\n",
    "print(c)"
   ]
  },
  {
   "cell_type": "code",
   "execution_count": 13,
   "metadata": {},
   "outputs": [
    {
     "data": {
      "text/plain": [
       "method"
      ]
     },
     "execution_count": 13,
     "metadata": {},
     "output_type": "execute_result"
    }
   ],
   "source": [
    "type(df.describe()['age'].min)"
   ]
  },
  {
   "cell_type": "code",
   "execution_count": 18,
   "metadata": {},
   "outputs": [
    {
     "data": {
      "text/plain": [
       "['35-40', '40-45', '45-50', '50-55', '55-60', '60-65', '65-70']"
      ]
     },
     "execution_count": 18,
     "metadata": {},
     "output_type": "execute_result"
    }
   ],
   "source": [
    "c=[]\n",
    "for i in range(df['age'].min(), df['age'].max(), 5):\n",
    "    c.append(str(i)+'-'+str(i+5))\n",
    "c"
   ]
  },
  {
   "cell_type": "code",
   "execution_count": 26,
   "metadata": {},
   "outputs": [
    {
     "data": {
      "text/plain": [
       "Swift Dzire    50\n",
       "Baleno         40\n",
       "i20            39\n",
       "Alto 800       37\n",
       "Creta          34\n",
       "Name: car, dtype: int64"
      ]
     },
     "execution_count": 26,
     "metadata": {},
     "output_type": "execute_result"
    }
   ],
   "source": [
    "df['car'].value_counts()"
   ]
  },
  {
   "cell_type": "code",
   "execution_count": 32,
   "metadata": {},
   "outputs": [
    {
     "name": "stdout",
     "output_type": "stream",
     "text": [
      "50\n",
      "40\n",
      "39\n",
      "37\n",
      "34\n"
     ]
    }
   ],
   "source": [
    "for x in df['car'].value_counts():\n",
    "    print(x)"
   ]
  },
  {
   "cell_type": "code",
   "execution_count": 33,
   "metadata": {},
   "outputs": [],
   "source": [
    "x = df['car'].value_counts()\n",
    "x=x.reset_index()"
   ]
  },
  {
   "cell_type": "code",
   "execution_count": 34,
   "metadata": {},
   "outputs": [
    {
     "data": {
      "text/html": [
       "<div>\n",
       "<style scoped>\n",
       "    .dataframe tbody tr th:only-of-type {\n",
       "        vertical-align: middle;\n",
       "    }\n",
       "\n",
       "    .dataframe tbody tr th {\n",
       "        vertical-align: top;\n",
       "    }\n",
       "\n",
       "    .dataframe thead th {\n",
       "        text-align: right;\n",
       "    }\n",
       "</style>\n",
       "<table border=\"1\" class=\"dataframe\">\n",
       "  <thead>\n",
       "    <tr style=\"text-align: right;\">\n",
       "      <th></th>\n",
       "      <th>index</th>\n",
       "      <th>car</th>\n",
       "    </tr>\n",
       "  </thead>\n",
       "  <tbody>\n",
       "    <tr>\n",
       "      <th>0</th>\n",
       "      <td>Swift Dzire</td>\n",
       "      <td>50</td>\n",
       "    </tr>\n",
       "    <tr>\n",
       "      <th>1</th>\n",
       "      <td>Baleno</td>\n",
       "      <td>40</td>\n",
       "    </tr>\n",
       "    <tr>\n",
       "      <th>2</th>\n",
       "      <td>i20</td>\n",
       "      <td>39</td>\n",
       "    </tr>\n",
       "    <tr>\n",
       "      <th>3</th>\n",
       "      <td>Alto 800</td>\n",
       "      <td>37</td>\n",
       "    </tr>\n",
       "    <tr>\n",
       "      <th>4</th>\n",
       "      <td>Creta</td>\n",
       "      <td>34</td>\n",
       "    </tr>\n",
       "  </tbody>\n",
       "</table>\n",
       "</div>"
      ],
      "text/plain": [
       "         index  car\n",
       "0  Swift Dzire   50\n",
       "1       Baleno   40\n",
       "2          i20   39\n",
       "3     Alto 800   37\n",
       "4        Creta   34"
      ]
     },
     "execution_count": 34,
     "metadata": {},
     "output_type": "execute_result"
    }
   ],
   "source": [
    "x"
   ]
  },
  {
   "cell_type": "code",
   "execution_count": 51,
   "metadata": {},
   "outputs": [
    {
     "data": {
      "text/plain": [
       "Swift Dzire    50\n",
       "Baleno         40\n",
       "i20            39\n",
       "Alto 800       37\n",
       "Creta          34\n",
       "Name: car, dtype: int64"
      ]
     },
     "execution_count": 51,
     "metadata": {},
     "output_type": "execute_result"
    }
   ],
   "source": [
    "x = df['car'].value_counts()\n",
    "#x=x.reset_index()\n",
    "x"
   ]
  },
  {
   "cell_type": "code",
   "execution_count": 52,
   "metadata": {},
   "outputs": [
    {
     "name": "stdout",
     "output_type": "stream",
     "text": [
      "Swift Dzire    50\n",
      "Baleno         40\n",
      "i20            39\n",
      "Alto 800       37\n",
      "Creta          34\n",
      "Name: car, dtype: int64\n",
      "<class 'pandas.core.series.Series'>\n"
     ]
    }
   ],
   "source": [
    "print(x)\n",
    "print(type(x))"
   ]
  },
  {
   "cell_type": "code",
   "execution_count": 53,
   "metadata": {},
   "outputs": [],
   "source": [
    "y=x.reset_index()"
   ]
  },
  {
   "cell_type": "code",
   "execution_count": 54,
   "metadata": {},
   "outputs": [
    {
     "data": {
      "text/plain": [
       "Swift Dzire    50\n",
       "Baleno         40\n",
       "i20            39\n",
       "Alto 800       37\n",
       "Creta          34\n",
       "Name: car, dtype: int64"
      ]
     },
     "execution_count": 54,
     "metadata": {},
     "output_type": "execute_result"
    }
   ],
   "source": [
    "x"
   ]
  },
  {
   "cell_type": "code",
   "execution_count": 55,
   "metadata": {},
   "outputs": [
    {
     "data": {
      "text/plain": [
       "pandas.core.series.Series"
      ]
     },
     "execution_count": 55,
     "metadata": {},
     "output_type": "execute_result"
    }
   ],
   "source": [
    "type(x)"
   ]
  },
  {
   "cell_type": "code",
   "execution_count": 56,
   "metadata": {},
   "outputs": [
    {
     "data": {
      "text/plain": [
       "39"
      ]
     },
     "execution_count": 56,
     "metadata": {},
     "output_type": "execute_result"
    }
   ],
   "source": [
    "x['i20']"
   ]
  },
  {
   "cell_type": "code",
   "execution_count": 57,
   "metadata": {},
   "outputs": [
    {
     "data": {
      "text/plain": [
       "50"
      ]
     },
     "execution_count": 57,
     "metadata": {},
     "output_type": "execute_result"
    }
   ],
   "source": [
    "x[0]"
   ]
  },
  {
   "cell_type": "code",
   "execution_count": 58,
   "metadata": {},
   "outputs": [
    {
     "data": {
      "text/plain": [
       "50"
      ]
     },
     "execution_count": 58,
     "metadata": {},
     "output_type": "execute_result"
    }
   ],
   "source": [
    "x['Swift Dzire']"
   ]
  },
  {
   "cell_type": "code",
   "execution_count": 60,
   "metadata": {},
   "outputs": [
    {
     "ename": "TypeError",
     "evalue": "'Index' object is not callable",
     "output_type": "error",
     "traceback": [
      "\u001b[0;31m---------------------------------------------------------------------------\u001b[0m",
      "\u001b[0;31mTypeError\u001b[0m                                 Traceback (most recent call last)",
      "\u001b[0;32m<ipython-input-60-e95f6d2447b9>\u001b[0m in \u001b[0;36m<module>\u001b[0;34m\u001b[0m\n\u001b[0;32m----> 1\u001b[0;31m \u001b[0mx\u001b[0m\u001b[0;34m.\u001b[0m\u001b[0mindex\u001b[0m\u001b[0;34m(\u001b[0m\u001b[0;34m)\u001b[0m\u001b[0;34m\u001b[0m\u001b[0;34m\u001b[0m\u001b[0m\n\u001b[0m",
      "\u001b[0;31mTypeError\u001b[0m: 'Index' object is not callable"
     ]
    }
   ],
   "source": [
    "x.index()"
   ]
  },
  {
   "cell_type": "code",
   "execution_count": 61,
   "metadata": {},
   "outputs": [
    {
     "data": {
      "text/plain": [
       "Index(['Swift Dzire', 'Baleno', 'i20', 'Alto 800', 'Creta'], dtype='object')"
      ]
     },
     "execution_count": 61,
     "metadata": {},
     "output_type": "execute_result"
    }
   ],
   "source": [
    "x.index"
   ]
  },
  {
   "cell_type": "code",
   "execution_count": 65,
   "metadata": {},
   "outputs": [
    {
     "name": "stdout",
     "output_type": "stream",
     "text": [
      "Swift Dzire50\n",
      "Baleno40\n",
      "i2039\n",
      "Alto 80037\n",
      "Creta34\n"
     ]
    }
   ],
   "source": [
    "for i in x.index:\n",
    "    print(i+str(x[i]))"
   ]
  },
  {
   "cell_type": "code",
   "execution_count": 70,
   "metadata": {},
   "outputs": [
    {
     "name": "stdout",
     "output_type": "stream",
     "text": [
      "{'Swift Dzire': 50, 'Baleno': 40, 'i20': 39, 'Alto 800': 37, 'Creta': 34}\n"
     ]
    }
   ],
   "source": [
    "import matplotlib.pyplot as plt\n",
    "a = {}\n",
    "for k,i in enumerate(x.index):\n",
    "    a[i] = x[i]\n",
    "print(a)"
   ]
  },
  {
   "cell_type": "code",
   "execution_count": 71,
   "metadata": {},
   "outputs": [
    {
     "data": {
      "text/plain": [
       "<BarContainer object of 5 artists>"
      ]
     },
     "execution_count": 71,
     "metadata": {},
     "output_type": "execute_result"
    },
    {
     "data": {
      "image/png": "[encoded data removed]",
      "text/plain": [
       "<Figure size 432x288 with 1 Axes>"
      ]
     },
     "metadata": {
      "needs_background": "light"
     },
     "output_type": "display_data"
    }
   ],
   "source": [
    "plt.bar(a.keys(), a.values())"
   ]
  },
  {
   "cell_type": "code",
   "execution_count": 72,
   "metadata": {},
   "outputs": [
    {
     "data": {
      "text/html": [
       "<div>\n",
       "<style scoped>\n",
       "    .dataframe tbody tr th:only-of-type {\n",
       "        vertical-align: middle;\n",
       "    }\n",
       "\n",
       "    .dataframe tbody tr th {\n",
       "        vertical-align: top;\n",
       "    }\n",
       "\n",
       "    .dataframe thead th {\n",
       "        text-align: right;\n",
       "    }\n",
       "</style>\n",
       "<table border=\"1\" class=\"dataframe\">\n",
       "  <thead>\n",
       "    <tr style=\"text-align: right;\">\n",
       "      <th></th>\n",
       "      <th>first_name</th>\n",
       "      <th>last_name</th>\n",
       "      <th>age</th>\n",
       "      <th>company</th>\n",
       "      <th>gender</th>\n",
       "      <th>car</th>\n",
       "      <th>car_purchase_data</th>\n",
       "    </tr>\n",
       "  </thead>\n",
       "  <tbody>\n",
       "    <tr>\n",
       "      <th>0</th>\n",
       "      <td>Bank</td>\n",
       "      <td>Benz</td>\n",
       "      <td>67</td>\n",
       "      <td>Flipkart</td>\n",
       "      <td>Male</td>\n",
       "      <td>Creta</td>\n",
       "      <td>7/7/2016</td>\n",
       "    </tr>\n",
       "    <tr>\n",
       "      <th>1</th>\n",
       "      <td>Livvy</td>\n",
       "      <td>McCrostie</td>\n",
       "      <td>53</td>\n",
       "      <td>Flipkart</td>\n",
       "      <td>Female</td>\n",
       "      <td>Creta</td>\n",
       "      <td>4/29/2019</td>\n",
       "    </tr>\n",
       "    <tr>\n",
       "      <th>2</th>\n",
       "      <td>Loydie</td>\n",
       "      <td>Charlet</td>\n",
       "      <td>61</td>\n",
       "      <td>Flipkart</td>\n",
       "      <td>Male</td>\n",
       "      <td>Swift Dzire</td>\n",
       "      <td>7/6/2018</td>\n",
       "    </tr>\n",
       "    <tr>\n",
       "      <th>3</th>\n",
       "      <td>Letti</td>\n",
       "      <td>De Clairmont</td>\n",
       "      <td>60</td>\n",
       "      <td>Microsoft</td>\n",
       "      <td>Female</td>\n",
       "      <td>i20</td>\n",
       "      <td>9/30/2017</td>\n",
       "    </tr>\n",
       "    <tr>\n",
       "      <th>4</th>\n",
       "      <td>Bili</td>\n",
       "      <td>Mebes</td>\n",
       "      <td>45</td>\n",
       "      <td>Flipkart</td>\n",
       "      <td>Female</td>\n",
       "      <td>Creta</td>\n",
       "      <td>6/7/2017</td>\n",
       "    </tr>\n",
       "  </tbody>\n",
       "</table>\n",
       "</div>"
      ],
      "text/plain": [
       "  first_name     last_name  age    company  gender          car  \\\n",
       "0       Bank          Benz   67   Flipkart    Male        Creta   \n",
       "1      Livvy     McCrostie   53   Flipkart  Female        Creta   \n",
       "2     Loydie       Charlet   61   Flipkart    Male  Swift Dzire   \n",
       "3      Letti  De Clairmont   60  Microsoft  Female          i20   \n",
       "4       Bili         Mebes   45   Flipkart  Female        Creta   \n",
       "\n",
       "  car_purchase_data  \n",
       "0          7/7/2016  \n",
       "1         4/29/2019  \n",
       "2          7/6/2018  \n",
       "3         9/30/2017  \n",
       "4          6/7/2017  "
      ]
     },
     "execution_count": 72,
     "metadata": {},
     "output_type": "execute_result"
    }
   ],
   "source": [
    "df.head()"
   ]
  },
  {
   "cell_type": "code",
   "execution_count": 73,
   "metadata": {},
   "outputs": [
    {
     "data": {
      "text/plain": [
       "array(['Flipkart', 'Microsoft', 'Zomato', 'Google'], dtype=object)"
      ]
     },
     "execution_count": 73,
     "metadata": {},
     "output_type": "execute_result"
    }
   ],
   "source": [
    "df.company.unique()"
   ]
  },
  {
   "cell_type": "code",
   "execution_count": 89,
   "metadata": {},
   "outputs": [
    {
     "data": {
      "text/plain": [
       "14"
      ]
     },
     "execution_count": 89,
     "metadata": {},
     "output_type": "execute_result"
    }
   ],
   "source": [
    "np.sum((df['company'] == 'Flipkart')& (df['car']=='i20'))"
   ]
  },
  {
   "cell_type": "code",
   "execution_count": 90,
   "metadata": {},
   "outputs": [
    {
     "data": {
      "text/plain": [
       "{'Swift Dzire': 50, 'Baleno': 40, 'i20': 39, 'Alto 800': 37, 'Creta': 34}"
      ]
     },
     "execution_count": 90,
     "metadata": {},
     "output_type": "execute_result"
    }
   ],
   "source": [
    "a"
   ]
  },
  {
   "cell_type": "code",
   "execution_count": 98,
   "metadata": {},
   "outputs": [
    {
     "data": {
      "text/plain": [
       "'i20'"
      ]
     },
     "execution_count": 98,
     "metadata": {},
     "output_type": "execute_result"
    }
   ],
   "source": [
    "max(a)"
   ]
  },
  {
   "cell_type": "code",
   "execution_count": 99,
   "metadata": {},
   "outputs": [
    {
     "name": "stdout",
     "output_type": "stream",
     "text": [
      "Swift Dzire\n"
     ]
    }
   ],
   "source": [
    "k = max(a, key = lambda z: a[z])\n",
    "print(k)"
   ]
  },
  {
   "cell_type": "code",
   "execution_count": 102,
   "metadata": {},
   "outputs": [
    {
     "name": "stdout",
     "output_type": "stream",
     "text": [
      "<class 'list'>\n"
     ]
    }
   ],
   "source": [
    "b = list(a.keys())\n",
    "c = list(a.values())\n",
    "print(type(c))"
   ]
  },
  {
   "cell_type": "code",
   "execution_count": 103,
   "metadata": {},
   "outputs": [
    {
     "data": {
      "text/plain": [
       "[50, 40, 39, 37, 34]"
      ]
     },
     "execution_count": 103,
     "metadata": {},
     "output_type": "execute_result"
    }
   ],
   "source": [
    "c"
   ]
  },
  {
   "cell_type": "code",
   "execution_count": 104,
   "metadata": {},
   "outputs": [],
   "source": [
    "idx = np.argsort(c)"
   ]
  },
  {
   "cell_type": "code",
   "execution_count": 105,
   "metadata": {},
   "outputs": [
    {
     "data": {
      "text/plain": [
       "array([4, 3, 2, 1, 0])"
      ]
     },
     "execution_count": 105,
     "metadata": {},
     "output_type": "execute_result"
    }
   ],
   "source": [
    "idx"
   ]
  },
  {
   "cell_type": "code",
   "execution_count": 107,
   "metadata": {},
   "outputs": [
    {
     "name": "stdout",
     "output_type": "stream",
     "text": [
      "['Swift Dzire', 'Baleno', 'i20', 'Alto 800', 'Creta']\n",
      "['Creta', 'Alto 800', 'i20', 'Baleno', 'Swift Dzire']\n"
     ]
    }
   ],
   "source": [
    "print(b)\n",
    "print([b[k] for k in idx])"
   ]
  },
  {
   "cell_type": "code",
   "execution_count": 108,
   "metadata": {},
   "outputs": [
    {
     "data": {
      "text/plain": [
       "{'Swift Dzire': 50, 'Baleno': 40, 'i20': 39, 'Alto 800': 37, 'Creta': 34}"
      ]
     },
     "execution_count": 108,
     "metadata": {},
     "output_type": "execute_result"
    }
   ],
   "source": [
    "a"
   ]
  },
  {
   "cell_type": "code",
   "execution_count": 112,
   "metadata": {},
   "outputs": [],
   "source": [
    "a = [(2,10), (5,5),(10,2)]\n",
    "a.sort(key= lambda x:x[1])"
   ]
  },
  {
   "cell_type": "code",
   "execution_count": 113,
   "metadata": {},
   "outputs": [
    {
     "data": {
      "text/plain": [
       "[(10, 2), (5, 5), (2, 10)]"
      ]
     },
     "execution_count": 113,
     "metadata": {},
     "output_type": "execute_result"
    }
   ],
   "source": [
    "a"
   ]
  },
  {
   "cell_type": "code",
   "execution_count": null,
   "metadata": {},
   "outputs": [],
   "source": []
  }
 ],
 "metadata": {
  "kernelspec": {
   "display_name": "Python 3",
   "language": "python",
   "name": "python3"
  },
  "language_info": {
   "codemirror_mode": {
    "name": "ipython",
    "version": 3
   },
   "file_extension": ".py",
   "mimetype": "text/x-python",
   "name": "python",
   "nbconvert_exporter": "python",
   "pygments_lexer": "ipython3",
   "version": "3.8.3"
  }
 },
 "nbformat": 4,
 "nbformat_minor": 4
}
