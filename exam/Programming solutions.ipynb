{
 "cells": [
  {
   "cell_type": "code",
   "execution_count": 1,
   "metadata": {},
   "outputs": [],
   "source": [
    "import numpy as np"
   ]
  },
  {
   "cell_type": "code",
   "execution_count": 2,
   "metadata": {},
   "outputs": [],
   "source": [
    "data = np.load(\"data.npy\")"
   ]
  },
  {
   "cell_type": "code",
   "execution_count": 4,
   "metadata": {},
   "outputs": [
    {
     "name": "stdout",
     "output_type": "stream",
     "text": [
      "(350, 4)\n",
      "1400\n",
      "float64\n"
     ]
    }
   ],
   "source": [
    "print(data.shape)\n",
    "print(data.size)\n",
    "print(data.dtype)"
   ]
  },
  {
   "cell_type": "code",
   "execution_count": 5,
   "metadata": {},
   "outputs": [],
   "source": [
    "# They are 0: age(yrs), 1: height(m), 2: weight(kg) and 3: gender (0 for Male, 1 for female)"
   ]
  },
  {
   "cell_type": "code",
   "execution_count": 6,
   "metadata": {},
   "outputs": [
    {
     "data": {
      "text/plain": [
       "array([18., 18., 18., 18., 18., 19., 19., 19., 19., 19., 20., 20., 20.,\n",
       "       20., 20., 20., 20., 21., 21., 21., 21., 21., 21., 22., 22., 22.,\n",
       "       22., 22., 22., 22., 23., 23., 23., 24., 24., 24., 24., 24., 25.,\n",
       "       25., 25., 25., 25., 25., 26., 26., 26., 26., 26., 26., 26., 27.,\n",
       "       27., 27., 27., 27., 27., 27., 27., 27., 27., 27., 28., 28., 28.,\n",
       "       28., 28., 28., 29., 29., 29., 29., 29., 29., 29., 29., 29., 30.,\n",
       "       30., 30., 30., 30., 30., 30., 31., 31., 31., 31., 31., 31., 31.,\n",
       "       31., 31., 31., 31., 32., 32., 32., 32., 32., 32., 33., 33., 33.,\n",
       "       33., 33., 33., 33., 34., 34., 34., 34., 34., 34., 34., 34., 34.,\n",
       "       34., 34., 34., 34., 34., 34., 34., 35., 35., 35., 35., 35., 35.,\n",
       "       35., 35., 35., 36., 36., 36., 36., 36., 36., 36., 36., 36., 36.,\n",
       "       36., 37., 37., 37., 37., 37., 37., 37., 37., 37., 38., 38., 38.,\n",
       "       38., 38., 38., 39., 39., 39., 39., 39., 39., 39., 40., 40., 40.,\n",
       "       40., 40., 40., 40., 40., 40., 40., 40., 40., 41., 41., 41., 41.,\n",
       "       42., 42., 42., 42., 42., 42., 42., 42., 43., 43., 43., 43., 43.,\n",
       "       43., 44., 44., 44., 44., 45., 45., 45., 45., 45., 45., 45., 46.,\n",
       "       46., 46., 46., 46., 46., 46., 46., 46., 46., 47., 47., 47., 47.,\n",
       "       47., 47., 47., 47., 47., 47., 47., 47., 48., 48., 48., 48., 48.,\n",
       "       49., 49., 49., 49., 49., 49., 49., 49., 49., 49., 50., 50., 50.,\n",
       "       50., 50., 50., 50., 50., 50., 51., 51., 51., 51., 51., 51., 51.,\n",
       "       51., 51., 51., 51., 52., 52., 52., 52., 52., 52., 52., 53., 53.,\n",
       "       53., 53., 53., 54., 54., 54., 54., 54., 55., 55., 55., 55., 55.,\n",
       "       55., 55., 55., 55., 55., 56., 56., 56., 56., 56., 56., 57., 57.,\n",
       "       57., 57., 57., 57., 57., 57., 57., 58., 58., 58., 58., 58., 58.,\n",
       "       58., 58., 58., 59., 59., 59., 60., 60., 60., 60., 60., 60., 60.,\n",
       "       60., 61., 61., 61., 61., 61., 61., 62., 62., 62., 62., 62., 62.,\n",
       "       62., 63., 63., 63., 63., 64., 64., 64., 64., 64., 64., 64.])"
      ]
     },
     "execution_count": 6,
     "metadata": {},
     "output_type": "execute_result"
    }
   ],
   "source": [
    "np.sort(data[:,0])"
   ]
  },
  {
   "cell_type": "code",
   "execution_count": 10,
   "metadata": {},
   "outputs": [],
   "source": [
    "data_age_sorted = data[np.argsort(data[:,0])]"
   ]
  },
  {
   "cell_type": "code",
   "execution_count": 14,
   "metadata": {},
   "outputs": [
    {
     "data": {
      "text/plain": [
       "array([[ 64.        ,   1.2       ,  91.08570354,   0.        ],\n",
       "       [ 34.        ,   1.2       ,  87.98055819,   0.        ],\n",
       "       [ 58.        ,   1.2       ,  30.        ,   0.        ],\n",
       "       [ 55.        ,   1.2       ,  30.        ,   0.        ],\n",
       "       [ 39.        ,   1.2       , 185.26701563,   0.        ],\n",
       "       [ 34.        ,   1.2       , 103.37046315,   0.        ],\n",
       "       [ 27.        ,   1.2       ,  31.28813517,   0.        ],\n",
       "       [ 54.        ,   1.2       , 145.90388905,   0.        ],\n",
       "       [ 43.        ,   1.2       ,  99.62573951,   0.        ],\n",
       "       [ 45.        ,   1.2       ,  30.        ,   0.        ],\n",
       "       [ 61.        ,   1.2       ,  30.        ,   0.        ],\n",
       "       [ 50.        ,   1.2       ,  30.        ,   0.        ],\n",
       "       [ 47.        ,   1.2       , 199.22766361,   0.        ],\n",
       "       [ 27.        ,   1.2       , 145.08042902,   0.        ],\n",
       "       [ 47.        ,   1.2       ,  65.57458413,   0.        ],\n",
       "       [ 31.        ,   1.2       ,  75.09510416,   0.        ],\n",
       "       [ 30.        ,   1.2       , 133.1155883 ,   0.        ],\n",
       "       [ 26.        ,   1.2       ,  88.61226273,   0.        ],\n",
       "       [ 54.        ,   1.2       ,  30.        ,   0.        ],\n",
       "       [ 31.        ,   1.2       ,  39.52268837,   0.        ],\n",
       "       [ 21.        ,   1.2       ,  30.        ,   0.        ],\n",
       "       [ 33.        ,   1.2       , 131.89196762,   0.        ],\n",
       "       [ 29.        ,   1.2       ,  85.85493785,   0.        ],\n",
       "       [ 34.        ,   1.2       ,  33.76246278,   0.        ],\n",
       "       [ 31.        ,   1.2       ,  37.01443543,   0.        ],\n",
       "       [ 63.        ,   1.20463353,  58.78312894,   0.        ],\n",
       "       [ 30.        ,   1.20505293,  30.        ,   0.        ],\n",
       "       [ 62.        ,   1.20630554, 189.72240828,   0.        ],\n",
       "       [ 57.        ,   1.21786816,  88.81140271,   0.        ],\n",
       "       [ 37.        ,   1.22502622, 130.03294952,   0.        ],\n",
       "       [ 23.        ,   1.23630653,  30.        ,   0.        ],\n",
       "       [ 48.        ,   1.23947055, 101.52863447,   0.        ],\n",
       "       [ 22.        ,   1.24022155,  30.        ,   0.        ],\n",
       "       [ 38.        ,   1.24206948,  69.4251911 ,   0.        ],\n",
       "       [ 56.        ,   1.27375502, 111.18379573,   0.        ],\n",
       "       [ 57.        ,   1.28240248,  47.03640186,   0.        ],\n",
       "       [ 57.        ,   1.2847131 , 213.32472256,   0.        ],\n",
       "       [ 34.        ,   1.30702978,  76.53847543,   0.        ],\n",
       "       [ 39.        ,   1.30944898,  49.5652249 ,   0.        ],\n",
       "       [ 34.        ,   1.31072318,  30.        ,   0.        ],\n",
       "       [ 59.        ,   1.313627  , 118.08857136,   0.        ],\n",
       "       [ 25.        ,   1.31976783,  30.        ,   0.        ],\n",
       "       [ 33.        ,   1.33158852,  77.38815476,   0.        ],\n",
       "       [ 27.        ,   1.33645629, 103.11767091,   0.        ],\n",
       "       [ 33.        ,   1.35151509, 134.08040282,   0.        ],\n",
       "       [ 31.        ,   1.35178149, 133.14738591,   0.        ],\n",
       "       [ 19.        ,   1.36639512,  51.92151791,   0.        ],\n",
       "       [ 51.        ,   1.36678124,  86.01770006,   0.        ],\n",
       "       [ 40.        ,   1.36995905,  30.        ,   0.        ],\n",
       "       [ 26.        ,   1.38213306, 159.34591175,   0.        ],\n",
       "       [ 57.        ,   1.38523052,  30.        ,   0.        ],\n",
       "       [ 37.        ,   1.41706472,  30.        ,   0.        ],\n",
       "       [ 28.        ,   1.43300993,  91.68927461,   0.        ],\n",
       "       [ 53.        ,   1.44592545, 145.51767164,   0.        ],\n",
       "       [ 36.        ,   1.46269564,  30.        ,   0.        ],\n",
       "       [ 36.        ,   1.47002979,  30.        ,   0.        ],\n",
       "       [ 26.        ,   1.47771269,  43.20880077,   0.        ],\n",
       "       [ 52.        ,   1.48744276,  30.        ,   0.        ],\n",
       "       [ 26.        ,   1.51466931, 152.8119692 ,   0.        ],\n",
       "       [ 31.        ,   1.52107542, 192.54815105,   0.        ],\n",
       "       [ 40.        ,   1.52425455,  49.74802611,   0.        ],\n",
       "       [ 41.        ,   1.52820261,  41.06173031,   0.        ],\n",
       "       [ 33.        ,   1.53067347,  30.        ,   0.        ],\n",
       "       [ 22.        ,   1.53859876,  30.        ,   0.        ],\n",
       "       [ 51.        ,   1.54275731,  72.81547312,   0.        ],\n",
       "       [ 27.        ,   1.56111988, 185.42619593,   0.        ],\n",
       "       [ 55.        ,   1.5619219 ,  63.61706591,   0.        ],\n",
       "       [ 53.        ,   1.56723267, 117.89946517,   0.        ],\n",
       "       [ 37.        ,   1.57519652,  30.        ,   0.        ],\n",
       "       [ 27.        ,   1.58458193,  98.07922674,   0.        ],\n",
       "       [ 49.        ,   1.58587715,  30.        ,   0.        ],\n",
       "       [ 18.        ,   1.60720121,  30.        ,   0.        ],\n",
       "       [ 20.        ,   1.62190037, 192.31866481,   0.        ],\n",
       "       [ 49.        ,   1.63556544, 106.9707028 ,   0.        ],\n",
       "       [ 27.        ,   1.64702976,  83.71946393,   0.        ],\n",
       "       [ 22.        ,   1.66845403,  65.64016946,   0.        ],\n",
       "       [ 45.        ,   1.71037118,  30.        ,   0.        ],\n",
       "       [ 41.        ,   1.71760106,  30.        ,   0.        ],\n",
       "       [ 50.        ,   1.72475166,  83.04820468,   0.        ],\n",
       "       [ 24.        ,   1.72957689,  86.18892547,   0.        ],\n",
       "       [ 18.        ,   1.7459302 ,  30.        ,   0.        ],\n",
       "       [ 35.        ,   1.75522489,  30.        ,   0.        ],\n",
       "       [ 29.        ,   1.75812804,  85.24473519,   0.        ],\n",
       "       [ 53.        ,   1.77448357, 160.29998234,   0.        ],\n",
       "       [ 29.        ,   1.78536859,  52.97016517,   0.        ],\n",
       "       [ 52.        ,   1.79189674, 166.01809868,   0.        ],\n",
       "       [ 34.        ,   1.80985593, 100.53722263,   0.        ],\n",
       "       [ 24.        ,   1.81092365, 141.01625619,   0.        ],\n",
       "       [ 60.        ,   1.81300801, 147.04305984,   0.        ],\n",
       "       [ 46.        ,   1.81927414, 128.33165405,   0.        ],\n",
       "       [ 52.        ,   1.82863437,  30.        ,   0.        ],\n",
       "       [ 61.        ,   1.83605787,  30.        ,   0.        ],\n",
       "       [ 28.        ,   1.85274992,  41.33775023,   0.        ],\n",
       "       [ 52.        ,   1.85743433,  63.17761453,   0.        ],\n",
       "       [ 36.        ,   1.85953903,  30.        ,   0.        ],\n",
       "       [ 36.        ,   1.87393617, 123.53232376,   0.        ],\n",
       "       [ 50.        ,   1.88889232,  63.22830118,   0.        ],\n",
       "       [ 55.        ,   1.92433438, 213.57903735,   0.        ],\n",
       "       [ 52.        ,   1.93732023, 116.04491392,   0.        ],\n",
       "       [ 34.        ,   1.93986608,  30.        ,   0.        ],\n",
       "       [ 56.        ,   1.97842755,  67.8431909 ,   0.        ],\n",
       "       [ 42.        ,   2.00146135,  30.        ,   0.        ],\n",
       "       [ 58.        ,   2.00892407,  30.        ,   0.        ],\n",
       "       [ 61.        ,   2.02079306,  30.        ,   0.        ],\n",
       "       [ 39.        ,   2.02147303,  30.        ,   0.        ],\n",
       "       [ 32.        ,   2.04870331, 112.83754587,   0.        ],\n",
       "       [ 51.        ,   2.063849  ,  30.        ,   0.        ],\n",
       "       [ 50.        ,   2.06674916, 162.66283447,   0.        ],\n",
       "       [ 27.        ,   2.08099898,  83.43693379,   0.        ],\n",
       "       [ 48.        ,   2.08833944,  87.14843823,   0.        ],\n",
       "       [ 58.        ,   2.10488714,  52.74223763,   0.        ],\n",
       "       [ 25.        ,   2.11025298,  71.53285085,   0.        ],\n",
       "       [ 52.        ,   2.11961581,  76.44019463,   0.        ],\n",
       "       [ 44.        ,   2.12867697,  42.54026639,   0.        ],\n",
       "       [ 46.        ,   2.12918155, 232.46704242,   0.        ],\n",
       "       [ 49.        ,   2.13      ,  59.38226255,   0.        ],\n",
       "       [ 51.        ,   2.13      ,  30.        ,   0.        ],\n",
       "       [ 24.        ,   2.13      , 117.64460597,   0.        ],\n",
       "       [ 42.        ,   2.13      , 103.79425879,   0.        ],\n",
       "       [ 34.        ,   2.13      , 164.40683319,   0.        ],\n",
       "       [ 20.        ,   2.13      ,  30.        ,   0.        ],\n",
       "       [ 34.        ,   2.13      , 124.60770214,   0.        ],\n",
       "       [ 48.        ,   2.13      ,  30.        ,   0.        ],\n",
       "       [ 18.        ,   2.13      ,  30.        ,   0.        ],\n",
       "       [ 30.        ,   2.13      , 298.99474727,   0.        ],\n",
       "       [ 53.        ,   2.13      , 211.18754273,   0.        ],\n",
       "       [ 50.        ,   2.13      ,  30.        ,   0.        ],\n",
       "       [ 63.        ,   2.13      ,  30.        ,   0.        ],\n",
       "       [ 60.        ,   2.13      , 107.79453084,   0.        ],\n",
       "       [ 63.        ,   2.13      , 108.72844673,   0.        ],\n",
       "       [ 40.        ,   2.13      ,  30.        ,   0.        ],\n",
       "       [ 50.        ,   2.13      ,  41.28205297,   0.        ],\n",
       "       [ 29.        ,   2.13      ,  30.        ,   0.        ],\n",
       "       [ 34.        ,   2.13      ,  51.66641754,   0.        ],\n",
       "       [ 51.        ,   2.13      ,  30.        ,   0.        ],\n",
       "       [ 27.        ,   2.13      ,  30.        ,   0.        ],\n",
       "       [ 35.        ,   2.13      , 121.670883  ,   0.        ],\n",
       "       [ 34.        ,   2.13      ,  73.59767787,   0.        ],\n",
       "       [ 21.        ,   2.13      ,  30.        ,   0.        ],\n",
       "       [ 23.        ,   2.13      ,  30.        ,   0.        ],\n",
       "       [ 56.        ,   2.13      ,  35.33139259,   0.        ],\n",
       "       [ 53.        ,   2.13      , 140.08842425,   0.        ],\n",
       "       [ 27.        ,   2.13      ,  66.90420386,   0.        ],\n",
       "       [ 40.        ,   2.13      ,  30.        ,   0.        ],\n",
       "       [ 46.        ,   2.13      ,  30.        ,   0.        ],\n",
       "       [ 29.        ,   2.13      ,  86.6941722 ,   0.        ],\n",
       "       [ 45.        ,   2.13      ,  32.86155069,   0.        ],\n",
       "       [ 35.        ,   2.13      ,  30.        ,   0.        ],\n",
       "       [ 26.        ,   2.13      ,  71.72844199,   0.        ],\n",
       "       [ 51.        ,   2.13      ,  30.        ,   0.        ]])"
      ]
     },
     "execution_count": 14,
     "metadata": {},
     "output_type": "execute_result"
    }
   ],
   "source": [
    "# Sort male rows acc to height\n",
    "male = data[data[:,3]==0]\n",
    "data_males_height_sorted = male[np.argsort(male[:,1])]\n",
    "data_males_height_sorted"
   ]
  },
  {
   "cell_type": "code",
   "execution_count": 17,
   "metadata": {},
   "outputs": [
    {
     "name": "stdout",
     "output_type": "stream",
     "text": [
      "-1.5216666666666683\n"
     ]
    }
   ],
   "source": [
    "# mean values for age, height and width between males and females.\n",
    "female = data[data[:,3] == 1]\n",
    "female_age = np.mean(female[:,0])\n",
    "male_age = np.mean(male[:,0])\n",
    "print(male_age-female_age)"
   ]
  },
  {
   "cell_type": "code",
   "execution_count": 18,
   "metadata": {},
   "outputs": [],
   "source": [
    "data_height_sorted = data[np.argsort(data[:,1])]"
   ]
  },
  {
   "cell_type": "code",
   "execution_count": 25,
   "metadata": {},
   "outputs": [],
   "source": [
    "top_25_height = data_height_sorted[-1:-data_height_sorted.shape[0]//4:-1]"
   ]
  },
  {
   "cell_type": "code",
   "execution_count": 28,
   "metadata": {},
   "outputs": [
    {
     "name": "stdout",
     "output_type": "stream",
     "text": [
      "49\n",
      "38\n"
     ]
    }
   ],
   "source": [
    "male_25_height = np.sum(top_25_height[:,3]==0)\n",
    "female_25_height = np.sum(top_25_height[:,3]==1)\n",
    "print(male_25_height)\n",
    "print(female_25_height)"
   ]
  },
  {
   "cell_type": "code",
   "execution_count": 29,
   "metadata": {},
   "outputs": [
    {
     "data": {
      "text/plain": [
       "array([342, 286, 294, 207, 323, 334, 130, 209, 138, 245, 178, 185, 308,\n",
       "       283, 240,   0, 229, 125, 227,  44,  10,  92, 237,  16, 136, 102,\n",
       "       206, 263, 140, 261, 181,  67,  82, 132, 297,  43, 193, 337,  38,\n",
       "        99,  20, 256, 309, 204,  84, 251, 265, 129, 133])"
      ]
     },
     "execution_count": 29,
     "metadata": {},
     "output_type": "execute_result"
    }
   ],
   "source": [
    "data_weight_sorted = np.argsort(data[:,2])\n",
    "heavy_50 = data_weight_sorted[-1:-50:-1]\n",
    "heavy_50"
   ]
  },
  {
   "cell_type": "code",
   "execution_count": 30,
   "metadata": {},
   "outputs": [
    {
     "data": {
      "text/plain": [
       "array([288, 164,  13, 117, 252, 123, 105, 211,  90, 305, 122, 196, 265,\n",
       "        34,  86,  41, 156,  87, 273, 205, 285, 201, 282, 324,  23,  69,\n",
       "       115,  77,  95, 142, 140, 342, 233, 180, 130, 294, 172, 195,  45,\n",
       "       264, 267,  47, 181,  81,   8, 290, 295, 232, 345])"
      ]
     },
     "execution_count": 30,
     "metadata": {},
     "output_type": "execute_result"
    }
   ],
   "source": [
    "data_height_sorted = np.argsort(data[:,1])\n",
    "tall_50 = data_height_sorted[-1:-50:-1]\n",
    "tall_50"
   ]
  },
  {
   "cell_type": "code",
   "execution_count": 36,
   "metadata": {},
   "outputs": [
    {
     "name": "stdout",
     "output_type": "stream",
     "text": [
      "6\n",
      "49\n"
     ]
    }
   ],
   "source": [
    "big_people_idcs = set(heavy_50) & set(tall_50)\n",
    "print(len(big_people_idcs))\n",
    "big_people_idcs_false = set(heavy_50) and set(tall_50)\n",
    "print(len(big_people_idcs_false))"
   ]
  },
  {
   "cell_type": "code",
   "execution_count": 38,
   "metadata": {},
   "outputs": [
    {
     "name": "stdout",
     "output_type": "stream",
     "text": [
      "(150, 4)\n",
      "(200, 4)\n"
     ]
    }
   ],
   "source": [
    "print(male.shape)\n",
    "print(female.shape)"
   ]
  },
  {
   "cell_type": "code",
   "execution_count": 39,
   "metadata": {},
   "outputs": [
    {
     "data": {
      "text/plain": [
       "30000"
      ]
     },
     "execution_count": 39,
     "metadata": {},
     "output_type": "execute_result"
    }
   ],
   "source": [
    "total_comb = male.shape[0]*female.shape[0]\n",
    "total_comb"
   ]
  },
  {
   "cell_type": "code",
   "execution_count": 41,
   "metadata": {},
   "outputs": [
    {
     "name": "stdout",
     "output_type": "stream",
     "text": [
      "3148.3262604736474\n",
      "30000\n",
      "0.10494420868245491\n"
     ]
    }
   ],
   "source": [
    "diff_height = 0\n",
    "for man in male:\n",
    "    for woman in female:\n",
    "        diff_height += (man[1]-woman[1])\n",
    "print(diff_height)\n",
    "print(total_comb)\n",
    "print(diff_height/total_comb)"
   ]
  },
  {
   "cell_type": "code",
   "execution_count": 43,
   "metadata": {},
   "outputs": [
    {
     "name": "stdout",
     "output_type": "stream",
     "text": [
      "3148.3262604737774\n",
      "30000\n",
      "0.10494420868245925\n"
     ]
    }
   ],
   "source": [
    "diff_height = 0\n",
    "for man in male:\n",
    "    diff_height += ((female.shape[0]*man[1]) - np.sum(female[:,1]))\n",
    "print(diff_height)\n",
    "print(total_comb)\n",
    "print(diff_height/total_comb)"
   ]
  },
  {
   "cell_type": "code",
   "execution_count": 45,
   "metadata": {},
   "outputs": [
    {
     "data": {
      "text/plain": [
       "0.1049442086824588"
      ]
     },
     "execution_count": 45,
     "metadata": {},
     "output_type": "execute_result"
    }
   ],
   "source": [
    "diff_height = np.mean(male[:,1])-np.mean(female[:,1])\n",
    "diff_height"
   ]
  },
  {
   "cell_type": "code",
   "execution_count": 47,
   "metadata": {},
   "outputs": [
    {
     "data": {
      "text/plain": [
       "array([[5, 7, 5, 4, 1],\n",
       "       [6, 1, 2, 3, 2],\n",
       "       [4, 3, 5, 5, 4],\n",
       "       [1, 2, 3, 4, 5]])"
      ]
     },
     "execution_count": 47,
     "metadata": {},
     "output_type": "execute_result"
    }
   ],
   "source": [
    "# Question 1: Least Cost Path\n",
    "\n",
    "cost = np.array([[5,7,5,4,1],\n",
    "[6,1,2,3,2],\n",
    "[4,3,5,5,4],[1,2,3,4,5]])\n",
    "cost"
   ]
  },
  {
   "cell_type": "code",
   "execution_count": 53,
   "metadata": {},
   "outputs": [
    {
     "data": {
      "text/plain": [
       "array([[0, 0, 0, 0, 0],\n",
       "       [0, 0, 0, 0, 0],\n",
       "       [0, 0, 0, 0, 0],\n",
       "       [0, 0, 0, 0, 0]], dtype=int32)"
      ]
     },
     "execution_count": 53,
     "metadata": {},
     "output_type": "execute_result"
    }
   ],
   "source": [
    "total_cost = np.zeros(cost.shape, dtype=np.int32)\n",
    "total_cost"
   ]
  },
  {
   "cell_type": "code",
   "execution_count": 54,
   "metadata": {},
   "outputs": [
    {
     "data": {
      "text/plain": [
       "array([[0, 0, 0, 0, 0],\n",
       "       [0, 0, 0, 0, 0],\n",
       "       [0, 0, 0, 0, 0],\n",
       "       [1, 0, 0, 0, 0]], dtype=int32)"
      ]
     },
     "execution_count": 54,
     "metadata": {},
     "output_type": "execute_result"
    }
   ],
   "source": [
    "total_cost[-1,0] = cost[-1,0]\n",
    "total_cost"
   ]
  },
  {
   "cell_type": "code",
   "execution_count": 57,
   "metadata": {},
   "outputs": [],
   "source": [
    "for j in range(1, cost.shape[1]):\n",
    "    total_cost[-1, j] = total_cost[-1, j-1] + cost[-1, j]"
   ]
  },
  {
   "cell_type": "code",
   "execution_count": 58,
   "metadata": {},
   "outputs": [
    {
     "data": {
      "text/plain": [
       "array([[ 0,  0,  0,  0,  0],\n",
       "       [ 0,  0,  0,  0,  0],\n",
       "       [ 0,  0,  0,  0,  0],\n",
       "       [ 1,  3,  6, 10, 15]], dtype=int32)"
      ]
     },
     "execution_count": 58,
     "metadata": {},
     "output_type": "execute_result"
    }
   ],
   "source": [
    "total_cost"
   ]
  },
  {
   "cell_type": "code",
   "execution_count": 59,
   "metadata": {},
   "outputs": [
    {
     "data": {
      "text/plain": [
       "array([[5, 7, 5, 4, 1],\n",
       "       [6, 1, 2, 3, 2],\n",
       "       [4, 3, 5, 5, 4],\n",
       "       [1, 2, 3, 4, 5]])"
      ]
     },
     "execution_count": 59,
     "metadata": {},
     "output_type": "execute_result"
    }
   ],
   "source": [
    "cost"
   ]
  },
  {
   "cell_type": "code",
   "execution_count": 65,
   "metadata": {},
   "outputs": [
    {
     "name": "stdout",
     "output_type": "stream",
     "text": [
      "2\n",
      "1\n",
      "0\n"
     ]
    }
   ],
   "source": [
    "for i in range(cost.shape[0]-2, -1, -1):\n",
    "    print(i)\n",
    "    total_cost[i, 0] = total_cost[i+1, 0] + cost[i,0] "
   ]
  },
  {
   "cell_type": "code",
   "execution_count": 64,
   "metadata": {},
   "outputs": [
    {
     "data": {
      "text/plain": [
       "array([[16,  0,  0,  0,  0],\n",
       "       [11,  0,  0,  0,  0],\n",
       "       [ 5,  0,  0,  0,  0],\n",
       "       [ 1,  3,  6, 10, 15]], dtype=int32)"
      ]
     },
     "execution_count": 64,
     "metadata": {},
     "output_type": "execute_result"
    }
   ],
   "source": [
    "total_cost"
   ]
  },
  {
   "cell_type": "code",
   "execution_count": 67,
   "metadata": {},
   "outputs": [],
   "source": [
    "for i in range(cost.shape[0]-2, -1, -1):\n",
    "    for j in range(1, cost.shape[1], 1):\n",
    "        total_cost[i,j] = cost[i,j] + min(total_cost[i+1, j], total_cost[i, j-1])"
   ]
  },
  {
   "cell_type": "code",
   "execution_count": 68,
   "metadata": {},
   "outputs": [
    {
     "data": {
      "text/plain": [
       "array([[16, 14, 14, 16, 15],\n",
       "       [11,  7,  9, 12, 14],\n",
       "       [ 5,  6, 11, 15, 19],\n",
       "       [ 1,  3,  6, 10, 15]], dtype=int32)"
      ]
     },
     "execution_count": 68,
     "metadata": {},
     "output_type": "execute_result"
    }
   ],
   "source": [
    "total_cost"
   ]
  },
  {
   "cell_type": "code",
   "execution_count": 69,
   "metadata": {},
   "outputs": [
    {
     "data": {
      "text/plain": [
       "array([[5, 7, 5, 4, 1],\n",
       "       [6, 1, 2, 3, 2],\n",
       "       [4, 3, 5, 5, 4],\n",
       "       [1, 2, 3, 4, 5]])"
      ]
     },
     "execution_count": 69,
     "metadata": {},
     "output_type": "execute_result"
    }
   ],
   "source": [
    "cost"
   ]
  },
  {
   "cell_type": "code",
   "execution_count": 73,
   "metadata": {},
   "outputs": [
    {
     "name": "stdout",
     "output_type": "stream",
     "text": [
      "15\n"
     ]
    }
   ],
   "source": [
    "least_cost = total_cost[0,-1]\n",
    "print(least_cost)"
   ]
  },
  {
   "cell_type": "code",
   "execution_count": 74,
   "metadata": {},
   "outputs": [],
   "source": [
    "coord = [(cost.shape[0]-1, 0)]"
   ]
  },
  {
   "cell_type": "code",
   "execution_count": 76,
   "metadata": {},
   "outputs": [
    {
     "data": {
      "text/plain": [
       "array([[  5,   7,   1],\n",
       "       [  6, 100,  20],\n",
       "       [  3,   3,  50]])"
      ]
     },
     "execution_count": 76,
     "metadata": {},
     "output_type": "execute_result"
    }
   ],
   "source": [
    "dummy_total_cost = np.array([[5,7,1],\n",
    "[6,100,20],\n",
    "[3,3,50]])\n",
    "dummy_total_cost"
   ]
  },
  {
   "cell_type": "code",
   "execution_count": null,
   "metadata": {},
   "outputs": [],
   "source": []
  }
 ],
 "metadata": {
  "kernelspec": {
   "display_name": "Python 3",
   "language": "python",
   "name": "python3"
  },
  "language_info": {
   "codemirror_mode": {
    "name": "ipython",
    "version": 3
   },
   "file_extension": ".py",
   "mimetype": "text/x-python",
   "name": "python",
   "nbconvert_exporter": "python",
   "pygments_lexer": "ipython3",
   "version": "3.8.3"
  }
 },
 "nbformat": 4,
 "nbformat_minor": 4
}
