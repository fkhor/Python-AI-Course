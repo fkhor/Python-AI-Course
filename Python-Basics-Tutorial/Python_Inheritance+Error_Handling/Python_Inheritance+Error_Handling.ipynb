{
 "cells": [
  {
   "cell_type": "markdown",
   "metadata": {},
   "source": [
    "# Inheritance"
   ]
  },
  {
   "cell_type": "markdown",
   "metadata": {},
   "source": [
    "Inheritance allows us to define a class that inherits all the methods and properties from another class.\n",
    "\n",
    "Parent class is the class being inherited from, also called base class.\n",
    "\n",
    "Child class is the class that inherits from another class, also called derived class."
   ]
  },
  {
   "cell_type": "markdown",
   "metadata": {},
   "source": [
    "Topics\n",
    "\n",
    "* Inheritance is a way of sharing code - in one direction. (Parent to Child)\n",
    "* Specifically sharing methods. Not attributes.\n",
    "* issubclass(c1,c2)\n",
    "* isinstance(x,class)\n",
    "* Adding methods\n",
    "* Overriding methods\n",
    "* Overriding the constructor vs not \n",
    "* super()\n",
    "* Multiclass Inheritance\n",
    "* Multi-level Inheritance\n",
    "\n",
    "Further Reading\n",
    "\n",
    "* Class attributes\n",
    "* Static methods\n",
    "* Polymorphy in Python"
   ]
  },
  {
   "cell_type": "markdown",
   "metadata": {},
   "source": [
    "> Simple Introduction to Inheritance : https://www.w3schools.com/python/python_inheritance.asp\n",
    "\n",
    "> Resource : https://realpython.com/inheritance-composition-python/"
   ]
  },
  {
   "cell_type": "markdown",
   "metadata": {},
   "source": [
    "* When to use inheritance?\n",
    "    * Quite complicated\n",
    "    * Code reuse, polymorphy, interfaces etc etc.\n",
    "    * Generally in larger projects.\n",
    "    * For now just what is a subclass and how inheritance works\n",
    "\n",
    "\n",
    "Let's try to understand the mechanism of inheritance in Python. For use cases of inheritance, refer to Revisions+OOP jupyter notebook on github and course webpage."
   ]
  },
  {
   "cell_type": "markdown",
   "metadata": {},
   "source": [
    "### Subclasses"
   ]
  },
  {
   "cell_type": "code",
   "execution_count": 9,
   "metadata": {
    "ExecuteTime": {
     "end_time": "2020-06-01T15:33:45.183280Z",
     "start_time": "2020-06-01T15:33:45.179935Z"
    }
   },
   "outputs": [],
   "source": [
    "# Let's consider a vanilla class in Python\n",
    "\n",
    "class MyBase:\n",
    "    \n",
    "    # It has a constructor : note - you need not define it\n",
    "    def __init__(self,attr1):\n",
    "        \n",
    "        # We are setting up an attribute in the constructor\n",
    "        self.attr1=attr1\n",
    "\n",
    "    \n",
    "    def init_attr2(self,attr2):\n",
    "        \n",
    "        # When this method is called, attr2 will be set up\n",
    "        self.attr2=attr2\n",
    "    \n",
    "\n",
    "# It's important to note, that a class is associated with its methods,\n",
    "# not its attributes\n",
    "\n",
    "# The attributes have to be added later to the OBJECT \n",
    "# by using the dot notation"
   ]
  },
  {
   "cell_type": "code",
   "execution_count": 15,
   "metadata": {
    "ExecuteTime": {
     "end_time": "2020-06-01T15:33:45.190673Z",
     "start_time": "2020-06-01T15:33:45.185298Z"
    }
   },
   "outputs": [
    {
     "name": "stdout",
     "output_type": "stream",
     "text": [
      "attr1 value :  value is 1\n",
      "attr2 value :  value2\n",
      "attr3 value :  value3\n",
      "10000\n"
     ]
    },
    {
     "ename": "AttributeError",
     "evalue": "'MyBase' object has no attribute 'attr3'",
     "output_type": "error",
     "traceback": [
      "\u001b[0;31m---------------------------------------------------------------------------\u001b[0m",
      "\u001b[0;31mAttributeError\u001b[0m                            Traceback (most recent call last)",
      "\u001b[0;32m<ipython-input-15-317b1b5d6ed9>\u001b[0m in \u001b[0;36m<module>\u001b[0;34m\u001b[0m\n\u001b[1;32m     24\u001b[0m \u001b[0mm1base\u001b[0m \u001b[0;34m=\u001b[0m \u001b[0mMyBase\u001b[0m\u001b[0;34m(\u001b[0m\u001b[0;34m'10000'\u001b[0m\u001b[0;34m)\u001b[0m\u001b[0;34m\u001b[0m\u001b[0;34m\u001b[0m\u001b[0m\n\u001b[1;32m     25\u001b[0m \u001b[0mprint\u001b[0m\u001b[0;34m(\u001b[0m\u001b[0mm1base\u001b[0m\u001b[0;34m.\u001b[0m\u001b[0mattr1\u001b[0m\u001b[0;34m)\u001b[0m\u001b[0;34m\u001b[0m\u001b[0;34m\u001b[0m\u001b[0m\n\u001b[0;32m---> 26\u001b[0;31m \u001b[0mprint\u001b[0m\u001b[0;34m(\u001b[0m\u001b[0mm1base\u001b[0m\u001b[0;34m.\u001b[0m\u001b[0mattr3\u001b[0m\u001b[0;34m)\u001b[0m\u001b[0;34m\u001b[0m\u001b[0;34m\u001b[0m\u001b[0m\n\u001b[0m\u001b[1;32m     27\u001b[0m \u001b[0;34m\u001b[0m\u001b[0m\n\u001b[1;32m     28\u001b[0m \u001b[0;31m# All 3 cases are identical. There is nothing special about the\u001b[0m\u001b[0;34m\u001b[0m\u001b[0;34m\u001b[0m\u001b[0;34m\u001b[0m\u001b[0m\n",
      "\u001b[0;31mAttributeError\u001b[0m: 'MyBase' object has no attribute 'attr3'"
     ]
    }
   ],
   "source": [
    "# Sometimes an attribute is set up immediately because the code \n",
    "# in the constructor initializes the attribute\n",
    "\n",
    "mbase=MyBase(\"value is 1\")\n",
    "\n",
    "print(\"attr1 value : \",mbase.attr1)\n",
    "\n",
    "\n",
    "# Sometimes an attribute might be setup by a method\n",
    "\n",
    "#print(\"Does mbase have attr2 ?\",hasattr(mbase,\"attr2\"))\n",
    "\n",
    "mbase.init_attr2(\"value2\")\n",
    "\n",
    "print(\"attr2 value : \",mbase.attr2)\n",
    "\n",
    "\n",
    "# Sometimes an attribute can be setup by some simple script code like this\n",
    "\n",
    "mbase.attr3 = \"value3\"\n",
    "\n",
    "print(\"attr3 value : \",mbase.attr3)\n",
    "\n",
    "m1base = MyBase('10000')\n",
    "print(m1base.attr1)\n",
    "print(m1base.attr3)\n",
    "\n",
    "# All 3 cases are identical. There is nothing special about the \n",
    "# attribute initialized in the __init__ method\n",
    "# 1. We are accessing the object using a variable.\n",
    "# 2. We are creating the attribute on the object using dot notation."
   ]
  },
  {
   "cell_type": "code",
   "execution_count": 16,
   "metadata": {
    "ExecuteTime": {
     "end_time": "2020-06-01T15:33:45.196246Z",
     "start_time": "2020-06-01T15:33:45.192508Z"
    }
   },
   "outputs": [
    {
     "name": "stdout",
     "output_type": "stream",
     "text": [
      "value1-version2 value2 value3\n"
     ]
    }
   ],
   "source": [
    "# In face, the __init__ method is also nothing special, except that it\n",
    "# is called when we create the object like this - MyBase(...)\n",
    "\n",
    "# Look, you can call the init method again!\n",
    "\n",
    "mbase.__init__(\"value1-version2\")\n",
    "\n",
    "# Nothing has changed in the rest of the object, it's just\n",
    "# that the code of the __init__ method ran and did whatever it was\n",
    "# supposed to do\n",
    "print(mbase.attr1,mbase.attr2,mbase.attr3)"
   ]
  },
  {
   "cell_type": "code",
   "execution_count": 17,
   "metadata": {
    "ExecuteTime": {
     "end_time": "2020-06-01T15:33:45.200461Z",
     "start_time": "2020-06-01T15:33:45.197813Z"
    }
   },
   "outputs": [],
   "source": [
    "# Now let's create another class\n",
    "\n",
    "class Derived(MyBase):\n",
    "    \n",
    "    # We'll leave it empty\n",
    "    pass\n",
    "\n",
    "\n",
    "# Note the class name \"MyBase\" in brackets\n",
    "# This means that Derived1 is a \"subclass\" of MyBase\n",
    "\n",
    "\n",
    "# What does it mean to be a subclass?\n",
    "\n",
    "# It means that this class inherits/automatically gets\n",
    "# all the methods of the parent class"
   ]
  },
  {
   "cell_type": "code",
   "execution_count": 29,
   "metadata": {
    "ExecuteTime": {
     "end_time": "2020-06-01T15:33:45.206095Z",
     "start_time": "2020-06-01T15:33:45.202878Z"
    }
   },
   "outputs": [
    {
     "name": "stdout",
     "output_type": "stream",
     "text": [
      "<bound method MyBase.__init__ of <__main__.Derived object at 0x7f5c344bd220>>\n"
     ]
    }
   ],
   "source": [
    "# This includes the __init__ method\n",
    "\n",
    "mderv=Derived(\"value1\")\n",
    "\n",
    "# You can check that the __init__ method for mderv\n",
    "# comes from MyBase!\n",
    "print(mderv.__init__)\n",
    "#print(mderv.func) Gives error"
   ]
  },
  {
   "cell_type": "code",
   "execution_count": 30,
   "metadata": {
    "ExecuteTime": {
     "end_time": "2020-06-01T15:33:45.210759Z",
     "start_time": "2020-06-01T15:33:45.207856Z"
    }
   },
   "outputs": [
    {
     "name": "stdout",
     "output_type": "stream",
     "text": [
      "value1\n"
     ]
    }
   ],
   "source": [
    "# So now mderv will have the attr1 attribute\n",
    "# since it was set up by the __init__ method\n",
    "\n",
    "print(mderv.attr1)"
   ]
  },
  {
   "cell_type": "code",
   "execution_count": 31,
   "metadata": {
    "ExecuteTime": {
     "end_time": "2020-06-01T15:33:45.216399Z",
     "start_time": "2020-06-01T15:33:45.212435Z"
    }
   },
   "outputs": [
    {
     "name": "stdout",
     "output_type": "stream",
     "text": [
      "['__class__', '__delattr__', '__dict__', '__dir__', '__doc__', '__eq__', '__format__', '__ge__', '__getattribute__', '__gt__', '__hash__', '__init__', '__init_subclass__', '__le__', '__lt__', '__module__', '__ne__', '__new__', '__reduce__', '__reduce_ex__', '__repr__', '__setattr__', '__sizeof__', '__str__', '__subclasshook__', '__weakref__', 'attr1', 'init_attr2']\n",
      "attr2 value :  value2\n",
      "['__class__', '__delattr__', '__dict__', '__dir__', '__doc__', '__eq__', '__format__', '__ge__', '__getattribute__', '__gt__', '__hash__', '__init__', '__init_subclass__', '__le__', '__lt__', '__module__', '__ne__', '__new__', '__reduce__', '__reduce_ex__', '__repr__', '__setattr__', '__sizeof__', '__str__', '__subclasshook__', '__weakref__', 'attr1', 'attr2', 'init_attr2']\n"
     ]
    }
   ],
   "source": [
    "# Note that mderv won't have the attribute attr2 since it \n",
    "# hasn't been set up on this object yet\n",
    "\n",
    "# But we can set it up as it has \"inherited\" the init_attr2()\n",
    "# method\n",
    "print(dir(mderv))\n",
    "\n",
    "mderv.init_attr2(\"value2\")\n",
    "\n",
    "print(\"attr2 value : \",mderv.attr2)\n",
    "\n",
    "# Note : feel free to investigate these objects on your own\n",
    "# using the dir() function!\n",
    "print(dir(mderv))"
   ]
  },
  {
   "cell_type": "code",
   "execution_count": 34,
   "metadata": {
    "ExecuteTime": {
     "end_time": "2020-06-01T15:33:45.220827Z",
     "start_time": "2020-06-01T15:33:45.218020Z"
    }
   },
   "outputs": [
    {
     "name": "stdout",
     "output_type": "stream",
     "text": [
      "True\n",
      "False\n"
     ]
    }
   ],
   "source": [
    "# One convenient way to check if a class is a subclass\n",
    "# of another class is using the issubclass() function\n",
    "# print(issubclass(Child ,Parent))\n",
    "print(issubclass(Derived,MyBase))\n",
    "print(issubclass(MyBase, Derived))"
   ]
  },
  {
   "cell_type": "code",
   "execution_count": 35,
   "metadata": {
    "ExecuteTime": {
     "end_time": "2020-06-01T15:33:45.225549Z",
     "start_time": "2020-06-01T15:33:45.222379Z"
    }
   },
   "outputs": [],
   "source": [
    "# Of course Derived is not very useful\n",
    "\n",
    "class MoreFunctionality(MyBase):\n",
    "    \n",
    "    # In this class we added a new method\n",
    "    def print_attr1(self):\n",
    "        print(\"*\"*len(self.attr1))\n",
    "        print(self.attr1)\n",
    "        print(\"*\"*len(self.attr1))"
   ]
  },
  {
   "cell_type": "code",
   "execution_count": 37,
   "metadata": {
    "ExecuteTime": {
     "end_time": "2020-06-01T15:33:45.231291Z",
     "start_time": "2020-06-01T15:33:45.227382Z"
    }
   },
   "outputs": [
    {
     "name": "stdout",
     "output_type": "stream",
     "text": [
      "val1 val2\n",
      "****\n",
      "val1\n",
      "****\n"
     ]
    }
   ],
   "source": [
    "# MoreFunctionality has inherited all the methods from\n",
    "# MyBase like Derived\n",
    "\n",
    "# It inherited __init__\n",
    "mfunc=MoreFunctionality(\"val1\")\n",
    "\n",
    "# It inherited init_attr2\n",
    "\n",
    "mfunc.init_attr2(\"val2\")\n",
    "\n",
    "print(mfunc.attr1,mfunc.attr2)\n",
    "\n",
    "# But it also has the new method\n",
    "\n",
    "mfunc.print_attr1()"
   ]
  },
  {
   "cell_type": "markdown",
   "metadata": {},
   "source": [
    "### Overriding methods"
   ]
  },
  {
   "cell_type": "code",
   "execution_count": 38,
   "metadata": {
    "ExecuteTime": {
     "end_time": "2020-06-01T15:33:45.236012Z",
     "start_time": "2020-06-01T15:33:45.232915Z"
    }
   },
   "outputs": [],
   "source": [
    "# Let's define another class\n",
    "\n",
    "class Overrider(MyBase):\n",
    "    \n",
    "    # Remember that MyBase also has a method of the same\n",
    "    # name\n",
    "    \n",
    "    def init_attr2(self,attr2):\n",
    "        \n",
    "        print(\"Hello, from Derived2!\")\n",
    "        self.attr2=attr2"
   ]
  },
  {
   "cell_type": "code",
   "execution_count": 43,
   "metadata": {
    "ExecuteTime": {
     "end_time": "2020-06-01T15:33:45.243219Z",
     "start_time": "2020-06-01T15:33:45.238796Z"
    }
   },
   "outputs": [
    {
     "name": "stdout",
     "output_type": "stream",
     "text": [
      "<bound method MyBase.__init__ of <__main__.Overrider object at 0x7f5c344bd040>>\n",
      "<bound method Overrider.init_attr2 of <__main__.Overrider object at 0x7f5c344bd040>>\n",
      "Hello, from Derived2!\n",
      "val-2\n"
     ]
    }
   ],
   "source": [
    "over=Overrider(\"val1\")\n",
    "\n",
    "# The __init__ method still comes from MyBase\n",
    "\n",
    "print(over.__init__)\n",
    "\n",
    "# But the init_attr2 method comes from Overrider!\n",
    "\n",
    "print(over.init_attr2)\n",
    "\n",
    "over.init_attr2(\"val-2\")\n",
    "\n",
    "print(over.attr2)\n",
    "\n",
    "# This is called \"overriding\"\n",
    "# Overrider class has said to have overridden the \n",
    "# init_attr2 method of the parent/base class.\n",
    "# Usually you want to do this when you want a different behavior\n",
    "# for the child class/subclass."
   ]
  },
  {
   "cell_type": "code",
   "execution_count": 46,
   "metadata": {
    "ExecuteTime": {
     "end_time": "2020-06-01T15:33:45.346032Z",
     "start_time": "2020-06-01T15:33:45.245525Z"
    }
   },
   "outputs": [
    {
     "name": "stdout",
     "output_type": "stream",
     "text": [
      "Hello, from Derived2!\n",
      "val1 val2 val3\n",
      "['__class__', '__delattr__', '__dict__', '__dir__', '__doc__', '__eq__', '__format__', '__ge__', '__getattribute__', '__gt__', '__hash__', '__init__', '__init_subclass__', '__le__', '__lt__', '__module__', '__ne__', '__new__', '__reduce__', '__reduce_ex__', '__repr__', '__setattr__', '__sizeof__', '__str__', '__subclasshook__', '__weakref__', 'attr1', 'attr2', 'attr3', 'init_attr2']\n"
     ]
    },
    {
     "ename": "TypeError",
     "evalue": "init_attr2() missing 1 required positional argument: 'attr3'",
     "output_type": "error",
     "traceback": [
      "\u001b[0;31m---------------------------------------------------------------------------\u001b[0m",
      "\u001b[0;31mTypeError\u001b[0m                                 Traceback (most recent call last)",
      "\u001b[0;32m<ipython-input-46-0d8f0a026e7a>\u001b[0m in \u001b[0;36m<module>\u001b[0;34m\u001b[0m\n\u001b[1;32m     18\u001b[0m \u001b[0;31m# This will result in an error\u001b[0m\u001b[0;34m\u001b[0m\u001b[0;34m\u001b[0m\u001b[0;34m\u001b[0m\u001b[0m\n\u001b[1;32m     19\u001b[0m \u001b[0mprint\u001b[0m\u001b[0;34m(\u001b[0m\u001b[0mdir\u001b[0m\u001b[0;34m(\u001b[0m\u001b[0mover\u001b[0m\u001b[0;34m)\u001b[0m\u001b[0;34m)\u001b[0m\u001b[0;34m\u001b[0m\u001b[0;34m\u001b[0m\u001b[0m\n\u001b[0;32m---> 20\u001b[0;31m \u001b[0mover\u001b[0m\u001b[0;34m.\u001b[0m\u001b[0minit_attr2\u001b[0m\u001b[0;34m(\u001b[0m\u001b[0;34m\"val2\"\u001b[0m\u001b[0;34m)\u001b[0m\u001b[0;34m\u001b[0m\u001b[0;34m\u001b[0m\u001b[0m\n\u001b[0m",
      "\u001b[0;31mTypeError\u001b[0m: init_attr2() missing 1 required positional argument: 'attr3'"
     ]
    }
   ],
   "source": [
    "class OverriderArgs(MyBase):\n",
    "    \n",
    "    # You can change the number of attributes\n",
    "    # while overriding - only the name of the method\n",
    "    # matters\n",
    "    def init_attr2(self,attr2,attr3):\n",
    "        \n",
    "        print(\"Hello, from Derived2!\")\n",
    "        self.attr3=attr3\n",
    "        \n",
    "        self.attr2=attr2\n",
    "        \n",
    "over=OverriderArgs(\"val1\")\n",
    "over.init_attr2(\"val2\",\"val3\")\n",
    "\n",
    "print(over.attr1,over.attr2,over.attr3)\n",
    "\n",
    "# This will result in an error\n",
    "print(dir(over))\n",
    "over.init_attr2(\"val2\")\n"
   ]
  },
  {
   "cell_type": "markdown",
   "metadata": {},
   "source": [
    "#### Use the super() Function\n",
    "Python also has a super() function that will make the \n",
    "child class inherit all the methods and properties from its parent:"
   ]
  },
  {
   "cell_type": "code",
   "execution_count": 49,
   "metadata": {
    "ExecuteTime": {
     "end_time": "2020-06-01T15:34:13.596608Z",
     "start_time": "2020-06-01T15:34:13.592175Z"
    }
   },
   "outputs": [
    {
     "name": "stdout",
     "output_type": "stream",
     "text": [
      "Hello, from Derived2!\n",
      "val1 val2- using super val3\n"
     ]
    }
   ],
   "source": [
    "class Overrider3(MyBase):\n",
    "    \n",
    "    # If you want to use the functionality of the parent class\n",
    "    # then you can access it using the super() function\n",
    "    def init_attr2(self,attr2,attr3):\n",
    "        \n",
    "        print(\"Hello, from Derived2!\")\n",
    "        self.attr3=attr3\n",
    "        \n",
    "        super().init_attr2(attr2)\n",
    "\n",
    "\n",
    "\n",
    "over=Overrider3(\"val1\")\n",
    "over.init_attr2(\"val2- using super\",\"val3\")  # Overrider3.init_attr(over, attribues)  => classname.method(object, attribues)\n",
    "\n",
    "print(over.attr1,over.attr2,over.attr3)"
   ]
  },
  {
   "cell_type": "code",
   "execution_count": 52,
   "metadata": {
    "ExecuteTime": {
     "end_time": "2020-06-01T15:34:17.783866Z",
     "start_time": "2020-06-01T15:34:17.779291Z"
    }
   },
   "outputs": [
    {
     "name": "stdout",
     "output_type": "stream",
     "text": [
      "Does over have attr6?  True\n",
      "Does over have attr1?  False\n"
     ]
    }
   ],
   "source": [
    "class OverrideConstructor(MyBase):\n",
    "    \n",
    "    # Of course the __init__ method can also be overridden\n",
    "    # it's just another method!\n",
    "    \n",
    "    def __init__(self,attr1,attr6,attr7):\n",
    "        self.attr6=attr6\n",
    "        self.attr7=attr7\n",
    "        \n",
    "over=OverrideConstructor(\"val1\",\"val5\",\"val6\")\n",
    "\n",
    "# Now, over won't have attr1 because the __init__ method\n",
    "# has changed! \n",
    "print(\"Does over have attr6? \",hasattr(over,\"attr6\"))\n",
    "print(\"Does over have attr1? \",hasattr(over,\"attr1\"))\n",
    "\n",
    "# Note : Thus, people coming from other programming languages can see\n",
    "# that in Python, attributes/fields are not really inherited.\n",
    "# You can \"simulate\" inheritance of attributes by inheriting\n",
    "# the __init__ method - but that's just a simulation."
   ]
  },
  {
   "cell_type": "code",
   "execution_count": 55,
   "metadata": {
    "ExecuteTime": {
     "end_time": "2020-06-01T15:34:20.213216Z",
     "start_time": "2020-06-01T15:34:20.208856Z"
    }
   },
   "outputs": [
    {
     "name": "stdout",
     "output_type": "stream",
     "text": [
      "val1\n",
      "['__class__', '__delattr__', '__dict__', '__dir__', '__doc__', '__eq__', '__format__', '__ge__', '__getattribute__', '__gt__', '__hash__', '__init__', '__init_subclass__', '__le__', '__lt__', '__module__', '__ne__', '__new__', '__reduce__', '__reduce_ex__', '__repr__', '__setattr__', '__sizeof__', '__str__', '__subclasshook__', '__weakref__', 'attr1', 'attr2', 'attr6', 'attr7', 'init_attr2']\n"
     ]
    }
   ],
   "source": [
    "class OverrideConstructor2(MyBase):\n",
    "    \n",
    "    def __init__(self,attr1,attr6,attr7):\n",
    "        self.attr6=attr6\n",
    "        self.attr7=attr7\n",
    "        \n",
    "        # Of course if you want the object to have\n",
    "        # attr1, either uncomment the following line\n",
    "        # self.attr1=attr1\n",
    "        \n",
    "        # or call the super().__init__() method!\n",
    "        # Obviously this option is more general.\n",
    "        \n",
    "        super().__init__(attr1)\n",
    "        super().init_attr2(10)\n",
    "        \n",
    "over=OverrideConstructor2(\"val1\",\"val5\",\"val6\")\n",
    "\n",
    "print(over.attr1)\n",
    "print(dir(over))"
   ]
  },
  {
   "cell_type": "markdown",
   "metadata": {},
   "source": [
    "### Multi-Level Inheritance"
   ]
  },
  {
   "cell_type": "code",
   "execution_count": 60,
   "metadata": {
    "ExecuteTime": {
     "end_time": "2020-06-01T15:34:24.397990Z",
     "start_time": "2020-06-01T15:34:24.392150Z"
    }
   },
   "outputs": [
    {
     "name": "stdout",
     "output_type": "stream",
     "text": [
      "True\n",
      "True\n",
      "True\n",
      "False\n"
     ]
    }
   ],
   "source": [
    "# What happens if you subclass a class that\n",
    "# is the subclass of another class?\n",
    "\n",
    "class Base:\n",
    "    \n",
    "    def method_1(self):\n",
    "        print(\"Base method 1\")\n",
    "        \n",
    "    def method_2(self):\n",
    "        print(\"Base method 2\")\n",
    "        \n",
    "    def method_3(self):\n",
    "        print(\"Base method 3\")\n",
    "\n",
    "        \n",
    "class Child(Base):\n",
    "    \n",
    "    def method_2(self):\n",
    "        print(\"Child method 2\")\n",
    "        \n",
    "    def method_3(self):\n",
    "        print(\"Child method 3\")\n",
    "        \n",
    "\n",
    "class Grandchild(Child):\n",
    "    \n",
    "    def method_3(self):\n",
    "        print(\"Grandchild method 3\")\n",
    "        \n",
    "# The GrandChild class is a subclass of both \n",
    "# Child and Base \n",
    "\n",
    "print(issubclass(Grandchild,Child))\n",
    "print(issubclass(Child,Base))\n",
    "print(issubclass(Grandchild,Base))\n",
    "print(issubclass(Child,Grandchild))"
   ]
  },
  {
   "cell_type": "code",
   "execution_count": 62,
   "metadata": {
    "ExecuteTime": {
     "end_time": "2020-06-01T15:34:26.558693Z",
     "start_time": "2020-06-01T15:34:26.555003Z"
    }
   },
   "outputs": [
    {
     "name": "stdout",
     "output_type": "stream",
     "text": [
      "Grandchild method 3\n",
      "Child method 2\n",
      "Base method 1\n",
      "--------------------\n",
      "Base method 1\n",
      "Child method 2\n",
      "Child method 3\n"
     ]
    }
   ],
   "source": [
    "gchild = Grandchild()\n",
    "\n",
    "# If we call a method on an object of Grandchild,\n",
    "# It first checks if it can be found in the Grandchild class\n",
    "# If not, it checks in the Child class\n",
    "# If not in the Child class, it checks in the Base class\n",
    "\n",
    "# Found in the Grandchild class\n",
    "gchild.method_3()\n",
    "\n",
    "# Found in the Child class\n",
    "gchild.method_2()\n",
    "\n",
    "# Found in the Base class\n",
    "gchild.method_1()\n",
    "print('-'*20)\n",
    "child = Child()\n",
    "child.method_1()\n",
    "child.method_2()\n",
    "child.method_3()"
   ]
  },
  {
   "cell_type": "code",
   "execution_count": 65,
   "metadata": {
    "ExecuteTime": {
     "end_time": "2020-06-01T15:34:28.339046Z",
     "start_time": "2020-06-01T15:34:28.332432Z"
    }
   },
   "outputs": [
    {
     "name": "stdout",
     "output_type": "stream",
     "text": [
      "['__class__', '__delattr__', '__dict__', '__dir__', '__doc__', '__eq__', '__format__', '__ge__', '__getattribute__', '__gt__', '__hash__', '__init__', '__init_subclass__', '__le__', '__lt__', '__module__', '__ne__', '__new__', '__reduce__', '__reduce_ex__', '__repr__', '__setattr__', '__sizeof__', '__str__', '__subclasshook__', '__weakref__', 'method_1', 'method_2', 'method_3']\n"
     ]
    },
    {
     "ename": "AttributeError",
     "evalue": "'Grandchild' object has no attribute 'something_totally_random'",
     "output_type": "error",
     "traceback": [
      "\u001b[0;31m---------------------------------------------------------------------------\u001b[0m",
      "\u001b[0;31mAttributeError\u001b[0m                            Traceback (most recent call last)",
      "\u001b[0;32m<ipython-input-65-5d9fe1f89fbe>\u001b[0m in \u001b[0;36m<module>\u001b[0;34m\u001b[0m\n\u001b[1;32m      8\u001b[0m \u001b[0;31m# This will give an error\u001b[0m\u001b[0;34m\u001b[0m\u001b[0;34m\u001b[0m\u001b[0;34m\u001b[0m\u001b[0m\n\u001b[1;32m      9\u001b[0m \u001b[0;34m\u001b[0m\u001b[0m\n\u001b[0;32m---> 10\u001b[0;31m \u001b[0mgchild\u001b[0m\u001b[0;34m.\u001b[0m\u001b[0msomething_totally_random\u001b[0m\u001b[0;34m(\u001b[0m\u001b[0;34m)\u001b[0m\u001b[0;34m\u001b[0m\u001b[0;34m\u001b[0m\u001b[0m\n\u001b[0m",
      "\u001b[0;31mAttributeError\u001b[0m: 'Grandchild' object has no attribute 'something_totally_random'"
     ]
    }
   ],
   "source": [
    "# If a method is not at the Base, it checks if it is in the \"object\" class\n",
    "# If not, it gives an error\n",
    "\n",
    "# This is the function that's internally called when you \"print(gchild)\"\n",
    "print(dir(gchild))\n",
    "gchild.__str__()\n",
    "\n",
    "# This will give an error\n",
    "\n",
    "gchild.something_totally_random()"
   ]
  },
  {
   "cell_type": "markdown",
   "metadata": {},
   "source": [
    "### Method Resolution Order (MRO)\n",
    "Method Resolution Order (MRO) is the order in which methods should be inherited in the presence of multiple inheritance. You can view the MRO by using the __mro__ attribute."
   ]
  },
  {
   "cell_type": "code",
   "execution_count": 69,
   "metadata": {
    "ExecuteTime": {
     "end_time": "2020-06-01T15:34:30.071039Z",
     "start_time": "2020-06-01T15:34:30.067215Z"
    }
   },
   "outputs": [
    {
     "name": "stdout",
     "output_type": "stream",
     "text": [
      "(<class '__main__.Grandchild'>, <class '__main__.Child'>, <class '__main__.Base'>, <class 'object'>)\n",
      "(<class '__main__.Child'>, <class '__main__.Base'>, <class 'object'>)\n",
      "(<class '__main__.Base'>, <class 'object'>)\n"
     ]
    }
   ],
   "source": [
    "# You can have arbitrarily long chains of class-subclass relationships\n",
    "# like this\n",
    "\n",
    "# The logic that was given earlier, regarding \"how to find a method\"\n",
    "# is called the Method Resolution Order (MRO) for a given class. We \n",
    "# can check it by accessing the .__mro__ attribute!\n",
    "\n",
    "print(Grandchild.__mro__)\n",
    "\n",
    "print(Child.__mro__)\n",
    "\n",
    "print(Base.__mro__)"
   ]
  },
  {
   "cell_type": "markdown",
   "metadata": {},
   "source": [
    "### Multi-Class Inheritance"
   ]
  },
  {
   "cell_type": "code",
   "execution_count": 71,
   "metadata": {
    "ExecuteTime": {
     "end_time": "2020-06-01T15:34:33.015085Z",
     "start_time": "2020-06-01T15:34:33.007603Z"
    }
   },
   "outputs": [
    {
     "name": "stdout",
     "output_type": "stream",
     "text": [
      "False\n",
      "True\n",
      "False\n",
      "True\n"
     ]
    }
   ],
   "source": [
    "# In Python, you can infact have multiple Parent classes\n",
    "\n",
    "class PaternalGrandparent:\n",
    "    \n",
    "    def method_1(self):\n",
    "        print(\"PaternalGrandparent method 1\")\n",
    "        \n",
    "    def method_2(self):\n",
    "        print(\"PaternalGrandparent method 2\")\n",
    "        \n",
    "    def method_3(self):\n",
    "        print(\"PaternalGrandparent method 3\")\n",
    "        \n",
    "    def method_4(self):\n",
    "        print(\"PaternalGrandparent method 4\")\n",
    "        \n",
    "class Mother:\n",
    "        \n",
    "    def method_3(self):\n",
    "        print(\"Mother method 3\")\n",
    "        \n",
    "    def method_4(self):\n",
    "        print(\"Mother method 4\")\n",
    "        \n",
    "        \n",
    "class Father(PaternalGrandparent):\n",
    "    \n",
    "    def method_2(self):\n",
    "        print(\"Father method 2\")\n",
    "    \n",
    "    def method_3(self):\n",
    "        print(\"Father method 3\")\n",
    "        \n",
    "    def method_4(self):\n",
    "        print(\"Father method 4\")\n",
    "        \n",
    "class Child(Mother,Father):\n",
    "    \n",
    "    def method_4(self):\n",
    "        print(\"Child method 4\")\n",
    "        \n",
    "\n",
    "# The Child class is a subclass of  \n",
    "# Father,PaternalGrandparent and Mother \n",
    "\n",
    "print(issubclass(PaternalGrandparent,Child))\n",
    "print(issubclass(Child, Father))\n",
    "print(issubclass(Mother,Child))\n",
    "print(issubclass(Child, PaternalGrandparent))"
   ]
  },
  {
   "cell_type": "code",
   "execution_count": 73,
   "metadata": {
    "ExecuteTime": {
     "end_time": "2020-06-01T15:34:35.733194Z",
     "start_time": "2020-06-01T15:34:35.729675Z"
    }
   },
   "outputs": [
    {
     "name": "stdout",
     "output_type": "stream",
     "text": [
      "Child method 4\n",
      "Mother method 3\n",
      "Father method 2\n",
      "PaternalGrandparent method 1\n",
      "(<class '__main__.Child'>, <class '__main__.Mother'>, <class '__main__.Father'>, <class '__main__.PaternalGrandparent'>, <class 'object'>)\n"
     ]
    }
   ],
   "source": [
    "# Yet again we have the concept of Method Resolution\n",
    "# Order.\n",
    "\n",
    "# In this case it is Child , Mother, Father, PaternalGrandparent\n",
    "\n",
    "child=Child()\n",
    "\n",
    "# Found in Child\n",
    "child.method_4()\n",
    "\n",
    "# Found in Mother\n",
    "child.method_3()\n",
    "\n",
    "# Found in Father\n",
    "child.method_2()\n",
    "\n",
    "# Found in PaternalGrandparent\n",
    "child.method_1()\n",
    "print(Child.__mro__)"
   ]
  },
  {
   "cell_type": "code",
   "execution_count": 74,
   "metadata": {
    "ExecuteTime": {
     "end_time": "2020-06-01T15:34:37.657964Z",
     "start_time": "2020-06-01T15:34:37.655005Z"
    }
   },
   "outputs": [],
   "source": [
    "# Let's change the order of Mother and Father\n",
    "\n",
    "class Child2(Father,Mother):\n",
    "    \n",
    "    def method_4(self):\n",
    "        print(\"Child method 4\")\n",
    "        \n",
    "# In this case it is Child2, Father, PaternalGrandparent, Mother"
   ]
  },
  {
   "cell_type": "code",
   "execution_count": 76,
   "metadata": {
    "ExecuteTime": {
     "end_time": "2020-06-01T15:34:40.372106Z",
     "start_time": "2020-06-01T15:34:40.368745Z"
    }
   },
   "outputs": [
    {
     "name": "stdout",
     "output_type": "stream",
     "text": [
      "(<class '__main__.Child'>, <class '__main__.Mother'>, <class '__main__.Father'>, <class '__main__.PaternalGrandparent'>, <class 'object'>)\n",
      "(<class '__main__.Child2'>, <class '__main__.Father'>, <class '__main__.PaternalGrandparent'>, <class '__main__.Mother'>, <class 'object'>)\n"
     ]
    }
   ],
   "source": [
    "# Of course, we don't need to remember this or figure it out\n",
    "# We can always check the __mro__ attribute\n",
    "\n",
    "print(Child.__mro__)\n",
    "print(Child2.__mro__)"
   ]
  },
  {
   "cell_type": "markdown",
   "metadata": {},
   "source": [
    "# Error Handling in Python"
   ]
  },
  {
   "cell_type": "markdown",
   "metadata": {
    "ExecuteTime": {
     "end_time": "2020-05-07T16:12:43.398874Z",
     "start_time": "2020-05-07T16:12:43.395463Z"
    }
   },
   "source": [
    "Topics\n",
    "\n",
    "* Types of errors : Syntax errors, runtime errors, semantic errors\n",
    "* Ex of runtime error : IndexError, KeyError, DivisionByZero error.\n",
    "* try except Exception to handle runtime error.\n",
    "* IndexError etc isinstance of Exception base class \n",
    "* Writing specific except clauses (ex : ValueError + IndexError)\n",
    "* Multiple except clauses\n",
    "* aliasing the exception and accessing the exception object (.args etc)\n",
    "* raise your own exception\n",
    "* The point of exceptions : Not to always prevent a fail => not fail when a soln is known; but fail informatively when solution impossible/unknown"
   ]
  },
  {
   "cell_type": "markdown",
   "metadata": {},
   "source": [
    "### Exceptions"
   ]
  },
  {
   "cell_type": "code",
   "execution_count": 1,
   "metadata": {
    "ExecuteTime": {
     "end_time": "2020-06-01T15:34:43.013728Z",
     "start_time": "2020-06-01T15:34:43.007256Z"
    }
   },
   "outputs": [
    {
     "name": "stdout",
     "output_type": "stream",
     "text": [
      "3\n"
     ]
    },
    {
     "ename": "IndexError",
     "evalue": "list index out of range",
     "output_type": "error",
     "traceback": [
      "\u001b[0;31m---------------------------------------------------------------------------\u001b[0m",
      "\u001b[0;31mIndexError\u001b[0m                                Traceback (most recent call last)",
      "\u001b[0;32m<ipython-input-1-bf0380620377>\u001b[0m in \u001b[0;36m<module>\u001b[0;34m\u001b[0m\n\u001b[1;32m      1\u001b[0m \u001b[0mx\u001b[0m\u001b[0;34m=\u001b[0m\u001b[0;34m[\u001b[0m\u001b[0;36m1\u001b[0m\u001b[0;34m,\u001b[0m\u001b[0;36m2\u001b[0m\u001b[0;34m,\u001b[0m\u001b[0;36m3\u001b[0m\u001b[0;34m]\u001b[0m\u001b[0;34m\u001b[0m\u001b[0;34m\u001b[0m\u001b[0m\n\u001b[1;32m      2\u001b[0m \u001b[0mprint\u001b[0m\u001b[0;34m(\u001b[0m\u001b[0mlen\u001b[0m\u001b[0;34m(\u001b[0m\u001b[0mx\u001b[0m\u001b[0;34m)\u001b[0m\u001b[0;34m)\u001b[0m\u001b[0;34m\u001b[0m\u001b[0;34m\u001b[0m\u001b[0m\n\u001b[0;32m----> 3\u001b[0;31m \u001b[0mprint\u001b[0m\u001b[0;34m(\u001b[0m\u001b[0mx\u001b[0m\u001b[0;34m[\u001b[0m\u001b[0;36m4\u001b[0m\u001b[0;34m]\u001b[0m\u001b[0;34m)\u001b[0m\u001b[0;34m\u001b[0m\u001b[0;34m\u001b[0m\u001b[0m\n\u001b[0m",
      "\u001b[0;31mIndexError\u001b[0m: list index out of range"
     ]
    }
   ],
   "source": [
    "x=[1,2,3]\n",
    "print(len(x))\n",
    "print(x[4])"
   ]
  },
  {
   "cell_type": "code",
   "execution_count": 2,
   "metadata": {
    "ExecuteTime": {
     "end_time": "2020-06-01T15:34:44.235773Z",
     "start_time": "2020-06-01T15:34:44.229297Z"
    }
   },
   "outputs": [
    {
     "name": "stdout",
     "output_type": "stream",
     "text": [
      "dict_keys(['a', 'b'])\n",
      "dict_keys(['a', 'b', 'e'])\n"
     ]
    },
    {
     "ename": "KeyError",
     "evalue": "'f'",
     "output_type": "error",
     "traceback": [
      "\u001b[0;31m---------------------------------------------------------------------------\u001b[0m",
      "\u001b[0;31mKeyError\u001b[0m                                  Traceback (most recent call last)",
      "\u001b[0;32m<ipython-input-2-c8849351eb3d>\u001b[0m in \u001b[0;36m<module>\u001b[0;34m\u001b[0m\n\u001b[1;32m      4\u001b[0m \u001b[0mx\u001b[0m\u001b[0;34m[\u001b[0m\u001b[0;34m\"e\"\u001b[0m\u001b[0;34m]\u001b[0m \u001b[0;34m=\u001b[0m \u001b[0;36m10\u001b[0m\u001b[0;34m\u001b[0m\u001b[0;34m\u001b[0m\u001b[0m\n\u001b[1;32m      5\u001b[0m \u001b[0mprint\u001b[0m\u001b[0;34m(\u001b[0m\u001b[0mx\u001b[0m\u001b[0;34m.\u001b[0m\u001b[0mkeys\u001b[0m\u001b[0;34m(\u001b[0m\u001b[0;34m)\u001b[0m\u001b[0;34m)\u001b[0m\u001b[0;34m\u001b[0m\u001b[0;34m\u001b[0m\u001b[0m\n\u001b[0;32m----> 6\u001b[0;31m \u001b[0mprint\u001b[0m\u001b[0;34m(\u001b[0m\u001b[0mx\u001b[0m\u001b[0;34m[\u001b[0m\u001b[0;34m'f'\u001b[0m\u001b[0;34m]\u001b[0m\u001b[0;34m)\u001b[0m\u001b[0;34m\u001b[0m\u001b[0;34m\u001b[0m\u001b[0m\n\u001b[0m",
      "\u001b[0;31mKeyError\u001b[0m: 'f'"
     ]
    }
   ],
   "source": [
    "x={\"a\":22,\"b\":33}\n",
    "#print(dir(x))\n",
    "print(x.keys())\n",
    "x[\"e\"] = 10\n",
    "print(x.keys())\n",
    "print(x['f'])"
   ]
  },
  {
   "cell_type": "code",
   "execution_count": 3,
   "metadata": {
    "ExecuteTime": {
     "end_time": "2020-06-01T15:34:45.086454Z",
     "start_time": "2020-06-01T15:34:45.080289Z"
    },
    "scrolled": true
   },
   "outputs": [
    {
     "name": "stdout",
     "output_type": "stream",
     "text": [
      "900.0\n"
     ]
    },
    {
     "ename": "ValueError",
     "evalue": "could not convert string to float: 'abcd'",
     "output_type": "error",
     "traceback": [
      "\u001b[0;31m---------------------------------------------------------------------------\u001b[0m",
      "\u001b[0;31mValueError\u001b[0m                                Traceback (most recent call last)",
      "\u001b[0;32m<ipython-input-3-9bb3f778ee0c>\u001b[0m in \u001b[0;36m<module>\u001b[0;34m\u001b[0m\n\u001b[1;32m      1\u001b[0m \u001b[0mprint\u001b[0m\u001b[0;34m(\u001b[0m\u001b[0mfloat\u001b[0m\u001b[0;34m(\u001b[0m\u001b[0;34m'900'\u001b[0m\u001b[0;34m)\u001b[0m\u001b[0;34m)\u001b[0m\u001b[0;34m\u001b[0m\u001b[0;34m\u001b[0m\u001b[0m\n\u001b[0;32m----> 2\u001b[0;31m \u001b[0mprint\u001b[0m\u001b[0;34m(\u001b[0m\u001b[0mfloat\u001b[0m\u001b[0;34m(\u001b[0m\u001b[0;34m\"abcd\"\u001b[0m\u001b[0;34m)\u001b[0m\u001b[0;34m)\u001b[0m\u001b[0;34m\u001b[0m\u001b[0;34m\u001b[0m\u001b[0m\n\u001b[0m",
      "\u001b[0;31mValueError\u001b[0m: could not convert string to float: 'abcd'"
     ]
    }
   ],
   "source": [
    "print(float('900'))\n",
    "print(float(\"abcd\"))"
   ]
  },
  {
   "cell_type": "code",
   "execution_count": 4,
   "metadata": {
    "ExecuteTime": {
     "end_time": "2020-06-01T15:34:45.736793Z",
     "start_time": "2020-06-01T15:34:45.730532Z"
    }
   },
   "outputs": [
    {
     "ename": "ZeroDivisionError",
     "evalue": "division by zero",
     "output_type": "error",
     "traceback": [
      "\u001b[0;31m---------------------------------------------------------------------------\u001b[0m",
      "\u001b[0;31mZeroDivisionError\u001b[0m                         Traceback (most recent call last)",
      "\u001b[0;32m<ipython-input-4-9e1622b385b6>\u001b[0m in \u001b[0;36m<module>\u001b[0;34m\u001b[0m\n\u001b[0;32m----> 1\u001b[0;31m \u001b[0;36m1\u001b[0m\u001b[0;34m/\u001b[0m\u001b[0;36m0\u001b[0m\u001b[0;34m\u001b[0m\u001b[0;34m\u001b[0m\u001b[0m\n\u001b[0m",
      "\u001b[0;31mZeroDivisionError\u001b[0m: division by zero"
     ]
    }
   ],
   "source": [
    "1/0"
   ]
  },
  {
   "cell_type": "code",
   "execution_count": 5,
   "metadata": {
    "ExecuteTime": {
     "end_time": "2020-06-01T15:34:46.432809Z",
     "start_time": "2020-06-01T15:34:46.429248Z"
    }
   },
   "outputs": [
    {
     "name": "stdout",
     "output_type": "stream",
     "text": [
      "True\n",
      "True\n",
      "True\n",
      "True\n"
     ]
    }
   ],
   "source": [
    "# You have already seen many examples of runtime errors in Python\n",
    "# These are called exceptions\n",
    "\n",
    "# In fact they are subclasses of the Exception class\n",
    "\n",
    "print(issubclass(IndexError,Exception))\n",
    "print(issubclass(KeyError,Exception))\n",
    "print(issubclass(ValueError,Exception))\n",
    "print(issubclass(ZeroDivisionError,Exception))"
   ]
  },
  {
   "cell_type": "markdown",
   "metadata": {},
   "source": [
    "* An error can stop the execution of your program. \n",
    "* In most of the cases - this is what you want to happen! If your car's engine starts smoking, you're not going to want to keep driving it right?\n",
    "* But in some cases, you don't want it to stop the program. \n",
    "* That's because you know **how to handle the error** i.e. you have a plan for what to do if that error happens."
   ]
  },
  {
   "cell_type": "code",
   "execution_count": 6,
   "metadata": {
    "ExecuteTime": {
     "end_time": "2020-06-01T15:34:52.634342Z",
     "start_time": "2020-06-01T15:34:48.445535Z"
    }
   },
   "outputs": [
    {
     "name": "stdout",
     "output_type": "stream",
     "text": [
      "Welcome to pocket divider \n",
      "Please enter two numbers separated by comma \n"
     ]
    },
    {
     "ename": "ValueError",
     "evalue": "could not convert string to float: ''",
     "output_type": "error",
     "traceback": [
      "\u001b[0;31m---------------------------------------------------------------------------\u001b[0m",
      "\u001b[0;31mValueError\u001b[0m                                Traceback (most recent call last)",
      "\u001b[0;32m<ipython-input-6-fa234c674daf>\u001b[0m in \u001b[0;36m<module>\u001b[0;34m\u001b[0m\n\u001b[1;32m     16\u001b[0m     \u001b[0mnums\u001b[0m\u001b[0;34m=\u001b[0m\u001b[0;34m[\u001b[0m\u001b[0;34m]\u001b[0m\u001b[0;34m\u001b[0m\u001b[0;34m\u001b[0m\u001b[0m\n\u001b[1;32m     17\u001b[0m     \u001b[0;32mfor\u001b[0m \u001b[0mp\u001b[0m \u001b[0;32min\u001b[0m \u001b[0mparts\u001b[0m\u001b[0;34m:\u001b[0m\u001b[0;34m\u001b[0m\u001b[0;34m\u001b[0m\u001b[0m\n\u001b[0;32m---> 18\u001b[0;31m         \u001b[0mnums\u001b[0m\u001b[0;34m.\u001b[0m\u001b[0mappend\u001b[0m\u001b[0;34m(\u001b[0m\u001b[0mfloat\u001b[0m\u001b[0;34m(\u001b[0m\u001b[0mp\u001b[0m\u001b[0;34m)\u001b[0m\u001b[0;34m)\u001b[0m\u001b[0;34m\u001b[0m\u001b[0;34m\u001b[0m\u001b[0m\n\u001b[0m\u001b[1;32m     19\u001b[0m \u001b[0;34m\u001b[0m\u001b[0m\n\u001b[1;32m     20\u001b[0m     \u001b[0;31m# 2. ZeroDivisionError if nums[1] is 0\u001b[0m\u001b[0;34m\u001b[0m\u001b[0;34m\u001b[0m\u001b[0;34m\u001b[0m\u001b[0m\n",
      "\u001b[0;31mValueError\u001b[0m: could not convert string to float: ''"
     ]
    }
   ],
   "source": [
    "# Consider this toy program\n",
    "# There are at least two scenarios where this \n",
    "# code might run into an exceptions\n",
    "\n",
    "print(\"Welcome to pocket divider \")\n",
    "\n",
    "while True:\n",
    "    inp=input(\"Please enter two numbers separated by comma \")\n",
    "\n",
    "    if inp==\"exit\":\n",
    "        break\n",
    "        \n",
    "    parts=inp.split(\",\") # '4,5' => ['4', '5']\n",
    "\n",
    "    # 1. ValueError if p is some non-float string like \"abcd\"\n",
    "    nums=[]\n",
    "    for p in parts:\n",
    "        nums.append(float(p))\n",
    "\n",
    "    # 2. ZeroDivisionError if nums[1] is 0\n",
    "    print(\"Result :\",nums[0]/nums[1])"
   ]
  },
  {
   "cell_type": "code",
   "execution_count": null,
   "metadata": {
    "ExecuteTime": {
     "end_time": "2020-06-01T15:35:12.057521Z",
     "start_time": "2020-06-01T15:34:54.845103Z"
    }
   },
   "outputs": [
    {
     "name": "stdout",
     "output_type": "stream",
     "text": [
      "Welcome to pocket divider \n"
     ]
    }
   ],
   "source": [
    "# These are error scenarios we know how to handle -\n",
    "# Just a simple error message is fine\n",
    "# So let's wrap the code that might have an error in\n",
    "# a try, except block\n",
    "\n",
    "print(\"Welcome to pocket divider \")\n",
    "while True:\n",
    "    inp=input(\"Please enter two numbers separated by comma \")\n",
    "    if inp==\"exit\":\n",
    "        break\n",
    "    parts=inp.split(\",\")\n",
    "    \n",
    "    # If an error occurs inside the try block\n",
    "    \n",
    "    try:\n",
    "        \n",
    "        nums=[]\n",
    "        for p in parts:\n",
    "            nums.append(float(p))\n",
    "        print(\"Result :\",nums[0]/nums[1])\n",
    "    \n",
    "    except Exception:\n",
    "        print()\n",
    "        # The code in the except block will run\n",
    "        \n",
    "        print(\"An error occurred\")"
   ]
  },
  {
   "cell_type": "code",
   "execution_count": 18,
   "metadata": {
    "ExecuteTime": {
     "end_time": "2020-06-01T15:35:16.460593Z",
     "start_time": "2020-06-01T15:35:16.455520Z"
    }
   },
   "outputs": [
    {
     "name": "stdout",
     "output_type": "stream",
     "text": [
      "0.0\n",
      "1st number is 0\n",
      "2nd number is 0\n",
      "Another try except block\n"
     ]
    }
   ],
   "source": [
    "# You can have multiple and even nested \n",
    "# try except blocks\n",
    "\n",
    "nums=[0,1]\n",
    "try :\n",
    "    print(nums[0]/nums[1])\n",
    "    try:\n",
    "        print(nums[1]/nums[0])\n",
    "    except Exception:\n",
    "        print(\"1st number is 0\")\n",
    "        \n",
    "        # You can also have an exception inside\n",
    "        # an except block\n",
    "        \n",
    "        print(1/0)\n",
    "    \n",
    "except Exception:\n",
    "    print(\"2nd number is 0\")\n",
    "\n",
    "try:\n",
    "    1/0\n",
    "except:\n",
    "    print(\"Another try except block\")"
   ]
  },
  {
   "cell_type": "markdown",
   "metadata": {},
   "source": [
    "### Multiple except blocks"
   ]
  },
  {
   "cell_type": "code",
   "execution_count": 7,
   "metadata": {
    "ExecuteTime": {
     "end_time": "2020-06-01T15:35:43.382916Z",
     "start_time": "2020-06-01T15:35:31.519259Z"
    }
   },
   "outputs": [
    {
     "name": "stdout",
     "output_type": "stream",
     "text": [
      "Welcome to pocket divider \n",
      "Please enter two numbers separated by comma exit\n"
     ]
    }
   ],
   "source": [
    "# The previous example was not very specific, can't we handle both errors separately?\n",
    "# One option is to have a separate try...except blocks for each of the\n",
    "# \"dangerous\" lines\n",
    "\n",
    "# But that's so messy!\n",
    "\n",
    "# Let's instead have multiple except clauses, where we mention the name of the\n",
    "# Exception class\n",
    "\n",
    "print(\"Welcome to pocket divider \")\n",
    "while True:\n",
    "    inp=input(\"Please enter two numbers separated by comma \")\n",
    "    if inp==\"exit\":\n",
    "        break\n",
    "    parts=inp.split(\",\")\n",
    "    \n",
    "    try:\n",
    "        nums=[]\n",
    "        for p in parts:\n",
    "            nums.append(float(p))\n",
    "        print(\"Result :\",nums[0]/nums[1])\n",
    "    \n",
    "    except ZeroDivisionError:\n",
    "        print(\"The second number was 0!\")\n",
    "\n",
    "    except ValueError:\n",
    "        print(\"There was an error converting to float\")\n",
    "\n",
    "    except Exception:\n",
    "        print(\"Some general exception\")"
   ]
  },
  {
   "cell_type": "code",
   "execution_count": 9,
   "metadata": {
    "ExecuteTime": {
     "end_time": "2020-06-01T15:35:45.622258Z",
     "start_time": "2020-06-01T15:35:45.618934Z"
    }
   },
   "outputs": [
    {
     "name": "stdout",
     "output_type": "stream",
     "text": [
      "Some general exception\n"
     ]
    }
   ],
   "source": [
    "# When you have multiple except clauses, if an error occurs\n",
    "# Python checks from top to bottom for an Exception class that matches\n",
    "\n",
    "# So we should never put except Exception at top, as it will\n",
    "# hide everything else\n",
    "\n",
    "try:\n",
    "    1/0\n",
    "except Exception:\n",
    "    print(\"Some general exception\")\n",
    "except ZeroDivisionError:\n",
    "    print(\"This will never ever be reached\")"
   ]
  },
  {
   "cell_type": "markdown",
   "metadata": {},
   "source": [
    "### Raising Exceptions"
   ]
  },
  {
   "cell_type": "code",
   "execution_count": 11,
   "metadata": {
    "ExecuteTime": {
     "end_time": "2020-06-01T15:35:48.063831Z",
     "start_time": "2020-06-01T15:35:48.056142Z"
    }
   },
   "outputs": [
    {
     "name": "stdout",
     "output_type": "stream",
     "text": [
      "('My special exception', 'can have', 'variable', 'length arguments')\n"
     ]
    },
    {
     "ename": "Exception",
     "evalue": "('My special exception', 'can have', 'variable', 'length arguments')",
     "output_type": "error",
     "traceback": [
      "\u001b[0;31m---------------------------------------------------------------------------\u001b[0m",
      "\u001b[0;31mException\u001b[0m                                 Traceback (most recent call last)",
      "\u001b[0;32m<ipython-input-11-d679d8feb3ca>\u001b[0m in \u001b[0;36m<module>\u001b[0;34m\u001b[0m\n\u001b[1;32m     12\u001b[0m \u001b[0;31m# the \"raise\" keyword\u001b[0m\u001b[0;34m\u001b[0m\u001b[0;34m\u001b[0m\u001b[0;34m\u001b[0m\u001b[0m\n\u001b[1;32m     13\u001b[0m \u001b[0;34m\u001b[0m\u001b[0m\n\u001b[0;32m---> 14\u001b[0;31m \u001b[0;32mraise\u001b[0m \u001b[0me\u001b[0m\u001b[0;34m\u001b[0m\u001b[0;34m\u001b[0m\u001b[0m\n\u001b[0m\u001b[1;32m     15\u001b[0m \u001b[0;34m\u001b[0m\u001b[0m\n\u001b[1;32m     16\u001b[0m \u001b[0mprint\u001b[0m\u001b[0;34m(\u001b[0m\u001b[0;34m\"This will not print, as an error occurred in the previous line\"\u001b[0m\u001b[0;34m)\u001b[0m\u001b[0;34m\u001b[0m\u001b[0;34m\u001b[0m\u001b[0m\n",
      "\u001b[0;31mException\u001b[0m: ('My special exception', 'can have', 'variable', 'length arguments')"
     ]
    }
   ],
   "source": [
    "# Sometimes, you might want to signal an error condition yourself\n",
    "# Then you can create an Exception object yourself.\n",
    "# Alternatively, you can also subclass the Exception class yourself.\n",
    "\n",
    "e = Exception(\"My special exception\",\"can have\",\"variable\",\"length arguments\")\n",
    "\n",
    "# You can access the arguments like this\n",
    "\n",
    "print(e.args)\n",
    "\n",
    "# The Exception object won't actually cause an error till you use\n",
    "# the \"raise\" keyword\n",
    "\n",
    "raise e\n",
    "\n",
    "print(\"This will not print, as an error occurred in the previous line\")"
   ]
  },
  {
   "cell_type": "code",
   "execution_count": 12,
   "metadata": {
    "ExecuteTime": {
     "end_time": "2020-06-01T15:35:50.025900Z",
     "start_time": "2020-06-01T15:35:50.022633Z"
    }
   },
   "outputs": [
    {
     "name": "stdout",
     "output_type": "stream",
     "text": [
      "('My special Exception',)\n"
     ]
    }
   ],
   "source": [
    "# You can access the exception object in the except block\n",
    "# as well, using the \"ClassName as var\" syntax\n",
    "\n",
    "try :    \n",
    "    raise Exception(\"My special Exception\")\n",
    "    \n",
    "except Exception as e:\n",
    "    print(e.args)"
   ]
  },
  {
   "cell_type": "code",
   "execution_count": 13,
   "metadata": {
    "ExecuteTime": {
     "end_time": "2020-06-01T15:36:06.818870Z",
     "start_time": "2020-06-01T15:35:52.143527Z"
    }
   },
   "outputs": [
    {
     "name": "stdout",
     "output_type": "stream",
     "text": [
      "Welcome to pocket divider \n",
      "Please enter two numbers separated by comma 4,5\n",
      "0.8\n",
      "Done\n",
      "Please enter two numbers separated by comma 1,pra\n",
      "There was an error converting to float\n",
      "(\"could not convert string to float: 'pra'\",)\n",
      "Please enter two numbers separated by comma 1,4,5\n",
      "('LengthUnequalError', 'Exactly 2 numbers required', 3)\n",
      "General exception\n",
      "Please enter two numbers separated by comma exit\n"
     ]
    }
   ],
   "source": [
    "# We can use these concepts to improve our example\n",
    "\n",
    "print(\"Welcome to pocket divider \")\n",
    "\n",
    "while True:\n",
    "    inp=input(\"Please enter two numbers separated by comma \")\n",
    "    if inp==\"exit\":\n",
    "        break\n",
    "    parts=inp.split(\",\")\n",
    "    try:\n",
    "        if len(parts)!=2:\n",
    "            raise Exception(\"LengthUnequalError\",\"Exactly 2 numbers required\",len(parts))\n",
    "            \n",
    "        # possibly value error\n",
    "        nums=[float(p) for p in parts]\n",
    "\n",
    "        # division by zero error\n",
    "        print(nums[0]/nums[1])\n",
    "\n",
    "        print(\"Done\")\n",
    "\n",
    "    except ZeroDivisionError as zde:\n",
    "        print(\"The second number was 0!\")\n",
    "        print(zde.args)\n",
    "\n",
    "    except ValueError as ve:\n",
    "        print(\"There was an error converting to float\")\n",
    "        print(ve.args)\n",
    "\n",
    "    except Exception as e_obj:\n",
    "        print(e_obj.args)\n",
    "        print(\"General exception\")"
   ]
  },
  {
   "cell_type": "markdown",
   "metadata": {},
   "source": [
    "### Exceptions within functions"
   ]
  },
  {
   "cell_type": "code",
   "execution_count": 15,
   "metadata": {
    "ExecuteTime": {
     "end_time": "2020-06-01T15:36:10.072346Z",
     "start_time": "2020-06-01T15:36:10.068869Z"
    }
   },
   "outputs": [],
   "source": [
    "def A_Func(num_tries):    \n",
    "    if num_tries==0:\n",
    "        raise Exception(\"Exception occurred\")\n",
    "    # \n",
    "    B_Func(num_tries-1)\n",
    "\n",
    "def B_Func(num_tries):    \n",
    "    if num_tries==0:\n",
    "        raise Exception(\"Exception occurred\")\n",
    "    A_Func(num_tries-1)"
   ]
  },
  {
   "cell_type": "code",
   "execution_count": 16,
   "metadata": {
    "ExecuteTime": {
     "end_time": "2020-06-01T15:36:10.860546Z",
     "start_time": "2020-06-01T15:36:10.845521Z"
    },
    "scrolled": true
   },
   "outputs": [
    {
     "ename": "Exception",
     "evalue": "Exception occurred",
     "output_type": "error",
     "traceback": [
      "\u001b[0;31m---------------------------------------------------------------------------\u001b[0m",
      "\u001b[0;31mException\u001b[0m                                 Traceback (most recent call last)",
      "\u001b[0;32m<ipython-input-16-1d9572151128>\u001b[0m in \u001b[0;36m<module>\u001b[0;34m\u001b[0m\n\u001b[1;32m      3\u001b[0m \u001b[0;31m# it happened inside\u001b[0m\u001b[0;34m\u001b[0m\u001b[0;34m\u001b[0m\u001b[0;34m\u001b[0m\u001b[0m\n\u001b[1;32m      4\u001b[0m \u001b[0;34m\u001b[0m\u001b[0m\n\u001b[0;32m----> 5\u001b[0;31m \u001b[0mA_Func\u001b[0m\u001b[0;34m(\u001b[0m\u001b[0;36m3\u001b[0m\u001b[0;34m)\u001b[0m\u001b[0;34m\u001b[0m\u001b[0;34m\u001b[0m\u001b[0m\n\u001b[0m",
      "\u001b[0;32m<ipython-input-15-8bdc34dd7791>\u001b[0m in \u001b[0;36mA_Func\u001b[0;34m(num_tries)\u001b[0m\n\u001b[1;32m      3\u001b[0m         \u001b[0;32mraise\u001b[0m \u001b[0mException\u001b[0m\u001b[0;34m(\u001b[0m\u001b[0;34m\"Exception occurred\"\u001b[0m\u001b[0;34m)\u001b[0m\u001b[0;34m\u001b[0m\u001b[0;34m\u001b[0m\u001b[0m\n\u001b[1;32m      4\u001b[0m     \u001b[0;31m#\u001b[0m\u001b[0;34m\u001b[0m\u001b[0;34m\u001b[0m\u001b[0;34m\u001b[0m\u001b[0m\n\u001b[0;32m----> 5\u001b[0;31m     \u001b[0mB_Func\u001b[0m\u001b[0;34m(\u001b[0m\u001b[0mnum_tries\u001b[0m\u001b[0;34m-\u001b[0m\u001b[0;36m1\u001b[0m\u001b[0;34m)\u001b[0m\u001b[0;34m\u001b[0m\u001b[0;34m\u001b[0m\u001b[0m\n\u001b[0m\u001b[1;32m      6\u001b[0m \u001b[0;34m\u001b[0m\u001b[0m\n\u001b[1;32m      7\u001b[0m \u001b[0;32mdef\u001b[0m \u001b[0mB_Func\u001b[0m\u001b[0;34m(\u001b[0m\u001b[0mnum_tries\u001b[0m\u001b[0;34m)\u001b[0m\u001b[0;34m:\u001b[0m\u001b[0;34m\u001b[0m\u001b[0;34m\u001b[0m\u001b[0m\n",
      "\u001b[0;32m<ipython-input-15-8bdc34dd7791>\u001b[0m in \u001b[0;36mB_Func\u001b[0;34m(num_tries)\u001b[0m\n\u001b[1;32m      8\u001b[0m     \u001b[0;32mif\u001b[0m \u001b[0mnum_tries\u001b[0m\u001b[0;34m==\u001b[0m\u001b[0;36m0\u001b[0m\u001b[0;34m:\u001b[0m\u001b[0;34m\u001b[0m\u001b[0;34m\u001b[0m\u001b[0m\n\u001b[1;32m      9\u001b[0m         \u001b[0;32mraise\u001b[0m \u001b[0mException\u001b[0m\u001b[0;34m(\u001b[0m\u001b[0;34m\"Exception occurred\"\u001b[0m\u001b[0;34m)\u001b[0m\u001b[0;34m\u001b[0m\u001b[0;34m\u001b[0m\u001b[0m\n\u001b[0;32m---> 10\u001b[0;31m     \u001b[0mA_Func\u001b[0m\u001b[0;34m(\u001b[0m\u001b[0mnum_tries\u001b[0m\u001b[0;34m-\u001b[0m\u001b[0;36m1\u001b[0m\u001b[0;34m)\u001b[0m\u001b[0;34m\u001b[0m\u001b[0;34m\u001b[0m\u001b[0m\n\u001b[0m",
      "\u001b[0;32m<ipython-input-15-8bdc34dd7791>\u001b[0m in \u001b[0;36mA_Func\u001b[0;34m(num_tries)\u001b[0m\n\u001b[1;32m      3\u001b[0m         \u001b[0;32mraise\u001b[0m \u001b[0mException\u001b[0m\u001b[0;34m(\u001b[0m\u001b[0;34m\"Exception occurred\"\u001b[0m\u001b[0;34m)\u001b[0m\u001b[0;34m\u001b[0m\u001b[0;34m\u001b[0m\u001b[0m\n\u001b[1;32m      4\u001b[0m     \u001b[0;31m#\u001b[0m\u001b[0;34m\u001b[0m\u001b[0;34m\u001b[0m\u001b[0;34m\u001b[0m\u001b[0m\n\u001b[0;32m----> 5\u001b[0;31m     \u001b[0mB_Func\u001b[0m\u001b[0;34m(\u001b[0m\u001b[0mnum_tries\u001b[0m\u001b[0;34m-\u001b[0m\u001b[0;36m1\u001b[0m\u001b[0;34m)\u001b[0m\u001b[0;34m\u001b[0m\u001b[0;34m\u001b[0m\u001b[0m\n\u001b[0m\u001b[1;32m      6\u001b[0m \u001b[0;34m\u001b[0m\u001b[0m\n\u001b[1;32m      7\u001b[0m \u001b[0;32mdef\u001b[0m \u001b[0mB_Func\u001b[0m\u001b[0;34m(\u001b[0m\u001b[0mnum_tries\u001b[0m\u001b[0;34m)\u001b[0m\u001b[0;34m:\u001b[0m\u001b[0;34m\u001b[0m\u001b[0;34m\u001b[0m\u001b[0m\n",
      "\u001b[0;32m<ipython-input-15-8bdc34dd7791>\u001b[0m in \u001b[0;36mB_Func\u001b[0;34m(num_tries)\u001b[0m\n\u001b[1;32m      7\u001b[0m \u001b[0;32mdef\u001b[0m \u001b[0mB_Func\u001b[0m\u001b[0;34m(\u001b[0m\u001b[0mnum_tries\u001b[0m\u001b[0;34m)\u001b[0m\u001b[0;34m:\u001b[0m\u001b[0;34m\u001b[0m\u001b[0;34m\u001b[0m\u001b[0m\n\u001b[1;32m      8\u001b[0m     \u001b[0;32mif\u001b[0m \u001b[0mnum_tries\u001b[0m\u001b[0;34m==\u001b[0m\u001b[0;36m0\u001b[0m\u001b[0;34m:\u001b[0m\u001b[0;34m\u001b[0m\u001b[0;34m\u001b[0m\u001b[0m\n\u001b[0;32m----> 9\u001b[0;31m         \u001b[0;32mraise\u001b[0m \u001b[0mException\u001b[0m\u001b[0;34m(\u001b[0m\u001b[0;34m\"Exception occurred\"\u001b[0m\u001b[0;34m)\u001b[0m\u001b[0;34m\u001b[0m\u001b[0;34m\u001b[0m\u001b[0m\n\u001b[0m\u001b[1;32m     10\u001b[0m     \u001b[0mA_Func\u001b[0m\u001b[0;34m(\u001b[0m\u001b[0mnum_tries\u001b[0m\u001b[0;34m-\u001b[0m\u001b[0;36m1\u001b[0m\u001b[0;34m)\u001b[0m\u001b[0;34m\u001b[0m\u001b[0;34m\u001b[0m\u001b[0m\n",
      "\u001b[0;31mException\u001b[0m: Exception occurred"
     ]
    }
   ],
   "source": [
    "# If an exception occurs within 1 or multiple function calls, we can see\n",
    "# exactly where it occured, regardless of how many function calls\n",
    "# it happened inside\n",
    "\n",
    "A_Func(3)"
   ]
  },
  {
   "cell_type": "code",
   "execution_count": 17,
   "metadata": {
    "ExecuteTime": {
     "end_time": "2020-06-01T15:36:23.236401Z",
     "start_time": "2020-06-01T15:36:23.232875Z"
    }
   },
   "outputs": [
    {
     "name": "stdout",
     "output_type": "stream",
     "text": [
      "Caught it!\n"
     ]
    }
   ],
   "source": [
    "# When an exception occurs deep inside a function call,\n",
    "# It is \"thrown\" up through the lines where it was called\n",
    "# (As shown in the stacktrace)\n",
    "# If any of those lines are within a try...except block\n",
    "# Then that exception will be \"caught\" there.\n",
    "\n",
    "def C_Func():\n",
    "    try :\n",
    "        A_Func(5)\n",
    "    except:\n",
    "        print(\"Caught it!\")\n",
    "        \n",
    "C_Func()        "
   ]
  }
 ],
 "metadata": {
  "hide_input": false,
  "kernelspec": {
   "display_name": "Python 3",
   "language": "python",
   "name": "python3"
  },
  "language_info": {
   "codemirror_mode": {
    "name": "ipython",
    "version": 3
   },
   "file_extension": ".py",
   "mimetype": "text/x-python",
   "name": "python",
   "nbconvert_exporter": "python",
   "pygments_lexer": "ipython3",
   "version": "3.8.3"
  },
  "toc": {
   "base_numbering": 1,
   "nav_menu": {},
   "number_sections": true,
   "sideBar": true,
   "skip_h1_title": false,
   "title_cell": "Table of Contents",
   "title_sidebar": "Contents",
   "toc_cell": false,
   "toc_position": {},
   "toc_section_display": true,
   "toc_window_display": false
  }
 },
 "nbformat": 4,
 "nbformat_minor": 2
}
