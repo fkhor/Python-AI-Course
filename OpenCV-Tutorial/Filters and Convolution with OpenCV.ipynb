{
 "cells": [
  {
   "cell_type": "markdown",
   "metadata": {},
   "source": [
    "# Use of Filters and Convolutions"
   ]
  },
  {
   "cell_type": "markdown",
   "metadata": {},
   "source": [
    "Convolutions are one of the most critical, fundamental building-blocks in computer vision and image processing. <br><br>\n",
    "**It maybe fair to say, the art of defining/learning filters and convolving them with images, is what drives all projects that deal with images!**"
   ]
  },
  {
   "cell_type": "markdown",
   "metadata": {},
   "source": [
    "Few of the use cases:\n",
    "* Edge Detection\n",
    "* Image Sharpening, Blur.\n",
    "* Noise Removal.\n",
    "* Object Detection\n",
    "* Face Detection and Recognition"
   ]
  },
  {
   "cell_type": "markdown",
   "metadata": {},
   "source": [
    "### What are filters/kernel?\n",
    "\n",
    "These are the tiny matrix that is used for blurring, sharpening, edge detection, and other image processing functions, <br>usually of size 3x3, 5x5, 7x7 and so on. <br>\n",
    "These matrix essentially define the pattern that we are interested in finding out. <br>\n",
    "**Kernels can be an arbitrary size of M x N pixels, provided that both M and N are odd integers.**"
   ]
  },
  {
   "cell_type": "markdown",
   "metadata": {},
   "source": [
    "<img src=\"kernel.png\">"
   ]
  },
  {
   "cell_type": "markdown",
   "metadata": {},
   "source": [
    "### What is convolution?\n",
    "Kernel sits on top of the image and slides from left-to-right and top-to-bottom, applying a mathematical operation (i.e., a convolution) at each (x, y)-coordinate of the original image, essentially finding if the pattern is observed at that location or not. <br>\n",
    "\n",
    "**Convolution is simply an element-wise multiplication of two matrices followed by a sum, as depicted in above image.**"
   ]
  },
  {
   "cell_type": "markdown",
   "metadata": {},
   "source": [
    "## How is convolution used?\n"
   ]
  },
  {
   "cell_type": "markdown",
   "metadata": {},
   "source": [
    "At each (x, y)-coordinate of the original image, we stop and examine the neighborhood of pixels located at the center of the image kernel. We then take this neighborhood of pixels, convolve them with the kernel, and obtain a single output value. This output value is then stored in the output image at the same (x, y)-coordinates as the center of the kernel."
   ]
  },
  {
   "cell_type": "markdown",
   "metadata": {},
   "source": [
    "<img src = \"convolution.gif\">"
   ]
  },
  {
   "cell_type": "markdown",
   "metadata": {},
   "source": [
    "#### Difference between output size and input size of image?\n",
    "Padding: Required to make both input and output image of same size.\n",
    "<img src=\"convolution_padded.gif\">"
   ]
  },
  {
   "cell_type": "markdown",
   "metadata": {},
   "source": [
    "**O = (W – F + 2P) / S + 1.**"
   ]
  },
  {
   "cell_type": "markdown",
   "metadata": {},
   "source": [
    "#### Steps:\n",
    "* Select an (x, y)-coordinate from the original image.\n",
    "* Place the center of the kernel at this (x, y)-coordinate.\n",
    "* Take the element-wise multiplication of the input image region and the kernel, then sum up the values of these multiplication operations into a single value. The sum of these multiplications is called the kernel output.\n",
    "* Use the same (x, y)-coordinates from Step #1, but this time, store the kernel output in the same (x, y)-location as the output image."
   ]
  },
  {
   "cell_type": "markdown",
   "metadata": {},
   "source": [
    "## Python implementation of convolution.\n",
    "\n",
    "Refer to python file in openCV folder, convolution.py"
   ]
  },
  {
   "cell_type": "markdown",
   "metadata": {},
   "source": [
    "### Different type of filters and how to learn their value?\n",
    "* Blur\n",
    "* Laplacian\n",
    "* Sobel\n",
    "* Gaussian\n",
    "* Sharpen\n",
    "<br>\n",
    "https://docs.opencv.org/master/d4/d13/tutorial_py_filtering.html\n",
    "https://docs.opencv.org/3.1.0/d3/df2/tutorial_py_basic_ops.html"
   ]
  },
  {
   "cell_type": "code",
   "execution_count": null,
   "metadata": {},
   "outputs": [],
   "source": []
  }
 ],
 "metadata": {
  "kernelspec": {
   "display_name": "Python 3",
   "language": "python",
   "name": "python3"
  },
  "language_info": {
   "codemirror_mode": {
    "name": "ipython",
    "version": 3
   },
   "file_extension": ".py",
   "mimetype": "text/x-python",
   "name": "python",
   "nbconvert_exporter": "python",
   "pygments_lexer": "ipython3",
   "version": "3.8.3"
  }
 },
 "nbformat": 4,
 "nbformat_minor": 4
}
