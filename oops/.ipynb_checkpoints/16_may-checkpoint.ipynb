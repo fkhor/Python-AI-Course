{
 "cells": [
  {
   "cell_type": "markdown",
   "metadata": {},
   "source": [
    "# Revision upto Functions (45m)"
   ]
  },
  {
   "cell_type": "markdown",
   "metadata": {},
   "source": [
    "\"The single most important skill for a computer scientist isproblem solving. Problem solving means the ability to formulate problems, think creatively about solutions, and express a solution clearly and accurately. As it turns out, the process of learning to program is an excellent opportunity to practice problem-solving skills.\" - Think Python"
   ]
  },
  {
   "cell_type": "markdown",
   "metadata": {},
   "source": [
    "* **Algorithm** : A sequence of instructions to specify how to perform a computation.\n",
    "* **Programming**: \n",
    "    * Characterize your target problem in terms of inputs and outputs.\n",
    "    * Find an algorithm to solve your problem.\n",
    "    * Implement in your favourite PL.\n",
    "* **Python** \n",
    "    * A high-level language to give instructions to the computer.\n",
    "    * Interpeted : High level intructions are read and executed one by one\n",
    "    * English like syntax, focus on readability\n",
    "    * Whitespace/Indentation to denote \"levels\" of code\n",
    "    * Run interactively, or run as a script.\n",
    "\n",
    "_________________________________\n",
    "_________________________________\n",
    "\n",
    "* **Values** : Basic units of data that you work with like numbers, strings etc\n",
    "    * Literals : When you directly write a value like 1, \"abc\" - as opposed to *variables*.\n",
    "    * Datatypes : The types of your values\n",
    "        * Python has many datatypes, but the 3 basic are Numbers, Booleans and Strings.\n",
    "    * Type conversion\n",
    "* **Operators** : Symbols that represent computation on values, or operands. \n",
    "    * Arithmetic & Comparison operators on Numbers\n",
    "    * Logical operators on Booleans\n",
    "    * Arithmetic (+,\\*), Comparison, Index, Slice, Membership operators on Strings\n",
    "* **Expression** : A combination of values and operators which finally evaluates to a value.\n",
    "    * PEDMAS acronym for operator precedence.\n",
    "* **Variable** : A name for a value. \n",
    "    * Assignments : A statement where you \"assign\" a name/variable to a value. \n",
    "    * Variables are accepted wherever a value is accepted, thus expressions also include variables.\n",
    "\n",
    "_________________________________\n",
    "_________________________________\n",
    "\n",
    "* **Comments** : Lines which are not code and not executed - starting with a #.\n",
    "\n",
    "_________________________________\n",
    "_________________________________\n",
    "\n",
    "* **if...elif...else** : A feature to execute different code based on the value of a condition. \n",
    "```\n",
    "if condition1:\n",
    "    #body1 \n",
    "elif condition2:\n",
    "    #body2\n",
    "elif condition3:\n",
    "    #body3\n",
    "else:\n",
    "    condition\n",
    "```\n",
    "    * condition should be a boolean expression (or else will be converted)\n",
    "    * elif, else are optional. \n",
    "    * elif => ordered cases\n",
    "    * elif means \"else if\" => same meaning?\n",
    "    * pass\n",
    "\n",
    "_________________________________\n",
    "_________________________________\n",
    "\n",
    "* **Lists** : A complex datatype : sequence of heterogenous data (may be lists as well)\n",
    "    * Indexing, Slicing, Appending, Deleting, Concatenation, Repetition\n",
    "    * Mutating list\n",
    "\n",
    "_________________________________\n",
    "_________________________________\n",
    "\n",
    "* **Loops** : Repeat a certain set of instructions multiple times. \n",
    "* **While loop** :\n",
    "```\n",
    "while condition:\n",
    "    body\n",
    "```\n",
    "    * condition should be a boolean expression.\n",
    "    * while condition is true, execute body.\n",
    "    * infinite loop \n",
    "        * when variables in condition don't change. \n",
    "        * condition written poorly, may never become False.\n",
    "    * break, continue\n",
    "\n",
    "* **for loop** : Special syntax to iterate sequences like strings, lists and more.\n",
    "    * range() and enumerate()\n",
    "    * List patterns : Accumulation, Mapping, Filtering\n",
    "\n",
    "_________________________________\n",
    "_________________________________\n",
    "\n",
    "* **Statements** : A unit of code, usually one line except for *compound statements*.\n",
    "    * An assignment is a statement.\n",
    "    * A call to print() is a statement.\n",
    "    * if..elif..else are compound statements - because they are a statement that contain other statements.\n",
    "    * Similarly while, for are compound statements.\n",
    "\n",
    "_________________________________\n",
    "_________________________________\n",
    "\n",
    "* **Function** : A named sequence of statements.\n",
    "    * header contains def,name, and parameters.\n",
    "    * A function takes a value as an \"argument\" and returns a result.\n",
    "    * Inside the function, argument -> parameter variables.\n",
    "    * Keyword, positional arguments.\n",
    "    * default arguments.\n",
    "    * The return statement.\n",
    "    * Void functions\n",
    "    * Multiple return values - or is it?\n",
    "    * Function call => Value => can be used in expressions\n",
    "* **Why functions?**\n",
    "    * Encapsulation : one code, reuse everywhere as need.\n",
    "    * Generalization (Parameters): many inputs vs only one input\n",
    "    * Composition : break down a complex problem into building blocks.\n",
    "\n",
    "_________________________________\n",
    "_________________________________\n",
    "\n",
    "* **Recursion** : A paradigm of solving problems by defining the solution of that problem in terms of solutions of smaller problems of the same type.\n",
    "    * Base case : The smallest problem of the same type, whose answer we know trivially.\n",
    "    * Infinite Recursion : Base case is never reached.\n",
    "\n",
    "_________________________________\n",
    "_________________________________\n",
    "\n",
    "* **Flow of Execution** : Order in which interpreter reads a code.\n",
    "    * Usually from top to bottom.\n",
    "    * Diverted by - conditionals, loops and functions.\n",
    "\n",
    "_________________________________\n",
    "_________________________________"
   ]
  },
  {
   "cell_type": "markdown",
   "metadata": {},
   "source": [
    "# Solution to warmup exercises (45m)"
   ]
  },
  {
   "cell_type": "markdown",
   "metadata": {},
   "source": [
    "1. Write a function ``am_gm_hm(x,y)`` that takes as input two numbers and returns the Arithmetic Mean, Geometric Mean and Harmonic mean of the two - in that order. What happens if one of the numbers is 0?\n",
    "2. Triangle inequality states that for the sum of any two sides of a triangle is greater than the third side. Write a function ``check_triangle_inequality(a,b,c)`` that returns False if some combination of sides violates the triangle inequality (Hint: there are 3 scenarios) and True otherwise.\n",
    "3. You already know how to calculate factorials from the lecture. Use that function (or better write it again yourself) to compute the value of sin(x) according to the Taylor formula upto k terms. Thus your function should be ``calculate_sin(x,k)``. The Taylor formula for sin(x) is as follows-\n",
    "    > sin(x) = x - x^3/3! + x^5/5! - x^7/7! + x^9/9! ...."
   ]
  },
  {
   "cell_type": "markdown",
   "metadata": {},
   "source": [
    "4. Write a function ``check_substring(string1,string2)`` to check if ``string2`` is a substring of ``string1``. For example \"chem\" is a substring of \"alchemy\" and \"chemistry\". It returns True or False.\n",
    "5. Write a function to generate all substrings of a string and return it as a list of strings. Let the function be called ``generate_substrings(string)``. For example, ``generate_substrings(\"alchemy\")`` returns ``[\"a\",\"al\",\"alc\",\"alch\",\"alche\",\"alchem\",\"alchemy\",\"l\",\"lc\",... etc]``. There should be no repititions in the list.\n",
    "6. Write a function ``greet_me()`` to take your name as input from the command line and print a personalized greeting like \"Hello, Rani, how are you today?\"\n",
    "7. Write a function ``mean_calculator()`` to take two floats as input from command line and print the AM,GM,HM of those numbers. \n",
    "8. Write a function to print only odd numbers in the range(a,b). Write it two times - once with a for loop (``print_odd_for(a,b)``) and once with a while loop (``print_odd_while(a,b)``)."
   ]
  },
  {
   "cell_type": "markdown",
   "metadata": {},
   "source": [
    "9. Write a function that uses recursion to calculate the nth term of the Fibonacci series called ``fibonacci(n)``. (Google fibonacci series if you don't know it.) \n",
    "10. Write a function that uses a loop to **print** the Fibonacci series upto n terms called ``fibonacci_loop(n)``.\n",
    "11. Write a function ``sum_game(value)`` that runs a loop that takes numbers as input from command line, and exits only when the sum of the numbers so far reaches ``value``. Make sure value is positive, but the numbers which come from command line can be negative.\n",
    "15. Write a function ``list_overlap(list1,list2)`` that takes two lists of integers as input, and returns a list of the common elements. Don't use sets for this."
   ]
  },
  {
   "cell_type": "markdown",
   "metadata": {},
   "source": [
    "# ASCII Mountainside (30m)"
   ]
  },
  {
   "cell_type": "markdown",
   "metadata": {},
   "source": [
    "* Let's go through the whole process of creating an ASCII mountainside. \n",
    "* We'll define the problem and see how much we can solve in 30-45m."
   ]
  },
  {
   "cell_type": "code",
   "execution_count": 27,
   "metadata": {
    "ExecuteTime": {
     "end_time": "2020-05-17T15:40:32.438773Z",
     "start_time": "2020-05-17T15:40:32.433788Z"
    }
   },
   "outputs": [],
   "source": [
    "# This is the half + half solution we tried in class\n",
    "# It got too complicated...\n",
    "# Better to solve in one loop\n",
    "def print_mountain(height,echar=\".\",mchar=\"0\"):\n",
    "    string=\"\"\n",
    "    for i in range(0,height):\n",
    "        # print one line\n",
    "        # print first half\n",
    "        for j in range(0,height-1):\n",
    "            if j>height-i-2:\n",
    "                string+=mchar\n",
    "            else:\n",
    "                string+=echar\n",
    "        # print middle\n",
    "        string+=mchar\n",
    "        # print last half\n",
    "        for j in range(0,height-1):\n",
    "            if j<i:\n",
    "                string+=mchar\n",
    "            else:\n",
    "                string+=echar\n",
    "\n",
    "        string+=\"\\n\"\n",
    "    print(string)"
   ]
  },
  {
   "cell_type": "markdown",
   "metadata": {
    "ExecuteTime": {
     "end_time": "2020-05-16T17:53:56.954638Z",
     "start_time": "2020-05-16T17:53:56.948084Z"
    }
   },
   "source": [
    "Let's try to derive the start and end indexes for printing the mountain by looking at a few examples.\n",
    "\n",
    "```\n",
    "height=3\n",
    "width=3*2-1=5\n",
    "\n",
    ". . 0 . .\n",
    ". 0 0 0 . \n",
    "0 0 0 0 0  \n",
    "\n",
    "j goes from 0...4 every time\n",
    "when should we print 0?\n",
    "\n",
    "i => start...end\n",
    "0 => 2...2\n",
    "1 => 1...3\n",
    "2 => 0...4\n",
    "\n",
    "```\n",
    "______\n",
    "______\n",
    "\n",
    "```\n",
    "height=4\n",
    "width=4*2-1=7\n",
    "\n",
    "\n",
    ". . . 0 . . .\n",
    ". . 0 0 0 . .\n",
    ". 0 0 0 0 0 . \n",
    "0 0 0 0 0 0 0\n",
    "\n",
    "j goes from 0...6 every time\n",
    "when should we print 0?\n",
    "\n",
    "i => start...end\n",
    "0 => 3...3\n",
    "1 => 2...4\n",
    "2 => 1...5\n",
    "3 => 0...6\n",
    "\n",
    "```\n",
    "______\n",
    "______\n",
    "\n",
    "\n",
    "```\n",
    "i => height-1-i ... height-1+i\n",
    "clearly, \n",
    "\n",
    "j should loop \n",
    "    0...width-1 \n",
    "    or \n",
    "    0...2*height-2\n",
    "\n",
    "and should print 0 from start to end, where\n",
    "    start=height-1-i\n",
    "    end=height-1+i\n",
    "\n",
    "```"
   ]
  },
  {
   "cell_type": "code",
   "execution_count": 2,
   "metadata": {
    "ExecuteTime": {
     "end_time": "2020-05-17T15:13:28.164348Z",
     "start_time": "2020-05-17T15:13:28.159558Z"
    }
   },
   "outputs": [],
   "source": [
    "def print_mountain(height,echar=\".\",mchar=\"0\"):\n",
    "    string=\"\"\n",
    "    # number of lines = height\n",
    "    for i in range(0,height):\n",
    "        # width of lines = 2*height-1\n",
    "        for j in range(0,2*height-1):\n",
    "            # mountain goes from height-i-1 to height+i-1 (including both ends)\n",
    "            if j>=height-i-1 and j<=height+i-1:\n",
    "                string+=mchar\n",
    "            else:\n",
    "                string+=echar\n",
    "        string+=\"\\n\"\n",
    "    print(string)"
   ]
  },
  {
   "cell_type": "markdown",
   "metadata": {},
   "source": [
    "Now let's try to print many mountains."
   ]
  },
  {
   "cell_type": "code",
   "execution_count": 3,
   "metadata": {
    "ExecuteTime": {
     "end_time": "2020-05-17T15:13:28.171166Z",
     "start_time": "2020-05-17T15:13:28.166138Z"
    }
   },
   "outputs": [],
   "source": [
    "def print_mountain_on_canvas(canvas,start_pos,height,mchar=\"0\"):\n",
    "    \n",
    "    canvas_height=len(canvas)\n",
    "    canvas_width=len(canvas[0])\n",
    "    \n",
    "    # calculate offset from the top\n",
    "    offset_from_top=canvas_height-height\n",
    "    \n",
    "    if offset_from_top < 0 :\n",
    "        print(\"Error! mountain larger than canvas\")\n",
    "        return\n",
    "        \n",
    "    for i in range(0,height):\n",
    "        for j in range(0,2*height-1):\n",
    "            \n",
    "            # mountain goes from height-i-1 to height+i-1 (including both ends)\n",
    "            if j>=height-i-1 and j<=height+i-1 and j+start_pos<canvas_width:\n",
    "                \n",
    "                # change the canvas character\n",
    "                canvas[offset_from_top+i][start_pos+j]=mchar\n",
    "                \n",
    "            # no need to print echar, as canvas already has background"
   ]
  },
  {
   "cell_type": "code",
   "execution_count": 4,
   "metadata": {
    "ExecuteTime": {
     "end_time": "2020-05-17T15:13:28.177587Z",
     "start_time": "2020-05-17T15:13:28.173143Z"
    }
   },
   "outputs": [],
   "source": [
    "def print_many_mountains(canv_height,canv_width,mountain_heights,\n",
    "                         mountain_start_positions,echar=\".\",mchar=\"0\"):\n",
    "    # create the canvas\n",
    "    canvas=[]\n",
    "    for i in range(0,canv_height):\n",
    "        canvas.append([echar]*canv_width)\n",
    "    # print the mountains on the canvas\n",
    "    for i,mheight in enumerate(mountain_heights):\n",
    "        mstart=mountain_start_positions[i]\n",
    "        print_mountain_on_canvas(canvas,mstart,mheight,mchar)\n",
    "    # print the canvas\n",
    "    for line in canvas:\n",
    "        print(\"\".join(line))"
   ]
  },
  {
   "cell_type": "code",
   "execution_count": 21,
   "metadata": {
    "ExecuteTime": {
     "end_time": "2020-05-17T15:23:39.436101Z",
     "start_time": "2020-05-17T15:23:39.431364Z"
    }
   },
   "outputs": [
    {
     "name": "stdout",
     "output_type": "stream",
     "text": [
      "..........0.................................................\n",
      ".........000....................................0...........\n",
      "........00000..................................000..........\n",
      ".......0000000................................00000.........\n",
      "......000000000..........0...................0000000........\n",
      ".....00000000000........000.................000000000.......\n",
      "....0000000000000......00000...............00000000000......\n",
      "...000000000000000....0000000.............0000000000000.....\n",
      "..00000000000000000..000000000...........000000000000000....\n",
      ".000000000000000000000000000000.........00000000000000000...\n"
     ]
    }
   ],
   "source": [
    "print_many_mountains(10,60,[10,6,9],[1,20,40])"
   ]
  },
  {
   "cell_type": "markdown",
   "metadata": {},
   "source": [
    "# Recursion examples (opt) (30 m)"
   ]
  },
  {
   "cell_type": "code",
   "execution_count": 26,
   "metadata": {
    "ExecuteTime": {
     "end_time": "2020-05-17T15:39:30.378196Z",
     "start_time": "2020-05-17T15:39:30.374184Z"
    }
   },
   "outputs": [
    {
     "data": {
      "text/html": [
       "<style>\n",
       "td,th {\n",
       "  font-size: 16px\n",
       "}\n",
       "td strong{\n",
       "    color:red;\n",
       "}\n",
       "</style>\n"
      ],
      "text/plain": [
       "<IPython.core.display.HTML object>"
      ]
     },
     "metadata": {},
     "output_type": "display_data"
    }
   ],
   "source": [
    "%%HTML\n",
    "<style>\n",
    "td,th {\n",
    "  font-size: 16px\n",
    "}\n",
    "td strong{\n",
    "    color:red;\n",
    "}\n",
    "</style>"
   ]
  },
  {
   "cell_type": "markdown",
   "metadata": {},
   "source": [
    "### Least cost path from lower corner to upper corner of a matrix.**\n",
    "\n",
    "* You are given a NxN grid with positive integer values between 1-5 in each box.\n",
    "* You can represent this as a list of lists."
   ]
  },
  {
   "cell_type": "markdown",
   "metadata": {},
   "source": [
    "\n",
    "|   |   |   |   |   |\n",
    "|---|---|---|---|---|\n",
    "| 5 | 7 | 5 | 4 | 1 |\n",
    "| 6 | 1 | 2 | 3 | 2 |\n",
    "| 4 | 3 | 5 | 5 | 4 |\n",
    "| 1 | 2 | 3 | 4 | 5 |\n",
    "\n",
    "\n",
    "* You have to find the least cost path from lower left corner to upper right corner.\n",
    "* You can only move right and up from your current position, you can't move down or left.\n",
    "\n",
    "For example this is a path\n",
    "\n",
    "|   |   |   |   |   |\n",
    "|---|---|---|---|---|\n",
    "| 5     | 7     | 5     | 4    | **1** |\n",
    "| 6     | 1     | **2** |**3** | **2** |\n",
    "| 4     | **3** | **5** | 5    | 4     |\n",
    "| **1** | **2** | 3     | 4    | 5     |\n",
    "\n",
    "\n",
    "Its cost is ``1 + 2 + 3 + 5 + 2 + 3 + 2 + 1`` = ``19``.\n",
    "\n",
    "You can easily verify that the least cost path is \n",
    "\n",
    "|   |   |   |   |   |\n",
    "|---|---|---|---|---|\n",
    "| 5     | 7     | 5     | 4    | **1** |\n",
    "| 6     | **1** | **2** |**3** | **2** |\n",
    "| 4     | **3** |   5   | 5    | 4     |\n",
    "| **1** | **2** | 3     | 4    | 5     |\n"
   ]
  },
  {
   "cell_type": "markdown",
   "metadata": {},
   "source": [
    "Hints :\n",
    "1. You can use recursion for this. \n",
    "2. What is the most obvious \"brute-force\" way to do this?"
   ]
  },
  {
   "cell_type": "markdown",
   "metadata": {
    "ExecuteTime": {
     "end_time": "2020-05-15T15:58:19.022425Z",
     "start_time": "2020-05-15T15:58:19.018715Z"
    }
   },
   "source": [
    "2. Recursive staircase : https://edabit.com/challenge/u5JrjKv9BNLLPSKJs"
   ]
  },
  {
   "cell_type": "markdown",
   "metadata": {},
   "source": [
    "# Classes and Objects Revision ( 40 m)"
   ]
  },
  {
   "cell_type": "markdown",
   "metadata": {},
   "source": [
    "* Classes are a blueprint for packing data and logic. \n",
    "* Class can be thought of as a complex datatype.\n",
    "* Objects are instances of classes. They have specific values for the data.\n",
    "* Variables for objects, just like anything else.\n",
    "* Attributes : \"subvariables\" of an object. (Access with dot)\n",
    "* Methods : \"sub-functions\" of an object. Always has access to \n",
    "* Constructor : A special method used to create the object. Generally setup work is done in the constructor."
   ]
  },
  {
   "cell_type": "markdown",
   "metadata": {},
   "source": [
    "______\n",
    "______\n",
    "\n",
    "* Class attributes, static methods\n",
    "* Aliasing\n",
    "* Functions which mutate their arguments\n",
    "* Interning\n",
    "______\n",
    "______"
   ]
  },
  {
   "cell_type": "markdown",
   "metadata": {},
   "source": [
    "# Extending ASCII Mountainside (30m)"
   ]
  },
  {
   "cell_type": "markdown",
   "metadata": {},
   "source": [
    "______\n",
    "______\n",
    "\n",
    "* Object oriented programming is just a metaphor, just as functions are metaphors.\n",
    "* Tools for telling the same story in different ways.\n",
    "* Let's try to convert the ASCII mountainside code to classes and objects.\n",
    "\n",
    "______\n",
    "______"
   ]
  },
  {
   "cell_type": "code",
   "execution_count": 6,
   "metadata": {
    "ExecuteTime": {
     "end_time": "2020-05-17T15:13:28.197808Z",
     "start_time": "2020-05-17T15:13:28.187642Z"
    }
   },
   "outputs": [],
   "source": [
    "class Canvas:\n",
    "    \n",
    "    def __init__(self,height,width,echar=\".\"):\n",
    "        self.height=height\n",
    "        self.width=width\n",
    "        self.objects=[]\n",
    "        self.echar=echar\n",
    "        self.clear()\n",
    "    \n",
    "    def draw_canvas(self):\n",
    "        '''fill the canvas with objects'''\n",
    "        for obj in self.objects:\n",
    "            obj.draw(self)\n",
    "    \n",
    "    def show(self):\n",
    "        ''' print the canvas '''\n",
    "        for line in self.canvas:\n",
    "            print(\"\".join(line))\n",
    "    \n",
    "    def clear(self):\n",
    "        '''empty the canvas'''\n",
    "        self.canvas=[]\n",
    "        for i in range(0,self.height):\n",
    "            self.canvas.append([])\n",
    "            for j in range(0,self.width):\n",
    "                self.canvas[-1].append(self.echar)\n",
    "            \n",
    "        \n",
    "    def add_object(self,obj):\n",
    "        '''add an object like mountain to the canvas'''\n",
    "        self.objects.append(obj)\n",
    "        \n",
    "    \n",
    "class Mountain:\n",
    "    \n",
    "    def __init__(self,height,startpos,mchar=\"0\"):\n",
    "        self.height=height\n",
    "        self.startpos=startpos\n",
    "        self.mchar=mchar\n",
    "    \n",
    "    def draw(self,canvas):\n",
    "        # same code as before\n",
    "        offset=canvas.height-self.height\n",
    "        height=self.height\n",
    "        start=self.startpos\n",
    "        for i in range(0,height):\n",
    "            for j in range(0,2*height-1):\n",
    "                if j>=height-i-1 and j<=height+i-1 and j+start<canvas.width:\n",
    "                    canvas.canvas[offset+i][start+j]=self.mchar"
   ]
  },
  {
   "cell_type": "code",
   "execution_count": 7,
   "metadata": {
    "ExecuteTime": {
     "end_time": "2020-05-17T15:13:28.205204Z",
     "start_time": "2020-05-17T15:13:28.199256Z"
    },
    "scrolled": false
   },
   "outputs": [
    {
     "name": "stdout",
     "output_type": "stream",
     "text": [
      "......................................................................\n",
      "......................................................................\n",
      ".........................................................0............\n",
      "........................................................000...........\n",
      ".......................................................00000..........\n",
      "..............0.......................................0000000.........\n",
      ".............000.....................................000000000........\n",
      "............00000..........0........................00000000000.......\n",
      "....0......0000000........000......................0000000000000......\n",
      "...000....000000000......00000....................000000000000000.....\n"
     ]
    }
   ],
   "source": [
    "# create canvas\n",
    "c=Canvas(10,70)\n",
    "# add mountains\n",
    "c.add_object(Mountain(5,10))\n",
    "c.add_object(Mountain(3,25))\n",
    "c.add_object(Mountain(8,50))\n",
    "c.add_object(Mountain(2,3))\n",
    "# draw the mountains\n",
    "c.draw_canvas()\n",
    "# print the canvas\n",
    "c.show()"
   ]
  },
  {
   "cell_type": "markdown",
   "metadata": {},
   "source": [
    "* The logic of making the background, and keeping a collection of objects (heterogeneous) objects is separated from  the data and logic of the objects themselves - and how to draw them on the canvas.\n",
    "* For example consider the Building class defined below. Its different from the Mountain class, both in how it is drawn, and also it requires height and width - while Mountain required only height."
   ]
  },
  {
   "cell_type": "code",
   "execution_count": 8,
   "metadata": {
    "ExecuteTime": {
     "end_time": "2020-05-17T15:13:28.212641Z",
     "start_time": "2020-05-17T15:13:28.207124Z"
    }
   },
   "outputs": [],
   "source": [
    "class Building:\n",
    "    \n",
    "    def __init__(self,height,width,startpos,mchar=\"0\"):\n",
    "        self.height=height\n",
    "        self.width=width\n",
    "        self.startpos=startpos\n",
    "        self.mchar=mchar\n",
    "    \n",
    "    def draw(self,canvas):\n",
    "        offset=canvas.height-self.height\n",
    "        height=self.height\n",
    "        start=self.startpos\n",
    "        for i in range(0,height):\n",
    "            for j in range(0,self.width):\n",
    "                if j+start<canvas.width:\n",
    "                    canvas.canvas[offset+i][start+j]=self.mchar"
   ]
  },
  {
   "cell_type": "code",
   "execution_count": 9,
   "metadata": {
    "ExecuteTime": {
     "end_time": "2020-05-17T15:13:28.220413Z",
     "start_time": "2020-05-17T15:13:28.214846Z"
    },
    "scrolled": true
   },
   "outputs": [
    {
     "name": "stdout",
     "output_type": "stream",
     "text": [
      "......................................................................\n",
      "......................................................................\n",
      "...............................****......................k............\n",
      "...............................****.....................kkk...........\n",
      "...............................****....................kkkkk..........\n",
      "..............9................****...................kkkkkkk.........\n",
      ".............999...............****..................kkkkkkkkk........\n",
      "............99999..........0...****.................kkkkkkkkkkk.......\n",
      "....0......9999999........000..****................kkkkkkkkkkkkk......\n",
      "...000....999999999......00000.****...............kkkkkkkkkkkkkkk.....\n"
     ]
    }
   ],
   "source": [
    "c=Canvas(10,70)\n",
    "\n",
    "# by separating the logic, we can easily customize also\n",
    "# can we do it using functions only? of course! might be \"less natural\" or easy though.\n",
    "c.add_object(Mountain(5,10,\"9\"))\n",
    "c.add_object(Mountain(3,25))\n",
    "c.add_object(Mountain(8,50,\"k\"))\n",
    "c.add_object(Mountain(2,3))\n",
    "c.add_object(Building(8,4,31,\"*\"))\n",
    "c.draw_canvas()\n",
    "c.show()"
   ]
  },
  {
   "cell_type": "markdown",
   "metadata": {},
   "source": [
    "* You can now create any collection of objects - Sun, Bird, BuildingWithWindow etc etc.\n",
    "* All you have to do is implement the \"draw\" method. \n",
    "* This is an example of interface design - the \"draw\" interface. As long as a class follows our \"draw\" interface, i.e. implements a \"draw\" method - we can use it with our Canvas class."
   ]
  },
  {
   "cell_type": "markdown",
   "metadata": {},
   "source": [
    "* Of course we can do the same things with functions.\n",
    "* But by thinking in terms of \"objects\" which are related to each other, we have \"separation of concerns\". \n",
    "* This means we have broken up the problem into two parts - \"canvas\" related subproblems and \"drawable object\" related subproblems.\n",
    "\n",
    "**Drawable Object related subproblems**\n",
    "\n",
    "* You can now create any collection of objects - Sun, Bird, BuildingWithWindow etc etc.\n",
    "* All you have to do is implement the \"draw\" method. \n",
    "* This is an example of interface design - the \"draw\" interface. As long as a class follows our \"draw\" interface, i.e. implements a \"draw\" method - we can use it with our Canvas class.\n",
    "\n",
    "**Canvas related subproblems**\n",
    "\n",
    "* We can also extend canvas further. \n",
    "* Currently, we are just drawing each object one after the other. \n",
    "* So if there is a clash - whichever object was added last that will be printed on top.\n",
    "* How about we create a \"DistanceCanvas\" which has a new method ``add_object(obj,distance)``.\n",
    "* Then we can reimplement the ``draw_canvas()`` method to take the distance into account.\n",
    "* In case of functions, would it have been so neat and simple? \n",
    "* Objects are very nifty ways of organizing code, because people are also very used to thinking in terms of objects."
   ]
  },
  {
   "cell_type": "markdown",
   "metadata": {},
   "source": [
    "# Inheritance (30m)"
   ]
  },
  {
   "cell_type": "markdown",
   "metadata": {},
   "source": [
    "* Inheritance is a way of sharing code - in one direction. (Parent to Child)\n",
    "* Specifically sharing methods. Not attributes.\n",
    "* isinstance(x,class)\n",
    "* Adding methods\n",
    "* Overriding methods\n",
    "* Overriding the constructor vs not (super())\n",
    "* issubclass(c1,c2)\n",
    "* Multiclass Inheritance\n",
    "* Multi-level Inheritance\n",
    "* Method Resolution Order"
   ]
  },
  {
   "cell_type": "markdown",
   "metadata": {},
   "source": [
    "> Simple Introduction to Inheritance : https://www.w3schools.com/python/python_inheritance.asp\n",
    "\n",
    "> Resource : https://realpython.com/inheritance-composition-python/"
   ]
  },
  {
   "cell_type": "markdown",
   "metadata": {},
   "source": [
    "# Extending ASCII Mountainside (20m)"
   ]
  },
  {
   "cell_type": "markdown",
   "metadata": {},
   "source": [
    "* Let's use what we learnt about inheritance to extend our Mountainside problem."
   ]
  },
  {
   "cell_type": "code",
   "execution_count": 10,
   "metadata": {
    "ExecuteTime": {
     "end_time": "2020-05-17T15:13:28.225587Z",
     "start_time": "2020-05-17T15:13:28.222096Z"
    }
   },
   "outputs": [],
   "source": [
    "class MovingCanvas(Canvas):\n",
    "    \n",
    "    # new method!\n",
    "    def move(self):\n",
    "        # increase the start position by 1\n",
    "        for obj in self.objects:\n",
    "            obj.startpos+=1\n",
    "        # clear the canvas\n",
    "        self.clear()\n",
    "        # redraw the canvas\n",
    "        self.draw_canvas()\n",
    "    "
   ]
  },
  {
   "cell_type": "markdown",
   "metadata": {},
   "source": [
    "* We subclassed Canvas, into MovingCanvas. \n",
    "* We added a new method to MovingCanvas called ``move`` which moves the objects one step to the right.\n",
    "* Does a MovingCanvas object have all of the methods of Canvas? Check!"
   ]
  },
  {
   "cell_type": "code",
   "execution_count": 11,
   "metadata": {
    "ExecuteTime": {
     "end_time": "2020-05-17T15:13:28.233513Z",
     "start_time": "2020-05-17T15:13:28.227421Z"
    }
   },
   "outputs": [
    {
     "name": "stdout",
     "output_type": "stream",
     "text": [
      "......................................................................\n",
      "......................................................................\n",
      "...............................0000......................0............\n",
      "...............................0000.....................000...........\n",
      "...............................0000....................00000..........\n",
      "..............0................0000...................0000000.........\n",
      ".............000...............0000..................000000000........\n",
      "............00000..........0...0000.................00000000000.......\n",
      "....0......0000000........000..0000................0000000000000......\n",
      "...000....000000000......00000.0000...............000000000000000.....\n"
     ]
    }
   ],
   "source": [
    "c=MovingCanvas(10,70)\n",
    "c.add_object(Mountain(5,10))\n",
    "c.add_object(Mountain(3,25))\n",
    "c.add_object(Mountain(8,50))\n",
    "c.add_object(Mountain(2,3))\n",
    "c.add_object(Building(8,4,31))\n",
    "c.draw_canvas()\n",
    "c.show()"
   ]
  },
  {
   "cell_type": "code",
   "execution_count": 12,
   "metadata": {
    "ExecuteTime": {
     "end_time": "2020-05-17T15:13:28.245286Z",
     "start_time": "2020-05-17T15:13:28.235291Z"
    }
   },
   "outputs": [
    {
     "name": "stdout",
     "output_type": "stream",
     "text": [
      "......................................................................\n",
      "......................................................................\n",
      "................................0000......................0...........\n",
      "................................0000.....................000..........\n",
      "................................0000....................00000.........\n",
      "...............0................0000...................0000000........\n",
      "..............000...............0000..................000000000.......\n",
      ".............00000..........0...0000.................00000000000......\n",
      ".....0......0000000........000..0000................0000000000000.....\n",
      "....000....000000000......00000.0000...............000000000000000....\n",
      "......................................................................\n",
      "......................................................................\n",
      ".................................0000......................0..........\n",
      ".................................0000.....................000.........\n",
      ".................................0000....................00000........\n",
      "................0................0000...................0000000.......\n",
      "...............000...............0000..................000000000......\n",
      "..............00000..........0...0000.................00000000000.....\n",
      "......0......0000000........000..0000................0000000000000....\n",
      ".....000....000000000......00000.0000...............000000000000000...\n",
      "......................................................................\n",
      "......................................................................\n",
      "..................................0000......................0.........\n",
      "..................................0000.....................000........\n",
      "..................................0000....................00000.......\n",
      ".................0................0000...................0000000......\n",
      "................000...............0000..................000000000.....\n",
      "...............00000..........0...0000.................00000000000....\n",
      ".......0......0000000........000..0000................0000000000000...\n",
      "......000....000000000......00000.0000...............000000000000000..\n",
      "......................................................................\n",
      "......................................................................\n",
      "...................................0000......................0........\n",
      "...................................0000.....................000.......\n",
      "...................................0000....................00000......\n",
      "..................0................0000...................0000000.....\n",
      ".................000...............0000..................000000000....\n",
      "................00000..........0...0000.................00000000000...\n",
      "........0......0000000........000..0000................0000000000000..\n",
      ".......000....000000000......00000.0000...............000000000000000.\n",
      "......................................................................\n",
      "......................................................................\n",
      "....................................0000......................0.......\n",
      "....................................0000.....................000......\n",
      "....................................0000....................00000.....\n",
      "...................0................0000...................0000000....\n",
      "..................000...............0000..................000000000...\n",
      ".................00000..........0...0000.................00000000000..\n",
      ".........0......0000000........000..0000................0000000000000.\n",
      "........000....000000000......00000.0000...............000000000000000\n"
     ]
    }
   ],
   "source": [
    "for i in range(0,5):\n",
    "    c.move()\n",
    "    c.show()"
   ]
  },
  {
   "cell_type": "markdown",
   "metadata": {},
   "source": [
    "* Wow that's awesome!\n",
    "* Can we extend it even further?\n",
    "* Let's create an \"Animated Canvas\" that uses the MovingCanvas's move method."
   ]
  },
  {
   "cell_type": "code",
   "execution_count": 13,
   "metadata": {
    "ExecuteTime": {
     "end_time": "2020-05-17T15:13:28.252205Z",
     "start_time": "2020-05-17T15:13:28.248120Z"
    }
   },
   "outputs": [],
   "source": [
    "import time \n",
    "from IPython.display import clear_output\n",
    "\n",
    "\n",
    "class AnimatedCanvas(MovingCanvas):\n",
    "        \n",
    "    def animate(self,num_frames=20,secs_per_frame=2):\n",
    "        for i in range(0,num_frames):\n",
    "            # move\n",
    "            self.move()\n",
    "            self.show()\n",
    "            # pause for some time\n",
    "            time.sleep(secs_per_frame)\n",
    "            # the next line will only work in Jupyter!\n",
    "            clear_output()\n",
    "        "
   ]
  },
  {
   "cell_type": "code",
   "execution_count": 14,
   "metadata": {
    "ExecuteTime": {
     "end_time": "2020-05-17T15:13:28.260066Z",
     "start_time": "2020-05-17T15:13:28.254250Z"
    }
   },
   "outputs": [
    {
     "name": "stdout",
     "output_type": "stream",
     "text": [
      "......................................................................\n",
      "......................................................................\n",
      "...............................0000......................0............\n",
      "...............................0000.....................000...........\n",
      "...............................0000....................00000..........\n",
      "..............0................0000...................0000000.........\n",
      ".............000...............0000..................000000000........\n",
      "............00000..........0...0000.................00000000000.......\n",
      "....0......0000000........000..0000................0000000000000......\n",
      "...000....000000000......00000.0000...............000000000000000.....\n"
     ]
    }
   ],
   "source": [
    "c=AnimatedCanvas(10,70)\n",
    "c.add_object(Mountain(5,10))\n",
    "c.add_object(Mountain(3,25))\n",
    "c.add_object(Mountain(8,50))\n",
    "c.add_object(Mountain(2,3))\n",
    "c.add_object(Building(8,4,31))\n",
    "c.draw_canvas()\n",
    "c.show()"
   ]
  },
  {
   "cell_type": "code",
   "execution_count": 15,
   "metadata": {
    "ExecuteTime": {
     "end_time": "2020-05-17T15:14:08.336848Z",
     "start_time": "2020-05-17T15:13:28.261865Z"
    }
   },
   "outputs": [],
   "source": [
    "c.animate()"
   ]
  },
  {
   "cell_type": "markdown",
   "metadata": {},
   "source": [
    "* We can even try subclassing Mountain, to add some new functionality!"
   ]
  },
  {
   "cell_type": "code",
   "execution_count": 16,
   "metadata": {
    "ExecuteTime": {
     "end_time": "2020-05-17T15:14:08.342779Z",
     "start_time": "2020-05-17T15:14:08.338295Z"
    }
   },
   "outputs": [],
   "source": [
    "class OutlineMountain(Mountain):\n",
    "    \n",
    "    def __init__(self,height,startpos,mchar=\"*\"):\n",
    "        super().__init__(height,startpos,mchar)\n",
    "        # create an interior mountain which prints \" \"\n",
    "        self.outline=Mountain(height-1,startpos+1,mchar=\" \")\n",
    "        \n",
    "    def draw(self,canvas):\n",
    "        # draw the full mountain\n",
    "        super().draw(canvas)\n",
    "        # then draw over the inside with spaces\n",
    "        self.outline.draw(canvas)\n",
    "        # so an outline is created"
   ]
  },
  {
   "cell_type": "code",
   "execution_count": 17,
   "metadata": {
    "ExecuteTime": {
     "end_time": "2020-05-17T15:14:08.349075Z",
     "start_time": "2020-05-17T15:14:08.344719Z"
    }
   },
   "outputs": [
    {
     "name": "stdout",
     "output_type": "stream",
     "text": [
      "......................................................................\n",
      "......................................................................\n",
      "......................................................................\n",
      "......................................................................\n",
      "......................................................................\n",
      "..............*.......................................................\n",
      ".............* *......................................................\n",
      "............*   *.....................................................\n",
      "...........*     *....................................................\n",
      "..........*       *...................................................\n"
     ]
    }
   ],
   "source": [
    "c=Canvas(10,70)\n",
    "c.add_object(OutlineMountain(5,10))\n",
    "c.draw_canvas()\n",
    "c.show()"
   ]
  },
  {
   "cell_type": "code",
   "execution_count": 18,
   "metadata": {
    "ExecuteTime": {
     "end_time": "2020-05-17T15:14:08.358295Z",
     "start_time": "2020-05-17T15:14:08.350698Z"
    }
   },
   "outputs": [
    {
     "name": "stdout",
     "output_type": "stream",
     "text": [
      "                                                                      \n",
      "                                                          *           \n",
      "          *                *                             * *       k  \n",
      "         * *    *         * *                      k    *   *     kkk \n",
      "        *   *  * *       *   *     *         *    kkk  *     *   kkkkk\n",
      "       *     ** k *     *    k*   * *       * *  kkkkk*       * kkkkkk\n",
      "    k *      * kkk *   *    kkk* *   *k    *   *kkkkkkk        kkkkkkk\n",
      "   kkk      * kkkkk * *    kkkkk*    kkk  *    kkkkkkkkk      kkkkkkkk\n",
      "  kkkkk    * kkkkkkk *    kkkkkkk   kkkkk*    kkkkkkkkkkk    kkkkkkkkk\n",
      " kkkkkkk  * kkkkkkkkk    kkkkkkkkk kkkkkkk   kkkkkkkkkkkkk  kkkkkkkkkk\n"
     ]
    }
   ],
   "source": [
    "c=Canvas(10,70,echar=\" \")\n",
    "c.add_object(OutlineMountain(8,3))\n",
    "c.add_object(OutlineMountain(7,10))\n",
    "c.add_object(OutlineMountain(8,20))\n",
    "c.add_object(OutlineMountain(6,30))\n",
    "c.add_object(OutlineMountain(6,40))\n",
    "c.add_object(OutlineMountain(9,50))\n",
    "\n",
    "c.add_object(Mountain(4,1,\"k\"))\n",
    "c.add_object(Mountain(5,12,\"k\"))\n",
    "c.add_object(Mountain(5,25,\"k\"))\n",
    "c.add_object(Mountain(4,35,\"k\"))\n",
    "c.add_object(Mountain(7,45,\"k\"))\n",
    "c.add_object(Mountain(8,60,\"k\"))\n",
    "\n",
    "c.draw_canvas()\n",
    "c.show()"
   ]
  },
  {
   "cell_type": "markdown",
   "metadata": {},
   "source": [
    "* Can you use OutlineMountain with MovingCanvas or AnimatedCanvas?\n",
    "* If no, why not and how can you fix it?"
   ]
  },
  {
   "cell_type": "markdown",
   "metadata": {},
   "source": [
    "# Screen Sum Game (1 h) (opt)"
   ]
  },
  {
   "cell_type": "markdown",
   "metadata": {},
   "source": [
    "* A simple game - sum up the numbers on the screen and enter your answer.\n",
    "* Less time => more points\n",
    "* How can we make this game more interesting?\n",
    "    * Let the numbers move across the screen in lanes. \n",
    "    * Different speeds?\n",
    "    * What else?"
   ]
  }
 ],
 "metadata": {
  "hide_input": false,
  "kernelspec": {
   "display_name": "Python 3",
   "language": "python",
   "name": "python3"
  },
  "language_info": {
   "codemirror_mode": {
    "name": "ipython",
    "version": 3
   },
   "file_extension": ".py",
   "mimetype": "text/x-python",
   "name": "python",
   "nbconvert_exporter": "python",
   "pygments_lexer": "ipython3",
   "version": "3.8.3"
  },
  "toc": {
   "base_numbering": 1,
   "nav_menu": {},
   "number_sections": true,
   "sideBar": true,
   "skip_h1_title": false,
   "title_cell": "Table of Contents",
   "title_sidebar": "Contents",
   "toc_cell": false,
   "toc_position": {},
   "toc_section_display": true,
   "toc_window_display": false
  }
 },
 "nbformat": 4,
 "nbformat_minor": 2
}
