{
 "cells": [
  {
   "cell_type": "markdown",
   "metadata": {},
   "source": [
    "# Everything in Python is an object\n",
    "\n",
    "Python is an object oriented programming language i.e. it stresses on objects.\n",
    "\n",
    "An object is simply a collection of data (variables) and methods (functions) that act on those data.\n",
    "\n",
    "A class is a blueprint for that object i.e. it defines the structure of the object"
   ]
  },
  {
   "cell_type": "markdown",
   "metadata": {},
   "source": [
    "## The basic datatypes!"
   ]
  },
  {
   "cell_type": "markdown",
   "metadata": {},
   "source": [
    "The builtin data types you've been using are all objects!"
   ]
  },
  {
   "cell_type": "code",
   "execution_count": 10,
   "metadata": {
    "ExecuteTime": {
     "end_time": "2020-05-11T05:58:44.257784Z",
     "start_time": "2020-05-11T05:58:44.254000Z"
    }
   },
   "outputs": [
    {
     "name": "stdout",
     "output_type": "stream",
     "text": [
      "<class 'type'>\n",
      "<class 'type'>\n",
      "<class 'type'>\n"
     ]
    }
   ],
   "source": [
    "# When you've been converting datatypes,\n",
    "# You've actually been calling the constructors of these built-in types\n",
    "print(type(str))\n",
    "print(type(int))\n",
    "print(type(bool))"
   ]
  },
  {
   "cell_type": "code",
   "execution_count": 11,
   "metadata": {},
   "outputs": [
    {
     "name": "stdout",
     "output_type": "stream",
     "text": [
      "<class 'str'>\n",
      "<class 'float'>\n",
      "<class 'int'>\n"
     ]
    }
   ],
   "source": [
    "print(type('abcde'))\n",
    "print(type(2.0))\n",
    "print(type(2))"
   ]
  },
  {
   "cell_type": "code",
   "execution_count": 13,
   "metadata": {
    "ExecuteTime": {
     "end_time": "2020-05-11T05:58:44.264056Z",
     "start_time": "2020-05-11T05:58:44.259565Z"
    },
    "scrolled": true
   },
   "outputs": [
    {
     "data": {
      "text/plain": [
       "['__abs__',\n",
       " '__add__',\n",
       " '__bool__',\n",
       " '__class__',\n",
       " '__delattr__',\n",
       " '__dir__',\n",
       " '__divmod__',\n",
       " '__doc__',\n",
       " '__eq__',\n",
       " '__float__',\n",
       " '__floordiv__',\n",
       " '__format__',\n",
       " '__ge__',\n",
       " '__getattribute__',\n",
       " '__getformat__',\n",
       " '__getnewargs__',\n",
       " '__gt__',\n",
       " '__hash__',\n",
       " '__init__',\n",
       " '__init_subclass__',\n",
       " '__int__',\n",
       " '__le__',\n",
       " '__lt__',\n",
       " '__mod__',\n",
       " '__mul__',\n",
       " '__ne__',\n",
       " '__neg__',\n",
       " '__new__',\n",
       " '__pos__',\n",
       " '__pow__',\n",
       " '__radd__',\n",
       " '__rdivmod__',\n",
       " '__reduce__',\n",
       " '__reduce_ex__',\n",
       " '__repr__',\n",
       " '__rfloordiv__',\n",
       " '__rmod__',\n",
       " '__rmul__',\n",
       " '__round__',\n",
       " '__rpow__',\n",
       " '__rsub__',\n",
       " '__rtruediv__',\n",
       " '__set_format__',\n",
       " '__setattr__',\n",
       " '__sizeof__',\n",
       " '__str__',\n",
       " '__sub__',\n",
       " '__subclasshook__',\n",
       " '__truediv__',\n",
       " '__trunc__',\n",
       " 'as_integer_ratio',\n",
       " 'conjugate',\n",
       " 'fromhex',\n",
       " 'hex',\n",
       " 'imag',\n",
       " 'is_integer',\n",
       " 'real']"
      ]
     },
     "execution_count": 13,
     "metadata": {},
     "output_type": "execute_result"
    }
   ],
   "source": [
    "# The dir() function returns all properties and methods of the specified object, without the values.\n",
    "dir(2.0)"
   ]
  },
  {
   "cell_type": "code",
   "execution_count": 14,
   "metadata": {
    "ExecuteTime": {
     "end_time": "2020-05-11T05:58:44.269633Z",
     "start_time": "2020-05-11T05:58:44.266030Z"
    }
   },
   "outputs": [
    {
     "name": "stdout",
     "output_type": "stream",
     "text": [
      "False\n",
      "True\n"
     ]
    }
   ],
   "source": [
    "print(2.01.is_integer())\n",
    "print(2.0.is_integer())"
   ]
  },
  {
   "cell_type": "markdown",
   "metadata": {},
   "source": [
    "### Even functions are objects!"
   ]
  },
  {
   "cell_type": "markdown",
   "metadata": {},
   "source": [
    "* Functions are objects as well. \n",
    "* They are nothing special, when you call them, you are just calling their ``__call__`` method.\n",
    "* You can assign functions to variables, put them in lists, pass them as arguments to other functions - anything you can do with a number or a string."
   ]
  },
  {
   "cell_type": "code",
   "execution_count": 22,
   "metadata": {
    "ExecuteTime": {
     "end_time": "2020-05-11T05:58:44.274073Z",
     "start_time": "2020-05-11T05:58:44.271371Z"
    }
   },
   "outputs": [],
   "source": [
    "def greeter(name):\n",
    "    print(\"Hello \"+name)"
   ]
  },
  {
   "cell_type": "code",
   "execution_count": 23,
   "metadata": {
    "ExecuteTime": {
     "end_time": "2020-05-11T05:58:44.279208Z",
     "start_time": "2020-05-11T05:58:44.275679Z"
    }
   },
   "outputs": [
    {
     "name": "stdout",
     "output_type": "stream",
     "text": [
      "<class 'function'>\n",
      "['__annotations__', '__call__', '__class__', '__closure__', '__code__', '__defaults__', '__delattr__', '__dict__', '__dir__', '__doc__', '__eq__', '__format__', '__ge__', '__get__', '__getattribute__', '__globals__', '__gt__', '__hash__', '__init__', '__init_subclass__', '__kwdefaults__', '__le__', '__lt__', '__module__', '__name__', '__ne__', '__new__', '__qualname__', '__reduce__', '__reduce_ex__', '__repr__', '__setattr__', '__sizeof__', '__str__', '__subclasshook__']\n"
     ]
    }
   ],
   "source": [
    "print(type(greeter))\n",
    "\n",
    "print(dir(greeter))"
   ]
  },
  {
   "cell_type": "code",
   "execution_count": 24,
   "metadata": {
    "ExecuteTime": {
     "end_time": "2020-05-11T05:58:44.284274Z",
     "start_time": "2020-05-11T05:58:44.281114Z"
    }
   },
   "outputs": [
    {
     "name": "stdout",
     "output_type": "stream",
     "text": [
      "greeter\n",
      "<code object greeter at 0x7fac7425a7c0, file \"<ipython-input-22-80612c9eab1d>\", line 1>\n"
     ]
    }
   ],
   "source": [
    "x=greeter\n",
    "print(x.__name__)\n",
    "print(x.__code__)"
   ]
  },
  {
   "cell_type": "code",
   "execution_count": 25,
   "metadata": {
    "ExecuteTime": {
     "end_time": "2020-05-11T05:58:44.289602Z",
     "start_time": "2020-05-11T05:58:44.286247Z"
    }
   },
   "outputs": [
    {
     "name": "stdout",
     "output_type": "stream",
     "text": [
      "Hello Prateek\n",
      "Hello Eckovation\n"
     ]
    }
   ],
   "source": [
    "# Two ways to call function, first syntax used \n",
    "x(\"Prateek\")\n",
    "x.__call__(\"Eckovation\")"
   ]
  },
  {
   "cell_type": "markdown",
   "metadata": {},
   "source": [
    "### Don't get intimidated, it's just data + logic!"
   ]
  },
  {
   "cell_type": "markdown",
   "metadata": {},
   "source": [
    "I hope this doesn't confuse you! It's very simple,\n",
    "* In Python, everythinhg is an object - this means that everything packages some data + some logic with it.\n",
    "* For example, a number packages the number's value & lots of logic defining what is the absolute value of the number, how to add to numbers, how to take powers etc. Just like our Family class earlier."
   ]
  },
  {
   "cell_type": "markdown",
   "metadata": {},
   "source": [
    "### Commonly used data structures to store objects/data: lists, sets, tuple, dictionary\n",
    "\n",
    "## 1. Lists"
   ]
  },
  {
   "cell_type": "code",
   "execution_count": 26,
   "metadata": {
    "ExecuteTime": {
     "end_time": "2020-05-11T05:58:44.233522Z",
     "start_time": "2020-05-11T05:58:44.230065Z"
    }
   },
   "outputs": [
    {
     "name": "stdout",
     "output_type": "stream",
     "text": [
      "[22, 34, 2, 56, 77]\n",
      "1\n"
     ]
    }
   ],
   "source": [
    "# Lists are obviously objects\n",
    "mylist=[22,34,2, 56,77]\n",
    "# Check out the index method\n",
    "print(mylist)\n",
    "print(mylist.index(34))\n"
   ]
  },
  {
   "cell_type": "code",
   "execution_count": 27,
   "metadata": {},
   "outputs": [
    {
     "name": "stdout",
     "output_type": "stream",
     "text": [
      "1\n",
      "hello\n"
     ]
    }
   ],
   "source": [
    "list_mix = [1, 'hello', 'prateek', 5.0]\n",
    "# List indexing, starts from 0 and goes to length - 1\n",
    "# Length can be calculated using len()\n",
    "print(list_mix[0])\n",
    "print(list_mix[1])"
   ]
  },
  {
   "cell_type": "code",
   "execution_count": 28,
   "metadata": {
    "ExecuteTime": {
     "end_time": "2020-05-11T05:58:44.246647Z",
     "start_time": "2020-05-11T05:58:44.237820Z"
    },
    "scrolled": true
   },
   "outputs": [
    {
     "name": "stdout",
     "output_type": "stream",
     "text": [
      "<class 'list'>\n",
      "<class 'list'>\n"
     ]
    }
   ],
   "source": [
    "# Let's check its type - a builtin method\n",
    "print(type(mylist))\n",
    "print(type(list_mix))"
   ]
  },
  {
   "cell_type": "code",
   "execution_count": 29,
   "metadata": {
    "ExecuteTime": {
     "end_time": "2020-05-11T05:58:44.252112Z",
     "start_time": "2020-05-11T05:58:44.248195Z"
    },
    "scrolled": true
   },
   "outputs": [
    {
     "data": {
      "text/plain": [
       "['__add__',\n",
       " '__class__',\n",
       " '__contains__',\n",
       " '__delattr__',\n",
       " '__delitem__',\n",
       " '__dir__',\n",
       " '__doc__',\n",
       " '__eq__',\n",
       " '__format__',\n",
       " '__ge__',\n",
       " '__getattribute__',\n",
       " '__getitem__',\n",
       " '__gt__',\n",
       " '__hash__',\n",
       " '__iadd__',\n",
       " '__imul__',\n",
       " '__init__',\n",
       " '__init_subclass__',\n",
       " '__iter__',\n",
       " '__le__',\n",
       " '__len__',\n",
       " '__lt__',\n",
       " '__mul__',\n",
       " '__ne__',\n",
       " '__new__',\n",
       " '__reduce__',\n",
       " '__reduce_ex__',\n",
       " '__repr__',\n",
       " '__reversed__',\n",
       " '__rmul__',\n",
       " '__setattr__',\n",
       " '__setitem__',\n",
       " '__sizeof__',\n",
       " '__str__',\n",
       " '__subclasshook__',\n",
       " 'append',\n",
       " 'clear',\n",
       " 'copy',\n",
       " 'count',\n",
       " 'extend',\n",
       " 'index',\n",
       " 'insert',\n",
       " 'pop',\n",
       " 'remove',\n",
       " 'reverse',\n",
       " 'sort']"
      ]
     },
     "execution_count": 29,
     "metadata": {},
     "output_type": "execute_result"
    }
   ],
   "source": [
    "# We can use dir to see all attributes\n",
    "dir(mylist)"
   ]
  },
  {
   "cell_type": "code",
   "execution_count": 34,
   "metadata": {},
   "outputs": [
    {
     "name": "stdout",
     "output_type": "stream",
     "text": [
      "length:5\n",
      "[22, 34, 2, 56, 77]\n",
      "56\n"
     ]
    }
   ],
   "source": [
    "# Using some inbuilt fuctions present in class list.\n",
    "\n",
    "print('length:'+ str(len(mylist)))\n",
    "print(mylist)\n",
    "print(mylist[-2])"
   ]
  },
  {
   "cell_type": "code",
   "execution_count": 35,
   "metadata": {},
   "outputs": [
    {
     "name": "stdout",
     "output_type": "stream",
     "text": [
      "[2, 22, 34, 56, 77]\n"
     ]
    }
   ],
   "source": [
    "mylist.sort()\n",
    "print(mylist)"
   ]
  },
  {
   "cell_type": "markdown",
   "metadata": {},
   "source": [
    "### Note on variable assignments and garbage collection"
   ]
  },
  {
   "cell_type": "code",
   "execution_count": 37,
   "metadata": {
    "ExecuteTime": {
     "end_time": "2020-05-11T05:58:44.294520Z",
     "start_time": "2020-05-11T05:58:44.291182Z"
    }
   },
   "outputs": [
    {
     "name": "stdout",
     "output_type": "stream",
     "text": [
      "140378719599040\n",
      "140378719599040\n"
     ]
    }
   ],
   "source": [
    "# The id() function returns a unique id for the specified object. All objects in Python has its own unique id. \n",
    "# The id is the object's memory address, and will be different for each time you run the program.\n",
    "\n",
    "x=[22,33]\n",
    "print(id(x))\n",
    "y=x\n",
    "print(id(y))"
   ]
  },
  {
   "cell_type": "markdown",
   "metadata": {},
   "source": [
    "* Clearly, the earlier logic for variable assignments hold true for all objects. \n",
    "* A variable is just a name for an object.\n",
    "* In the above example, when we write ``y=x``, now ``y`` is another name for the list ``x`` refers to."
   ]
  },
  {
   "cell_type": "code",
   "execution_count": 39,
   "metadata": {
    "ExecuteTime": {
     "end_time": "2020-05-11T05:58:44.299272Z",
     "start_time": "2020-05-11T05:58:44.296429Z"
    }
   },
   "outputs": [
    {
     "name": "stdout",
     "output_type": "stream",
     "text": [
      "[22, 33]\n",
      "94114616708544\n",
      "140378719599040\n"
     ]
    }
   ],
   "source": [
    "x=5\n",
    "print(y)\n",
    "\n",
    "print(id(x))\n",
    "print(id(y))"
   ]
  },
  {
   "cell_type": "markdown",
   "metadata": {},
   "source": [
    "* We can now make x refer to something else...\n",
    "* We can still refer to the list via ``y``."
   ]
  },
  {
   "cell_type": "code",
   "execution_count": 40,
   "metadata": {
    "ExecuteTime": {
     "end_time": "2020-05-11T05:58:44.303373Z",
     "start_time": "2020-05-11T05:58:44.301060Z"
    }
   },
   "outputs": [
    {
     "name": "stdout",
     "output_type": "stream",
     "text": [
      "94114616708448\n"
     ]
    }
   ],
   "source": [
    "y=2\n",
    "print(id(y))"
   ]
  },
  {
   "cell_type": "markdown",
   "metadata": {},
   "source": [
    "* But now, the list is gone.\n",
    "* Once an object has no more names, Python deletes it."
   ]
  },
  {
   "cell_type": "markdown",
   "metadata": {},
   "source": [
    "# More on Strings"
   ]
  },
  {
   "cell_type": "markdown",
   "metadata": {},
   "source": [
    "* So you now know that strings are objects as well. \n",
    "* So the first thing you should ask is : Does it have any interesting methods?\n",
    "\n",
    "You can use ``dir`` to find out!"
   ]
  },
  {
   "cell_type": "code",
   "execution_count": 45,
   "metadata": {
    "ExecuteTime": {
     "end_time": "2020-05-11T05:58:44.309599Z",
     "start_time": "2020-05-11T05:58:44.305216Z"
    },
    "scrolled": true
   },
   "outputs": [
    {
     "data": {
      "text/plain": [
       "['__add__',\n",
       " '__class__',\n",
       " '__contains__',\n",
       " '__delattr__',\n",
       " '__dir__',\n",
       " '__doc__',\n",
       " '__eq__',\n",
       " '__format__',\n",
       " '__ge__',\n",
       " '__getattribute__',\n",
       " '__getitem__',\n",
       " '__getnewargs__',\n",
       " '__gt__',\n",
       " '__hash__',\n",
       " '__init__',\n",
       " '__init_subclass__',\n",
       " '__iter__',\n",
       " '__le__',\n",
       " '__len__',\n",
       " '__lt__',\n",
       " '__mod__',\n",
       " '__mul__',\n",
       " '__ne__',\n",
       " '__new__',\n",
       " '__reduce__',\n",
       " '__reduce_ex__',\n",
       " '__repr__',\n",
       " '__rmod__',\n",
       " '__rmul__',\n",
       " '__setattr__',\n",
       " '__sizeof__',\n",
       " '__str__',\n",
       " '__subclasshook__',\n",
       " 'capitalize',\n",
       " 'casefold',\n",
       " 'center',\n",
       " 'count',\n",
       " 'encode',\n",
       " 'endswith',\n",
       " 'expandtabs',\n",
       " 'find',\n",
       " 'format',\n",
       " 'format_map',\n",
       " 'index',\n",
       " 'isalnum',\n",
       " 'isalpha',\n",
       " 'isascii',\n",
       " 'isdecimal',\n",
       " 'isdigit',\n",
       " 'isidentifier',\n",
       " 'islower',\n",
       " 'isnumeric',\n",
       " 'isprintable',\n",
       " 'isspace',\n",
       " 'istitle',\n",
       " 'isupper',\n",
       " 'join',\n",
       " 'ljust',\n",
       " 'lower',\n",
       " 'lstrip',\n",
       " 'maketrans',\n",
       " 'partition',\n",
       " 'replace',\n",
       " 'rfind',\n",
       " 'rindex',\n",
       " 'rjust',\n",
       " 'rpartition',\n",
       " 'rsplit',\n",
       " 'rstrip',\n",
       " 'split',\n",
       " 'splitlines',\n",
       " 'startswith',\n",
       " 'strip',\n",
       " 'swapcase',\n",
       " 'title',\n",
       " 'translate',\n",
       " 'upper',\n",
       " 'zfill']"
      ]
     },
     "execution_count": 45,
     "metadata": {},
     "output_type": "execute_result"
    }
   ],
   "source": [
    "dir(\"bdkjbcksn\")"
   ]
  },
  {
   "cell_type": "markdown",
   "metadata": {},
   "source": [
    "* Wow, lots of functions. \n",
    "* But you're going to need them - because you will need to work with strings a lot!"
   ]
  },
  {
   "cell_type": "markdown",
   "metadata": {},
   "source": [
    "**Checking strings**"
   ]
  },
  {
   "cell_type": "code",
   "execution_count": 46,
   "metadata": {
    "ExecuteTime": {
     "end_time": "2020-05-11T05:58:44.315183Z",
     "start_time": "2020-05-11T05:58:44.311433Z"
    }
   },
   "outputs": [
    {
     "name": "stdout",
     "output_type": "stream",
     "text": [
      "False\n",
      "True\n",
      "False\n"
     ]
    }
   ],
   "source": [
    "print(\"New Delhi\".startswith(\"new\"))\n",
    "print(\"225\".isdigit())\n",
    "print(\"Attributes\".islower())"
   ]
  },
  {
   "cell_type": "markdown",
   "metadata": {},
   "source": [
    "**Transforming strings**"
   ]
  },
  {
   "cell_type": "code",
   "execution_count": 47,
   "metadata": {
    "ExecuteTime": {
     "end_time": "2020-05-11T05:58:44.321115Z",
     "start_time": "2020-05-11T05:58:44.317329Z"
    },
    "scrolled": true
   },
   "outputs": [
    {
     "name": "stdout",
     "output_type": "stream",
     "text": [
      "prateek\n",
      "PRATEEK\n",
      "Prateek\n"
     ]
    }
   ],
   "source": [
    "print(\"PratEEK\".lower())\n",
    "print(\"PRAteek\".upper())\n",
    "print(\"praTEEK\".capitalize())"
   ]
  },
  {
   "cell_type": "markdown",
   "metadata": {},
   "source": [
    "### Some methods very useful for data processing"
   ]
  },
  {
   "cell_type": "code",
   "execution_count": 49,
   "metadata": {
    "ExecuteTime": {
     "end_time": "2020-05-11T05:58:44.327006Z",
     "start_time": "2020-05-11T05:58:44.322909Z"
    }
   },
   "outputs": [
    {
     "name": "stdout",
     "output_type": "stream",
     "text": [
      "['This', 'is', 'a', 'sentence', 'I', 'want', 'to', 'break', 'into', 'parts']\n",
      "['Thi', ' i', ' a ', 'entence I want to break into part', '']\n"
     ]
    }
   ],
   "source": [
    "x=\"This is a sentence I want to break into parts\"\n",
    "parts=x.split()\n",
    "print(parts)\n",
    "print(x.split(\"s\"))"
   ]
  },
  {
   "cell_type": "code",
   "execution_count": 51,
   "metadata": {
    "ExecuteTime": {
     "end_time": "2020-05-11T05:58:44.331940Z",
     "start_time": "2020-05-11T05:58:44.328993Z"
    }
   },
   "outputs": [
    {
     "name": "stdout",
     "output_type": "stream",
     "text": [
      "This is a sentence I want to break into parts\n"
     ]
    }
   ],
   "source": [
    "print(\" \".join(parts))"
   ]
  },
  {
   "cell_type": "code",
   "execution_count": 24,
   "metadata": {
    "ExecuteTime": {
     "end_time": "2020-05-11T05:58:44.337786Z",
     "start_time": "2020-05-11T05:58:44.333723Z"
    }
   },
   "outputs": [
    {
     "name": "stdout",
     "output_type": "stream",
     "text": [
      "    Remove all the extra space    \n",
      "|Remove all the extra space    |\n",
      "|    Remove all the extra space|\n",
      "|Remove all the extra space|\n"
     ]
    }
   ],
   "source": [
    "x=\"    Remove all the extra space    \"\n",
    "print(x)\n",
    "print(\"|\"+x.lstrip()+\"|\")\n",
    "print(\"|\"+x.rstrip()+\"|\")\n",
    "print(\"|\"+x.strip()+\"|\")"
   ]
  },
  {
   "cell_type": "code",
   "execution_count": 61,
   "metadata": {
    "ExecuteTime": {
     "end_time": "2020-05-11T05:58:44.342581Z",
     "start_time": "2020-05-11T05:58:44.339310Z"
    }
   },
   "outputs": [
    {
     "name": "stdout",
     "output_type": "stream",
     "text": [
      "I want to - every a in here\n"
     ]
    }
   ],
   "source": [
    "x=\"I want to capitalize every a in here\"\n",
    "print(x.replace(\"capitalize\",\"-\"))"
   ]
  },
  {
   "cell_type": "markdown",
   "metadata": {},
   "source": [
    "Tip :\n",
    "* Practice manipulating strings - very useful for software development. \n",
    "* But even for ML, you have to read files which are strings. You can't escape strings!"
   ]
  },
  {
   "cell_type": "code",
   "execution_count": 54,
   "metadata": {},
   "outputs": [
    {
     "name": "stdout",
     "output_type": "stream",
     "text": [
      "/home/prateek/lectures/revision1.ipynb\n",
      "/home/prateek/lectures/revision1.pdf\n"
     ]
    }
   ],
   "source": [
    "x = \"/home/prateek/lectures/revision1.ipynb\"\n",
    "print(x)\n",
    "print(x.replace(\"ipynb\", \"pdf\"))"
   ]
  },
  {
   "cell_type": "markdown",
   "metadata": {},
   "source": [
    "### But can you change strings?"
   ]
  },
  {
   "cell_type": "code",
   "execution_count": 57,
   "metadata": {
    "ExecuteTime": {
     "end_time": "2020-05-11T05:58:44.348287Z",
     "start_time": "2020-05-11T05:58:44.344564Z"
    }
   },
   "outputs": [
    {
     "name": "stdout",
     "output_type": "stream",
     "text": [
      "1\n",
      "[12, 'one', 'abc']\n"
     ]
    }
   ],
   "source": [
    "# you can do this with lists\n",
    "x = [12, 1 ,\"abc\"]\n",
    "print(x[1])\n",
    "x[1]=\"one\"\n",
    "print(x)"
   ]
  },
  {
   "cell_type": "code",
   "execution_count": 58,
   "metadata": {
    "ExecuteTime": {
     "end_time": "2020-05-11T05:58:44.449311Z",
     "start_time": "2020-05-11T05:58:44.350016Z"
    }
   },
   "outputs": [
    {
     "name": "stdout",
     "output_type": "stream",
     "text": [
      "abcdefgh\n"
     ]
    },
    {
     "ename": "TypeError",
     "evalue": "'str' object does not support item assignment",
     "output_type": "error",
     "traceback": [
      "\u001b[0;31m---------------------------------------------------------------------------\u001b[0m",
      "\u001b[0;31mTypeError\u001b[0m                                 Traceback (most recent call last)",
      "\u001b[0;32m<ipython-input-58-97e942e0ac6f>\u001b[0m in \u001b[0;36m<module>\u001b[0;34m\u001b[0m\n\u001b[1;32m      2\u001b[0m \u001b[0mx\u001b[0m\u001b[0;34m=\u001b[0m\u001b[0;34m\"abcdefgh\"\u001b[0m\u001b[0;34m\u001b[0m\u001b[0;34m\u001b[0m\u001b[0m\n\u001b[1;32m      3\u001b[0m \u001b[0mprint\u001b[0m\u001b[0;34m(\u001b[0m\u001b[0mx\u001b[0m\u001b[0;34m)\u001b[0m\u001b[0;34m\u001b[0m\u001b[0;34m\u001b[0m\u001b[0m\n\u001b[0;32m----> 4\u001b[0;31m \u001b[0mx\u001b[0m\u001b[0;34m[\u001b[0m\u001b[0;36m0\u001b[0m\u001b[0;34m]\u001b[0m\u001b[0;34m=\u001b[0m\u001b[0;34m\"z\"\u001b[0m\u001b[0;34m\u001b[0m\u001b[0;34m\u001b[0m\u001b[0m\n\u001b[0m",
      "\u001b[0;31mTypeError\u001b[0m: 'str' object does not support item assignment"
     ]
    }
   ],
   "source": [
    "# can you do the same thing with strings?\n",
    "x=\"abcdefgh\"\n",
    "print(x)\n",
    "x[0]=\"z\""
   ]
  },
  {
   "cell_type": "markdown",
   "metadata": {},
   "source": [
    "* No strings are immutable objects - you can't edit them once they have been created.\n",
    "* Nothing complicated, just like turning off a switch. \n",
    "* Numbers and booleans are also immutable objects"
   ]
  },
  {
   "cell_type": "code",
   "execution_count": 62,
   "metadata": {
    "ExecuteTime": {
     "end_time": "2020-05-11T05:58:55.676603Z",
     "start_time": "2020-05-11T05:58:55.673010Z"
    }
   },
   "outputs": [
    {
     "name": "stdout",
     "output_type": "stream",
     "text": [
      "ravina\n",
      "Ravina\n"
     ]
    }
   ],
   "source": [
    "# but then doesn't this mutate the string?\n",
    "x=\"Ravina\"\n",
    "print(x.lower())\n",
    "print(x)"
   ]
  },
  {
   "cell_type": "markdown",
   "metadata": {},
   "source": [
    "Nope, its just returning a new string."
   ]
  },
  {
   "cell_type": "markdown",
   "metadata": {},
   "source": [
    "# File I/O"
   ]
  },
  {
   "cell_type": "markdown",
   "metadata": {},
   "source": [
    "* In this section you will learn how to read and write to files.\n",
    "* For this section, the files that you are dealing with will be text files.\n",
    "\n",
    "###  A Note on files \n",
    "\n",
    "* Generally, there are two kinds of files ~ binary and text files.\n",
    "* .py, .txt, .c - anything that can be opened with a text editor is a text file.\n",
    "* Even .docx files are text files - but they are in XML format. If you're curious you can try opening one afterwards! :)\n",
    "* .jpeg, .jpg, .exe, .mp3, .wav etc are generally binary files - although they might have some text content.\n",
    "* Finally everything is made up of sequences of bytes - an 8 bit number like this 01010101 (could be represented in hex, oct, doesn't matter, it's finally an 8-bit number)\n",
    "* But when the file is a text file, the byte corresponds to a character table/encoding like ASCII or unicode."
   ]
  },
  {
   "cell_type": "markdown",
   "metadata": {},
   "source": [
    "### Reading from a file"
   ]
  },
  {
   "cell_type": "markdown",
   "metadata": {},
   "source": [
    "* The ``open()`` function returns a ``File`` object that exposes methods to read the file.\n",
    "* How does it actually read the file from the disc? Don't know, don't care! That's the beauty of abstraction (hiding implementation details behind an interface)"
   ]
  },
  {
   "cell_type": "markdown",
   "metadata": {},
   "source": [
    "There are two ways you can open a file."
   ]
  },
  {
   "cell_type": "code",
   "execution_count": 63,
   "metadata": {
    "ExecuteTime": {
     "end_time": "2020-05-11T05:59:05.837891Z",
     "start_time": "2020-05-11T05:59:05.833991Z"
    }
   },
   "outputs": [
    {
     "name": "stdout",
     "output_type": "stream",
     "text": [
      "This is a test file for python revision 2.\n",
      "-Prateek Manocha\n",
      "-Eckovation\n",
      "\n",
      "\n",
      "----------------\n"
     ]
    }
   ],
   "source": [
    "input_file=open(\"test_file.txt\",\"r\")\n",
    "\n",
    "print(input_file.read())\n",
    "print('----------------')\n",
    "input_file.close()"
   ]
  },
  {
   "cell_type": "markdown",
   "metadata": {},
   "source": [
    "* When you open a file, this is a transaction between Python and the OS - Windows/Mac/Linux. \n",
    "* The OS gives Python a **handle** or connection to the file. \n",
    "* It's python's responsibility to **close that connection**. \n",
    "* If you forget to close files, **bad things might happen**. For example, your program might become slow, especially if you're opening too many files. See this [SO post](https://stackoverflow.com/questions/25070854/why-should-i-close-files-in-python) for more examples. \n",
    "* In general, it's just bad programming."
   ]
  },
  {
   "cell_type": "markdown",
   "metadata": {},
   "source": [
    "So I recommend you always use this syntax"
   ]
  },
  {
   "cell_type": "code",
   "execution_count": 68,
   "metadata": {
    "ExecuteTime": {
     "end_time": "2020-05-11T05:59:16.733478Z",
     "start_time": "2020-05-11T05:59:16.729780Z"
    },
    "scrolled": true
   },
   "outputs": [
    {
     "name": "stdout",
     "output_type": "stream",
     "text": [
      "This is a test file for python revision 2.\n",
      "\n"
     ]
    }
   ],
   "source": [
    "# the file will be automatically closed once you reach the end of the block\n",
    "with open(\"test_file.txt\",\"r\") as input_file:\n",
    "    print(input_file.readline())"
   ]
  },
  {
   "cell_type": "code",
   "execution_count": 69,
   "metadata": {},
   "outputs": [
    {
     "ename": "ValueError",
     "evalue": "I/O operation on closed file.",
     "output_type": "error",
     "traceback": [
      "\u001b[0;31m---------------------------------------------------------------------------\u001b[0m",
      "\u001b[0;31mValueError\u001b[0m                                Traceback (most recent call last)",
      "\u001b[0;32m<ipython-input-69-f6ee5b6df1f6>\u001b[0m in \u001b[0;36m<module>\u001b[0;34m\u001b[0m\n\u001b[0;32m----> 1\u001b[0;31m \u001b[0mprint\u001b[0m\u001b[0;34m(\u001b[0m\u001b[0minput_file\u001b[0m\u001b[0;34m.\u001b[0m\u001b[0mreadline\u001b[0m\u001b[0;34m(\u001b[0m\u001b[0;34m)\u001b[0m\u001b[0;34m)\u001b[0m\u001b[0;34m\u001b[0m\u001b[0;34m\u001b[0m\u001b[0m\n\u001b[0m",
      "\u001b[0;31mValueError\u001b[0m: I/O operation on closed file."
     ]
    }
   ],
   "source": [
    "print(input_file.readline())"
   ]
  },
  {
   "cell_type": "markdown",
   "metadata": {},
   "source": [
    "* What is the second argument to open()?\n",
    "* It's the mode of opening the file.\n",
    "* \"r\" mode = open for reading. Actually this is same as \"rt\" = read text\n",
    "* \"rb\" is for reading binary files"
   ]
  },
  {
   "cell_type": "markdown",
   "metadata": {},
   "source": [
    "* But now lets look at the methods that let us actually read a text file.\n",
    "* While reading a file, a \"line\" is a string that ends with a newline character i.e. \"\\n\"."
   ]
  },
  {
   "cell_type": "code",
   "execution_count": 70,
   "metadata": {
    "ExecuteTime": {
     "end_time": "2020-05-11T05:59:18.373013Z",
     "start_time": "2020-05-11T05:59:18.368985Z"
    }
   },
   "outputs": [
    {
     "name": "stdout",
     "output_type": "stream",
     "text": [
      "['This is a test file for python revision 2.\\n', '-Prateek Manocha\\n', '-Eckovation\\n', '\\n']\n"
     ]
    }
   ],
   "source": [
    "with open(\"test_file.txt\",\"r\") as fi:\n",
    "    line=\"starting\"\n",
    "    lines=[]\n",
    "    # readline returns \"\" at the end of the file\n",
    "    while line !=\"\\n\":\n",
    "        line=fi.readline()\n",
    "        lines.append(line)\n",
    "print(lines)"
   ]
  },
  {
   "cell_type": "markdown",
   "metadata": {},
   "source": [
    "* Notice, the newlines are preserved."
   ]
  },
  {
   "cell_type": "code",
   "execution_count": 71,
   "metadata": {
    "ExecuteTime": {
     "end_time": "2020-05-11T05:59:21.565473Z",
     "start_time": "2020-05-11T05:59:21.561682Z"
    },
    "scrolled": true
   },
   "outputs": [
    {
     "name": "stdout",
     "output_type": "stream",
     "text": [
      "['This is a test file for python revision 2.\\n', '-Prateek Manocha\\n', '-Eckovation\\n', '\\n']\n"
     ]
    }
   ],
   "source": [
    "with open(\"test_file.txt\",\"rt\") as fi:\n",
    "    lines=fi.readlines()\n",
    "print(lines)"
   ]
  },
  {
   "cell_type": "markdown",
   "metadata": {},
   "source": [
    "* You can also pass how many bytes to read to the readlines() function."
   ]
  },
  {
   "cell_type": "code",
   "execution_count": 73,
   "metadata": {
    "ExecuteTime": {
     "end_time": "2020-05-11T05:59:22.641441Z",
     "start_time": "2020-05-11T05:59:22.636926Z"
    },
    "scrolled": true
   },
   "outputs": [
    {
     "name": "stdout",
     "output_type": "stream",
     "text": [
      "['This is a test file for python revision 2.\\n', '-Prateek Manocha\\n', '-Eckovation\\n']\n",
      "[43, 17, 12]\n"
     ]
    }
   ],
   "source": [
    "with open(\"test_file.txt\",\"rt\") as fi:\n",
    "    # read lines upto this many bytes\n",
    "    lines=fi.readlines(64)\n",
    "print(lines)\n",
    "# curious people can check out below syntax\n",
    "# its called \"list comprehension\"\n",
    "print([len(line) for line in lines])"
   ]
  },
  {
   "cell_type": "code",
   "execution_count": 75,
   "metadata": {
    "ExecuteTime": {
     "end_time": "2020-05-11T05:59:23.176974Z",
     "start_time": "2020-05-11T05:59:23.171538Z"
    }
   },
   "outputs": [
    {
     "name": "stdout",
     "output_type": "stream",
     "text": [
      "Th\n",
      "is\n",
      " i\n",
      "s \n",
      "a \n",
      "te\n",
      "st\n",
      " f\n",
      "il\n",
      "e \n"
     ]
    }
   ],
   "source": [
    "with open(\"test_file.txt\",\"rt\") as fi:\n",
    "    # you can read character by character\n",
    "    i=0\n",
    "    while i <10:\n",
    "        # read just 4 bytes = 4 characters\n",
    "        print(fi.read(2))\n",
    "        i+=1"
   ]
  },
  {
   "cell_type": "markdown",
   "metadata": {},
   "source": [
    "Finally the most common way to read a file, using a for loop!"
   ]
  },
  {
   "cell_type": "code",
   "execution_count": 80,
   "metadata": {
    "ExecuteTime": {
     "end_time": "2020-05-11T05:59:24.200722Z",
     "start_time": "2020-05-11T05:59:24.196126Z"
    }
   },
   "outputs": [
    {
     "name": "stdout",
     "output_type": "stream",
     "text": [
      "This is a test file for python revision 2.\n",
      "\n"
     ]
    }
   ],
   "source": [
    "with open(\"test_file.txt\",\"rt\") as fi:\n",
    "    i=0\n",
    "    for line in fi:\n",
    "        print(line)\n",
    "        if i==0:\n",
    "            break\n",
    "        i+=1"
   ]
  },
  {
   "cell_type": "markdown",
   "metadata": {},
   "source": [
    "### Writing to a file"
   ]
  },
  {
   "cell_type": "markdown",
   "metadata": {},
   "source": [
    "* The difference between reading and writing is just the **mode** and the methods! \\\n",
    "* With the \"w\" mode, ``open`` will open a file for writing.\n",
    "* If the file doesn't exit a new file will be created."
   ]
  },
  {
   "cell_type": "code",
   "execution_count": 84,
   "metadata": {
    "ExecuteTime": {
     "end_time": "2020-05-11T05:59:27.216417Z",
     "start_time": "2020-05-11T05:59:27.212445Z"
    }
   },
   "outputs": [],
   "source": [
    "with open(\"outfile.txt\",\"w\") as fo:\n",
    "    fo.write(\"Hello my name is Prateek\\n\")\n",
    "    fo.write(\"Unless we add \\n There is no \")\n",
    "    fo.write(\"automatic insertion of newline\")"
   ]
  },
  {
   "cell_type": "markdown",
   "metadata": {},
   "source": [
    "Now let's see what we wrote."
   ]
  },
  {
   "cell_type": "code",
   "execution_count": 85,
   "metadata": {
    "ExecuteTime": {
     "end_time": "2020-05-11T05:59:28.014836Z",
     "start_time": "2020-05-11T05:59:28.011568Z"
    }
   },
   "outputs": [
    {
     "name": "stdout",
     "output_type": "stream",
     "text": [
      "Hello my name is Prateek\n",
      "Unless we add \n",
      " There is no automatic insertion of newline\n"
     ]
    }
   ],
   "source": [
    "with open(\"outfile.txt\",\"r\") as fi:\n",
    "    print(fi.read())"
   ]
  },
  {
   "cell_type": "code",
   "execution_count": 86,
   "metadata": {
    "ExecuteTime": {
     "end_time": "2020-05-11T05:59:28.385798Z",
     "start_time": "2020-05-11T05:59:28.381544Z"
    }
   },
   "outputs": [
    {
     "name": "stdout",
     "output_type": "stream",
     "text": [
      "This will overwrite the original stuff.\n",
      "\n"
     ]
    }
   ],
   "source": [
    "with open(\"outfile.txt\",\"w\") as fo:\n",
    "    fo.write(\"This will overwrite the original stuff.\\n\")\n",
    "    \n",
    "with open(\"outfile.txt\",\"r\") as fi:\n",
    "    print(fi.read())"
   ]
  },
  {
   "cell_type": "markdown",
   "metadata": {},
   "source": [
    "* \"w\" mode deletes everything in the file when it opens it.\n",
    "* So what do we do, are we forced to write everything at one go?\n",
    "* Nope, we can use the \"a\" or append mode"
   ]
  },
  {
   "cell_type": "code",
   "execution_count": 87,
   "metadata": {
    "ExecuteTime": {
     "end_time": "2020-05-11T05:59:29.027282Z",
     "start_time": "2020-05-11T05:59:29.022935Z"
    }
   },
   "outputs": [
    {
     "name": "stdout",
     "output_type": "stream",
     "text": [
      "This will overwrite the original stuff.\n",
      "This will be added to the original stuff\n"
     ]
    }
   ],
   "source": [
    "with open(\"outfile.txt\",\"a\") as fo:\n",
    "    fo.write(\"This will be added to the original stuff\")\n",
    "\n",
    "with open(\"outfile.txt\",\"r\") as fi:\n",
    "    print(fi.read())"
   ]
  },
  {
   "cell_type": "markdown",
   "metadata": {},
   "source": [
    "* Mode matters! You can't use read() on a file opened with \"w\" or \"a\" mode.\n",
    "* You can't use write on a file opened with \"r\"."
   ]
  },
  {
   "cell_type": "code",
   "execution_count": 88,
   "metadata": {
    "ExecuteTime": {
     "end_time": "2020-05-11T05:59:31.931714Z",
     "start_time": "2020-05-11T05:59:31.925151Z"
    }
   },
   "outputs": [
    {
     "name": "stdout",
     "output_type": "stream",
     "text": [
      "10\n"
     ]
    }
   ],
   "source": [
    "with open(\"outfile\",\"w\") as fi:\n",
    "    print(fi.write(\"Won't work\"))"
   ]
  },
  {
   "cell_type": "markdown",
   "metadata": {},
   "source": [
    "# More on lists"
   ]
  },
  {
   "cell_type": "markdown",
   "metadata": {},
   "source": [
    "So you already know how to \n",
    "\n",
    "* create lists\n",
    "* index lists\n",
    "* slice lists\n",
    "* update value at an index of a list\n",
    "\n",
    "Here's some more important stuff"
   ]
  },
  {
   "cell_type": "markdown",
   "metadata": {},
   "source": [
    "### Appending to lists"
   ]
  },
  {
   "cell_type": "code",
   "execution_count": 89,
   "metadata": {
    "ExecuteTime": {
     "end_time": "2020-05-11T05:59:36.509264Z",
     "start_time": "2020-05-11T05:59:36.505404Z"
    }
   },
   "outputs": [
    {
     "name": "stdout",
     "output_type": "stream",
     "text": [
      "['__add__', '__class__', '__contains__', '__delattr__', '__delitem__', '__dir__', '__doc__', '__eq__', '__format__', '__ge__', '__getattribute__', '__getitem__', '__gt__', '__hash__', '__iadd__', '__imul__', '__init__', '__init_subclass__', '__iter__', '__le__', '__len__', '__lt__', '__mul__', '__ne__', '__new__', '__reduce__', '__reduce_ex__', '__repr__', '__reversed__', '__rmul__', '__setattr__', '__setitem__', '__sizeof__', '__str__', '__subclasshook__', 'append', 'clear', 'copy', 'count', 'extend', 'index', 'insert', 'pop', 'remove', 'reverse', 'sort']\n"
     ]
    }
   ],
   "source": [
    "empty_list=[]\n",
    "print(dir(empty_list))"
   ]
  },
  {
   "cell_type": "code",
   "execution_count": 90,
   "metadata": {},
   "outputs": [
    {
     "name": "stdout",
     "output_type": "stream",
     "text": [
      "[]\n",
      "[2, 3.0, 'first']\n"
     ]
    }
   ],
   "source": [
    "print(empty_list)\n",
    "\n",
    "empty_list.append(2)\n",
    "empty_list.append(3.0)\n",
    "empty_list.append(\"first\")\n",
    "print(empty_list)"
   ]
  },
  {
   "cell_type": "markdown",
   "metadata": {},
   "source": [
    "### Concatenating lists"
   ]
  },
  {
   "cell_type": "markdown",
   "metadata": {},
   "source": [
    "You can add 2 (or more) lists together, and they are concatenated just like strings."
   ]
  },
  {
   "cell_type": "code",
   "execution_count": 92,
   "metadata": {
    "ExecuteTime": {
     "end_time": "2020-05-11T05:59:37.241023Z",
     "start_time": "2020-05-11T05:59:37.237586Z"
    },
    "scrolled": true
   },
   "outputs": [
    {
     "name": "stdout",
     "output_type": "stream",
     "text": [
      "[25, 27, 28, 2, 5, 1, 25, 27, 28, 25, 27, 28]\n"
     ]
    }
   ],
   "source": [
    "l1=[25, 27, 28] \n",
    "l2=[2,5,1]\n",
    "print(l1+l2+l1+l1)"
   ]
  },
  {
   "cell_type": "markdown",
   "metadata": {},
   "source": [
    "You can even multiply lists!"
   ]
  },
  {
   "cell_type": "code",
   "execution_count": 93,
   "metadata": {
    "ExecuteTime": {
     "end_time": "2020-05-11T05:59:37.597230Z",
     "start_time": "2020-05-11T05:59:37.594194Z"
    },
    "scrolled": true
   },
   "outputs": [
    {
     "name": "stdout",
     "output_type": "stream",
     "text": [
      "[25, 27, 28, 25, 27, 28, 25, 27, 28]\n"
     ]
    }
   ],
   "source": [
    "l3=l1*3   # Equivalent to l3 = l1 + l1 + l1\n",
    "print(l3)"
   ]
  },
  {
   "cell_type": "markdown",
   "metadata": {},
   "source": [
    "But I wanted to show you this because it doesn't exactly work as expected..."
   ]
  },
  {
   "cell_type": "code",
   "execution_count": 98,
   "metadata": {
    "ExecuteTime": {
     "end_time": "2020-05-11T05:59:37.940777Z",
     "start_time": "2020-05-11T05:59:37.936495Z"
    }
   },
   "outputs": [
    {
     "name": "stdout",
     "output_type": "stream",
     "text": [
      "[[22, 33], 12, [22], [22, 33], 12, [22], [22, 33], 12, [22]]\n",
      "[[11, 33], 12, [22]]\n",
      "[[11, 33], 12, [22], [11, 33], 12, [22], [11, 33], 12, [22]]\n"
     ]
    }
   ],
   "source": [
    "x=[[22,33],12,[22]]\n",
    "y=x*3\n",
    "print(y)\n",
    "x[0][0]=11\n",
    "print(x)\n",
    "print(y)"
   ]
  },
  {
   "cell_type": "code",
   "execution_count": 99,
   "metadata": {
    "ExecuteTime": {
     "end_time": "2020-05-11T05:59:38.126623Z",
     "start_time": "2020-05-11T05:59:38.122731Z"
    }
   },
   "outputs": [
    {
     "name": "stdout",
     "output_type": "stream",
     "text": [
      "[[11, 33], 12, [22]]\n",
      "[[11, 33], 12, [22]]\n"
     ]
    }
   ],
   "source": [
    "y1 = x.copy()\n",
    "print(y1)\n",
    "x[0] = 1\n",
    "print(y1)"
   ]
  },
  {
   "cell_type": "markdown",
   "metadata": {
    "ExecuteTime": {
     "end_time": "2020-05-06T15:22:46.894608Z",
     "start_time": "2020-05-06T15:22:46.891971Z"
    }
   },
   "source": [
    "You can even do this..."
   ]
  },
  {
   "cell_type": "code",
   "execution_count": 100,
   "metadata": {
    "ExecuteTime": {
     "end_time": "2020-05-11T05:59:38.485704Z",
     "start_time": "2020-05-11T05:59:38.482198Z"
    }
   },
   "outputs": [
    {
     "name": "stdout",
     "output_type": "stream",
     "text": [
      "[99, 4]\n",
      "[99, 4, 'h', 'e', 'l', 'l', 'o']\n"
     ]
    }
   ],
   "source": [
    "x=[99,4]\n",
    "print(x)\n",
    "x+=\"hello\" # x = x + [h,e,l,l,o]\n",
    "print(x)"
   ]
  },
  {
   "cell_type": "markdown",
   "metadata": {},
   "source": [
    "* Why? I'll leave that answer to you \n",
    "* hint: Why can you use for loop for both strings and lists?"
   ]
  },
  {
   "cell_type": "markdown",
   "metadata": {},
   "source": [
    "### How to delete an item?"
   ]
  },
  {
   "cell_type": "code",
   "execution_count": 104,
   "metadata": {
    "ExecuteTime": {
     "end_time": "2020-05-11T05:59:39.023499Z",
     "start_time": "2020-05-11T05:59:39.018922Z"
    }
   },
   "outputs": [
    {
     "name": "stdout",
     "output_type": "stream",
     "text": [
      "[9, 5, 6, 8, 2, 44, 1, 9]\n",
      "[5, 6, 8, 2, 44, 1]\n",
      "[9, 6, 8, 2, 44, 1]\n",
      "[9, 6, 8, 2, 44, 1]\n"
     ]
    }
   ],
   "source": [
    "# remove a function included in list class\n",
    "# del, an inbuilt python function to delete objects i.e. variables, list, parts of list, every object.\n",
    "x=[9,5,6,8,2,44,1, 9]\n",
    "print(x)\n",
    "x.remove(9)\n",
    "x.remove(9)\n",
    "print(x)\n",
    "x=[9,5,6,8,2,44,1]\n",
    "del x[1]\n",
    "print(x)\n",
    "x=[9,5,6,8,2,44,1]\n",
    "del x[1:2]\n",
    "print(x)"
   ]
  },
  {
   "cell_type": "markdown",
   "metadata": {},
   "source": [
    "### Note on operators (Advanced)"
   ]
  },
  {
   "cell_type": "markdown",
   "metadata": {},
   "source": [
    "* You might have seen that a list has a + operator and a * operator, and oh, this must be how lists are.\n",
    "* Nope! It's all defined somewhere. The creators wanted lists to behave this way.\n",
    "* In fact, operators like + are implemented as **methods** on the class they work on.\n",
    "* Try looking at the objects using ``dir`` and guessing which methods implement the operators."
   ]
  },
  {
   "cell_type": "code",
   "execution_count": 107,
   "metadata": {
    "ExecuteTime": {
     "end_time": "2020-05-11T05:59:39.584754Z",
     "start_time": "2020-05-11T05:59:39.581017Z"
    }
   },
   "outputs": [
    {
     "name": "stdout",
     "output_type": "stream",
     "text": [
      "[44, 22]\n",
      "[44, 22]\n",
      "[44, 22]\n"
     ]
    }
   ],
   "source": [
    "x=[44]\n",
    "x=x.__add__([22])  # x = x + [22]\n",
    "print(x)\n",
    "\n",
    "x=[44]\n",
    "x=x+[22]\n",
    "print(x)\n",
    "\n",
    "x=[44]\n",
    "x=x+[22]\n",
    "print(x)"
   ]
  },
  {
   "cell_type": "markdown",
   "metadata": {},
   "source": [
    "# Other datastructures in Python"
   ]
  },
  {
   "cell_type": "markdown",
   "metadata": {},
   "source": [
    "### Sets"
   ]
  },
  {
   "cell_type": "markdown",
   "metadata": {
    "ExecuteTime": {
     "end_time": "2020-05-06T16:30:53.029951Z",
     "start_time": "2020-05-06T16:30:53.025780Z"
    }
   },
   "source": [
    "Let's look at sets.\n",
    "\n",
    "* Sets are like lists - they are collections of items.\n",
    "* But there is no order.\n",
    "* And there can be just one copy of each item.\n",
    "* Just like mathematical sets!"
   ]
  },
  {
   "cell_type": "code",
   "execution_count": 109,
   "metadata": {
    "ExecuteTime": {
     "end_time": "2020-05-11T05:59:40.357015Z",
     "start_time": "2020-05-11T05:59:40.353911Z"
    }
   },
   "outputs": [
    {
     "name": "stdout",
     "output_type": "stream",
     "text": [
      "{1, 2, 6, 7}\n"
     ]
    }
   ],
   "source": [
    "# create a set from scratch  [] {}\n",
    "x = {1, 2, 6, 7, 2, 7, 6}\n",
    "print(x)"
   ]
  },
  {
   "cell_type": "code",
   "execution_count": 111,
   "metadata": {
    "ExecuteTime": {
     "end_time": "2020-05-11T05:59:40.555575Z",
     "start_time": "2020-05-11T05:59:40.552312Z"
    }
   },
   "outputs": [
    {
     "name": "stdout",
     "output_type": "stream",
     "text": [
      "[1, 2, 3, 1, 1, 13, 4]\n",
      "{1, 2, 3, 4, 13}\n"
     ]
    }
   ],
   "source": [
    "# from a list\n",
    "y_list = [1,2,3,1,1,13,4]\n",
    "print(y_list)\n",
    "print(set(y_list))"
   ]
  },
  {
   "cell_type": "markdown",
   "metadata": {},
   "source": [
    "* You can do interesting operations on sets"
   ]
  },
  {
   "cell_type": "code",
   "execution_count": 113,
   "metadata": {
    "ExecuteTime": {
     "end_time": "2020-05-11T05:59:40.939918Z",
     "start_time": "2020-05-11T05:59:40.937103Z"
    }
   },
   "outputs": [],
   "source": [
    "x1={1,2,3,4,5,6}\n",
    "x2={2,4,6,8}"
   ]
  },
  {
   "cell_type": "markdown",
   "metadata": {},
   "source": [
    "* Union"
   ]
  },
  {
   "cell_type": "code",
   "execution_count": 114,
   "metadata": {
    "ExecuteTime": {
     "end_time": "2020-05-11T05:59:41.284701Z",
     "start_time": "2020-05-11T05:59:41.281590Z"
    }
   },
   "outputs": [
    {
     "name": "stdout",
     "output_type": "stream",
     "text": [
      "{1, 2, 3, 4, 5, 6, 8}\n"
     ]
    }
   ],
   "source": [
    "# Read as x1 or x2\n",
    "print(x1 | x2)  "
   ]
  },
  {
   "cell_type": "markdown",
   "metadata": {},
   "source": [
    "* Intersection"
   ]
  },
  {
   "cell_type": "code",
   "execution_count": 115,
   "metadata": {
    "ExecuteTime": {
     "end_time": "2020-05-11T05:59:41.635320Z",
     "start_time": "2020-05-11T05:59:41.632323Z"
    }
   },
   "outputs": [
    {
     "name": "stdout",
     "output_type": "stream",
     "text": [
      "{2, 4, 6}\n"
     ]
    }
   ],
   "source": [
    "# Read as x1 and x2\n",
    "print(x1 & x2)  "
   ]
  },
  {
   "cell_type": "markdown",
   "metadata": {},
   "source": [
    "* Set Difference ( Remove elements in x2 from x1)"
   ]
  },
  {
   "cell_type": "code",
   "execution_count": 119,
   "metadata": {
    "ExecuteTime": {
     "end_time": "2020-05-11T05:59:42.002870Z",
     "start_time": "2020-05-11T05:59:42.000140Z"
    }
   },
   "outputs": [
    {
     "name": "stdout",
     "output_type": "stream",
     "text": [
      "{8}\n",
      "{1, 3, 5}\n"
     ]
    }
   ],
   "source": [
    "# Read as x1 minus x2\n",
    "print(x2 - x1)  \n",
    "print(x1 - x2)"
   ]
  },
  {
   "cell_type": "markdown",
   "metadata": {},
   "source": [
    "* Check for membership"
   ]
  },
  {
   "cell_type": "code",
   "execution_count": 122,
   "metadata": {
    "ExecuteTime": {
     "end_time": "2020-05-11T05:59:42.392964Z",
     "start_time": "2020-05-11T05:59:42.389287Z"
    }
   },
   "outputs": [
    {
     "name": "stdout",
     "output_type": "stream",
     "text": [
      "True\n",
      "True\n",
      "True\n"
     ]
    }
   ],
   "source": [
    "myset={1,2,4,6,7}\n",
    "print(1 in myset)\n",
    "print(2 in myset)\n",
    "print(8 not in myset)"
   ]
  },
  {
   "cell_type": "markdown",
   "metadata": {},
   "source": [
    "* You can convert from a set to a list by calling the ``list()`` constructor."
   ]
  },
  {
   "cell_type": "code",
   "execution_count": 60,
   "metadata": {
    "ExecuteTime": {
     "end_time": "2020-05-11T05:59:42.772396Z",
     "start_time": "2020-05-11T05:59:42.769180Z"
    }
   },
   "outputs": [
    {
     "name": "stdout",
     "output_type": "stream",
     "text": [
      "{1, 2, 3, 4, 5, 6}\n",
      "[1, 2, 3, 4, 5, 6]\n"
     ]
    }
   ],
   "source": [
    "print(x1)\n",
    "x1_list = list(x1)\n",
    "print(x1_list)"
   ]
  },
  {
   "cell_type": "markdown",
   "metadata": {},
   "source": [
    "* You can loop through a set using a for loop.\n",
    "* But **remember the order of the set is not guaranteed**"
   ]
  },
  {
   "cell_type": "code",
   "execution_count": 125,
   "metadata": {
    "ExecuteTime": {
     "end_time": "2020-05-11T05:59:43.159254Z",
     "start_time": "2020-05-11T05:59:43.155264Z"
    }
   },
   "outputs": [
    {
     "name": "stdout",
     "output_type": "stream",
     "text": [
      "1\n",
      "3\n",
      "5\n",
      "abc\n",
      "6\n"
     ]
    }
   ],
   "source": [
    "# sets can have heterogeneous elements too\n",
    "myset={\"abc\",1,1.0,3,3,3,5,6,\"abc\"}\n",
    "for element in myset:\n",
    "    print(element)"
   ]
  },
  {
   "cell_type": "markdown",
   "metadata": {},
   "source": [
    "### Tuples"
   ]
  },
  {
   "cell_type": "markdown",
   "metadata": {},
   "source": [
    "* Tuples are an ordered collection of objects. \n",
    "* They are immutable - they can't be changed. \n",
    "* Once created, they can't be changed"
   ]
  },
  {
   "cell_type": "code",
   "execution_count": 126,
   "metadata": {
    "ExecuteTime": {
     "end_time": "2020-05-11T05:59:43.741376Z",
     "start_time": "2020-05-11T05:59:43.737771Z"
    }
   },
   "outputs": [
    {
     "name": "stdout",
     "output_type": "stream",
     "text": [
      "(1, 2, 4, 5)\n",
      "4\n",
      "(4, 5)\n"
     ]
    }
   ],
   "source": [
    "x=(1,2,4,5)\n",
    "print(x)\n",
    "# you can index tuples\n",
    "print(x[2])\n",
    "# you can slice tuples\n",
    "print(x[2:4])"
   ]
  },
  {
   "cell_type": "code",
   "execution_count": 128,
   "metadata": {
    "ExecuteTime": {
     "end_time": "2020-05-11T05:59:43.932716Z",
     "start_time": "2020-05-11T05:59:43.926548Z"
    }
   },
   "outputs": [
    {
     "ename": "TypeError",
     "evalue": "'tuple' object does not support item assignment",
     "output_type": "error",
     "traceback": [
      "\u001b[0;31m---------------------------------------------------------------------------\u001b[0m",
      "\u001b[0;31mTypeError\u001b[0m                                 Traceback (most recent call last)",
      "\u001b[0;32m<ipython-input-128-8ce09a9675a1>\u001b[0m in \u001b[0;36m<module>\u001b[0;34m\u001b[0m\n\u001b[1;32m      1\u001b[0m \u001b[0;31m# you can't change tuples\u001b[0m\u001b[0;34m\u001b[0m\u001b[0;34m\u001b[0m\u001b[0;34m\u001b[0m\u001b[0m\n\u001b[0;32m----> 2\u001b[0;31m \u001b[0mx\u001b[0m\u001b[0;34m[\u001b[0m\u001b[0;36m0\u001b[0m\u001b[0;34m]\u001b[0m\u001b[0;34m=\u001b[0m\u001b[0;36m2\u001b[0m\u001b[0;34m\u001b[0m\u001b[0;34m\u001b[0m\u001b[0m\n\u001b[0m",
      "\u001b[0;31mTypeError\u001b[0m: 'tuple' object does not support item assignment"
     ]
    }
   ],
   "source": [
    "# you can't change tuples\n",
    "x[0]=2"
   ]
  },
  {
   "cell_type": "markdown",
   "metadata": {},
   "source": [
    "* Remember you saw tuples in the functions section?\n",
    "* If they are multiple return values they are packed into a tuple first."
   ]
  },
  {
   "cell_type": "code",
   "execution_count": 129,
   "metadata": {
    "ExecuteTime": {
     "end_time": "2020-05-11T05:59:44.318255Z",
     "start_time": "2020-05-11T05:59:44.314760Z"
    }
   },
   "outputs": [
    {
     "name": "stdout",
     "output_type": "stream",
     "text": [
      "('J', 'W', 'L')\n"
     ]
    }
   ],
   "source": [
    "def return_initials(first_name,middle_name,last_name):\n",
    "    return first_name[0],middle_name[0],last_name[0]\n",
    "\n",
    "print(return_initials(\"John\",\"Winston\",\"Lennon\"))"
   ]
  },
  {
   "cell_type": "code",
   "execution_count": 130,
   "metadata": {
    "ExecuteTime": {
     "end_time": "2020-05-11T05:59:44.517811Z",
     "start_time": "2020-05-11T05:59:44.514396Z"
    }
   },
   "outputs": [
    {
     "name": "stdout",
     "output_type": "stream",
     "text": [
      "(1, 2, 4, 5)\n",
      "1\n",
      "2\n",
      "4\n",
      "5\n"
     ]
    }
   ],
   "source": [
    "# You can also apply for loop on tuples\n",
    "print(x)\n",
    "for el in x:\n",
    "    print(el)"
   ]
  },
  {
   "cell_type": "markdown",
   "metadata": {},
   "source": [
    "### Dictionaries"
   ]
  },
  {
   "cell_type": "markdown",
   "metadata": {},
   "source": [
    "* After lists, dictionaries are **the most important pythonic datastructure!**\n",
    "* Dictionaries are maps from **key** to **value**."
   ]
  },
  {
   "cell_type": "code",
   "execution_count": 131,
   "metadata": {
    "ExecuteTime": {
     "end_time": "2020-05-11T05:59:45.241609Z",
     "start_time": "2020-05-11T05:59:45.238794Z"
    }
   },
   "outputs": [],
   "source": [
    "student_ages={ \"Jibran\" : 24,\n",
    "                \"Maria\" : 22,\n",
    "                \"Kaustav\" : 23,\n",
    "                \"Somali\": 22,\n",
    "                \"Devika\": 25,\n",
    "                \"Jibran\": 21\n",
    "               }"
   ]
  },
  {
   "cell_type": "markdown",
   "metadata": {},
   "source": [
    "* Keys are **unique**, you can't add more than one value for a key.\n",
    "* You can see the unique keys in a dictionary by calling the ``keys()`` method.\n",
    "* Note that ``keys()`` does not return a list!"
   ]
  },
  {
   "cell_type": "code",
   "execution_count": 132,
   "metadata": {},
   "outputs": [
    {
     "data": {
      "text/plain": [
       "['__class__',\n",
       " '__contains__',\n",
       " '__delattr__',\n",
       " '__delitem__',\n",
       " '__dir__',\n",
       " '__doc__',\n",
       " '__eq__',\n",
       " '__format__',\n",
       " '__ge__',\n",
       " '__getattribute__',\n",
       " '__getitem__',\n",
       " '__gt__',\n",
       " '__hash__',\n",
       " '__init__',\n",
       " '__init_subclass__',\n",
       " '__iter__',\n",
       " '__le__',\n",
       " '__len__',\n",
       " '__lt__',\n",
       " '__ne__',\n",
       " '__new__',\n",
       " '__reduce__',\n",
       " '__reduce_ex__',\n",
       " '__repr__',\n",
       " '__reversed__',\n",
       " '__setattr__',\n",
       " '__setitem__',\n",
       " '__sizeof__',\n",
       " '__str__',\n",
       " '__subclasshook__',\n",
       " 'clear',\n",
       " 'copy',\n",
       " 'fromkeys',\n",
       " 'get',\n",
       " 'items',\n",
       " 'keys',\n",
       " 'pop',\n",
       " 'popitem',\n",
       " 'setdefault',\n",
       " 'update',\n",
       " 'values']"
      ]
     },
     "execution_count": 132,
     "metadata": {},
     "output_type": "execute_result"
    }
   ],
   "source": [
    "dir(student_ages)"
   ]
  },
  {
   "cell_type": "code",
   "execution_count": 133,
   "metadata": {
    "ExecuteTime": {
     "end_time": "2020-05-11T05:59:45.698579Z",
     "start_time": "2020-05-11T05:59:45.695125Z"
    }
   },
   "outputs": [
    {
     "name": "stdout",
     "output_type": "stream",
     "text": [
      "dict_keys(['Jibran', 'Maria', 'Kaustav', 'Somali', 'Devika'])\n",
      "['Jibran', 'Maria', 'Kaustav', 'Somali', 'Devika']\n",
      "[21, 22, 23, 22, 25]\n"
     ]
    }
   ],
   "source": [
    "print(student_ages.keys())\n",
    "# keys() is not a list, but you can convert it to one\n",
    "print(list(student_ages.keys()))\n",
    "print(list(student_ages.values()))"
   ]
  },
  {
   "cell_type": "markdown",
   "metadata": {},
   "source": [
    "You can **read and update** the value of a key by indexing the dictionary"
   ]
  },
  {
   "cell_type": "code",
   "execution_count": 135,
   "metadata": {
    "ExecuteTime": {
     "end_time": "2020-05-11T05:59:46.080174Z",
     "start_time": "2020-05-11T05:59:46.076712Z"
    }
   },
   "outputs": [
    {
     "name": "stdout",
     "output_type": "stream",
     "text": [
      "48\n",
      "{'Jibran': 48, 'Maria': 22, 'Kaustav': 23, 'Somali': 22, 'Devika': 25, 'prateek': 23}\n",
      "{'Jibran': 48, 'Maria': 22, 'Kaustav': 23, 'Somali': 22, 'Devika': 25, 'prateek': 23}\n"
     ]
    }
   ],
   "source": [
    "# The first value got overwritten.\n",
    "print(student_ages[\"Jibran\"])\n",
    "student_ages[\"Jibran\"]=48\n",
    "print(student_ages)\n",
    "student_ages[\"prateek\"] = 23\n",
    "print(student_ages)"
   ]
  },
  {
   "cell_type": "code",
   "execution_count": 136,
   "metadata": {
    "ExecuteTime": {
     "end_time": "2020-05-11T05:59:46.500082Z",
     "start_time": "2020-05-11T05:59:46.497356Z"
    }
   },
   "outputs": [
    {
     "name": "stdout",
     "output_type": "stream",
     "text": [
      "{'Jibran': 48, 'Maria': 22, 'Kaustav': 23, 'Somali': 22, 'Devika': 25, 'prateek': 23, 'Shubham': 27}\n"
     ]
    }
   ],
   "source": [
    "# You can add a new key just by indexing and assigning a value\n",
    "student_ages[\"Shubham\"]=27\n",
    "print(student_ages)"
   ]
  },
  {
   "cell_type": "markdown",
   "metadata": {},
   "source": [
    "You can check for membership (w.r.t keys)"
   ]
  },
  {
   "cell_type": "code",
   "execution_count": 140,
   "metadata": {
    "ExecuteTime": {
     "end_time": "2020-05-11T05:59:46.903346Z",
     "start_time": "2020-05-11T05:59:46.900340Z"
    }
   },
   "outputs": [
    {
     "name": "stdout",
     "output_type": "stream",
     "text": [
      "True\n",
      "False\n"
     ]
    }
   ],
   "source": [
    "print(\"Jibran\" in student_ages)\n",
    "print(408 in student_ages.values())"
   ]
  },
  {
   "cell_type": "markdown",
   "metadata": {},
   "source": [
    "* You can also loop through a dictionary\n",
    "* But the values that are returned are **keys** not values."
   ]
  },
  {
   "cell_type": "code",
   "execution_count": 141,
   "metadata": {},
   "outputs": [
    {
     "name": "stdout",
     "output_type": "stream",
     "text": [
      "23\n"
     ]
    }
   ],
   "source": [
    "print(student_ages['prateek'])"
   ]
  },
  {
   "cell_type": "code",
   "execution_count": 142,
   "metadata": {
    "ExecuteTime": {
     "end_time": "2020-05-11T05:59:47.304943Z",
     "start_time": "2020-05-11T05:59:47.300507Z"
    }
   },
   "outputs": [
    {
     "name": "stdout",
     "output_type": "stream",
     "text": [
      "Jibran 48\n",
      "Maria 22\n",
      "Kaustav 23\n",
      "Somali 22\n",
      "Devika 25\n",
      "prateek 23\n",
      "Shubham 27\n"
     ]
    }
   ],
   "source": [
    "for key in student_ages:\n",
    "    print(key,student_ages[key])"
   ]
  },
  {
   "cell_type": "markdown",
   "metadata": {},
   "source": [
    "* The keys and values can all be heterogeneous. Anything goes!"
   ]
  },
  {
   "cell_type": "code",
   "execution_count": 143,
   "metadata": {
    "ExecuteTime": {
     "end_time": "2020-05-11T05:59:47.692303Z",
     "start_time": "2020-05-11T05:59:47.688380Z"
    }
   },
   "outputs": [
    {
     "name": "stdout",
     "output_type": "stream",
     "text": [
      "{'key1': [1, 2, 4, 6], 10: {'hello': True, 1.2: 'watsup'}, (1, 2): 'tuples'}\n"
     ]
    }
   ],
   "source": [
    "chaos = { # list within dictionary\n",
    "        \"key1\" : [1,2,4,6],\n",
    "         # dictionary within dictionary\n",
    "           10: {\"hello\":True,1.2 : \"watsup\"},\n",
    "        # tuples\n",
    "        (1,2) : \"tuples\"\n",
    "        }\n",
    "print(chaos)"
   ]
  },
  {
   "cell_type": "markdown",
   "metadata": {},
   "source": [
    "Well, almost anything... "
   ]
  },
  {
   "cell_type": "code",
   "execution_count": 78,
   "metadata": {
    "ExecuteTime": {
     "end_time": "2020-05-11T05:59:48.070652Z",
     "start_time": "2020-05-11T05:59:48.064318Z"
    }
   },
   "outputs": [
    {
     "name": "stdout",
     "output_type": "stream",
     "text": [
      "dict_keys(['key1', 10, (1, 2), '[21]'])\n"
     ]
    },
    {
     "ename": "TypeError",
     "evalue": "unhashable type: 'list'",
     "output_type": "error",
     "traceback": [
      "\u001b[0;31m---------------------------------------------------------------------------\u001b[0m",
      "\u001b[0;31mTypeError\u001b[0m                                 Traceback (most recent call last)",
      "\u001b[0;32m<ipython-input-78-043cb38cb96a>\u001b[0m in \u001b[0;36m<module>\u001b[0;34m\u001b[0m\n\u001b[1;32m      1\u001b[0m \u001b[0mprint\u001b[0m\u001b[0;34m(\u001b[0m\u001b[0mchaos\u001b[0m\u001b[0;34m.\u001b[0m\u001b[0mkeys\u001b[0m\u001b[0;34m(\u001b[0m\u001b[0;34m)\u001b[0m\u001b[0;34m)\u001b[0m\u001b[0;34m\u001b[0m\u001b[0;34m\u001b[0m\u001b[0m\n\u001b[1;32m      2\u001b[0m \u001b[0;34m\u001b[0m\u001b[0m\n\u001b[0;32m----> 3\u001b[0;31m \u001b[0mchaos\u001b[0m\u001b[0;34m[\u001b[0m\u001b[0;34m[\u001b[0m\u001b[0;36m21\u001b[0m\u001b[0;34m]\u001b[0m\u001b[0;34m]\u001b[0m\u001b[0;34m=\u001b[0m\u001b[0;34m\"Will this work?\"\u001b[0m\u001b[0;34m\u001b[0m\u001b[0;34m\u001b[0m\u001b[0m\n\u001b[0m",
      "\u001b[0;31mTypeError\u001b[0m: unhashable type: 'list'"
     ]
    }
   ],
   "source": [
    "print(chaos.keys())\n",
    "\n",
    "chaos[[21]]=\"Will this work?\""
   ]
  },
  {
   "cell_type": "code",
   "execution_count": 82,
   "metadata": {
    "ExecuteTime": {
     "end_time": "2020-05-11T05:59:48.272320Z",
     "start_time": "2020-05-11T05:59:48.266173Z"
    }
   },
   "outputs": [
    {
     "ename": "TypeError",
     "evalue": "unhashable type: 'dict'",
     "output_type": "error",
     "traceback": [
      "\u001b[0;31m---------------------------------------------------------------------------\u001b[0m",
      "\u001b[0;31mTypeError\u001b[0m                                 Traceback (most recent call last)",
      "\u001b[0;32m<ipython-input-82-05b5e972d101>\u001b[0m in \u001b[0;36m<module>\u001b[0;34m\u001b[0m\n\u001b[0;32m----> 1\u001b[0;31m \u001b[0mchaos\u001b[0m\u001b[0;34m[\u001b[0m\u001b[0;34m{\u001b[0m\u001b[0;36m21\u001b[0m\u001b[0;34m:\u001b[0m\u001b[0;34m\"hello\"\u001b[0m\u001b[0;34m}\u001b[0m\u001b[0;34m]\u001b[0m\u001b[0;34m=\u001b[0m\u001b[0;34m\"Will this work?\"\u001b[0m\u001b[0;34m\u001b[0m\u001b[0;34m\u001b[0m\u001b[0m\n\u001b[0m",
      "\u001b[0;31mTypeError\u001b[0m: unhashable type: 'dict'"
     ]
    }
   ],
   "source": [
    "chaos[{21:\"hello\"}]=\"Will this work?\""
   ]
  },
  {
   "cell_type": "markdown",
   "metadata": {},
   "source": [
    "* The reason has to do with mutability and its relationship with hashing. You can read [this StackOverflow post](https://stackoverflow.com/questions/42203673/in-python-why-is-a-tuple-hashable-but-not-a-list) for more on this.\n",
    "* For now, to be safe, just stick to using Numbers, Booleans, Strings and Tuples as keys for your dictionary.\n",
    "* Any value is safe as a value."
   ]
  },
  {
   "cell_type": "markdown",
   "metadata": {},
   "source": [
    "### Example : Representing data with lists and dictionaries"
   ]
  },
  {
   "cell_type": "markdown",
   "metadata": {
    "ExecuteTime": {
     "end_time": "2020-05-06T16:59:30.544817Z",
     "start_time": "2020-05-06T16:59:30.541248Z"
    }
   },
   "source": [
    "**With lists and dictionaries, you can represent PRACTICALLY ANY TYPE OF DATA**"
   ]
  },
  {
   "cell_type": "code",
   "execution_count": 144,
   "metadata": {
    "ExecuteTime": {
     "end_time": "2020-05-11T05:59:49.126331Z",
     "start_time": "2020-05-11T05:59:49.121740Z"
    }
   },
   "outputs": [],
   "source": [
    "family = {\n",
    "    \n",
    "    \"father\" : {\n",
    "        \"name\" : \"Joseph D'Souza\",\n",
    "        \"age\": 55,\n",
    "        \"hobbies\": [\"cricket\",\"tabla\"],\n",
    "        \"employed\":True\n",
    "        \n",
    "    },\n",
    "    \"mother\" : {\n",
    "        \"name\" : \"Mary D'Souza\",\n",
    "        \"age\": 50,\n",
    "        \"hobbies\": [\"guitar\",\"tennis\"],\n",
    "        \"employed\":True\n",
    "    },\n",
    "    \"children\": [\n",
    "        {\n",
    "            \"name\" : \"Mary D'Souza\",\n",
    "            \"age\": 22,\n",
    "            \"gender\" : \"female\",\n",
    "            \"hobbies\": [\"guitar\",\"drums\"],\n",
    "            \"employed\":True\n",
    "        },\n",
    "         {\n",
    "            \"name\" : \"Aron D'Souza\",\n",
    "            \"age\": 15,\n",
    "            \"gender\" : \"male\",\n",
    "            \"hobbies\": [\"sketching\",\"swimming\"],\n",
    "            \"employed\":False\n",
    "        }\n",
    "    ],\n",
    "    \"home_address\": \"Lumbini Avenue, Gachibowli, Hyderabad\"\n",
    "}"
   ]
  },
  {
   "cell_type": "code",
   "execution_count": 152,
   "metadata": {},
   "outputs": [
    {
     "name": "stdout",
     "output_type": "stream",
     "text": [
      "{'name': \"Joseph D'Souza\", 'age': 55, 'hobbies': ['cricket', 'tabla'], 'employed': True}\n",
      "<class 'dict'>\n",
      "Joseph D'Souza\n",
      "Mary D'Souza\n",
      "Mary D'Souza\n"
     ]
    }
   ],
   "source": [
    "print(family['father'])\n",
    "print(type(family['father']))\n",
    "print(family['father']['name'])\n",
    "print(family['mother']['name'])\n",
    "print(family['children'][0]['name'])"
   ]
  },
  {
   "cell_type": "markdown",
   "metadata": {},
   "source": [
    "* People coming from Javascript, might find this combination of dictionaries and lists to be similar to JSON - JavaScript Object Notation."
   ]
  },
  {
   "cell_type": "markdown",
   "metadata": {},
   "source": [
    "# More on for loops"
   ]
  },
  {
   "cell_type": "markdown",
   "metadata": {},
   "source": [
    "* Last time we saw the for loop, you didn't know about functions so we couldn't introduce two important functions."
   ]
  },
  {
   "cell_type": "code",
   "execution_count": 154,
   "metadata": {},
   "outputs": [
    {
     "name": "stdout",
     "output_type": "stream",
     "text": [
      "[0, 1, 2, 3, 4, 5, 6, 7, 8, 9]\n",
      "[0, 2, 4, 6, 8, 10]\n"
     ]
    }
   ],
   "source": [
    "# The range() function returns a sequence of numbers, \n",
    "# starting from 0 by default, and increments by 1 (by default), \n",
    "# and stops before a specified number.\n",
    "\n",
    "# range(start, stop, step)\n",
    "print(list(range(0,10)))\n",
    "print(list(range(0,11, 2)))"
   ]
  },
  {
   "cell_type": "code",
   "execution_count": 155,
   "metadata": {
    "ExecuteTime": {
     "end_time": "2020-05-11T05:59:50.624131Z",
     "start_time": "2020-05-11T05:59:50.621204Z"
    }
   },
   "outputs": [
    {
     "name": "stdout",
     "output_type": "stream",
     "text": [
      "2\n",
      "3\n",
      "4\n"
     ]
    }
   ],
   "source": [
    "for i in range(2,5):\n",
    "    print(i)"
   ]
  },
  {
   "cell_type": "code",
   "execution_count": 156,
   "metadata": {
    "ExecuteTime": {
     "end_time": "2020-05-11T05:59:50.869430Z",
     "start_time": "2020-05-11T05:59:50.866564Z"
    }
   },
   "outputs": [
    {
     "name": "stdout",
     "output_type": "stream",
     "text": [
      "2\n",
      "4\n",
      "6\n",
      "8\n"
     ]
    }
   ],
   "source": [
    "for i in range(2,10,2):\n",
    "    print(i)"
   ]
  },
  {
   "cell_type": "code",
   "execution_count": 157,
   "metadata": {
    "ExecuteTime": {
     "end_time": "2020-05-11T05:59:51.070224Z",
     "start_time": "2020-05-11T05:59:51.067174Z"
    }
   },
   "outputs": [
    {
     "name": "stdout",
     "output_type": "stream",
     "text": [
      "<class 'type'>\n",
      "range(0, 10)\n",
      "[0, 1, 2, 3, 4, 5, 6, 7, 8, 9]\n"
     ]
    }
   ],
   "source": [
    "# range is an iterable, but not a list.\n",
    "print(type(range))\n",
    "print(range(0,10))\n",
    "# Note :  you can use range to create a list though\n",
    "print(list(range(0,10)))"
   ]
  },
  {
   "cell_type": "code",
   "execution_count": 159,
   "metadata": {
    "ExecuteTime": {
     "end_time": "2020-05-11T05:59:51.282461Z",
     "start_time": "2020-05-11T05:59:51.278799Z"
    }
   },
   "outputs": [
    {
     "name": "stdout",
     "output_type": "stream",
     "text": [
      "0 red\n",
      "1 blue\n",
      "2 green\n",
      "3 yellow\n"
     ]
    }
   ],
   "source": [
    "# many times its useful to have the index while iterating\n",
    "# enumerate gives us the index number for each element corresponding to each object\n",
    "colors=[\"red\",\"blue\",\"green\",\"yellow\"]\n",
    "for i,color in enumerate(colors):\n",
    "    print(i,color)"
   ]
  },
  {
   "cell_type": "markdown",
   "metadata": {},
   "source": [
    "* One last point I want to make is that for loops are absolutely 100% representable by while loops.\n",
    "* Then why do we need the for loop?\n",
    "* For readability! Consider which of the following examples makes the meaning of the code clearer"
   ]
  },
  {
   "cell_type": "code",
   "execution_count": 160,
   "metadata": {
    "ExecuteTime": {
     "end_time": "2020-05-11T05:59:51.698557Z",
     "start_time": "2020-05-11T05:59:51.695289Z"
    }
   },
   "outputs": [
    {
     "name": "stdout",
     "output_type": "stream",
     "text": [
      "Students of our class\n",
      "Jibran\n",
      "Rukmini\n"
     ]
    }
   ],
   "source": [
    "students=[\"jibran\",\"rukmini\",\"ravi\",\"john\"]\n",
    "print(\"Students of our class\")\n",
    "i=0\n",
    "while i < len(students):\n",
    "    print(students[i].capitalize())\n",
    "    i+=1"
   ]
  },
  {
   "cell_type": "code",
   "execution_count": 92,
   "metadata": {
    "ExecuteTime": {
     "end_time": "2020-05-11T05:59:51.905184Z",
     "start_time": "2020-05-11T05:59:51.901220Z"
    }
   },
   "outputs": [
    {
     "name": "stdout",
     "output_type": "stream",
     "text": [
      "Students of our class\n",
      "Jibran\n",
      "Rukmini\n",
      "Ravi\n",
      "John\n"
     ]
    }
   ],
   "source": [
    "students=[\"jibran\",\"rukmini\",\"ravi\",\"john\"]\n",
    "print(\"Students of our class\")\n",
    "for student in students:\n",
    "    print(student.capitalize())"
   ]
  },
  {
   "cell_type": "markdown",
   "metadata": {},
   "source": [
    "# Practical use case : Reading a data file"
   ]
  },
  {
   "cell_type": "markdown",
   "metadata": {},
   "source": [
    "* Let's first read a few lines of the data file"
   ]
  },
  {
   "cell_type": "code",
   "execution_count": 93,
   "metadata": {
    "ExecuteTime": {
     "end_time": "2020-05-11T05:59:52.508030Z",
     "start_time": "2020-05-11T05:59:52.503894Z"
    }
   },
   "outputs": [
    {
     "name": "stdout",
     "output_type": "stream",
     "text": [
      "id,first_name,last_name,email,gender,ip_address\n",
      "\n",
      "1,Imojean,Fidock,ifidock0@ebay.com,Female,37.151.142.118\n",
      "\n",
      "2,Brnaby,Belch,bbelch1@cbslocal.com,Male,80.158.217.23\n",
      "\n",
      "3,Basile,Killby,bkillby2@sphinn.com,Male,27.36.169.115\n",
      "\n",
      "4,Sargent,Jakeway,sjakeway3@ted.com,Male,153.39.159.130\n",
      "\n",
      "5,Ruthi,Calbert,rcalbert4@weebly.com,Female,28.90.57.225\n",
      "\n"
     ]
    }
   ],
   "source": [
    "with open(\"MOCK_DATA.csv\",\"r\") as fi:\n",
    "    i=0\n",
    "    for line in fi:\n",
    "        print(line)\n",
    "        if i==5:\n",
    "            break\n",
    "        i+=1"
   ]
  },
  {
   "cell_type": "markdown",
   "metadata": {},
   "source": [
    "* First line represents the data fields.\n",
    "* Second line onwards, every line contains the profile of one person.\n",
    "* Let's decide the data format of one person."
   ]
  },
  {
   "cell_type": "code",
   "execution_count": 94,
   "metadata": {
    "ExecuteTime": {
     "end_time": "2020-05-11T05:59:52.895251Z",
     "start_time": "2020-05-11T05:59:52.892052Z"
    }
   },
   "outputs": [],
   "source": [
    "person={\n",
    "    \"id\" : 1,\n",
    "    \"name\":{\n",
    "        \"first_name\":\"Imojean\",\n",
    "        \"last_name\":\"Fidock\"\n",
    "    },\n",
    "    \"email\":{\n",
    "        \"local_part\":\"ifidock0\",\n",
    "        \"domain\":\"ebay.com\"\n",
    "    },\n",
    "    \"gender\": \"Female\",\n",
    "    \"ip_address\":[37,151,142,118]\n",
    "}"
   ]
  },
  {
   "cell_type": "markdown",
   "metadata": {},
   "source": [
    "* This seems like a nice format for getting the data.\n",
    "* Now let's parse one line, after that we just need to loop over the file."
   ]
  },
  {
   "cell_type": "code",
   "execution_count": 95,
   "metadata": {
    "ExecuteTime": {
     "end_time": "2020-05-11T05:59:53.291710Z",
     "start_time": "2020-05-11T05:59:53.283640Z"
    }
   },
   "outputs": [
    {
     "name": "stdout",
     "output_type": "stream",
     "text": [
      "|1,Imojean,Fidock,ifidock0@ebay.com,Female,37.151.142.118\n",
      "|\n",
      "|1,Imojean,Fidock,ifidock0@ebay.com,Female,37.151.142.118|\n",
      "['1', 'Imojean', 'Fidock', 'ifidock0@ebay.com', 'Female', '37.151.142.118']\n",
      "['ifidock0', 'ebay.com']\n",
      "{'id': 1, 'first_name': 'Imojean', 'last_name': 'Fidock', 'email': {'local_part': 'ifidock0', 'domain': 'ebay.com'}, 'gender': 'Female', 'ip_address': [37, 151, 142, 118]}\n"
     ]
    }
   ],
   "source": [
    "with open(\"MOCK_DATA.csv\",\"r\") as fi:\n",
    "    fi.readline()\n",
    "    line=fi.readline()\n",
    "\n",
    "print(\"|\"+line+\"|\")\n",
    "line=line.strip()\n",
    "print(\"|\"+line+\"|\")\n",
    "parts=line.split(\",\")\n",
    "print(parts)\n",
    "person={}\n",
    "person[\"id\"]=int(parts[0])\n",
    "person[\"first_name\"]=parts[1]\n",
    "person[\"last_name\"]=parts[2]\n",
    "\n",
    "emailparts=parts[3].split(\"@\")\n",
    "print(emailparts)\n",
    "person[\"email\"]={\"local_part\":emailparts[0],\"domain\":emailparts[1]}\n",
    "\n",
    "person[\"gender\"]=parts[4]\n",
    "person[\"ip_address\"]=[]\n",
    "ipparts=parts[5].split(\".\")\n",
    "for n in ipparts:\n",
    "    person[\"ip_address\"].append(int(n))\n",
    "print(person)"
   ]
  },
  {
   "cell_type": "code",
   "execution_count": 96,
   "metadata": {
    "ExecuteTime": {
     "end_time": "2020-05-11T05:59:53.481772Z",
     "start_time": "2020-05-11T05:59:53.475498Z"
    }
   },
   "outputs": [],
   "source": [
    "persons=[]\n",
    "with open(\"MOCK_DATA.csv\",\"r\") as fi:\n",
    "    # discard first line\n",
    "    fi.readline()\n",
    "    for line in fi:\n",
    "        line=line.strip()\n",
    "        parts=line.split(\",\")\n",
    "        \n",
    "        \n",
    "        person={}\n",
    "        person[\"id\"]=int(parts[0])\n",
    "        person[\"first_name\"]=parts[1]\n",
    "        person[\"last_name\"]=parts[2]\n",
    "        emailparts=parts[3].split(\"@\")\n",
    "        person[\"email\"]={\"local_part\":emailparts[0],\"domain\":emailparts[1]}\n",
    "        person[\"gender\"]=parts[4]\n",
    "        person[\"ip_address\"]=[]\n",
    "        ipparts=parts[5].split(\".\")\n",
    "        for n in ipparts:\n",
    "            person[\"ip_address\"].append(int(n))\n",
    "        \n",
    "        persons.append(person)"
   ]
  },
  {
   "cell_type": "code",
   "execution_count": 97,
   "metadata": {
    "ExecuteTime": {
     "end_time": "2020-05-11T05:59:53.681348Z",
     "start_time": "2020-05-11T05:59:53.676926Z"
    }
   },
   "outputs": [
    {
     "data": {
      "text/plain": [
       "[{'id': 1,\n",
       "  'first_name': 'Imojean',\n",
       "  'last_name': 'Fidock',\n",
       "  'email': {'local_part': 'ifidock0', 'domain': 'ebay.com'},\n",
       "  'gender': 'Female',\n",
       "  'ip_address': [37, 151, 142, 118]},\n",
       " {'id': 2,\n",
       "  'first_name': 'Brnaby',\n",
       "  'last_name': 'Belch',\n",
       "  'email': {'local_part': 'bbelch1', 'domain': 'cbslocal.com'},\n",
       "  'gender': 'Male',\n",
       "  'ip_address': [80, 158, 217, 23]},\n",
       " {'id': 3,\n",
       "  'first_name': 'Basile',\n",
       "  'last_name': 'Killby',\n",
       "  'email': {'local_part': 'bkillby2', 'domain': 'sphinn.com'},\n",
       "  'gender': 'Male',\n",
       "  'ip_address': [27, 36, 169, 115]}]"
      ]
     },
     "execution_count": 97,
     "metadata": {},
     "output_type": "execute_result"
    }
   ],
   "source": [
    "persons[0:3]"
   ]
  },
  {
   "cell_type": "markdown",
   "metadata": {},
   "source": [
    "* Now, you can do all sorts of cool stuff with this data.\n",
    "* For example if you want to know how many people have email addresses in which website"
   ]
  },
  {
   "cell_type": "code",
   "execution_count": 98,
   "metadata": {
    "ExecuteTime": {
     "end_time": "2020-05-11T05:59:54.089172Z",
     "start_time": "2020-05-11T05:59:54.085904Z"
    }
   },
   "outputs": [],
   "source": [
    "domains_count={}\n",
    "for person in persons:\n",
    "    dom=person[\"email\"][\"domain\"]\n",
    "    if dom not in domains_count:\n",
    "        domains_count[dom]=0\n",
    "    domains_count[dom]+=1"
   ]
  },
  {
   "cell_type": "code",
   "execution_count": 99,
   "metadata": {
    "ExecuteTime": {
     "end_time": "2020-05-11T05:59:54.288410Z",
     "start_time": "2020-05-11T05:59:54.285309Z"
    }
   },
   "outputs": [
    {
     "name": "stdout",
     "output_type": "stream",
     "text": [
      "{'ebay.com': 1, 'cbslocal.com': 1, 'sphinn.com': 1, 'ted.com': 1, 'weebly.com': 1, 'jigsy.com': 1, 'si.edu': 1, 'kickstarter.com': 1, '360.cn': 1, 'google.com.br': 1, 'ustream.tv': 1, 'cornell.edu': 1, 'disqus.com': 1, 'bloglovin.com': 1, 'shinystat.com': 1, 'tuttocitta.it': 1, 'amazon.com': 1, 'smh.com.au': 1, 'globo.com': 1, 'vistaprint.com': 1, 'wikia.com': 1, 'who.int': 1, 'latimes.com': 1, 'google.cn': 1, 'gravatar.com': 1, 'booking.com': 1, 'ox.ac.uk': 1, 'mozilla.com': 1, 'stumbleupon.com': 1, 'cdc.gov': 1, 'hibu.com': 1, 'mapy.cz': 1, 'wikipedia.org': 1, 'flavors.me': 1, 'bandcamp.com': 1, 'hugedomains.com': 1, 'columbia.edu': 1, 'storify.com': 1, 'eepurl.com': 1, 'ocn.ne.jp': 1, 'istockphoto.com': 1, 'alexa.com': 1, 'geocities.com': 1, 'chron.com': 1, 'instagram.com': 1, 'seesaa.net': 1, 'about.me': 1, 'dropbox.com': 1, 'smugmug.com': 1, 'google.co.jp': 1}\n"
     ]
    }
   ],
   "source": [
    "print(domains_count)"
   ]
  },
  {
   "cell_type": "markdown",
   "metadata": {},
   "source": [
    "# Python Modules and Import Statements"
   ]
  },
  {
   "cell_type": "markdown",
   "metadata": {},
   "source": [
    "* What is a module?\n",
    "* It's a collection of functions and/or classes.\n",
    "* Like functions, classes, this is just a larger unit of \"packaging\".\n",
    "* Progammers love to package logic at many levels - in fact there is one more above modules - a \"package\"!"
   ]
  },
  {
   "cell_type": "markdown",
   "metadata": {},
   "source": [
    "* Any .py file is automatically a module.\n",
    "* Let's look at the file ``mymodules.py``.\n",
    "* It's got some interesting functions and a Cat class. How do I get it here?\n",
    "* We can use the ``import`` statement.\n",
    "* There are a few ways we can do this."
   ]
  },
  {
   "cell_type": "markdown",
   "metadata": {},
   "source": [
    "**Import the module's name, then we can access the functions and class as it's attributes**"
   ]
  },
  {
   "cell_type": "markdown",
   "metadata": {},
   "source": [
    "Or you can import **everything**. "
   ]
  },
  {
   "cell_type": "markdown",
   "metadata": {},
   "source": [
    "### Python Standard Library"
   ]
  },
  {
   "cell_type": "markdown",
   "metadata": {},
   "source": [
    "* Python has a bunch of built-in modules, which you have to import, but don't need to install."
   ]
  },
  {
   "cell_type": "code",
   "execution_count": 105,
   "metadata": {
    "ExecuteTime": {
     "end_time": "2020-05-11T05:59:57.774957Z",
     "start_time": "2020-05-11T05:59:57.770231Z"
    }
   },
   "outputs": [
    {
     "name": "stdout",
     "output_type": "stream",
     "text": [
      "/home/prateek/Documents/projects/eckovation/revision 2\n",
      "['revision 1', 'revision 2']\n",
      "False\n",
      "False\n"
     ]
    }
   ],
   "source": [
    "import os\n",
    "\n",
    "# you can use this to create directories, check if a path exists etc\n",
    "# basically command line stuff\n",
    "print(os.getcwd())\n",
    "print(os.listdir(\"..\"))\n",
    "print(os.path.exists(\"./mymodules.py\"))\n",
    "print(os.path.isfile(\"./mymodules.py\"))"
   ]
  },
  {
   "cell_type": "markdown",
   "metadata": {},
   "source": [
    "* ``os`` is a package. This basically means its a module, which has submodules, which may have subsubmodules etc.\n",
    "* ``os.path`` is a submodule. ``os.path.exists`` is a function.\n",
    "* How are packages created? --> Advanced topic."
   ]
  },
  {
   "cell_type": "code",
   "execution_count": 162,
   "metadata": {
    "ExecuteTime": {
     "end_time": "2020-05-11T05:59:58.151386Z",
     "start_time": "2020-05-11T05:59:58.146619Z"
    }
   },
   "outputs": [
    {
     "name": "stdout",
     "output_type": "stream",
     "text": [
      "[22, 56, 88]\n",
      "[2, 56, 88] [2, 56, 88]\n"
     ]
    }
   ],
   "source": [
    "# make copie of objects\n",
    "import copy\n",
    "\n",
    "# normal assignment\n",
    "x=[22,56,88]\n",
    "y=x\n",
    "print(y)\n",
    "x[0]=2\n",
    "print(x,y)\n",
    "\n"
   ]
  },
  {
   "cell_type": "code",
   "execution_count": 163,
   "metadata": {},
   "outputs": [
    {
     "name": "stdout",
     "output_type": "stream",
     "text": [
      "[22, 56, 88]\n",
      "[2, 56, 88] [22, 56, 88]\n"
     ]
    }
   ],
   "source": [
    "# copy \n",
    "x=[22,56,88]\n",
    "y=copy.copy(x)\n",
    "print(y)\n",
    "x[0]=2\n",
    "print(x,y)"
   ]
  },
  {
   "cell_type": "markdown",
   "metadata": {},
   "source": [
    "* Exercise : What is shallow copy vs deep copy?"
   ]
  },
  {
   "cell_type": "code",
   "execution_count": 172,
   "metadata": {
    "ExecuteTime": {
     "end_time": "2020-05-11T05:59:58.582590Z",
     "start_time": "2020-05-11T05:59:58.577703Z"
    }
   },
   "outputs": [
    {
     "name": "stdout",
     "output_type": "stream",
     "text": [
      "It takes  0.00500798225402832 seconds to do 10000 loops!\n"
     ]
    }
   ],
   "source": [
    "# time related functions \n",
    "import time\n",
    "\n",
    "start_time=time.time()\n",
    "counter=0\n",
    "for i in range(0,20000):\n",
    "    counter+=2\n",
    "print(\"It takes \",time.time()-start_time,\"seconds to do 10000 loops!\")"
   ]
  },
  {
   "cell_type": "code",
   "execution_count": 173,
   "metadata": {
    "ExecuteTime": {
     "end_time": "2020-05-11T05:59:58.785158Z",
     "start_time": "2020-05-11T05:59:58.779578Z"
    }
   },
   "outputs": [
    {
     "ename": "NameError",
     "evalue": "name 'persons' is not defined",
     "output_type": "error",
     "traceback": [
      "\u001b[0;31m---------------------------------------------------------------------------\u001b[0m",
      "\u001b[0;31mNameError\u001b[0m                                 Traceback (most recent call last)",
      "\u001b[0;32m<ipython-input-173-893f65e627a7>\u001b[0m in \u001b[0;36m<module>\u001b[0;34m\u001b[0m\n\u001b[1;32m      3\u001b[0m \u001b[0;34m\u001b[0m\u001b[0m\n\u001b[1;32m      4\u001b[0m \u001b[0;32mwith\u001b[0m \u001b[0mopen\u001b[0m\u001b[0;34m(\u001b[0m\u001b[0;34m\"persons.p\"\u001b[0m\u001b[0;34m,\u001b[0m\u001b[0;34m\"wb\"\u001b[0m\u001b[0;34m)\u001b[0m \u001b[0;32mas\u001b[0m \u001b[0mfo\u001b[0m\u001b[0;34m:\u001b[0m\u001b[0;34m\u001b[0m\u001b[0;34m\u001b[0m\u001b[0m\n\u001b[0;32m----> 5\u001b[0;31m     \u001b[0mpickle\u001b[0m\u001b[0;34m.\u001b[0m\u001b[0mdump\u001b[0m\u001b[0;34m(\u001b[0m\u001b[0mpersons\u001b[0m\u001b[0;34m,\u001b[0m\u001b[0mfo\u001b[0m\u001b[0;34m)\u001b[0m\u001b[0;34m\u001b[0m\u001b[0;34m\u001b[0m\u001b[0m\n\u001b[0m\u001b[1;32m      6\u001b[0m \u001b[0;34m\u001b[0m\u001b[0m\n\u001b[1;32m      7\u001b[0m \u001b[0;32mwith\u001b[0m \u001b[0mopen\u001b[0m\u001b[0;34m(\u001b[0m\u001b[0;34m\"persons.p\"\u001b[0m\u001b[0;34m,\u001b[0m\u001b[0;34m\"rb\"\u001b[0m\u001b[0;34m)\u001b[0m \u001b[0;32mas\u001b[0m \u001b[0mfi\u001b[0m\u001b[0;34m:\u001b[0m\u001b[0;34m\u001b[0m\u001b[0;34m\u001b[0m\u001b[0m\n",
      "\u001b[0;31mNameError\u001b[0m: name 'persons' is not defined"
     ]
    }
   ],
   "source": [
    "# save objects as binary files\n",
    "import pickle\n",
    "\n",
    "with open(\"persons.p\",\"wb\") as fo:\n",
    "    pickle.dump(persons,fo)\n",
    "    \n",
    "with open(\"persons.p\",\"rb\") as fi:\n",
    "    unpickled=pickle.load(fi)\n",
    "print(unpickled[:3])"
   ]
  },
  {
   "cell_type": "code",
   "execution_count": 170,
   "metadata": {
    "ExecuteTime": {
     "end_time": "2020-05-11T05:59:58.984918Z",
     "start_time": "2020-05-11T05:59:58.978120Z"
    },
    "scrolled": true
   },
   "outputs": [
    {
     "ename": "NameError",
     "evalue": "name 'persons' is not defined",
     "output_type": "error",
     "traceback": [
      "\u001b[0;31m---------------------------------------------------------------------------\u001b[0m",
      "\u001b[0;31mNameError\u001b[0m                                 Traceback (most recent call last)",
      "\u001b[0;32m<ipython-input-170-293a5e0482a1>\u001b[0m in \u001b[0;36m<module>\u001b[0;34m\u001b[0m\n\u001b[1;32m      3\u001b[0m \u001b[0;34m\u001b[0m\u001b[0m\n\u001b[1;32m      4\u001b[0m \u001b[0;32mwith\u001b[0m \u001b[0mopen\u001b[0m\u001b[0;34m(\u001b[0m\u001b[0;34m\"persons.json\"\u001b[0m\u001b[0;34m,\u001b[0m\u001b[0;34m\"wt\"\u001b[0m\u001b[0;34m)\u001b[0m \u001b[0;32mas\u001b[0m \u001b[0mfo\u001b[0m\u001b[0;34m:\u001b[0m\u001b[0;34m\u001b[0m\u001b[0;34m\u001b[0m\u001b[0m\n\u001b[0;32m----> 5\u001b[0;31m     \u001b[0mjson\u001b[0m\u001b[0;34m.\u001b[0m\u001b[0mdump\u001b[0m\u001b[0;34m(\u001b[0m\u001b[0mpersons\u001b[0m\u001b[0;34m,\u001b[0m\u001b[0mfo\u001b[0m\u001b[0;34m)\u001b[0m\u001b[0;34m\u001b[0m\u001b[0;34m\u001b[0m\u001b[0m\n\u001b[0m\u001b[1;32m      6\u001b[0m \u001b[0;34m\u001b[0m\u001b[0m\n\u001b[1;32m      7\u001b[0m \u001b[0;32mwith\u001b[0m \u001b[0mopen\u001b[0m\u001b[0;34m(\u001b[0m\u001b[0;34m\"persons.json\"\u001b[0m\u001b[0;34m,\u001b[0m\u001b[0;34m\"rt\"\u001b[0m\u001b[0;34m)\u001b[0m \u001b[0;32mas\u001b[0m \u001b[0mfi\u001b[0m\u001b[0;34m:\u001b[0m\u001b[0;34m\u001b[0m\u001b[0;34m\u001b[0m\u001b[0m\n",
      "\u001b[0;31mNameError\u001b[0m: name 'persons' is not defined"
     ]
    }
   ],
   "source": [
    "# save objects as text files\n",
    "import json\n",
    "\n",
    "with open(\"persons.json\",\"wt\") as fo:\n",
    "    json.dump(persons,fo)\n",
    "\n",
    "with open(\"persons.json\",\"rt\") as fi:\n",
    "    unjsoned=json.load(fi)\n",
    "print(unjsoned[:3])"
   ]
  },
  {
   "cell_type": "markdown",
   "metadata": {},
   "source": [
    "Other very useful modules\n",
    "\n",
    "* random : random number generation\n",
    "* re : regex - useful for getting/checking for complicated patterns from/in strings.\n",
    "* datetime : related to date and time.\n",
    "* sys : command line args + other stuff."
   ]
  },
  {
   "cell_type": "markdown",
   "metadata": {},
   "source": [
    "# Error Handling in Python"
   ]
  },
  {
   "cell_type": "markdown",
   "metadata": {
    "ExecuteTime": {
     "end_time": "2020-05-07T16:12:43.398874Z",
     "start_time": "2020-05-07T16:12:43.395463Z"
    }
   },
   "source": [
    "* You have already seen many examples of errors and exceptions already"
   ]
  },
  {
   "cell_type": "code",
   "execution_count": 175,
   "metadata": {
    "ExecuteTime": {
     "end_time": "2020-05-11T05:59:59.811402Z",
     "start_time": "2020-05-11T05:59:59.805011Z"
    }
   },
   "outputs": [
    {
     "ename": "IndexError",
     "evalue": "list index out of range",
     "output_type": "error",
     "traceback": [
      "\u001b[0;31m---------------------------------------------------------------------------\u001b[0m",
      "\u001b[0;31mIndexError\u001b[0m                                Traceback (most recent call last)",
      "\u001b[0;32m<ipython-input-175-4b9ab00ed37b>\u001b[0m in \u001b[0;36m<module>\u001b[0;34m\u001b[0m\n\u001b[1;32m      1\u001b[0m \u001b[0mx\u001b[0m\u001b[0;34m=\u001b[0m\u001b[0;34m[\u001b[0m\u001b[0;36m1\u001b[0m\u001b[0;34m,\u001b[0m\u001b[0;36m2\u001b[0m\u001b[0;34m,\u001b[0m\u001b[0;36m3\u001b[0m\u001b[0;34m]\u001b[0m\u001b[0;34m\u001b[0m\u001b[0;34m\u001b[0m\u001b[0m\n\u001b[0;32m----> 2\u001b[0;31m \u001b[0mx\u001b[0m\u001b[0;34m[\u001b[0m\u001b[0;36m5\u001b[0m\u001b[0;34m]\u001b[0m\u001b[0;34m\u001b[0m\u001b[0;34m\u001b[0m\u001b[0m\n\u001b[0m",
      "\u001b[0;31mIndexError\u001b[0m: list index out of range"
     ]
    }
   ],
   "source": [
    "x=[1,2,3]\n",
    "x[5]"
   ]
  },
  {
   "cell_type": "code",
   "execution_count": 178,
   "metadata": {
    "ExecuteTime": {
     "end_time": "2020-05-11T06:00:00.019888Z",
     "start_time": "2020-05-11T06:00:00.013458Z"
    }
   },
   "outputs": [
    {
     "ename": "KeyError",
     "evalue": "'e'",
     "output_type": "error",
     "traceback": [
      "\u001b[0;31m---------------------------------------------------------------------------\u001b[0m",
      "\u001b[0;31mKeyError\u001b[0m                                  Traceback (most recent call last)",
      "\u001b[0;32m<ipython-input-178-ddf9437a7d17>\u001b[0m in \u001b[0;36m<module>\u001b[0;34m\u001b[0m\n\u001b[1;32m      1\u001b[0m \u001b[0mx\u001b[0m\u001b[0;34m=\u001b[0m\u001b[0;34m{\u001b[0m\u001b[0;34m\"a\"\u001b[0m\u001b[0;34m:\u001b[0m\u001b[0;36m22\u001b[0m\u001b[0;34m,\u001b[0m\u001b[0;34m\"b\"\u001b[0m\u001b[0;34m:\u001b[0m\u001b[0;36m33\u001b[0m\u001b[0;34m}\u001b[0m\u001b[0;34m\u001b[0m\u001b[0;34m\u001b[0m\u001b[0m\n\u001b[0;32m----> 2\u001b[0;31m \u001b[0mprint\u001b[0m\u001b[0;34m(\u001b[0m\u001b[0mx\u001b[0m\u001b[0;34m[\u001b[0m\u001b[0;34m'e'\u001b[0m\u001b[0;34m]\u001b[0m\u001b[0;34m)\u001b[0m\u001b[0;34m\u001b[0m\u001b[0;34m\u001b[0m\u001b[0m\n\u001b[0m",
      "\u001b[0;31mKeyError\u001b[0m: 'e'"
     ]
    }
   ],
   "source": [
    "x={\"a\":22,\"b\":33}\n",
    "print(x['e'])"
   ]
  },
  {
   "cell_type": "code",
   "execution_count": 180,
   "metadata": {},
   "outputs": [
    {
     "data": {
      "text/plain": [
       "5"
      ]
     },
     "execution_count": 180,
     "metadata": {},
     "output_type": "execute_result"
    }
   ],
   "source": [
    "int(5.1)"
   ]
  },
  {
   "cell_type": "code",
   "execution_count": 114,
   "metadata": {
    "ExecuteTime": {
     "end_time": "2020-05-11T06:00:00.219789Z",
     "start_time": "2020-05-11T06:00:00.213647Z"
    }
   },
   "outputs": [
    {
     "ename": "ValueError",
     "evalue": "invalid literal for int() with base 10: 'abcd'",
     "output_type": "error",
     "traceback": [
      "\u001b[0;31m---------------------------------------------------------------------------\u001b[0m",
      "\u001b[0;31mValueError\u001b[0m                                Traceback (most recent call last)",
      "\u001b[0;32m<ipython-input-114-c08cf2837b3e>\u001b[0m in \u001b[0;36m<module>\u001b[0;34m\u001b[0m\n\u001b[0;32m----> 1\u001b[0;31m \u001b[0mint\u001b[0m\u001b[0;34m(\u001b[0m\u001b[0;34m\"abcd\"\u001b[0m\u001b[0;34m)\u001b[0m\u001b[0;34m\u001b[0m\u001b[0;34m\u001b[0m\u001b[0m\n\u001b[0m",
      "\u001b[0;31mValueError\u001b[0m: invalid literal for int() with base 10: 'abcd'"
     ]
    }
   ],
   "source": [
    "int(\"abcd\")"
   ]
  },
  {
   "cell_type": "markdown",
   "metadata": {},
   "source": [
    "* An error can stop the execution of your program. \n",
    "* In most of the cases - this is what you want to happen! If your car's engine starts smoking, you're not going to want to keep driving it right?\n",
    "* But in some cases, you don't want it to stop the program. \n",
    "* That's because you know **how to handle the error** i.e. you have a plan for what to do if that error happens."
   ]
  },
  {
   "cell_type": "markdown",
   "metadata": {},
   "source": [
    "* In that case, you can handle an error like this."
   ]
  },
  {
   "cell_type": "code",
   "execution_count": 182,
   "metadata": {
    "ExecuteTime": {
     "end_time": "2020-05-11T06:00:16.177249Z",
     "start_time": "2020-05-11T06:00:12.667352Z"
    }
   },
   "outputs": [
    {
     "name": "stdout",
     "output_type": "stream",
     "text": [
      "Enter an integer\n",
      "abcd\n",
      "The string is not an integer, try again!\n"
     ]
    }
   ],
   "source": [
    "x=input(\"Enter an integer\\n\")\n",
    "try :\n",
    "    y=int(x)\n",
    "except Exception:\n",
    "    print(\"The string is not an integer, try again!\")"
   ]
  },
  {
   "cell_type": "markdown",
   "metadata": {},
   "source": [
    "* Now there is one thing wrong with this example.\n",
    "* \"Exception\" is the base class of all errors -\n",
    "   > Every error is an exception.\n",
    "* So in this case, no matter what the error, it'll be handled by your code - but that's not good! You don't know how to handle TheComputerIsOverheatingError! \n",
    "* So its better to refer to the error more specifically."
   ]
  },
  {
   "cell_type": "code",
   "execution_count": 186,
   "metadata": {
    "ExecuteTime": {
     "end_time": "2020-05-11T06:00:28.157184Z",
     "start_time": "2020-05-11T06:00:24.144996Z"
    }
   },
   "outputs": [
    {
     "name": "stdout",
     "output_type": "stream",
     "text": [
      "Enter an integer below 3\n",
      "5\n",
      "<class 'str'>\n"
     ]
    },
    {
     "ename": "IndexError",
     "evalue": "list index out of range",
     "output_type": "error",
     "traceback": [
      "\u001b[0;31m---------------------------------------------------------------------------\u001b[0m",
      "\u001b[0;31mIndexError\u001b[0m                                Traceback (most recent call last)",
      "\u001b[0;32m<ipython-input-186-a5aa3af017eb>\u001b[0m in \u001b[0;36m<module>\u001b[0;34m\u001b[0m\n\u001b[1;32m      4\u001b[0m \u001b[0;32mtry\u001b[0m \u001b[0;34m:\u001b[0m\u001b[0;34m\u001b[0m\u001b[0;34m\u001b[0m\u001b[0m\n\u001b[1;32m      5\u001b[0m     \u001b[0my\u001b[0m\u001b[0;34m=\u001b[0m\u001b[0mint\u001b[0m\u001b[0;34m(\u001b[0m\u001b[0mx\u001b[0m\u001b[0;34m)\u001b[0m\u001b[0;34m\u001b[0m\u001b[0;34m\u001b[0m\u001b[0m\n\u001b[0;32m----> 6\u001b[0;31m     \u001b[0mprint\u001b[0m\u001b[0;34m(\u001b[0m\u001b[0mmylist\u001b[0m\u001b[0;34m[\u001b[0m\u001b[0my\u001b[0m\u001b[0;34m]\u001b[0m\u001b[0;34m)\u001b[0m\u001b[0;34m\u001b[0m\u001b[0;34m\u001b[0m\u001b[0m\n\u001b[0m\u001b[1;32m      7\u001b[0m \u001b[0;32mexcept\u001b[0m \u001b[0mValueError\u001b[0m\u001b[0;34m:\u001b[0m\u001b[0;34m\u001b[0m\u001b[0;34m\u001b[0m\u001b[0m\n\u001b[1;32m      8\u001b[0m     \u001b[0mprint\u001b[0m\u001b[0;34m(\u001b[0m\u001b[0;34m\"The string is not an integer, try again!\"\u001b[0m\u001b[0;34m)\u001b[0m\u001b[0;34m\u001b[0m\u001b[0;34m\u001b[0m\u001b[0m\n",
      "\u001b[0;31mIndexError\u001b[0m: list index out of range"
     ]
    }
   ],
   "source": [
    "x=input(\"Enter an integer below 3\\n\")\n",
    "print(type(x))\n",
    "mylist=[1,2,3]\n",
    "try :\n",
    "    y=int(x)\n",
    "    print(mylist[y])\n",
    "except ValueError:\n",
    "    print(\"The string is not an integer, try again!\")"
   ]
  },
  {
   "cell_type": "markdown",
   "metadata": {},
   "source": [
    "* See in this case, if you had handled Exception the IndexError would have been handled the same way as ValueError.\n",
    "* But how to handle both?"
   ]
  },
  {
   "cell_type": "code",
   "execution_count": 119,
   "metadata": {
    "ExecuteTime": {
     "end_time": "2020-05-11T06:00:53.226279Z",
     "start_time": "2020-05-11T06:00:51.476849Z"
    }
   },
   "outputs": [
    {
     "name": "stdout",
     "output_type": "stream",
     "text": [
      "Enter an integer below 3\n",
      "p\n",
      "The string is not an integer, try again!\n"
     ]
    }
   ],
   "source": [
    "x=input(\"Enter an integer below 3\\n\")\n",
    "mylist=[1,2,3]\n",
    "try :\n",
    "    y=int(x)\n",
    "    print(mylist[y])\n",
    "except ValueError:\n",
    "    print(\"The string is not an integer, try again!\")\n",
    "except IndexError:\n",
    "    print(\"The integer is an invalid index.\" )"
   ]
  },
  {
   "cell_type": "markdown",
   "metadata": {},
   "source": [
    "* You can ``raise`` your own error."
   ]
  },
  {
   "cell_type": "code",
   "execution_count": 189,
   "metadata": {
    "ExecuteTime": {
     "end_time": "2020-05-11T06:01:01.718979Z",
     "start_time": "2020-05-11T06:00:56.785515Z"
    }
   },
   "outputs": [
    {
     "name": "stdout",
     "output_type": "stream",
     "text": [
      "Enter an integer below 100\n",
      "1000\n"
     ]
    },
    {
     "ename": "Exception",
     "evalue": "Number is greater than 100",
     "output_type": "error",
     "traceback": [
      "\u001b[0;31m---------------------------------------------------------------------------\u001b[0m",
      "\u001b[0;31mException\u001b[0m                                 Traceback (most recent call last)",
      "\u001b[0;32m<ipython-input-189-2fcc73f8625d>\u001b[0m in \u001b[0;36m<module>\u001b[0;34m\u001b[0m\n\u001b[1;32m      5\u001b[0m     \u001b[0mprint\u001b[0m\u001b[0;34m(\u001b[0m\u001b[0;34m\"The string is not an integer, try again!\"\u001b[0m\u001b[0;34m)\u001b[0m\u001b[0;34m\u001b[0m\u001b[0;34m\u001b[0m\u001b[0m\n\u001b[1;32m      6\u001b[0m \u001b[0;32mif\u001b[0m \u001b[0my\u001b[0m\u001b[0;34m>\u001b[0m\u001b[0;36m100\u001b[0m\u001b[0;34m:\u001b[0m\u001b[0;34m\u001b[0m\u001b[0;34m\u001b[0m\u001b[0m\n\u001b[0;32m----> 7\u001b[0;31m     \u001b[0;32mraise\u001b[0m \u001b[0mException\u001b[0m\u001b[0;34m(\u001b[0m\u001b[0;34m\"Number is greater than 100\"\u001b[0m\u001b[0;34m)\u001b[0m\u001b[0;34m\u001b[0m\u001b[0;34m\u001b[0m\u001b[0m\n\u001b[0m",
      "\u001b[0;31mException\u001b[0m: Number is greater than 100"
     ]
    }
   ],
   "source": [
    "x=input(\"Enter an integer below 100\\n\")\n",
    "try :\n",
    "    y=int(x)\n",
    "except Exception:\n",
    "    print(\"The string is not an integer, try again!\")\n",
    "if y>100:\n",
    "    raise Exception(\"Number is greater than 100\")"
   ]
  },
  {
   "cell_type": "markdown",
   "metadata": {},
   "source": [
    "* Usually you'll do this either because you want the program to terminate, or you want the code calling your code to handle the exception, because you don't know how - or can't for some reason. "
   ]
  },
  {
   "cell_type": "markdown",
   "metadata": {},
   "source": [
    "# Conclusion"
   ]
  },
  {
   "cell_type": "markdown",
   "metadata": {},
   "source": [
    "**When you get stuck**\n",
    "\n",
    "* Google and StackOverflow are your best friends.\n",
    "* But don't forget the [Python docs](https://www.python.org/doc/) - very useful especially for looking up function and module contents.\n",
    "* ``dir()`` ,``help()``, ``type()`` -- use functions like this to use the python interpreter to help you.\n",
    "\n",
    "**Code style**\n",
    "\n",
    "* Name all functions and variables in snake case ``list_of_fruits``.\n",
    "* Name all classes in title case ``MyAwesomeClass``.\n",
    "* Name variables according to their function - what do they do?\n",
    "* Your code should read like English. This is possible with smart variable naming.\n",
    "* Use 4 spaces for indentation. This is the Python standard. I am a rebel - I like tabs. \n",
    "* Comment liberally.\n",
    "\n",
    "**Resources**\n",
    "\n",
    "* [Conda cheatsheet](https://docs.conda.io/projects/conda/en/4.6.0/_downloads/52a95608c49671267e40c689e0bc00ca/conda-cheatsheet.pdf)\n",
    "* I like [TutorialsPoint](https://www.tutorialspoint.com/python/index.htm) tutorials for most things, to brush up on basic syntax and concepts. Don't expect deep philosophies or the \"whys\".\n",
    "* [Edabit](https://edabit.com/challenges) has a nice collection of python problems - but really there are loads of such websites."
   ]
  }
 ],
 "metadata": {
  "hide_input": false,
  "kernelspec": {
   "display_name": "Python 3",
   "language": "python",
   "name": "python3"
  },
  "language_info": {
   "codemirror_mode": {
    "name": "ipython",
    "version": 3
   },
   "file_extension": ".py",
   "mimetype": "text/x-python",
   "name": "python",
   "nbconvert_exporter": "python",
   "pygments_lexer": "ipython3",
   "version": "3.8.3"
  },
  "toc": {
   "base_numbering": 1,
   "nav_menu": {},
   "number_sections": true,
   "sideBar": true,
   "skip_h1_title": false,
   "title_cell": "Table of Contents",
   "title_sidebar": "Contents",
   "toc_cell": false,
   "toc_position": {},
   "toc_section_display": true,
   "toc_window_display": false
  }
 },
 "nbformat": 4,
 "nbformat_minor": 2
}
